{
 "cells": [
  {
   "cell_type": "markdown",
   "metadata": {},
   "source": [
    "# ANÁLISIS DEL DATASET \"DIAMONDS\"."
   ]
  },
  {
   "cell_type": "markdown",
   "metadata": {},
   "source": [
    "## 1-CARGA DE DATOS, LIBRERÍAS DE PYTHON Y FUNCIONES AUXILIARES."
   ]
  },
  {
   "cell_type": "markdown",
   "metadata": {},
   "source": [
    "### 1.1-CARGA DE LIBRERÍAS DE PYTHON."
   ]
  },
  {
   "cell_type": "code",
   "execution_count": 1,
   "metadata": {},
   "outputs": [],
   "source": [
    "import numpy as np\n",
    "import pandas as pd\n",
    "import matplotlib.pyplot as plt\n",
    "import seaborn as sns\n",
    "import plotly.express as px"
   ]
  },
  {
   "cell_type": "markdown",
   "metadata": {},
   "source": [
    "### 1.2-CARGA DE DATOS."
   ]
  },
  {
   "cell_type": "code",
   "execution_count": 2,
   "metadata": {},
   "outputs": [],
   "source": [
    "# Archivo fuente de datos\n",
    "file = './Data/diamonds.csv'\n",
    "\n",
    "# Carga del archivo fuente y generación del DataFrame\n",
    "df = pd.read_csv(file)"
   ]
  },
  {
   "cell_type": "markdown",
   "metadata": {},
   "source": [
    "### 1.3-FUNCIONES AUXILIARES."
   ]
  },
  {
   "cell_type": "markdown",
   "metadata": {},
   "source": [
    "Dado que se han recibido instrucciones recomendando presentar el ejercicio en un único archivo (de Jupyter Notebook), se incluyen a continuación las funciones creadas utilizadas durante el desarrollo del ejercicio. Lo ideal habría sido almacenar estas funciones en un archivo .py a parte, e importarlo al archivo de Jupyter Notebook."
   ]
  },
  {
   "cell_type": "code",
   "execution_count": 3,
   "metadata": {},
   "outputs": [],
   "source": [
    "# Función para buscar valores '0' o '0.' en las columnas, en formato texto o numérico, de un DataFrame.\n",
    "# Entrada: pd.DataFrame\n",
    "# Salida: Lista con los nombres de las columnas del DataFrame donde se encontraron coincidencias. Si la lista está vacía, se devuelve False\n",
    "def buscar_ceros_df (df):\n",
    "    lista_coincidencias = [] # Lista para almacenar los nombres de las columnas donde se encontraron coincidencias.\n",
    "    for columna in df.columns:\n",
    "       if df[columna].apply(lambda x: str(x) in ['0', '0.0'] or x == 0).any(): # Se comprueba si existe algún valor 0 en las columna, ya sea en formato texto o numérico.\n",
    "           lista_coincidencias.append(columna)\n",
    "    if lista_coincidencias == []: # No se ha añadido ningún nombre de columna a la lista.\n",
    "        print('No se han encontrado coincidencias.')\n",
    "        return False\n",
    "    else:\n",
    "        return lista_coincidencias\n",
    "\n",
    "# Función para buscar coincidencias de caracteres las columnas de un DataFrame. Puede buscar coincidencias de cualquier tipo de dato convertible a string, incluso de valores NaN (np.nan)\n",
    "# Entrada: pd.DataFrame, valor\n",
    "# Salida: Lista con los nombres de las columnas del DataFrame donde se encontraron coincidencias. Si la lista está vacía, se devuelve False\n",
    "def buscar_caracter_df (df, caracter):\n",
    "    lista_coincidencias = [] # Lista para almacenar los nombres de las columnas donde se encontraron coincidencias.\n",
    "    for columna in df.columns:\n",
    "       if df[columna].astype(str).str.contains(str(caracter)).any(): # Se convierten los valores de la columna a string y se busca el caracter en la columna.\n",
    "           lista_coincidencias.append(columna)\n",
    "    if lista_coincidencias == []: # No se ha añadido ningún nombre de columna a la lista.\n",
    "        print('No se han encontrado coincidencias.')\n",
    "        return False\n",
    "    else:\n",
    "        return lista_coincidencias\n",
    "\n",
    "# Función para reemplazar valores (nulos o 'NaN'): por la mediana, en el caso de valores numéricos; por la moda, en el caso de valores categóricos.\n",
    "# Entrada: pd.DataFrame / valor a sustituir (de tipo string|category|boolean o tipo NaN)\n",
    "# Salida: pd.DataFrame / Se imprime en pantalla el número de reemplazos realizados por la moda y por la mediana. / Devuelve False si la no ha habido reemplazos.\n",
    "def reemplazar_nan (df, lista_columnas):\n",
    "    contador_modas = 0\n",
    "    contador_medianas = 0\n",
    "    for columna in lista_columnas:\n",
    "        if columna not in df.columns:\n",
    "            print(f'La columna {columna} no existe en el DataFrame.')\n",
    "        else:\n",
    "            condicion_busqueda = df[columna].apply(lambda x: str(x) in ['0', '0.0'] or x == 0) # Seleccionar los valores 0 de la columna, ya sean de tipo numérico o no.\n",
    "            if pd.api.types.is_numeric_dtype(df[columna]): # Los valores son de tipo numérico.\n",
    "                # Se calcula la mediana excluyendo los ceros a sustituir, para que no influyan en el cálculo de la mediana.\n",
    "                mediana_sin_ceros = df.loc[~condicion_busqueda, columna].median()\n",
    "                df[columna] = df[columna].fillna(mediana_sin_ceros)\n",
    "                contador_modas += 1\n",
    "            else : # Los valores no son de tipo numérico.\n",
    "                moda_sin_ceros = df.loc[~condicion_busqueda, columna].mode()[0] \n",
    "                df[columna] = df[columna].fillna(moda_sin_ceros)\n",
    "                contador_medianas += 1\n",
    "    if contador_modas == 0 & contador_medianas == 0: # No se han encontrado valores NaN en el DataFrame.\n",
    "        print('No se han encontrado valores NaN que sustituir.')\n",
    "        return False\n",
    "    if contador_modas > 0: # Se han reemplazado valores NaN por modas.\n",
    "        print(f'Se han reemplazado valores NaN en {contador_modas} columnas por la moda de la columna.')\n",
    "    if contador_medianas > 0: # Se han reemplazado valores NaN por medianas.\n",
    "        print(f'Se han reemplazado valores NaN en {contador_medianas} columnas por la mediana de la columna.')\n",
    "    else:\n",
    "        None\n",
    "\n",
    "    return df\n",
    "    \n",
    "# Función para sustituir valores 0: por la mediana, en columnas con valores numéricos; por la moda, en columnas con valores no numéricos de un Data frame.\n",
    "# Entrada: pd.DataFrame, lista de nombres de columnas con valores que contengan, al menos, un valor 0.\n",
    "# Salida: pd.DataFrame | Se imprime un mensaje si alguna columna no existe en el DataFrame.\n",
    "def reemplazar_ceros (df, lista_columnas):\n",
    "    contador_modas = 0\n",
    "    contador_medianas = 0\n",
    "    # Iterar sobre las columnas especificadas\n",
    "    for columna in lista_columnas:\n",
    "            if columna in df.columns:  # Verificar que la columna existe en el DataFrame.\n",
    "                condicion_busqueda = df[columna].apply(lambda x: str(x) in ['0', '0.0'] or x == 0) # Seleccionar los valores 0 de la columna, ya sean de tipo numérico o no.\n",
    "                if pd.api.types.is_numeric_dtype(df[columna]): # Los valores son de tipo numérico. \n",
    "                    # Se calcula la mediana excluyendo los ceros a sustituir, para que no influyan en el cálculo de la mediana.\n",
    "                    mediana_sin_ceros = df.loc[~condicion_busqueda, columna].median()\n",
    "                    # Reemplazar los ceros por la mediana.\n",
    "                    df.loc[condicion_busqueda, columna] = mediana_sin_ceros\n",
    "                    contador_medianas += 1\n",
    "                else : # Los valores no son de tipo numérico.\n",
    "                    moda_sin_ceros = df.loc[~condicion_busqueda, columna].mode()[0]\n",
    "                     # Reemplazar los ceros por la moda.\n",
    "                    df.loc[condicion_busqueda, columna] = moda_sin_ceros\n",
    "                    contador_medianas += 1\n",
    "            else:\n",
    "                print(f\"La columna '{columna}' no existe en el DataFrame.\")\n",
    "\n",
    "    if (contador_modas == 0) & (contador_medianas == 0): # No se han encontrado valores NaN en el DataFrame.\n",
    "        print('No se han encontrado valores 0 que sustituir.')\n",
    "        return False\n",
    "    if contador_modas > 0: # Se han reemplazado valores 0 por modas.\n",
    "        print(f'Se han reemplazado valores 0 en {contador_modas} columnas por la moda de la columna.')\n",
    "    if contador_medianas > 0: # Se han reemplazado valores 0 por medianas.\n",
    "        print(f'Se han reemplazado valores 0 en {contador_medianas} columnas por la mediana de la columna.')\n",
    "    else:\n",
    "        None\n",
    "    \n",
    "    return df\n",
    "\n",
    "# Función para reemplazar caracteres (especciales) por valores NaN en las columnas de un DataFrame de Pandas.\n",
    "# Entrada: pd.DataFrame, caracter a sustituir, lista de nombres de columnas.\n",
    "# Salida: pd.DataFrame | Se imprime un mensaje si alguna columna no existe en el DataFrame.\n",
    "def reemplazar_caracter_por_nan (df, lista_columnas, caracter):\n",
    "    contador_reemplazos = 0\n",
    "    for columna in lista_columnas:\n",
    "        if columna in df.columns:  # Verificar que la columna existe en el DataFrame.\n",
    "            df[columna] = df[columna].replace(str(caracter), np.nan)\n",
    "            contador_reemplazos += 1\n",
    "        else:\n",
    "            print(f\"La columna '{columna}' no existe en el DataFrame.\")\n",
    "    if contador_reemplazos == 0: # No se han encontrado valores NaN en el DataFrame.\n",
    "        print(f\"No se han encontrado el caracter '{caracter}' que sustituir.\")\n",
    "        return False\n",
    "    else:\n",
    "        print(f\"Se han reemplazado {contador_reemplazos} columnas con algún valor '{caracter}' por valores NaN.\")\n",
    "    return df\n",
    "\n",
    "# Función para comprobar si un DataFrame tiene filas duplicadas. Si tuviera filas duplicadas, se eliminan y se resetea el índice del DataFrame.\n",
    "# Entrada: pd.DataFrame\n",
    "# Salida: pd.DataFrame | Se imprime el número de filas del DataFrame antes de eliminar duplicados y después un mensaje si no se han encontrado filas duplicadas.\n",
    "def eliminar_filas_duplicadas (df):\n",
    "    numero_filas_inicial = df.shape[0] # Número de filas del DataFrame antes de eliminar duplicados.\n",
    "    print(f'Número de filas antes de eliminar duplicados: {numero_filas_inicial}')\n",
    "    if df.duplicated().any():\n",
    "        filas_duplicadas = df.duplicated().sum()\n",
    "        print(f'Se han encontrado {filas_duplicadas} filas duplicadas.')\n",
    "        df = df.drop_duplicates().reset_index(drop=True) # Se eliminan filas duplicadas y se resetea el índice.\n",
    "        print(f'Se han eliminado {numero_filas_inicial - df.shape[0]} filas duplicadas.')\n",
    "        print(f'El DataFrame contiene ahora {df.shape[0]} filas.')\n",
    "    else: # no hay filas duplicadas.\n",
    "        print('No se han encontrado filas duplicadas.')\n",
    "        print(f'El número de filas actual del DataFrame es de {df.shape[0]} filas')\n",
    "    return df\n",
    "\n",
    "# Función para cambiar el tipo de dato de las columnas de un DataFrame si coinciden con un tipo numérico específico.\n",
    "# Entrada: pd.DataFRame, tipo de dato inicial a buscar, tipo de dato final al que se convertirán las columnas.\n",
    "# Salida: pd.DataFrame | False, si los datos de entrada no son tipos numéricos admitidos.\n",
    "def cambiar_tipos_numericos(df, tipo_inicio, tipo_final):\n",
    "    tipos_numericos = ['int8', 'int16', 'int32', 'int64','uint8', 'uint16', 'uint32', 'uint64','float16', 'float32', 'float64'] # Lista con los tipos numéricos admitidos en Pandas.\n",
    "    if (str(tipo_inicio) not in tipos_numericos) or (str(tipo_final) not in tipos_numericos): # Se comprueba que los tipos especificados sean numéricos.\n",
    "        print('Los tipos especificados no son tipos numéricos admitidos.')\n",
    "        return False\n",
    "    for columna in df.columns:\n",
    "        if df[columna].dtype == str(tipo_inicio): # Se comprueba si la columna es del tipo de inicio especificado.\n",
    "            df[columna] = df[columna].astype(str(tipo_final)) # Se cambia el tipo de dato de la columna.\n",
    "    return df\n",
    "\n",
    "# Función para determinar si una columna con valores porcentuales tiene algún valor fuera de rango\n",
    "# Entrada: pd.DataFrame, nombre de la columna\n",
    "# Salida: Boolean (True si hay valores fuera de rango o la columna no existe, False si no los hay)\n",
    "def valores_porcentuales_fuera_rango(df, columna):\n",
    "    if columna in df.columns:\n",
    "        if df[columna].apply(lambda x: x <= 0 or x > 100).any():\n",
    "            print (f'Algún valor de la columna \\'{columna}\\' está fuera de rango.')\n",
    "            return True\n",
    "        else:\n",
    "            print (f'Todos los valores de la columna \\'{columna}\\' están dentro del rango.')\n",
    "            return False\n",
    "    else:\n",
    "        print(f'La columna \\'{columna}\\' no existe en el DataFrame.')\n",
    "        return True\n",
    "\n",
    "# Función para determinar si los valores numéricos de una columna se encuentran fuera de rango o no.\n",
    "# Entrada: pd.DataFrame, nombre de la columna, valor mínimo permitido, valor máximo permitido (puede no tener).\n",
    "# Salida: Boolean (True si hay valores fuera de rango o la columna no existe, False si no los hay)\n",
    "def valores_numericos_fuera_rango(df, columna, valor_min, valor_max= None):\n",
    "    if columna in df.columns:\n",
    "        if valor_max != None: # No existe un valor máximo.\n",
    "            if df[columna].apply(lambda x: x < valor_min or x > valor_max).any():\n",
    "                print (f'Algún valor de la columna \\'{columna}\\' está fuera de rango.')\n",
    "                return True\n",
    "            else:\n",
    "                print (f'Todos los valores de la columna \\'{columna}\\' están dentro del rango.')\n",
    "                return False\n",
    "        else: # Existe un valor máximo.\n",
    "            if df[columna].apply(lambda x: x < valor_min).any():\n",
    "                print (f'Algún valor de la columna \\'{columna}\\' está fuera de rango.')\n",
    "                return True\n",
    "            else:\n",
    "                print (f'Todos los valores de la columna \\'{columna}\\' están dentro del rango.')\n",
    "                return False        \n",
    "    else:\n",
    "        print(f'La columna \\'{columna}\\' no existe en el DataFrame.')\n",
    "        return True\n",
    "\n",
    "# Función para determinar si los valores discretos, no numéricos de una columna, se encientran dentro del rango o no.\n",
    "# Entrada: pd.DataFrame, nombre de la columna, lista con los valores permitidos.\n",
    "# Salida: Boolean (True si hay valores fuera de rango o la columna no existe, False si no los hay)\n",
    "def valores_discretos_fuera_rango(df, columna, lista_valores):\n",
    "    lista_valores_minusculas = list(map(str.lower, lista_valores)) # Se transforma a minúsculas, para asegurarnos la comparación entre strings en minúsculas.\n",
    "    if columna in df.columns:\n",
    "        if df[columna].apply(lambda x: str(x).lower() not in lista_valores_minusculas).any():\n",
    "            print (f'Algún valor de la columna \\'{columna}\\' está fuera de rango.')\n",
    "            return True\n",
    "        else:\n",
    "            print (f'Todos los valores de la columna \\'{columna}\\' están dentro del rango.')\n",
    "            return False\n",
    "    else:\n",
    "        print(f'La columna \\'{columna}\\' no existe en el DataFrame.')\n",
    "        return True\n",
    "\n",
    "# Función para crear un encoding ordinal, a partir de una columna de tipo 'object' de un DataFrame.\n",
    "# Entrada: pd.DataFrame & nombre de la columna categórica & lista con los valores posibles de la columna, ordenados de menor a mayor valor\n",
    "# Salida pd.DataFrame | False si la columna no existe en el DataFrame | False si la columna no es de tipo categórico.\n",
    "def encoding_ordinal_object (df, columna, lista_valores):\n",
    "    if columna not in df.columns:\n",
    "        print(f'La columna {columna} no existe en el DataFrame {df}.')\n",
    "        return False\n",
    "    else: # La columna sí existe en el DataFrame.\n",
    "        if df[columna].dtype.name == 'object': # La columna es de tipo 'object'.\n",
    "            nombre_nueva_columna = f'{columna}_ordinal'\n",
    "            orden_valores = [i for i in range(1, len(lista_valores) + 1)]\n",
    "            dict_ordinal = dict(zip(lista_valores, orden_valores))\n",
    "            df[nombre_nueva_columna] = df[columna].map(dict_ordinal)\n",
    "            return df\n",
    "        else: # La columna no es de tipo 'object'.\n",
    "            print (f'La columna {columna} no es de tipo \"object\" y no se puede aplicar esta función.')\n",
    "            return False\n",
    "\n",
    "# Función para crear un encoding ordinal de una columna categórica de un DataFrame.\n",
    "# Entrada: pd.DataFrame & nombre de la columna categórica & lista con los valores posibles de la columna, ordenados de menor a mayor valor\n",
    "# Salida pd.DataFrame | False si la columna no existe en el DataFrame | False si la columna no es de tipo categórico.\n",
    "def encoding_ordinal_category (df, columna, lista_valores):\n",
    "    if columna not in df.columns:\n",
    "        print(f'La columna {columna} no existe en el DataFrame {df}.')\n",
    "        return False\n",
    "    else: # La columna sí existe en el DataFrame.\n",
    "        if df[columna].dtype.name != 'category': # La columna no es de tipo categórico.\n",
    "            print (f'La columna {columna} no es de tipo \"category\".')\n",
    "            return False\n",
    "        else: # La columna sí es de tipo 'category'.\n",
    "            df[columna] = df[columna].cat.set_categories(lista_valores, ordered=True)\n",
    "            return df         \n",
    "        "
   ]
  },
  {
   "cell_type": "markdown",
   "metadata": {},
   "source": [
    "## 2-ANÁLISIS PRELIMINAR DEL DATAFRAME."
   ]
  },
  {
   "cell_type": "markdown",
   "metadata": {},
   "source": [
    "### 2.1-ANÁLISIS DE LA ESTRUCTURA DEL DATAFRAME."
   ]
  },
  {
   "cell_type": "markdown",
   "metadata": {},
   "source": [
    "#### 2.1.1-VISUALIZACIÓN PREVIA DEL DATAFRAME."
   ]
  },
  {
   "cell_type": "code",
   "execution_count": 4,
   "metadata": {},
   "outputs": [
    {
     "data": {
      "text/html": [
       "<div>\n",
       "<style scoped>\n",
       "    .dataframe tbody tr th:only-of-type {\n",
       "        vertical-align: middle;\n",
       "    }\n",
       "\n",
       "    .dataframe tbody tr th {\n",
       "        vertical-align: top;\n",
       "    }\n",
       "\n",
       "    .dataframe thead th {\n",
       "        text-align: right;\n",
       "    }\n",
       "</style>\n",
       "<table border=\"1\" class=\"dataframe\">\n",
       "  <thead>\n",
       "    <tr style=\"text-align: right;\">\n",
       "      <th></th>\n",
       "      <th>carat</th>\n",
       "      <th>cut</th>\n",
       "      <th>color</th>\n",
       "      <th>clarity</th>\n",
       "      <th>depth</th>\n",
       "      <th>table</th>\n",
       "      <th>price</th>\n",
       "      <th>x</th>\n",
       "      <th>y</th>\n",
       "      <th>z</th>\n",
       "    </tr>\n",
       "  </thead>\n",
       "  <tbody>\n",
       "    <tr>\n",
       "      <th>0</th>\n",
       "      <td>0.23</td>\n",
       "      <td>Ideal</td>\n",
       "      <td>E</td>\n",
       "      <td>SI2</td>\n",
       "      <td>61.5</td>\n",
       "      <td>55.0</td>\n",
       "      <td>326</td>\n",
       "      <td>3.95</td>\n",
       "      <td>3.98</td>\n",
       "      <td>2.43</td>\n",
       "    </tr>\n",
       "    <tr>\n",
       "      <th>1</th>\n",
       "      <td>0.21</td>\n",
       "      <td>Premium</td>\n",
       "      <td>E</td>\n",
       "      <td>SI1</td>\n",
       "      <td>59.8</td>\n",
       "      <td>61.0</td>\n",
       "      <td>326</td>\n",
       "      <td>3.89</td>\n",
       "      <td>3.84</td>\n",
       "      <td>2.31</td>\n",
       "    </tr>\n",
       "    <tr>\n",
       "      <th>2</th>\n",
       "      <td>0.23</td>\n",
       "      <td>Good</td>\n",
       "      <td>E</td>\n",
       "      <td>VS1</td>\n",
       "      <td>56.9</td>\n",
       "      <td>65.0</td>\n",
       "      <td>327</td>\n",
       "      <td>4.05</td>\n",
       "      <td>4.07</td>\n",
       "      <td>2.31</td>\n",
       "    </tr>\n",
       "    <tr>\n",
       "      <th>3</th>\n",
       "      <td>0.29</td>\n",
       "      <td>Premium</td>\n",
       "      <td>I</td>\n",
       "      <td>VS2</td>\n",
       "      <td>62.4</td>\n",
       "      <td>58.0</td>\n",
       "      <td>334</td>\n",
       "      <td>4.2</td>\n",
       "      <td>4.23</td>\n",
       "      <td>2.63</td>\n",
       "    </tr>\n",
       "    <tr>\n",
       "      <th>4</th>\n",
       "      <td>0.31</td>\n",
       "      <td>Good</td>\n",
       "      <td>J</td>\n",
       "      <td>SI2</td>\n",
       "      <td>63.3</td>\n",
       "      <td>58.0</td>\n",
       "      <td>335</td>\n",
       "      <td>4.34</td>\n",
       "      <td>4.35</td>\n",
       "      <td>2.75</td>\n",
       "    </tr>\n",
       "  </tbody>\n",
       "</table>\n",
       "</div>"
      ],
      "text/plain": [
       "   carat      cut color clarity  depth  table price     x     y     z\n",
       "0   0.23    Ideal     E     SI2   61.5   55.0   326  3.95  3.98  2.43\n",
       "1   0.21  Premium     E     SI1   59.8   61.0   326  3.89  3.84  2.31\n",
       "2   0.23     Good     E     VS1   56.9   65.0   327  4.05  4.07  2.31\n",
       "3   0.29  Premium     I     VS2   62.4   58.0   334   4.2  4.23  2.63\n",
       "4   0.31     Good     J     SI2   63.3   58.0   335  4.34  4.35  2.75"
      ]
     },
     "execution_count": 4,
     "metadata": {},
     "output_type": "execute_result"
    }
   ],
   "source": [
    "df.head(5)"
   ]
  },
  {
   "cell_type": "code",
   "execution_count": 5,
   "metadata": {},
   "outputs": [
    {
     "data": {
      "text/html": [
       "<div>\n",
       "<style scoped>\n",
       "    .dataframe tbody tr th:only-of-type {\n",
       "        vertical-align: middle;\n",
       "    }\n",
       "\n",
       "    .dataframe tbody tr th {\n",
       "        vertical-align: top;\n",
       "    }\n",
       "\n",
       "    .dataframe thead th {\n",
       "        text-align: right;\n",
       "    }\n",
       "</style>\n",
       "<table border=\"1\" class=\"dataframe\">\n",
       "  <thead>\n",
       "    <tr style=\"text-align: right;\">\n",
       "      <th></th>\n",
       "      <th>carat</th>\n",
       "      <th>cut</th>\n",
       "      <th>color</th>\n",
       "      <th>clarity</th>\n",
       "      <th>depth</th>\n",
       "      <th>table</th>\n",
       "      <th>price</th>\n",
       "      <th>x</th>\n",
       "      <th>y</th>\n",
       "      <th>z</th>\n",
       "    </tr>\n",
       "  </thead>\n",
       "  <tbody>\n",
       "    <tr>\n",
       "      <th>25000</th>\n",
       "      <td>1.29</td>\n",
       "      <td>Ideal</td>\n",
       "      <td>E</td>\n",
       "      <td>VVS2</td>\n",
       "      <td>59.8</td>\n",
       "      <td>59.0</td>\n",
       "      <td>13530</td>\n",
       "      <td>7.07</td>\n",
       "      <td>7.11</td>\n",
       "      <td>4.24</td>\n",
       "    </tr>\n",
       "    <tr>\n",
       "      <th>25005</th>\n",
       "      <td>1.50</td>\n",
       "      <td>Very Good</td>\n",
       "      <td>F</td>\n",
       "      <td>VS2</td>\n",
       "      <td>59.7</td>\n",
       "      <td>56.0</td>\n",
       "      <td>13537</td>\n",
       "      <td>7.42</td>\n",
       "      <td>7.46</td>\n",
       "      <td>4.44</td>\n",
       "    </tr>\n",
       "    <tr>\n",
       "      <th>25010</th>\n",
       "      <td>2.00</td>\n",
       "      <td>Good</td>\n",
       "      <td>J</td>\n",
       "      <td>VS2</td>\n",
       "      <td>61.4</td>\n",
       "      <td>63.0</td>\n",
       "      <td>13542</td>\n",
       "      <td>8.01</td>\n",
       "      <td>8.08</td>\n",
       "      <td>4.94</td>\n",
       "    </tr>\n",
       "    <tr>\n",
       "      <th>25015</th>\n",
       "      <td>1.50</td>\n",
       "      <td>Fair</td>\n",
       "      <td>G</td>\n",
       "      <td>VVS2</td>\n",
       "      <td>64.8</td>\n",
       "      <td>56.0</td>\n",
       "      <td>13553</td>\n",
       "      <td>7.18</td>\n",
       "      <td>7.12</td>\n",
       "      <td>4.63</td>\n",
       "    </tr>\n",
       "    <tr>\n",
       "      <th>25020</th>\n",
       "      <td>0.38</td>\n",
       "      <td>Ideal</td>\n",
       "      <td>F</td>\n",
       "      <td>SI1</td>\n",
       "      <td>61.8</td>\n",
       "      <td>55.0</td>\n",
       "      <td>640</td>\n",
       "      <td>4.66</td>\n",
       "      <td>4.69</td>\n",
       "      <td>2.89</td>\n",
       "    </tr>\n",
       "    <tr>\n",
       "      <th>...</th>\n",
       "      <td>...</td>\n",
       "      <td>...</td>\n",
       "      <td>...</td>\n",
       "      <td>...</td>\n",
       "      <td>...</td>\n",
       "      <td>...</td>\n",
       "      <td>...</td>\n",
       "      <td>...</td>\n",
       "      <td>...</td>\n",
       "      <td>...</td>\n",
       "    </tr>\n",
       "    <tr>\n",
       "      <th>53915</th>\n",
       "      <td>0.77</td>\n",
       "      <td>Ideal</td>\n",
       "      <td>E</td>\n",
       "      <td>SI2</td>\n",
       "      <td>62.1</td>\n",
       "      <td>56.0</td>\n",
       "      <td>2753</td>\n",
       "      <td>5.84</td>\n",
       "      <td>5.86</td>\n",
       "      <td>3.63</td>\n",
       "    </tr>\n",
       "    <tr>\n",
       "      <th>53920</th>\n",
       "      <td>0.70</td>\n",
       "      <td>Very Good</td>\n",
       "      <td>E</td>\n",
       "      <td>VS2</td>\n",
       "      <td>62.4</td>\n",
       "      <td>60.0</td>\n",
       "      <td>2755</td>\n",
       "      <td>5.57</td>\n",
       "      <td>5.61</td>\n",
       "      <td>3.49</td>\n",
       "    </tr>\n",
       "    <tr>\n",
       "      <th>53925</th>\n",
       "      <td>0.79</td>\n",
       "      <td>Ideal</td>\n",
       "      <td>I</td>\n",
       "      <td>SI1</td>\n",
       "      <td>61.6</td>\n",
       "      <td>56.0</td>\n",
       "      <td>2756</td>\n",
       "      <td>5.95</td>\n",
       "      <td>5.97</td>\n",
       "      <td>3.67</td>\n",
       "    </tr>\n",
       "    <tr>\n",
       "      <th>53930</th>\n",
       "      <td>0.71</td>\n",
       "      <td>Premium</td>\n",
       "      <td>E</td>\n",
       "      <td>SI1</td>\n",
       "      <td>60.5</td>\n",
       "      <td>55.0</td>\n",
       "      <td>2756</td>\n",
       "      <td>5.79</td>\n",
       "      <td>5.74</td>\n",
       "      <td>3.49</td>\n",
       "    </tr>\n",
       "    <tr>\n",
       "      <th>53935</th>\n",
       "      <td>0.72</td>\n",
       "      <td>Ideal</td>\n",
       "      <td>D</td>\n",
       "      <td>SI1</td>\n",
       "      <td>60.8</td>\n",
       "      <td>57.0</td>\n",
       "      <td>2757</td>\n",
       "      <td>5.75</td>\n",
       "      <td>5.76</td>\n",
       "      <td>3.50</td>\n",
       "    </tr>\n",
       "  </tbody>\n",
       "</table>\n",
       "<p>5788 rows × 10 columns</p>\n",
       "</div>"
      ],
      "text/plain": [
       "       carat        cut color clarity  depth  table  price     x     y     z\n",
       "25000   1.29      Ideal     E    VVS2   59.8   59.0  13530  7.07  7.11  4.24\n",
       "25005   1.50  Very Good     F     VS2   59.7   56.0  13537  7.42  7.46  4.44\n",
       "25010   2.00       Good     J     VS2   61.4   63.0  13542  8.01  8.08  4.94\n",
       "25015   1.50       Fair     G    VVS2   64.8   56.0  13553  7.18  7.12  4.63\n",
       "25020   0.38      Ideal     F     SI1   61.8   55.0    640  4.66  4.69  2.89\n",
       "...      ...        ...   ...     ...    ...    ...    ...   ...   ...   ...\n",
       "53915   0.77      Ideal     E     SI2   62.1   56.0   2753  5.84  5.86  3.63\n",
       "53920   0.70  Very Good     E     VS2   62.4   60.0   2755  5.57  5.61  3.49\n",
       "53925   0.79      Ideal     I     SI1   61.6   56.0   2756  5.95  5.97  3.67\n",
       "53930   0.71    Premium     E     SI1   60.5   55.0   2756  5.79  5.74  3.49\n",
       "53935   0.72      Ideal     D     SI1   60.8   57.0   2757  5.75  5.76  3.50\n",
       "\n",
       "[5788 rows x 10 columns]"
      ]
     },
     "execution_count": 5,
     "metadata": {},
     "output_type": "execute_result"
    }
   ],
   "source": [
    "df[25000::5]"
   ]
  },
  {
   "cell_type": "code",
   "execution_count": 6,
   "metadata": {},
   "outputs": [
    {
     "data": {
      "text/html": [
       "<div>\n",
       "<style scoped>\n",
       "    .dataframe tbody tr th:only-of-type {\n",
       "        vertical-align: middle;\n",
       "    }\n",
       "\n",
       "    .dataframe tbody tr th {\n",
       "        vertical-align: top;\n",
       "    }\n",
       "\n",
       "    .dataframe thead th {\n",
       "        text-align: right;\n",
       "    }\n",
       "</style>\n",
       "<table border=\"1\" class=\"dataframe\">\n",
       "  <thead>\n",
       "    <tr style=\"text-align: right;\">\n",
       "      <th></th>\n",
       "      <th>carat</th>\n",
       "      <th>cut</th>\n",
       "      <th>color</th>\n",
       "      <th>clarity</th>\n",
       "      <th>depth</th>\n",
       "      <th>table</th>\n",
       "      <th>price</th>\n",
       "      <th>x</th>\n",
       "      <th>y</th>\n",
       "      <th>z</th>\n",
       "    </tr>\n",
       "  </thead>\n",
       "  <tbody>\n",
       "    <tr>\n",
       "      <th>53935</th>\n",
       "      <td>0.72</td>\n",
       "      <td>Ideal</td>\n",
       "      <td>D</td>\n",
       "      <td>SI1</td>\n",
       "      <td>60.8</td>\n",
       "      <td>57.0</td>\n",
       "      <td>2757</td>\n",
       "      <td>5.75</td>\n",
       "      <td>5.76</td>\n",
       "      <td>3.50</td>\n",
       "    </tr>\n",
       "    <tr>\n",
       "      <th>53936</th>\n",
       "      <td>0.72</td>\n",
       "      <td>Good</td>\n",
       "      <td>D</td>\n",
       "      <td>SI1</td>\n",
       "      <td>63.1</td>\n",
       "      <td>55.0</td>\n",
       "      <td>2757</td>\n",
       "      <td>5.69</td>\n",
       "      <td>5.75</td>\n",
       "      <td>3.61</td>\n",
       "    </tr>\n",
       "    <tr>\n",
       "      <th>53937</th>\n",
       "      <td>0.70</td>\n",
       "      <td>Very Good</td>\n",
       "      <td>D</td>\n",
       "      <td>SI1</td>\n",
       "      <td>62.8</td>\n",
       "      <td>60.0</td>\n",
       "      <td>2757</td>\n",
       "      <td>5.66</td>\n",
       "      <td>5.68</td>\n",
       "      <td>3.56</td>\n",
       "    </tr>\n",
       "    <tr>\n",
       "      <th>53938</th>\n",
       "      <td>0.86</td>\n",
       "      <td>Premium</td>\n",
       "      <td>H</td>\n",
       "      <td>SI2</td>\n",
       "      <td>61.0</td>\n",
       "      <td>58.0</td>\n",
       "      <td>2757</td>\n",
       "      <td>6.15</td>\n",
       "      <td>6.12</td>\n",
       "      <td>3.74</td>\n",
       "    </tr>\n",
       "    <tr>\n",
       "      <th>53939</th>\n",
       "      <td>0.75</td>\n",
       "      <td>Ideal</td>\n",
       "      <td>D</td>\n",
       "      <td>SI2</td>\n",
       "      <td>62.2</td>\n",
       "      <td>55.0</td>\n",
       "      <td>2757</td>\n",
       "      <td>5.83</td>\n",
       "      <td>5.87</td>\n",
       "      <td>3.64</td>\n",
       "    </tr>\n",
       "  </tbody>\n",
       "</table>\n",
       "</div>"
      ],
      "text/plain": [
       "       carat        cut color clarity  depth  table price     x     y     z\n",
       "53935   0.72      Ideal     D     SI1   60.8   57.0  2757  5.75  5.76  3.50\n",
       "53936   0.72       Good     D     SI1   63.1   55.0  2757  5.69  5.75  3.61\n",
       "53937   0.70  Very Good     D     SI1   62.8   60.0  2757  5.66  5.68  3.56\n",
       "53938   0.86    Premium     H     SI2   61.0   58.0  2757  6.15  6.12  3.74\n",
       "53939   0.75      Ideal     D     SI2   62.2   55.0  2757  5.83  5.87  3.64"
      ]
     },
     "execution_count": 6,
     "metadata": {},
     "output_type": "execute_result"
    }
   ],
   "source": [
    "df.tail(5)"
   ]
  },
  {
   "cell_type": "markdown",
   "metadata": {},
   "source": [
    "Como se puede observar en las tablas superiores, el DataFrame cargado consta de 53.940 filas y 10 columnas, de las cuales, 7 columnas son numéricas y 3 columnas son categóricas, en principio."
   ]
  },
  {
   "cell_type": "markdown",
   "metadata": {},
   "source": [
    "### 2.2-ANÁLISIS DE LA INCONSISTENCIA DE DATOS."
   ]
  },
  {
   "cell_type": "code",
   "execution_count": 7,
   "metadata": {},
   "outputs": [
    {
     "name": "stdout",
     "output_type": "stream",
     "text": [
      "<class 'pandas.core.frame.DataFrame'>\n",
      "RangeIndex: 53940 entries, 0 to 53939\n",
      "Data columns (total 10 columns):\n",
      " #   Column   Non-Null Count  Dtype  \n",
      "---  ------   --------------  -----  \n",
      " 0   carat    53939 non-null  float64\n",
      " 1   cut      53937 non-null  object \n",
      " 2   color    53938 non-null  object \n",
      " 3   clarity  53938 non-null  object \n",
      " 4   depth    53940 non-null  float64\n",
      " 5   table    53938 non-null  float64\n",
      " 6   price    53938 non-null  object \n",
      " 7   x        53938 non-null  object \n",
      " 8   y        53939 non-null  float64\n",
      " 9   z        53939 non-null  float64\n",
      "dtypes: float64(5), object(5)\n",
      "memory usage: 4.1+ MB\n"
     ]
    }
   ],
   "source": [
    "df.info()"
   ]
  },
  {
   "cell_type": "markdown",
   "metadata": {},
   "source": [
    "Al ampliar la información del DataFrame, como se puede apreciar en la tabla superior, se indica que el DataFrame tiene 53.940 filas. Sin embargo, existe una única columna (la 4 - 'depth') en cuyas observaciones no existe ningún valor nulo. En el resto de columnas, se han detectado valores nulos: existen columnas con 1 valor nulo ('carat', 'y', 'z'), 2 valores nulos ('color', 'clarity', 'table' y 'price') y 3 valores nulos ('cut').\n",
    "<p>Por otra parte, algunas columnas no tienen el tipo de dato que se esperaba a priori. Por ejemplo, las columnas 'price' y 'x', en principio, se esperaban que contuvieran valores numéricos y se han detectado valores de tipo 'object', por lo que los valores de las columnas indicadas pueden haberse cargado como tipo 'string'.\n",
    "<P>Por todo ello, se deduce que existen valores inconsistentes en las columnas mencionadas que hay que tratar adecuadamente. \n",
    "<p>En principio, las cantidades de estas inconsitencias encontradas no son muy numerosas. Dada la cantidad total de las filas del DataFrame, las inconsistencias no parecen tener un peso importante en el conjunto del mismo, y una de las opciones podría ser eliminar directamente las filas afectadas. No obstante, es preferible evitar su eliminación (afín de no perder información) y las filas/columnas afectadas se van a tratar adecuadamente. Para ello, a continuación se procede al análisis de cada columna afectada."
   ]
  },
  {
   "cell_type": "markdown",
   "metadata": {},
   "source": [
    "### 2.3-ANÁLISIS POR COLUMNAS."
   ]
  },
  {
   "cell_type": "markdown",
   "metadata": {},
   "source": [
    "#### 2.3.1-COLUMNA: 'carat'."
   ]
  },
  {
   "cell_type": "markdown",
   "metadata": {},
   "source": [
    "La columna 'carat', en castellano \"quilate\", es una de las principales características que definen un diamante. Los quilates son una unidad de medida que representan el peso del diamante. El quilate, se abrevia como 'ct.' y se subdivide en 100 partes, denominadas 'points'. 1 quilate equivale a 0,2 gr.\n",
    "<p>Por tanto, la columna 'carat' representa a una variable cuantitativa de tipo continua. Los valores esperables de esta variable son numéros reales positivos, con un rango de posibles valores pequeños, por norma general."
   ]
  },
  {
   "cell_type": "code",
   "execution_count": 8,
   "metadata": {},
   "outputs": [
    {
     "name": "stdout",
     "output_type": "stream",
     "text": [
      "[0.23 0.21 0.29 0.31 0.24 0.26 0.22 0.3  0.2  0.32 0.33 0.25 0.35 0.42\n",
      " 0.28 0.38 0.7  0.86 0.71 0.78 0.96 0.73 0.8  0.75 0.74 0.81 0.59 0.9\n",
      " 0.91 0.61 0.77 0.63 0.76 0.64 0.72 0.79 0.58 1.17 0.6  0.83 0.54 0.98\n",
      " 0.52 1.01 0.53 0.84 0.51 1.05 0.55 0.87 1.   0.57 0.82 1.04 0.93 1.2\n",
      " 0.99 0.34 0.43 0.36 0.95 0.89 1.02 0.97 0.56 0.85 0.92 1.27 0.66 1.12\n",
      " 0.68 1.03 0.62 1.22 1.08 0.88 0.5  1.19 0.39 0.65 1.24 1.5  0.27 0.41\n",
      " 1.13 1.06 0.69 0.4  1.14 0.94 1.29 1.52 1.16 1.21 1.23 1.09 0.67 1.11\n",
      " 1.1  1.18 1.15 1.25 1.07 1.28 1.51 0.37 1.31 1.26 1.39 1.44 1.35 1.3\n",
      " 1.32 1.41 1.36 1.45 1.34 1.58 1.54 1.38 1.33 1.74 1.64 1.47 1.4  1.55\n",
      " 1.95 2.   1.37 1.83 1.62 1.57 1.69 2.06 1.72 1.66 2.14 1.49 1.46 2.15\n",
      " 1.96 2.22 1.7  1.53 1.85 2.01 2.27 1.68 1.56 1.81 1.65 1.82 2.03 1.73\n",
      " 1.59 1.42 1.43 2.08 1.48 1.6  2.49 1.71 2.02 2.07 3.   2.21 2.1  1.91\n",
      " 2.25 2.17 2.32 2.72 1.61 2.23 2.11 2.05 1.63 2.3  2.31 1.75 2.04 2.12\n",
      " 1.77 2.5  1.8  1.67 1.84 2.2  3.01 1.88 2.33 2.68 2.34 1.9  2.16 2.74\n",
      " 1.78 1.76 2.28 1.79 1.94 2.43 1.86 3.11 1.87 2.09 1.89 2.52 2.19 2.18\n",
      " 2.77 2.63 3.05 2.46 3.02 2.38 2.24 2.26 2.36 1.99 2.29 3.65 2.45 2.4\n",
      " 2.54 3.24 2.13 2.58 3.22 3.5  2.48 1.98 2.44 2.75 1.93 2.41 2.61 2.35\n",
      " 2.51 2.7  2.55 1.97 2.53 2.37 2.47 2.8  4.01 2.56 3.04 1.92 2.39 3.4\n",
      " 4.   3.67 2.42 2.66 2.65 2.59 2.6  2.57 2.71 4.13 2.64 5.01 4.5  2.67\n",
      " 3.51 0.44 0.45 0.47 0.46 0.48 0.49  nan]\n"
     ]
    }
   ],
   "source": [
    "# Se imprimen los valores únicos de la columna. Se aprecia que el último valor obtenido es de tipo 'NaN\n",
    "print(df['carat'].unique())"
   ]
  },
  {
   "cell_type": "code",
   "execution_count": 9,
   "metadata": {},
   "outputs": [
    {
     "data": {
      "text/plain": [
       "carat\n",
       "NaN        1\n",
       "3.40       1\n",
       "3.67       1\n",
       "4.00       1\n",
       "3.50       1\n",
       "        ... \n",
       "0.32    1840\n",
       "0.70    1981\n",
       "1.01    2242\n",
       "0.31    2249\n",
       "0.30    2604\n",
       "Name: count, Length: 274, dtype: int64"
      ]
     },
     "execution_count": 9,
     "metadata": {},
     "output_type": "execute_result"
    }
   ],
   "source": [
    "# Se imprimen los valores únicos de la columna junto a su frecuencia de aparición.\n",
    "df['carat'].value_counts(dropna=False, sort=True, ascending=True)"
   ]
  },
  {
   "cell_type": "markdown",
   "metadata": {},
   "source": [
    "A parte de los valores NaN, no se aprecia ningún otro valor inconsistente en la columna."
   ]
  },
  {
   "cell_type": "code",
   "execution_count": 10,
   "metadata": {},
   "outputs": [
    {
     "name": "stdout",
     "output_type": "stream",
     "text": [
      "       carat      cut color clarity  depth  table price     x     y     z\n",
      "37626    NaN  Premium     G     SI1   61.0   60.0   990  4.93  4.88  2.99\n"
     ]
    }
   ],
   "source": [
    "# Se imprime la línea que contiene el valor 'NaN' en la columna 'carat'\n",
    "print(df[df['carat'].isnull()])"
   ]
  },
  {
   "cell_type": "code",
   "execution_count": 11,
   "metadata": {},
   "outputs": [
    {
     "data": {
      "text/html": [
       "<div>\n",
       "<style scoped>\n",
       "    .dataframe tbody tr th:only-of-type {\n",
       "        vertical-align: middle;\n",
       "    }\n",
       "\n",
       "    .dataframe tbody tr th {\n",
       "        vertical-align: top;\n",
       "    }\n",
       "\n",
       "    .dataframe thead th {\n",
       "        text-align: right;\n",
       "    }\n",
       "</style>\n",
       "<table border=\"1\" class=\"dataframe\">\n",
       "  <thead>\n",
       "    <tr style=\"text-align: right;\">\n",
       "      <th></th>\n",
       "      <th>carat</th>\n",
       "      <th>cut</th>\n",
       "      <th>color</th>\n",
       "      <th>clarity</th>\n",
       "      <th>depth</th>\n",
       "      <th>table</th>\n",
       "      <th>price</th>\n",
       "      <th>x</th>\n",
       "      <th>y</th>\n",
       "      <th>z</th>\n",
       "    </tr>\n",
       "  </thead>\n",
       "  <tbody>\n",
       "  </tbody>\n",
       "</table>\n",
       "</div>"
      ],
      "text/plain": [
       "Empty DataFrame\n",
       "Columns: [carat, cut, color, clarity, depth, table, price, x, y, z]\n",
       "Index: []"
      ]
     },
     "execution_count": 11,
     "metadata": {},
     "output_type": "execute_result"
    }
   ],
   "source": [
    "filas_valor_cero = df[df['carat']==0]\n",
    "filas_valor_cero"
   ]
  },
  {
   "cell_type": "markdown",
   "metadata": {},
   "source": [
    "#### 2.3.2-COLUMNA: 'cut'."
   ]
  },
  {
   "cell_type": "markdown",
   "metadata": {},
   "source": [
    "El 'cut', en castellano 'corte', es otra de las características principales que definen a un diamante. El corte de un diamante está condicionado por la forma en la que se ha tallado (cortado) y pulido un diamante. En función de cómo se haya realizado este corte, el diamante adquiere una serie de propiedades muy valoradas a la hora de evaluar la calidad de un diamante, como son: las proporciones, la simetría y, sobre todo, el brillo con la cantidad de luz que puede reflejar (a mayor cantidad de luz reflejada, más brillo y mejor calidad).\n",
    "<p>El corte se mide es una escala de valores cualitativos. Esta escala está definida, en este caso, de la siguiente forma (de menor a mayor calidad):\n",
    "<p><strong>'Fair' < 'Good' < 'Very Good' < 'Premium' < 'Ideal'</strong>\n",
    "<p>La columna 'cut', por tanto, representa a una variable cualitativa de tipo ordinal y de valores discretos. Los valores que puede adquirir son los mencionados en el párrafo anterior."
   ]
  },
  {
   "cell_type": "code",
   "execution_count": 12,
   "metadata": {},
   "outputs": [],
   "source": [
    "# Lista con valores posibles de la columna 'cut', ordenados de peor a mejor calidad.\n",
    "lista_valores_cut = ['Fair', 'Good', 'Very Good', 'Premium', 'Ideal']"
   ]
  },
  {
   "cell_type": "code",
   "execution_count": 13,
   "metadata": {},
   "outputs": [
    {
     "name": "stdout",
     "output_type": "stream",
     "text": [
      "['Ideal' 'Premium' 'Good' 'Very Good' 'Fair' nan '?']\n"
     ]
    }
   ],
   "source": [
    "# Se imprimen los valores únicos de la columna.\n",
    "print(df['cut'].unique())"
   ]
  },
  {
   "cell_type": "code",
   "execution_count": 14,
   "metadata": {},
   "outputs": [
    {
     "data": {
      "text/plain": [
       "cut\n",
       "Ideal        21549\n",
       "Premium      13791\n",
       "Very Good    12080\n",
       "Good          4906\n",
       "Fair          1610\n",
       "NaN              3\n",
       "?                1\n",
       "Name: count, dtype: int64"
      ]
     },
     "execution_count": 14,
     "metadata": {},
     "output_type": "execute_result"
    }
   ],
   "source": [
    "# Se imprimen los valores únicos de la columna junto a su frecuencia de aparición.\n",
    "df['cut'].value_counts(dropna=False)"
   ]
  },
  {
   "cell_type": "markdown",
   "metadata": {},
   "source": [
    "Se observa que, además de los 3 valores NaN, también aparece un valor '?', que no se correspondería con un valor esperado en la columna 'cut'."
   ]
  },
  {
   "cell_type": "code",
   "execution_count": 15,
   "metadata": {},
   "outputs": [
    {
     "data": {
      "text/html": [
       "<div>\n",
       "<style scoped>\n",
       "    .dataframe tbody tr th:only-of-type {\n",
       "        vertical-align: middle;\n",
       "    }\n",
       "\n",
       "    .dataframe tbody tr th {\n",
       "        vertical-align: top;\n",
       "    }\n",
       "\n",
       "    .dataframe thead th {\n",
       "        text-align: right;\n",
       "    }\n",
       "</style>\n",
       "<table border=\"1\" class=\"dataframe\">\n",
       "  <thead>\n",
       "    <tr style=\"text-align: right;\">\n",
       "      <th></th>\n",
       "      <th>carat</th>\n",
       "      <th>cut</th>\n",
       "      <th>color</th>\n",
       "      <th>clarity</th>\n",
       "      <th>depth</th>\n",
       "      <th>table</th>\n",
       "      <th>price</th>\n",
       "      <th>x</th>\n",
       "      <th>y</th>\n",
       "      <th>z</th>\n",
       "    </tr>\n",
       "  </thead>\n",
       "  <tbody>\n",
       "    <tr>\n",
       "      <th>49227</th>\n",
       "      <td>0.5</td>\n",
       "      <td>?</td>\n",
       "      <td>E</td>\n",
       "      <td>VVS2</td>\n",
       "      <td>61.7</td>\n",
       "      <td>61.0</td>\n",
       "      <td>2083</td>\n",
       "      <td>5.09</td>\n",
       "      <td>5.12</td>\n",
       "      <td>3.15</td>\n",
       "    </tr>\n",
       "  </tbody>\n",
       "</table>\n",
       "</div>"
      ],
      "text/plain": [
       "       carat cut color clarity  depth  table price     x     y     z\n",
       "49227    0.5   ?     E    VVS2   61.7   61.0  2083  5.09  5.12  3.15"
      ]
     },
     "execution_count": 15,
     "metadata": {},
     "output_type": "execute_result"
    }
   ],
   "source": [
    "# Se imprime la fila que contiene el caracter '?' en la columna 'cut'\n",
    "df[df['cut'].str.contains(r'\\?', na=False)]"
   ]
  },
  {
   "cell_type": "code",
   "execution_count": 16,
   "metadata": {},
   "outputs": [
    {
     "name": "stdout",
     "output_type": "stream",
     "text": [
      "       carat  cut color clarity  depth  table  price     x     y     z\n",
      "14432   1.20  NaN     G     SI2   61.1   57.0   5826  6.86  6.83  4.18\n",
      "14468   1.08  NaN     H     VS2   62.1   56.0   5839  6.59  6.56  4.08\n",
      "27259   2.01  NaN     E     SI1   62.7   57.0  17676  8.03  8.11  5.06\n"
     ]
    }
   ],
   "source": [
    "# Se imprimen las líneas que contienen el valor 'NaN' en la columna 'cut'\n",
    "print(df[df['cut'].isnull()])\n"
   ]
  },
  {
   "cell_type": "code",
   "execution_count": 17,
   "metadata": {},
   "outputs": [
    {
     "data": {
      "text/html": [
       "<div>\n",
       "<style scoped>\n",
       "    .dataframe tbody tr th:only-of-type {\n",
       "        vertical-align: middle;\n",
       "    }\n",
       "\n",
       "    .dataframe tbody tr th {\n",
       "        vertical-align: top;\n",
       "    }\n",
       "\n",
       "    .dataframe thead th {\n",
       "        text-align: right;\n",
       "    }\n",
       "</style>\n",
       "<table border=\"1\" class=\"dataframe\">\n",
       "  <thead>\n",
       "    <tr style=\"text-align: right;\">\n",
       "      <th></th>\n",
       "      <th>carat</th>\n",
       "      <th>cut</th>\n",
       "      <th>color</th>\n",
       "      <th>clarity</th>\n",
       "      <th>depth</th>\n",
       "      <th>table</th>\n",
       "      <th>price</th>\n",
       "      <th>x</th>\n",
       "      <th>y</th>\n",
       "      <th>z</th>\n",
       "    </tr>\n",
       "  </thead>\n",
       "  <tbody>\n",
       "  </tbody>\n",
       "</table>\n",
       "</div>"
      ],
      "text/plain": [
       "Empty DataFrame\n",
       "Columns: [carat, cut, color, clarity, depth, table, price, x, y, z]\n",
       "Index: []"
      ]
     },
     "execution_count": 17,
     "metadata": {},
     "output_type": "execute_result"
    }
   ],
   "source": [
    "filas_valor_cero = df[df['cut'].str.startswith('0', na=False)]\n",
    "filas_valor_cero"
   ]
  },
  {
   "cell_type": "markdown",
   "metadata": {},
   "source": [
    "No hay valores '0'."
   ]
  },
  {
   "cell_type": "markdown",
   "metadata": {},
   "source": [
    "#### 2.3.3-COLUMNA: 'color'."
   ]
  },
  {
   "cell_type": "markdown",
   "metadata": {},
   "source": [
    "La columna 'color' representa otra de las características de la definición de un diamante. Un diamante perfecto no debe tener matices ni color. Esta propiedad se mide, habitualmente, mediante  la gradiación definida por el GIA (Gemmological Institute of America)\n",
    "<p>https://www.kalfin.com.au/wp-content/uploads/2021/04/4-Cs-color-inside.jpg\n",
    "<p>Esta graduación mide esta propiedad mediante una escala alfabética que va, de mayor a menor calidad, desde la 'D' (ausencia de color) hasta la 'Z' (mayor grado de color). A lo largo de la escala, el diamante puede presentar diferentes tonalidades de color: Sin color, Casi sin color, \n",
    "Amarillo tenue, Amarillo muy claro y Amarillo claro.\n",
    "<p>Por tanto, la columna 'color' representa a una variable cualitativa de tipo ordinal y de valores discretos. Los valores que puede adoptar, atendiendo a la escala alfabética, son valores de texto desde la letra 'D' hasta la letra 'Z'.\n"
   ]
  },
  {
   "cell_type": "code",
   "execution_count": 18,
   "metadata": {},
   "outputs": [],
   "source": [
    "# Lista con los valores posibles de la columna 'color', odenados de menor a mayor calidad.\n",
    "lista_valores_color = ['D', 'E', 'F', 'G', 'H', 'I', 'J', 'K', 'L', 'M', 'N', 'O', 'P', 'Q', 'R', 'S', 'T', 'U', 'V', 'W', 'X', 'Y', 'Z']"
   ]
  },
  {
   "cell_type": "code",
   "execution_count": 19,
   "metadata": {},
   "outputs": [
    {
     "name": "stdout",
     "output_type": "stream",
     "text": [
      "color\n",
      "G      11291\n",
      "E       9797\n",
      "F       9542\n",
      "H       8304\n",
      "D       6774\n",
      "I       5421\n",
      "J       2808\n",
      "NaN        2\n",
      "?          1\n",
      "Name: count, dtype: int64\n"
     ]
    }
   ],
   "source": [
    "# Se imprimen los valores únicos de la columna junto a su frecuencia de aparición.\n",
    "print(df['color'].value_counts(dropna=False))"
   ]
  },
  {
   "cell_type": "markdown",
   "metadata": {},
   "source": [
    "Se observa que, además de los 2 valores 'NaN', también aparece un valor '?' no esperado en la columna."
   ]
  },
  {
   "cell_type": "code",
   "execution_count": 20,
   "metadata": {},
   "outputs": [
    {
     "name": "stdout",
     "output_type": "stream",
     "text": [
      "       carat    cut color clarity  depth  table  price     x     y     z\n",
      "27260   2.32  Ideal   NaN     SI2   62.0   57.0  17676  8.49  8.45  5.25\n",
      "37629   0.40  Ideal   NaN     SI1   61.8   55.0    990  4.78  4.74  2.94\n"
     ]
    }
   ],
   "source": [
    "# Se imprimen las líneas que contienen el valor 'NaN' en la columna 'color'\n",
    "print(df[df['color'].isnull()])\n"
   ]
  },
  {
   "cell_type": "code",
   "execution_count": 21,
   "metadata": {},
   "outputs": [
    {
     "data": {
      "text/html": [
       "<div>\n",
       "<style scoped>\n",
       "    .dataframe tbody tr th:only-of-type {\n",
       "        vertical-align: middle;\n",
       "    }\n",
       "\n",
       "    .dataframe tbody tr th {\n",
       "        vertical-align: top;\n",
       "    }\n",
       "\n",
       "    .dataframe thead th {\n",
       "        text-align: right;\n",
       "    }\n",
       "</style>\n",
       "<table border=\"1\" class=\"dataframe\">\n",
       "  <thead>\n",
       "    <tr style=\"text-align: right;\">\n",
       "      <th></th>\n",
       "      <th>carat</th>\n",
       "      <th>cut</th>\n",
       "      <th>color</th>\n",
       "      <th>clarity</th>\n",
       "      <th>depth</th>\n",
       "      <th>table</th>\n",
       "      <th>price</th>\n",
       "      <th>x</th>\n",
       "      <th>y</th>\n",
       "      <th>z</th>\n",
       "    </tr>\n",
       "  </thead>\n",
       "  <tbody>\n",
       "  </tbody>\n",
       "</table>\n",
       "</div>"
      ],
      "text/plain": [
       "Empty DataFrame\n",
       "Columns: [carat, cut, color, clarity, depth, table, price, x, y, z]\n",
       "Index: []"
      ]
     },
     "execution_count": 21,
     "metadata": {},
     "output_type": "execute_result"
    }
   ],
   "source": [
    "filas_valor_cero = df[df['color'].str.startswith('0', na=False)]\n",
    "filas_valor_cero"
   ]
  },
  {
   "cell_type": "markdown",
   "metadata": {},
   "source": [
    "#### 2.3.4-COLUMNA: 'clarity'."
   ]
  },
  {
   "cell_type": "markdown",
   "metadata": {},
   "source": [
    "La columna 'clarity', en castellano 'claridad', es otra de las características que definen las propiedades de un diamante.\n",
    "<p>La claridad de un diamante mide la presencia o ausencia de impurezas, también llamadas inclusiones o manchas. Estas impurezas son fruto de la forma en la que se ha formado el diamante y que han sido atrapadas antes de que el diamante haya sido sometido a las fuertes presiones y altas temperaturas que ocasionan la formación de los diamantes en la corteza terrestre.\n",
    "<p>Para determinar la claridad de un diamante, se tiene en cuenta el número, tamaño, posición y color de estas impurezas. Estas impurezas afectan directamente al brillo y transparencia del diamante. La claridad se mide en una escala, ordenada de mayor a menor calidad:\n",
    "<ul>\n",
    "<li><strong>FL</strong>-Flawless: sin inclusiones ni manchas.\n",
    "<li><strong>IF</strong>-Internally Flawless: sin inclusiones.\n",
    "<li><strong>VVS1 & VVS2</strong>-Very Very Slight Inclusions Level 1 and 2: leves inclusiones difíciles de apreciar incluso por un experto.\n",
    "<li><strong>VS1 & VS2</strong>-Very Slight Inclusions Level 1 and 2: inclusiones observables con dificultad.\n",
    "<li><strong>SI1 & S2</strong>-Flawless: inclusiones más aparentes.\n",
    "<li><strong>I1 & I2 & I3</strong>-Inclusions Level 1, 2 y 3: presencia clara inclusiones, observables sin necesidad de herramientas de magnificación de la imágen.\n",
    "</ul>\n",
    "<p>En consecuencia, la columna 'clarity' representa a una variable cualitativa de tipo ordinal y de valores discretos. Los valores que puede adoptar se corresponden con una escala de valores de tipo alfanumérico (tipo texto). Estos valores posibles, ordenados de menor a mayor calidad, son:\n",
    "<p><strong>'I1' < 'I2' < 'I3' < 'SI1' < 'SI2' < 'VS1' < 'VS2' < 'VVS1' < 'VVS2' < 'IF' < 'FL'</strong>\n",
    "\n"
   ]
  },
  {
   "cell_type": "code",
   "execution_count": 22,
   "metadata": {},
   "outputs": [],
   "source": [
    "# Lista con los valores posibles de la columna 'clarity', ordenados de menor a mayor calidad.\n",
    "lista_valores_clarity = ['I1', 'SI2', 'SI1', 'VS2', 'VS1', 'VVS2', 'VVS1', 'IF', 'FL']"
   ]
  },
  {
   "cell_type": "code",
   "execution_count": 23,
   "metadata": {},
   "outputs": [
    {
     "name": "stdout",
     "output_type": "stream",
     "text": [
      "['SI2' 'SI1' 'VS1' 'VS2' 'VVS2' 'VVS1' 'I1' 'IF' nan]\n"
     ]
    }
   ],
   "source": [
    "# Se imprimen los valores únicos de la columna.\n",
    "print(df['clarity'].unique())"
   ]
  },
  {
   "cell_type": "code",
   "execution_count": 24,
   "metadata": {},
   "outputs": [
    {
     "data": {
      "text/plain": [
       "clarity\n",
       "SI1     13065\n",
       "VS2     12257\n",
       "SI2      9194\n",
       "VS1      8170\n",
       "VVS2     5066\n",
       "VVS1     3655\n",
       "IF       1790\n",
       "I1        741\n",
       "NaN         2\n",
       "Name: count, dtype: int64"
      ]
     },
     "execution_count": 24,
     "metadata": {},
     "output_type": "execute_result"
    }
   ],
   "source": [
    "# Se imprimen los valores únicos de la columna junto a su frecuencia de aparición.\n",
    "df['clarity'].value_counts(dropna=False)"
   ]
  },
  {
   "cell_type": "markdown",
   "metadata": {},
   "source": [
    "En este caso, aparecen 2 valores NaN."
   ]
  },
  {
   "cell_type": "code",
   "execution_count": 25,
   "metadata": {},
   "outputs": [
    {
     "name": "stdout",
     "output_type": "stream",
     "text": [
      "       carat        cut color clarity  depth  table price     x     y     z\n",
      "14437   1.00       Good     F     NaN   64.8   59.0  5829  6.17  6.23  4.02\n",
      "14466   1.01  Very Good     G     NaN   61.6   56.0  5839   6.4  6.46  3.96\n"
     ]
    }
   ],
   "source": [
    "# Se imprimen las líneas que contienen el valor 'NaN' en la columna 'clarity'\n",
    "print(df[df['clarity'].isnull()])\n"
   ]
  },
  {
   "cell_type": "code",
   "execution_count": 26,
   "metadata": {},
   "outputs": [
    {
     "data": {
      "text/html": [
       "<div>\n",
       "<style scoped>\n",
       "    .dataframe tbody tr th:only-of-type {\n",
       "        vertical-align: middle;\n",
       "    }\n",
       "\n",
       "    .dataframe tbody tr th {\n",
       "        vertical-align: top;\n",
       "    }\n",
       "\n",
       "    .dataframe thead th {\n",
       "        text-align: right;\n",
       "    }\n",
       "</style>\n",
       "<table border=\"1\" class=\"dataframe\">\n",
       "  <thead>\n",
       "    <tr style=\"text-align: right;\">\n",
       "      <th></th>\n",
       "      <th>carat</th>\n",
       "      <th>cut</th>\n",
       "      <th>color</th>\n",
       "      <th>clarity</th>\n",
       "      <th>depth</th>\n",
       "      <th>table</th>\n",
       "      <th>price</th>\n",
       "      <th>x</th>\n",
       "      <th>y</th>\n",
       "      <th>z</th>\n",
       "    </tr>\n",
       "  </thead>\n",
       "  <tbody>\n",
       "  </tbody>\n",
       "</table>\n",
       "</div>"
      ],
      "text/plain": [
       "Empty DataFrame\n",
       "Columns: [carat, cut, color, clarity, depth, table, price, x, y, z]\n",
       "Index: []"
      ]
     },
     "execution_count": 26,
     "metadata": {},
     "output_type": "execute_result"
    }
   ],
   "source": [
    "filas_valor_cero = df[df['clarity'].str.startswith('0', na=False)]\n",
    "filas_valor_cero"
   ]
  },
  {
   "cell_type": "markdown",
   "metadata": {},
   "source": [
    "#### 2.3.5-COLUMNA: 'table'."
   ]
  },
  {
   "cell_type": "markdown",
   "metadata": {},
   "source": [
    "La columna 'table' (en castellano 'tabla', 'mesa' o 'meseta'), es otra de las características que definen las propiedades de un diamante.\n",
    "<br><img><src=\"https://cdn.shopify.com/s/files/1/0786/5411/2034/files/Parts-of-loose-diamonds_480x480.webp?v=1689142933\">\n",
    "\n",
    "<p>La tabla es la amplia cara (faceta) plana de la parte superior del diamante. El tamaño de la tabla afecta a la proporcionalidad general del diamante, que a su vez, también afectará al fuego (otra de las características de un diamante) y al brillo del diamante.\n",
    "<p>La tabla se mide en tanto por ciento. Relaciona el tamaño de la mesa con el diámetro promedio de la cintura del diamante. El valor de la tabla dependerá, por tanto, de la forma en la que se haya cortado el diamante. No existe una clara graduación sobre cómo clasificar el valor de la tabla, y en ocasiones, su valor no es determinante para calificar la calidad general del diamante. Una orientación sobre el valor ideal de la tabla es un rango de valores entre el 54% y el 60% para diamantes de talla redonda, mientra que para los diamantes de talla esmeralda el valor ideal de la tabla se encuentra entre el 66% y el 72%.\n",
    "<p>Con todo ello, la columna 'table' representa a una variable cuantitativa de tipo continuo. Como se ha mencionado anteriormente, su valor es un porcentaje, por lo que los valores que puede adoptar son números reales positivos, en el rango de mayor que 0 a 100."
   ]
  },
  {
   "cell_type": "code",
   "execution_count": 27,
   "metadata": {},
   "outputs": [
    {
     "name": "stdout",
     "output_type": "stream",
     "text": [
      "[55.  61.  65.  58.  57.  56.  54.  62.  59.  63.  60.  55.3 69.  53.\n",
      " 64.  56.4 60.5 67.  52.  55.8 66.  70.  68.  54.4 57.1 53.6 54.8 54.2\n",
      " 54.9 56.7 53.9 57.8 54.1 55.1 51.  58.1 56.9 56.5 53.7 60.7 56.2 56.6\n",
      " 56.1 56.3 57.2 57.5 60.9 59.8 62.3 60.1 55.9 50.1 62.2 54.5 55.7 53.4\n",
      " 54.7 58.8 59.4 62.5 54.3 60.6 55.2 58.6 49.  50.  54.6 62.6 57.7 56.8\n",
      " 57.9 60.3 55.6 59.5 57.4 62.4 60.4 53.3 60.2 60.8 58.5 57.6 43.  59.9\n",
      " 63.5 57.3 61.4 58.3 55.4 58.2 53.5 59.7  nan 55.5 58.7 53.8 59.1 53.2\n",
      " 59.3 61.1 51.6 95.  61.2 59.2 58.4 53.1 52.8 44.  61.3 61.9 61.8 59.6\n",
      " 61.5 58.9 64.3 62.8 71.  52.4 63.3 61.7 64.2 73.  65.4 63.4 62.1 79.\n",
      " 76.  61.6]\n"
     ]
    }
   ],
   "source": [
    "# Se imprimen los valores únicos de la columna.\n",
    "print(df['table'].unique())"
   ]
  },
  {
   "cell_type": "code",
   "execution_count": 28,
   "metadata": {},
   "outputs": [
    {
     "data": {
      "text/plain": [
       "table\n",
       "56.0    9881\n",
       "57.0    9724\n",
       "58.0    8368\n",
       "59.0    6571\n",
       "55.0    6268\n",
       "        ... \n",
       "63.4       1\n",
       "62.1       1\n",
       "79.0       1\n",
       "76.0       1\n",
       "61.6       1\n",
       "Name: count, Length: 128, dtype: int64"
      ]
     },
     "execution_count": 28,
     "metadata": {},
     "output_type": "execute_result"
    }
   ],
   "source": [
    "# Se imprimen los valores únicos de la columna junto a su frecuencia de aparición.\n",
    "df['table'].value_counts(dropna=False)"
   ]
  },
  {
   "cell_type": "code",
   "execution_count": 29,
   "metadata": {},
   "outputs": [
    {
     "name": "stdout",
     "output_type": "stream",
     "text": [
      "       carat      cut color clarity  depth  table  price     x     y     z\n",
      "14445   1.22  Premium     I     VS2   62.3    NaN   5832  6.79  6.83  4.24\n",
      "27256   2.28  Premium     I     SI1   61.6    NaN  17673  8.43  8.46  5.20\n"
     ]
    }
   ],
   "source": [
    "# Se imprimen las líneas que contienen el valor 'NaN' en la columna.\n",
    "print(df[df['table'].isnull()])\n"
   ]
  },
  {
   "cell_type": "markdown",
   "metadata": {},
   "source": [
    "Aquí aparecen otros 2 valores NaN."
   ]
  },
  {
   "cell_type": "code",
   "execution_count": 30,
   "metadata": {},
   "outputs": [
    {
     "data": {
      "text/html": [
       "<div>\n",
       "<style scoped>\n",
       "    .dataframe tbody tr th:only-of-type {\n",
       "        vertical-align: middle;\n",
       "    }\n",
       "\n",
       "    .dataframe tbody tr th {\n",
       "        vertical-align: top;\n",
       "    }\n",
       "\n",
       "    .dataframe thead th {\n",
       "        text-align: right;\n",
       "    }\n",
       "</style>\n",
       "<table border=\"1\" class=\"dataframe\">\n",
       "  <thead>\n",
       "    <tr style=\"text-align: right;\">\n",
       "      <th></th>\n",
       "      <th>carat</th>\n",
       "      <th>cut</th>\n",
       "      <th>color</th>\n",
       "      <th>clarity</th>\n",
       "      <th>depth</th>\n",
       "      <th>table</th>\n",
       "      <th>price</th>\n",
       "      <th>x</th>\n",
       "      <th>y</th>\n",
       "      <th>z</th>\n",
       "    </tr>\n",
       "  </thead>\n",
       "  <tbody>\n",
       "  </tbody>\n",
       "</table>\n",
       "</div>"
      ],
      "text/plain": [
       "Empty DataFrame\n",
       "Columns: [carat, cut, color, clarity, depth, table, price, x, y, z]\n",
       "Index: []"
      ]
     },
     "execution_count": 30,
     "metadata": {},
     "output_type": "execute_result"
    }
   ],
   "source": [
    "filas_valor_cero = df[df['table']==0]\n",
    "filas_valor_cero"
   ]
  },
  {
   "cell_type": "markdown",
   "metadata": {},
   "source": [
    "#### 2.3.6-COLUMNA: 'price'."
   ]
  },
  {
   "cell_type": "markdown",
   "metadata": {},
   "source": [
    "La columna 'price' representa al coste económico de adquisición de un diamante. Por tanto, se trata de una variable cuantitativa de tipo continuo. \n",
    "<p>Los valores esperables de esta columna son números reales positivos, con hasta 2 decimales, mayores que 0 (en principio, salvo casos especiales) y sin un límite superior definido. La unidad de medida, presumiblemente, es el euro (€)."
   ]
  },
  {
   "cell_type": "code",
   "execution_count": 31,
   "metadata": {},
   "outputs": [
    {
     "name": "stdout",
     "output_type": "stream",
     "text": [
      "['326' '327' '334' ... '2753' '2755' '2756']\n"
     ]
    }
   ],
   "source": [
    "# Se imprimen los valores únicos de la columna.\n",
    "print(df['price'].unique())"
   ]
  },
  {
   "cell_type": "code",
   "execution_count": 32,
   "metadata": {},
   "outputs": [
    {
     "data": {
      "text/plain": [
       "price\n",
       "605     132\n",
       "802     127\n",
       "625     126\n",
       "828     125\n",
       "776     124\n",
       "       ... \n",
       "9043      1\n",
       "9044      1\n",
       "2783      1\n",
       "2794      1\n",
       "2796      1\n",
       "Name: count, Length: 11603, dtype: int64"
      ]
     },
     "execution_count": 32,
     "metadata": {},
     "output_type": "execute_result"
    }
   ],
   "source": [
    "# Se imprimen los valores únicos de la columna junto a su frecuencia de aparición.\n",
    "df['price'].value_counts(dropna=False)"
   ]
  },
  {
   "cell_type": "code",
   "execution_count": 33,
   "metadata": {},
   "outputs": [
    {
     "name": "stdout",
     "output_type": "stream",
     "text": [
      "       carat        cut color clarity  depth  table price     x     y     z\n",
      "14459   1.24  Very Good     I     VS2   62.7   55.0   NaN  6.82  6.87  4.29\n",
      "27249   2.02  Very Good     F     SI1   60.1   60.0   NaN  8.21   NaN  4.96\n"
     ]
    }
   ],
   "source": [
    "# Se imprimen las líneas que contienen el valor 'NaN' en la columna.\n",
    "print(df[df['price'].isnull()])\n"
   ]
  },
  {
   "cell_type": "markdown",
   "metadata": {},
   "source": [
    "Esta columna 'price' contiene valores que representan precios (en formato string) de diamantes. Dado que un precio '0' puede representar un valor anómalo no esperado, se busca en la columna si existe algún valor '0' o '0.'. Dando como resultado que no existe ningún valor de este tipo. En un apartado posterior, se realizará la conversión de tipo de dato a un tipo numérico más adecuado."
   ]
  },
  {
   "cell_type": "code",
   "execution_count": 34,
   "metadata": {},
   "outputs": [
    {
     "name": "stdout",
     "output_type": "stream",
     "text": [
      "False\n"
     ]
    }
   ],
   "source": [
    "print(('0' in df['price']) | ('0.' in df['price']))\n"
   ]
  },
  {
   "cell_type": "markdown",
   "metadata": {},
   "source": [
    "#### 2.3.7-COLUMNA: 'x'."
   ]
  },
  {
   "cell_type": "markdown",
   "metadata": {},
   "source": [
    "La columna 'x' representa a la anchura del diamante, medida de un extremo a otro en su punto más amplio. Por tanto es una medida de longitud y se considera a la columna 'x' como una variable cuantitativa de tipo continuo.\n",
    "<p>Los valores esperables de la columna 'x' son números reales positivos, con hasta 2 decimales (habitualmente). El rango de valores son mayores que 0 y sin un límite superior definido. La unidad de medida, presumiblemente, es el milímetro (mm.)."
   ]
  },
  {
   "cell_type": "code",
   "execution_count": 35,
   "metadata": {},
   "outputs": [
    {
     "name": "stdout",
     "output_type": "stream",
     "text": [
      "['3.95' '3.89' '4.05' '4.2' '4.34' '3.94' '4.07' '3.87' '4' '4.25' '3.93'\n",
      " '3.88' '4.35' '3.79' '4.38' '4.31' '4.23' '4.21' '4.26' '3.85' '4.39'\n",
      " '4.44' '3.97' '4.28' '3.96' '4.04' '4.01' '3.92' '4.06' '3.83' '4.29'\n",
      " '4.13' '4.49' '3.99' '4.19' '4.24' '4.36' '4.33' '4.02' '4.45' '3.91'\n",
      " '4.3' '4.43' '4.54' '4.78' '4.15' '4.08' '4.03' '4.65' '4.22' '5.7'\n",
      " '6.45' '5.68' '5.81' '5.85' '5.71' '6.27' '5.77' '5.97' '5.8' '6' '5.94'\n",
      " '5.87' '5.9' '6.14' '5.38' '5.96' '6.16' '5.73' '5.98' '5.72' '6.01'\n",
      " '5.64' '5.57' '5.63' '5.65' '6.09' '5.56' '6.11' '6.03' '5.89' '5.69'\n",
      " '5.62' '5.88' '5.52' '5.74' '5.53' '5.78' '5.83' '5.66' '5.82' '5.79'\n",
      " '5.92' '5.39' '5.33' '6.83' '5.41' '5.25' '5.24' '5.67' '5.61' '5.76'\n",
      " '6.05' '5.6' '5.19' '5.84' '6.39' '5.34' '5.14' '5.11' '5.54' '6.07'\n",
      " '6.29' '6.31' '6.49' '5.28' '5.48' '5.55' '6.41' '6.02' '5.91' '6.17'\n",
      " '6.61' '5.12' '6.19' '5.43' '5.99' '5.95' '6.37' '5.93' '6.46' '5.22'\n",
      " '5.75' '6.21' '6.15' '6.73' '5.49' '4.37' '4.47' '4.41' '4.27' '4.85'\n",
      " '4.32' '4.48' '4.5' '4.56' '4.94' '4.09' '6.72' '5.15' '6.3' '5.86'\n",
      " '5.23' '6.08' '6.62' '6.26' '6.55' '6.04' '6.2' '6.43' '6.36' '6.34'\n",
      " '5.2' '5.37' '6.06' '5.51' '6.9' '6.24' '5.36' '5.16' '5.45' '5.47'\n",
      " '6.12' '6.6' '6.35' '7.12' '6.25' '6.1' '6.75' '6.22' '6.78' '6.38'\n",
      " '6.82' '6.84' '5.44' '4.57' '4.6' '4.52' '4.42' '4.46' '6.93' '6.4'\n",
      " '5.27' '5.21' '6.47' '6.13' '5.59' '6.44' '6.53' '6.5' '6.32' '5.08'\n",
      " '5.09' '5.18' '5.3' '6.68' '6.51' '6.23' '5.42' '4.66' '4.4' '6.18'\n",
      " '5.58' '5.03' '6.85' '6.67' '6.28' '6.57' '7.26' '4.18' '4.77' '6.52'\n",
      " '6.42' '5.5' '6.54' '6.92' '5.46' '6.77' '6.63' '5.35' '5.17' '4.64'\n",
      " '6.81' '6.33' '5.4' '7.53' '6.48' '6.58' '7.01' '6.79' '6.59' '6.66'\n",
      " '6.64' '6.99' '4.67' '7.56' '6.65' '6.69' '5.13' '6.8' '4.58' '4.55'\n",
      " '4.16' '4.12' '4.51' '6.71' '6.95' '4.14' '4.53' '6.89' '6.86' '6.91'\n",
      " '6.76' '6.96' '4.99' '4.61' '4.69' '4.71' '6.56' '4.1' '4.7' '7.4' '5.29'\n",
      " '5.26' '5.31' '5.32' '7.29' '7.18' '6.87' '6.74' '7.43' '6.7' '7.37' '7'\n",
      " '4.11' '4.63' '6.94' '7.22' '7.06' '7.05' '7.09' '7.17' '7.07' '4.73'\n",
      " '4.75' '4.74' '7.02' '7.16' '7.11' '6.88' '7.1' '4.98' '7.15' '6.98'\n",
      " '7.31' '7.38' '7.39' '7.33' '4.17' '4.59' '7.28' '7.08' '6.97' '4.62'\n",
      " '4.83' '4.68' '7.34' '7.21' '4.89' '7.03' '7.55' '4.79' '7.25' '7.45'\n",
      " '7.19' '7.04' '7.62' '7.14' '3.98' '4.8' '7.44' '0' '7.13' '7.32' '7.2'\n",
      " '7.48' '8.1' '8.11' '7.23' '7.27' '7.42' '7.7' '4.76' '4.72' '7.3' '7.24'\n",
      " '7.79' '7.54' '7.63' '7.46' '7.74' '4.84' '8.01' '7.59' '7.36' '4.87'\n",
      " '8.04' '7.78' '7.8' '7.71' '8.48' '7.61' '8.05' nan '7.6' '7.5' '7.52'\n",
      " '7.91' '7.81' '8.03' '8.23' '7.41' '7.49' '7.68' '7.57' '7.35' '8.26'\n",
      " '7.84' '7.58' '8' '8.19' '7.77' '7.87' '7.47' '8.25' '7.76' '9.23' '7.97'\n",
      " '8.31' '8.3' '7.82' '4.88' '7.93' '7.73' '7.89' '7.66' '7.75' '8.75'\n",
      " '7.88' '7.99' '8.46' '7.51' '7.69' '7.64' '8.24' '8.15' '8.71' '7.83'\n",
      " '8.39' '7.72' '8.13' '4.82' '7.65' '9.1' '8.93' '8.16' '7.94' '7.85'\n",
      " '8.64' '7.67' '4.91' '4.81' '8.14' '7.86' '9.11' '8.45' '7.9' '8.47'\n",
      " '8.07' '8.55' '8.76' '7.96' '8.28' '8.4' '8.37' '8.52' '8.43' '8.09'\n",
      " '7.98' '8.81' '8.54' '8.02' '8.08' '8.18' '4.92' '8.12' '9.15' '8.17'\n",
      " '9.24' '8.33' '8.34' '7.92' '8.57' '7.95' '8.06' '9.26' '8.82' '8.27'\n",
      " '8.66' '8.22' '9.54' '9.38' '8.36' '8.41' '8.53' '8.42' '8.44' '8.21'\n",
      " '8.51' '8.68' '8.49' '8.29' '8.2' '9.08' '9.17' '8.6' '9.53' '8.7' '8.32'\n",
      " '8.65' '9.44' '8.38' '8.61' '8.58' '9.49' '9.65' '8.83' '8.5' '8.79'\n",
      " '8.63' '8.74' '9.04' '9.42' '8.35' '8.56' '8.8' '8.87' '8.84' '8.88'\n",
      " '8.59' '8.69' '9.32' '9.03' '8.72' '10.14' '10.02' '8.62' '8.85' '9.14'\n",
      " '8.67' '8.99' '10.01' '8.78' '9.25' '9.86' '8.77' '8.73' '9.3' '9.13'\n",
      " '9.05' '10' '8.9' '8.97' '10.74' '9.36' '9.06' '8.89' '10.23' '9.51'\n",
      " '9.66' '9.35' '9.41' '4.86' '4.9' '3.9' '3.86' '4.93' '4.96' '5.04' '5'\n",
      " '4.95' '5.01' '5.05' '3.81' '3.84' '3.73' '3.74' '3.76' '3.77' '4.97'\n",
      " '5.06' '5.02' '5.1' '5.07' '3.82' '?']\n"
     ]
    }
   ],
   "source": [
    "# Se imprimen los valores únicos de la columna.\n",
    "print(df['x'].unique())"
   ]
  },
  {
   "cell_type": "code",
   "execution_count": 36,
   "metadata": {},
   "outputs": [
    {
     "data": {
      "text/plain": [
       "x\n",
       "4.37    448\n",
       "4.34    437\n",
       "4.33    429\n",
       "4.38    428\n",
       "4.32    425\n",
       "       ... \n",
       "9.49      1\n",
       "9.65      1\n",
       "9.53      1\n",
       "8.79      1\n",
       "?         1\n",
       "Name: count, Length: 556, dtype: int64"
      ]
     },
     "execution_count": 36,
     "metadata": {},
     "output_type": "execute_result"
    }
   ],
   "source": [
    "# Se imprimen los valores únicos de la columna junto a su frecuencia de aparición.\n",
    "df['x'].value_counts(dropna=False)"
   ]
  },
  {
   "cell_type": "markdown",
   "metadata": {},
   "source": [
    "Aparece un valor '?'."
   ]
  },
  {
   "cell_type": "code",
   "execution_count": 37,
   "metadata": {},
   "outputs": [
    {
     "name": "stdout",
     "output_type": "stream",
     "text": [
      "       carat    cut color clarity  depth  table price    x     y     z\n",
      "14446   1.01  Ideal     D     SI1   62.0   57.0  5832  NaN  6.44  3.97\n",
      "14470   1.00   Fair     F     VS2   64.9   56.0  5840  NaN  6.31  4.08\n"
     ]
    }
   ],
   "source": [
    "# Se imprimen las líneas que contienen el valor 'NaN' en la columna.\n",
    "print(df[df['x'].isnull()])\n"
   ]
  },
  {
   "cell_type": "code",
   "execution_count": 38,
   "metadata": {},
   "outputs": [
    {
     "data": {
      "text/html": [
       "<div>\n",
       "<style scoped>\n",
       "    .dataframe tbody tr th:only-of-type {\n",
       "        vertical-align: middle;\n",
       "    }\n",
       "\n",
       "    .dataframe tbody tr th {\n",
       "        vertical-align: top;\n",
       "    }\n",
       "\n",
       "    .dataframe thead th {\n",
       "        text-align: right;\n",
       "    }\n",
       "</style>\n",
       "<table border=\"1\" class=\"dataframe\">\n",
       "  <thead>\n",
       "    <tr style=\"text-align: right;\">\n",
       "      <th></th>\n",
       "      <th>carat</th>\n",
       "      <th>cut</th>\n",
       "      <th>color</th>\n",
       "      <th>clarity</th>\n",
       "      <th>depth</th>\n",
       "      <th>table</th>\n",
       "      <th>price</th>\n",
       "      <th>x</th>\n",
       "      <th>y</th>\n",
       "      <th>z</th>\n",
       "    </tr>\n",
       "  </thead>\n",
       "  <tbody>\n",
       "    <tr>\n",
       "      <th>11182</th>\n",
       "      <td>1.07</td>\n",
       "      <td>Ideal</td>\n",
       "      <td>F</td>\n",
       "      <td>SI2</td>\n",
       "      <td>61.6</td>\n",
       "      <td>56.0</td>\n",
       "      <td>4954</td>\n",
       "      <td>0</td>\n",
       "      <td>6.62</td>\n",
       "      <td>0.0</td>\n",
       "    </tr>\n",
       "    <tr>\n",
       "      <th>11963</th>\n",
       "      <td>1.00</td>\n",
       "      <td>Very Good</td>\n",
       "      <td>H</td>\n",
       "      <td>VS2</td>\n",
       "      <td>63.3</td>\n",
       "      <td>53.0</td>\n",
       "      <td>5139</td>\n",
       "      <td>0</td>\n",
       "      <td>0.00</td>\n",
       "      <td>0.0</td>\n",
       "    </tr>\n",
       "    <tr>\n",
       "      <th>15951</th>\n",
       "      <td>1.14</td>\n",
       "      <td>Fair</td>\n",
       "      <td>G</td>\n",
       "      <td>VS1</td>\n",
       "      <td>57.5</td>\n",
       "      <td>67.0</td>\n",
       "      <td>6381</td>\n",
       "      <td>0</td>\n",
       "      <td>0.00</td>\n",
       "      <td>0.0</td>\n",
       "    </tr>\n",
       "    <tr>\n",
       "      <th>24520</th>\n",
       "      <td>1.56</td>\n",
       "      <td>Ideal</td>\n",
       "      <td>G</td>\n",
       "      <td>VS2</td>\n",
       "      <td>62.2</td>\n",
       "      <td>54.0</td>\n",
       "      <td>12800</td>\n",
       "      <td>0</td>\n",
       "      <td>0.00</td>\n",
       "      <td>0.0</td>\n",
       "    </tr>\n",
       "    <tr>\n",
       "      <th>26243</th>\n",
       "      <td>1.20</td>\n",
       "      <td>Premium</td>\n",
       "      <td>D</td>\n",
       "      <td>VVS1</td>\n",
       "      <td>62.1</td>\n",
       "      <td>59.0</td>\n",
       "      <td>15686</td>\n",
       "      <td>0</td>\n",
       "      <td>0.00</td>\n",
       "      <td>0.0</td>\n",
       "    </tr>\n",
       "    <tr>\n",
       "      <th>27429</th>\n",
       "      <td>2.25</td>\n",
       "      <td>Premium</td>\n",
       "      <td>H</td>\n",
       "      <td>SI2</td>\n",
       "      <td>62.8</td>\n",
       "      <td>59.0</td>\n",
       "      <td>18034</td>\n",
       "      <td>0</td>\n",
       "      <td>0.00</td>\n",
       "      <td>0.0</td>\n",
       "    </tr>\n",
       "    <tr>\n",
       "      <th>49556</th>\n",
       "      <td>0.71</td>\n",
       "      <td>Good</td>\n",
       "      <td>F</td>\n",
       "      <td>SI2</td>\n",
       "      <td>64.1</td>\n",
       "      <td>60.0</td>\n",
       "      <td>2130</td>\n",
       "      <td>0</td>\n",
       "      <td>0.00</td>\n",
       "      <td>0.0</td>\n",
       "    </tr>\n",
       "    <tr>\n",
       "      <th>49557</th>\n",
       "      <td>0.71</td>\n",
       "      <td>Good</td>\n",
       "      <td>F</td>\n",
       "      <td>SI2</td>\n",
       "      <td>64.1</td>\n",
       "      <td>60.0</td>\n",
       "      <td>2130</td>\n",
       "      <td>0</td>\n",
       "      <td>0.00</td>\n",
       "      <td>0.0</td>\n",
       "    </tr>\n",
       "  </tbody>\n",
       "</table>\n",
       "</div>"
      ],
      "text/plain": [
       "       carat        cut color clarity  depth  table  price  x     y    z\n",
       "11182   1.07      Ideal     F     SI2   61.6   56.0   4954  0  6.62  0.0\n",
       "11963   1.00  Very Good     H     VS2   63.3   53.0   5139  0  0.00  0.0\n",
       "15951   1.14       Fair     G     VS1   57.5   67.0   6381  0  0.00  0.0\n",
       "24520   1.56      Ideal     G     VS2   62.2   54.0  12800  0  0.00  0.0\n",
       "26243   1.20    Premium     D    VVS1   62.1   59.0  15686  0  0.00  0.0\n",
       "27429   2.25    Premium     H     SI2   62.8   59.0  18034  0  0.00  0.0\n",
       "49556   0.71       Good     F     SI2   64.1   60.0   2130  0  0.00  0.0\n",
       "49557   0.71       Good     F     SI2   64.1   60.0   2130  0  0.00  0.0"
      ]
     },
     "execution_count": 38,
     "metadata": {},
     "output_type": "execute_result"
    }
   ],
   "source": [
    "filas_valor_cero = df[df['x'].str.startswith('0', na=False)]\n",
    "filas_valor_cero"
   ]
  },
  {
   "cell_type": "markdown",
   "metadata": {},
   "source": [
    "En esta columna, también aparecen varios valores '0', que deberán ser tratados adecuadamente."
   ]
  },
  {
   "cell_type": "markdown",
   "metadata": {},
   "source": [
    "#### 2.3.8-COLUMNA: 'y'."
   ]
  },
  {
   "cell_type": "markdown",
   "metadata": {},
   "source": [
    "La columna 'y' representa a la longitud del diamante, medida de un extremo a otro en la dirección más larga. Por tanto es una medida de longitud. La columna 'y' se considera como una variable cuantitativa de tipo continuo.\n",
    "<p>Los valores esperables de la columna 'y' son números reales positivos, con hasta 2 decimales (habitualmente). El rango de valores son mayores que 0 y sin un límite superior definido. La unidad de medida, presumiblemente, es el milímetro (mm.)."
   ]
  },
  {
   "cell_type": "code",
   "execution_count": 39,
   "metadata": {},
   "outputs": [
    {
     "name": "stdout",
     "output_type": "stream",
     "text": [
      "[ 3.98  3.84  4.07  4.23  4.35  3.96  4.11  3.78  4.05  4.28  3.9   4.37\n",
      "  3.75  4.42  4.34  4.29  4.26  4.27  4.3   3.92  4.43  4.47  4.01  3.94\n",
      "  3.97  3.99  4.03  4.06  4.08  3.85  4.31  4.16  4.51  4.5   4.55  4.02\n",
      "  4.24  4.38  3.95  4.48  3.89  3.88  4.33  4.32  4.59  4.84  4.22  4.\n",
      "  4.25  4.13  4.09  4.04  4.12  4.67  5.72  6.33  5.67  5.73  5.85  5.9\n",
      "  5.76  5.95  5.78  5.93  5.75  5.96  5.79  5.87  5.8   5.81  6.11  5.43\n",
      "  6.    5.84  6.12  5.82  5.74  5.94  6.07  5.69  5.83  5.61  5.53  5.58\n",
      "  5.59  5.97  6.09  5.99  5.86  5.68  5.65  5.55  5.77  5.91  5.56  5.89\n",
      "  5.92  6.03  5.44  5.37  5.88  6.9   5.62  5.27  5.26  5.7   5.64  5.63\n",
      "  5.71  5.51  5.22  6.36  5.54  5.66  6.2   5.18  5.15  6.1   6.21  6.22\n",
      "  6.45  6.01  5.3   5.41  5.52  6.27  6.05  6.06  6.13  6.55  5.35  5.16\n",
      "  6.25  6.02  5.46  6.23  6.08  5.45  6.41  6.34  5.25  6.15  6.19  6.66\n",
      "  4.36  4.2   4.79  4.57  4.52  4.53  4.58  5.    6.67  5.11  6.29  6.04\n",
      "  6.53  6.65  6.5   6.16  5.6   6.39  5.21  5.4   5.98  6.83  6.37  6.31\n",
      "  5.38  6.43  5.29  5.19  6.18  5.34  5.48  5.23  6.14  5.49  5.57  6.46\n",
      "  7.05  6.26  6.75  6.74  6.77  4.66  4.46  4.56  4.41  4.4   4.39  5.2\n",
      "  6.88  5.31  6.3   6.48  5.47  5.13  6.49  6.47  6.32  5.12  5.24  6.35\n",
      "  6.61  4.7   6.24  6.28  5.08  6.44  6.79  6.57  6.92  6.6   5.28  5.42\n",
      "  5.5   7.09  4.45  4.62  4.8   6.42  6.85  6.54  6.7   6.51  6.59  6.38\n",
      "  6.69  5.06  4.69  4.44  4.49  6.71  6.4   6.17  5.39  7.42  6.52  6.95\n",
      "  6.56  6.62  6.87  6.81  7.39  6.58  6.73  5.17  4.65  4.19  4.61  6.64\n",
      "  6.91  6.8   4.15  4.71  4.21  4.68  6.84  6.86  4.96  5.04  5.09  4.64\n",
      "  4.74  4.73  4.6   4.75  7.28  5.32  6.82  6.63  7.17  7.13  4.1   4.63\n",
      "  7.35  6.68  7.26  6.78  4.17  4.9   6.89  7.01  7.1   6.72  7.    5.36\n",
      "  4.76  4.78  6.96  7.15  7.19  6.93  4.54  7.34  6.76  7.18  4.14  7.12\n",
      "  7.04  7.22  7.2   6.94  7.16  7.21  4.18  7.32  7.06  6.99  4.72  7.03\n",
      "  7.14  6.97  7.29  7.51  4.81  6.98  7.33  7.23  7.25  7.02  7.59  7.11\n",
      "  4.82  7.07  7.36  7.08  7.4   7.41  8.05  8.06  0.    4.83  7.44  7.79\n",
      "  8.07  7.24  7.7   7.45  7.56  4.88  7.27  7.95  4.87  7.31  4.77  4.89\n",
      "  8.02  7.37  7.49  7.38  7.74  7.75  7.64  8.39  7.55  8.    7.48  7.5\n",
      "  7.54  7.47  7.52  7.53  7.43  7.85  7.6   7.3   7.99  7.57  8.18  7.8\n",
      "  7.92  7.72  8.2   7.65  7.63  7.58  7.73  9.1   8.27  8.19  7.76  8.01\n",
      "  7.66  7.46  7.97  4.94  7.91  7.86  7.61  8.69  7.82  7.9   8.43  7.62\n",
      "  7.71  7.83  8.3   8.12  7.94  7.98  8.56  7.78  8.22  8.28  7.67  4.85\n",
      "  8.44  7.87  8.97  8.84  8.11  4.98  7.81  8.09  7.68  8.25  9.07  8.38\n",
      "  8.67  7.84  4.86  8.26  8.66  7.69  8.32  8.46  8.35  7.89  8.04  8.21\n",
      "  7.96  8.03  8.77  8.49  8.17  8.13  8.33  7.77  9.02  8.08  9.13  7.88\n",
      "  8.31  8.53  8.5   8.14  8.83  8.81  9.25  8.15  8.76  8.23  7.93  8.16\n",
      "  8.63  9.38  9.31  8.34  8.24  8.51  8.47  8.1   8.57  8.45  3.86  8.96\n",
      "  9.48  8.36  8.58  8.41  8.61  8.64  4.97 58.9   8.68  9.4   8.37  8.48\n",
      "  8.29  8.4   9.42  9.59  8.78  8.54  8.7   8.98  9.26  8.65  8.52  8.6\n",
      "  8.42  9.37  8.74  8.59  8.55  9.01  9.19 10.1   9.94  8.71  9.34  9.2\n",
      "  9.81  8.73  8.82  8.87  8.75  8.79  8.93  8.88  9.14  9.03  8.9   8.94\n",
      "  9.85  8.62   nan 10.54  8.89 10.16  9.46  9.63  9.22  9.32  8.85  4.91\n",
      "  4.93  4.92  3.93  4.95  5.01  4.99  5.05  3.77  3.8   3.71  3.73  3.68\n",
      "  3.72  3.91  5.07  5.02  5.03  3.87  5.14  5.1   5.33  3.83  3.81  3.82\n",
      " 31.8 ]\n"
     ]
    }
   ],
   "source": [
    "# Se imprimen los valores únicos de la columna.\n",
    "print(df['y'].unique())"
   ]
  },
  {
   "cell_type": "code",
   "execution_count": 40,
   "metadata": {},
   "outputs": [
    {
     "data": {
      "text/plain": [
       "y\n",
       "4.34     437\n",
       "4.37     435\n",
       "4.35     425\n",
       "4.33     421\n",
       "4.32     414\n",
       "        ... \n",
       "9.03       1\n",
       "9.85       1\n",
       "3.81       1\n",
       "3.82       1\n",
       "31.80      1\n",
       "Name: count, Length: 553, dtype: int64"
      ]
     },
     "execution_count": 40,
     "metadata": {},
     "output_type": "execute_result"
    }
   ],
   "source": [
    "# Se imprimen los valores únicos de la columna junto a su frecuencia de aparición.\n",
    "df['y'].value_counts(dropna=False)"
   ]
  },
  {
   "cell_type": "code",
   "execution_count": 41,
   "metadata": {},
   "outputs": [
    {
     "data": {
      "text/html": [
       "<div>\n",
       "<style scoped>\n",
       "    .dataframe tbody tr th:only-of-type {\n",
       "        vertical-align: middle;\n",
       "    }\n",
       "\n",
       "    .dataframe tbody tr th {\n",
       "        vertical-align: top;\n",
       "    }\n",
       "\n",
       "    .dataframe thead th {\n",
       "        text-align: right;\n",
       "    }\n",
       "</style>\n",
       "<table border=\"1\" class=\"dataframe\">\n",
       "  <thead>\n",
       "    <tr style=\"text-align: right;\">\n",
       "      <th></th>\n",
       "      <th>carat</th>\n",
       "      <th>cut</th>\n",
       "      <th>color</th>\n",
       "      <th>clarity</th>\n",
       "      <th>depth</th>\n",
       "      <th>table</th>\n",
       "      <th>price</th>\n",
       "      <th>x</th>\n",
       "      <th>y</th>\n",
       "      <th>z</th>\n",
       "    </tr>\n",
       "  </thead>\n",
       "  <tbody>\n",
       "    <tr>\n",
       "      <th>11963</th>\n",
       "      <td>1.00</td>\n",
       "      <td>Very Good</td>\n",
       "      <td>H</td>\n",
       "      <td>VS2</td>\n",
       "      <td>63.3</td>\n",
       "      <td>53.0</td>\n",
       "      <td>5139</td>\n",
       "      <td>0</td>\n",
       "      <td>0.0</td>\n",
       "      <td>0.0</td>\n",
       "    </tr>\n",
       "    <tr>\n",
       "      <th>15951</th>\n",
       "      <td>1.14</td>\n",
       "      <td>Fair</td>\n",
       "      <td>G</td>\n",
       "      <td>VS1</td>\n",
       "      <td>57.5</td>\n",
       "      <td>67.0</td>\n",
       "      <td>6381</td>\n",
       "      <td>0</td>\n",
       "      <td>0.0</td>\n",
       "      <td>0.0</td>\n",
       "    </tr>\n",
       "    <tr>\n",
       "      <th>24520</th>\n",
       "      <td>1.56</td>\n",
       "      <td>Ideal</td>\n",
       "      <td>G</td>\n",
       "      <td>VS2</td>\n",
       "      <td>62.2</td>\n",
       "      <td>54.0</td>\n",
       "      <td>12800</td>\n",
       "      <td>0</td>\n",
       "      <td>0.0</td>\n",
       "      <td>0.0</td>\n",
       "    </tr>\n",
       "    <tr>\n",
       "      <th>26243</th>\n",
       "      <td>1.20</td>\n",
       "      <td>Premium</td>\n",
       "      <td>D</td>\n",
       "      <td>VVS1</td>\n",
       "      <td>62.1</td>\n",
       "      <td>59.0</td>\n",
       "      <td>15686</td>\n",
       "      <td>0</td>\n",
       "      <td>0.0</td>\n",
       "      <td>0.0</td>\n",
       "    </tr>\n",
       "    <tr>\n",
       "      <th>27429</th>\n",
       "      <td>2.25</td>\n",
       "      <td>Premium</td>\n",
       "      <td>H</td>\n",
       "      <td>SI2</td>\n",
       "      <td>62.8</td>\n",
       "      <td>59.0</td>\n",
       "      <td>18034</td>\n",
       "      <td>0</td>\n",
       "      <td>0.0</td>\n",
       "      <td>0.0</td>\n",
       "    </tr>\n",
       "    <tr>\n",
       "      <th>49556</th>\n",
       "      <td>0.71</td>\n",
       "      <td>Good</td>\n",
       "      <td>F</td>\n",
       "      <td>SI2</td>\n",
       "      <td>64.1</td>\n",
       "      <td>60.0</td>\n",
       "      <td>2130</td>\n",
       "      <td>0</td>\n",
       "      <td>0.0</td>\n",
       "      <td>0.0</td>\n",
       "    </tr>\n",
       "    <tr>\n",
       "      <th>49557</th>\n",
       "      <td>0.71</td>\n",
       "      <td>Good</td>\n",
       "      <td>F</td>\n",
       "      <td>SI2</td>\n",
       "      <td>64.1</td>\n",
       "      <td>60.0</td>\n",
       "      <td>2130</td>\n",
       "      <td>0</td>\n",
       "      <td>0.0</td>\n",
       "      <td>0.0</td>\n",
       "    </tr>\n",
       "  </tbody>\n",
       "</table>\n",
       "</div>"
      ],
      "text/plain": [
       "       carat        cut color clarity  depth  table  price  x    y    z\n",
       "11963   1.00  Very Good     H     VS2   63.3   53.0   5139  0  0.0  0.0\n",
       "15951   1.14       Fair     G     VS1   57.5   67.0   6381  0  0.0  0.0\n",
       "24520   1.56      Ideal     G     VS2   62.2   54.0  12800  0  0.0  0.0\n",
       "26243   1.20    Premium     D    VVS1   62.1   59.0  15686  0  0.0  0.0\n",
       "27429   2.25    Premium     H     SI2   62.8   59.0  18034  0  0.0  0.0\n",
       "49556   0.71       Good     F     SI2   64.1   60.0   2130  0  0.0  0.0\n",
       "49557   0.71       Good     F     SI2   64.1   60.0   2130  0  0.0  0.0"
      ]
     },
     "execution_count": 41,
     "metadata": {},
     "output_type": "execute_result"
    }
   ],
   "source": [
    "filas_valor_cero = df[df['y']==0]\n",
    "filas_valor_cero"
   ]
  },
  {
   "cell_type": "code",
   "execution_count": 42,
   "metadata": {},
   "outputs": [
    {
     "name": "stdout",
     "output_type": "stream",
     "text": [
      "       carat        cut color clarity  depth  table price     x   y     z\n",
      "27249   2.02  Very Good     F     SI1   60.1   60.0   NaN  8.21 NaN  4.96\n"
     ]
    }
   ],
   "source": [
    "# Se imprimen las líneas que contienen el valor 'NaN' en la columna.\n",
    "print(df[df['y'].isnull()])\n"
   ]
  },
  {
   "cell_type": "markdown",
   "metadata": {},
   "source": [
    "#### 2.3.9-COLUMNA: 'z'."
   ]
  },
  {
   "cell_type": "markdown",
   "metadata": {},
   "source": [
    "La columna 'z' representa a la profundidad del diamante, medida desde la tabla (cara plana superior) hasta la culata (punta más baja del diamante). Por tanto es una medida de longitud. La columna 'z' se considera como una variable cuantitativa de tipo continuo.\n",
    "<p>Los valores esperables de la columna 'z' son números reales positivos, con hasta 2 decimales (habitualmente). El rango de valores son mayores que 0 y sin un límite superior definido. La unidad de medida, presumiblemente, es el milímetro (mm.)."
   ]
  },
  {
   "cell_type": "code",
   "execution_count": 43,
   "metadata": {},
   "outputs": [
    {
     "name": "stdout",
     "output_type": "stream",
     "text": [
      "[ 2.43  2.31  2.63  2.75  2.48  2.47  2.53  2.49  2.39  2.73  2.46  2.33\n",
      "  2.71  2.27  2.68  2.7   2.66  2.41  2.62  2.59  2.67  2.4   2.42  2.44\n",
      "  2.37  2.52  2.78  2.76  2.61  2.65  2.79  2.54  2.64  2.45  2.72  2.69\n",
      "  2.96  2.58  2.51  2.56  2.55  2.87  3.57  3.52  3.5   3.56  3.72  3.38\n",
      "  3.4   4.07  3.66  3.65  3.58  3.59  3.63  3.69  3.61  3.6   3.35  3.67\n",
      "  3.62  3.87  3.68  3.49  3.47  3.46  3.7   3.32  3.93  3.95  3.64  3.53\n",
      "  3.37  3.43  3.51  3.54  3.48  3.55  3.33  3.3   4.13  3.79  3.24  3.23\n",
      "  4.08  3.19  3.94  3.08  3.31  3.21  3.75  3.18  3.41  4.03  4.09  3.22\n",
      "  4.18  3.76  3.83  3.17  3.44  3.74  3.8   3.39  3.88  4.    3.98  3.85\n",
      "  3.96  3.16  3.78  3.84  4.33  4.01  3.45  2.74  2.95  2.8   2.77  2.9\n",
      "  2.82  3.77  3.9   3.73  3.34  3.86  3.89  3.81  3.42  3.71  3.91  3.2\n",
      "  3.1   4.06  3.97  4.02  4.2   4.11  3.99  4.23  3.27  3.92  4.15  2.83\n",
      "  2.81  4.04  3.82  4.21  4.1   4.26  4.29  3.26  2.88  2.5   4.16  4.14\n",
      "  4.12  3.25  4.7   4.19  3.13  4.05  4.27  4.34  3.14  2.97  4.17  3.36\n",
      "  4.42  4.28  4.38  3.29  0.    4.25  4.78  2.99  2.57  2.84  4.22  2.6\n",
      "  3.15  4.32  4.3   2.85  3.01  3.28  4.63  4.65  3.12  4.52  4.47  2.89\n",
      "  4.24  4.49  4.57  4.36  4.8   4.76  2.94  4.66  4.54  4.56  4.62  4.37\n",
      "  4.46  4.31  2.91  4.5   4.39  4.4   4.55  2.86  2.35  2.93  4.41  4.51\n",
      "  4.45  4.72  4.48  2.98  4.75  4.64  4.84  2.92  4.87  4.35  4.53  4.44\n",
      "  4.6   4.81  4.68  4.82  3.    4.58  4.97  5.12  4.59  4.61  4.95  4.98\n",
      "  4.79  4.43  5.36  2.36  5.23  5.04  4.74  5.1   4.92  5.17  4.71  5.43\n",
      "   nan  1.07  5.29  4.67  5.07  5.19  4.93  5.15  4.73  5.08  5.06  5.45\n",
      "  4.85  5.27  4.69  5.18  5.16  4.94  4.77  5.25  5.77  5.02  5.14  5.44\n",
      "  5.24  4.99  5.41  5.58  5.76  5.22  5.31  5.09  5.28  5.47  5.01  5.\n",
      "  4.91  4.88  5.32  4.89  5.67  5.97  5.33  5.2   4.83  5.53  5.37  5.65\n",
      "  1.53  4.9   5.21  5.05  5.11  5.35  1.41  4.96  5.98  5.03  5.73  4.86\n",
      "  5.6   5.56  5.66  5.26  5.91  3.04  5.3   5.79  5.13  6.38  5.49  5.34\n",
      "  8.06  5.85  5.57  5.92  6.03  3.02  5.48  5.62  5.46  3.03  5.55  5.39\n",
      "  5.5   6.17  6.24  5.75  6.16  5.51  6.27  6.31  5.69  6.13  5.54  5.86\n",
      "  5.38  5.72  5.4   5.61  6.43  5.52  5.42  6.98  5.9   6.72  5.64  5.59\n",
      "  3.06  3.05  3.07  3.09  3.11  2.26  2.24  2.32  2.28  2.3   2.38  2.34\n",
      "  2.29  2.06  2.25 31.8 ]\n"
     ]
    }
   ],
   "source": [
    "# Se imprimen los valores únicos de la columna.\n",
    "print(df['z'].unique())"
   ]
  },
  {
   "cell_type": "code",
   "execution_count": 44,
   "metadata": {},
   "outputs": [
    {
     "data": {
      "text/plain": [
       "z\n",
       "2.70     767\n",
       "2.69     748\n",
       "2.71     738\n",
       "2.68     730\n",
       "2.72     697\n",
       "        ... \n",
       "5.75       1\n",
       "2.29       1\n",
       "2.06       1\n",
       "2.25       1\n",
       "31.80      1\n",
       "Name: count, Length: 376, dtype: int64"
      ]
     },
     "execution_count": 44,
     "metadata": {},
     "output_type": "execute_result"
    }
   ],
   "source": [
    "# Se imprimen los valores únicos de la columna junto a su frecuencia de aparición.\n",
    "df['z'].value_counts(dropna=False)"
   ]
  },
  {
   "cell_type": "code",
   "execution_count": 45,
   "metadata": {},
   "outputs": [
    {
     "data": {
      "text/html": [
       "<div>\n",
       "<style scoped>\n",
       "    .dataframe tbody tr th:only-of-type {\n",
       "        vertical-align: middle;\n",
       "    }\n",
       "\n",
       "    .dataframe tbody tr th {\n",
       "        vertical-align: top;\n",
       "    }\n",
       "\n",
       "    .dataframe thead th {\n",
       "        text-align: right;\n",
       "    }\n",
       "</style>\n",
       "<table border=\"1\" class=\"dataframe\">\n",
       "  <thead>\n",
       "    <tr style=\"text-align: right;\">\n",
       "      <th></th>\n",
       "      <th>carat</th>\n",
       "      <th>cut</th>\n",
       "      <th>color</th>\n",
       "      <th>clarity</th>\n",
       "      <th>depth</th>\n",
       "      <th>table</th>\n",
       "      <th>price</th>\n",
       "      <th>x</th>\n",
       "      <th>y</th>\n",
       "      <th>z</th>\n",
       "    </tr>\n",
       "  </thead>\n",
       "  <tbody>\n",
       "    <tr>\n",
       "      <th>2207</th>\n",
       "      <td>1.00</td>\n",
       "      <td>Premium</td>\n",
       "      <td>G</td>\n",
       "      <td>SI2</td>\n",
       "      <td>59.1</td>\n",
       "      <td>59.0</td>\n",
       "      <td>3142</td>\n",
       "      <td>6.55</td>\n",
       "      <td>6.48</td>\n",
       "      <td>0.0</td>\n",
       "    </tr>\n",
       "    <tr>\n",
       "      <th>2314</th>\n",
       "      <td>1.01</td>\n",
       "      <td>Premium</td>\n",
       "      <td>H</td>\n",
       "      <td>I1</td>\n",
       "      <td>58.1</td>\n",
       "      <td>59.0</td>\n",
       "      <td>3167</td>\n",
       "      <td>6.66</td>\n",
       "      <td>6.60</td>\n",
       "      <td>0.0</td>\n",
       "    </tr>\n",
       "    <tr>\n",
       "      <th>4791</th>\n",
       "      <td>1.10</td>\n",
       "      <td>Premium</td>\n",
       "      <td>G</td>\n",
       "      <td>SI2</td>\n",
       "      <td>63.0</td>\n",
       "      <td>59.0</td>\n",
       "      <td>3696</td>\n",
       "      <td>6.5</td>\n",
       "      <td>6.47</td>\n",
       "      <td>0.0</td>\n",
       "    </tr>\n",
       "    <tr>\n",
       "      <th>5471</th>\n",
       "      <td>1.01</td>\n",
       "      <td>Premium</td>\n",
       "      <td>F</td>\n",
       "      <td>SI2</td>\n",
       "      <td>59.2</td>\n",
       "      <td>58.0</td>\n",
       "      <td>3837</td>\n",
       "      <td>6.5</td>\n",
       "      <td>6.47</td>\n",
       "      <td>0.0</td>\n",
       "    </tr>\n",
       "    <tr>\n",
       "      <th>10167</th>\n",
       "      <td>1.50</td>\n",
       "      <td>Good</td>\n",
       "      <td>G</td>\n",
       "      <td>I1</td>\n",
       "      <td>64.0</td>\n",
       "      <td>61.0</td>\n",
       "      <td>4731</td>\n",
       "      <td>7.15</td>\n",
       "      <td>7.04</td>\n",
       "      <td>0.0</td>\n",
       "    </tr>\n",
       "    <tr>\n",
       "      <th>11182</th>\n",
       "      <td>1.07</td>\n",
       "      <td>Ideal</td>\n",
       "      <td>F</td>\n",
       "      <td>SI2</td>\n",
       "      <td>61.6</td>\n",
       "      <td>56.0</td>\n",
       "      <td>4954</td>\n",
       "      <td>0</td>\n",
       "      <td>6.62</td>\n",
       "      <td>0.0</td>\n",
       "    </tr>\n",
       "    <tr>\n",
       "      <th>11963</th>\n",
       "      <td>1.00</td>\n",
       "      <td>Very Good</td>\n",
       "      <td>H</td>\n",
       "      <td>VS2</td>\n",
       "      <td>63.3</td>\n",
       "      <td>53.0</td>\n",
       "      <td>5139</td>\n",
       "      <td>0</td>\n",
       "      <td>0.00</td>\n",
       "      <td>0.0</td>\n",
       "    </tr>\n",
       "    <tr>\n",
       "      <th>13601</th>\n",
       "      <td>1.15</td>\n",
       "      <td>Ideal</td>\n",
       "      <td>G</td>\n",
       "      <td>VS2</td>\n",
       "      <td>59.2</td>\n",
       "      <td>56.0</td>\n",
       "      <td>5564</td>\n",
       "      <td>6.88</td>\n",
       "      <td>6.83</td>\n",
       "      <td>0.0</td>\n",
       "    </tr>\n",
       "    <tr>\n",
       "      <th>15951</th>\n",
       "      <td>1.14</td>\n",
       "      <td>Fair</td>\n",
       "      <td>G</td>\n",
       "      <td>VS1</td>\n",
       "      <td>57.5</td>\n",
       "      <td>67.0</td>\n",
       "      <td>6381</td>\n",
       "      <td>0</td>\n",
       "      <td>0.00</td>\n",
       "      <td>0.0</td>\n",
       "    </tr>\n",
       "    <tr>\n",
       "      <th>24394</th>\n",
       "      <td>2.18</td>\n",
       "      <td>Premium</td>\n",
       "      <td>H</td>\n",
       "      <td>SI2</td>\n",
       "      <td>59.4</td>\n",
       "      <td>61.0</td>\n",
       "      <td>12631</td>\n",
       "      <td>8.49</td>\n",
       "      <td>8.45</td>\n",
       "      <td>0.0</td>\n",
       "    </tr>\n",
       "    <tr>\n",
       "      <th>24520</th>\n",
       "      <td>1.56</td>\n",
       "      <td>Ideal</td>\n",
       "      <td>G</td>\n",
       "      <td>VS2</td>\n",
       "      <td>62.2</td>\n",
       "      <td>54.0</td>\n",
       "      <td>12800</td>\n",
       "      <td>0</td>\n",
       "      <td>0.00</td>\n",
       "      <td>0.0</td>\n",
       "    </tr>\n",
       "    <tr>\n",
       "      <th>26123</th>\n",
       "      <td>2.25</td>\n",
       "      <td>Premium</td>\n",
       "      <td>I</td>\n",
       "      <td>SI1</td>\n",
       "      <td>61.3</td>\n",
       "      <td>58.0</td>\n",
       "      <td>15397</td>\n",
       "      <td>8.52</td>\n",
       "      <td>8.42</td>\n",
       "      <td>0.0</td>\n",
       "    </tr>\n",
       "    <tr>\n",
       "      <th>26243</th>\n",
       "      <td>1.20</td>\n",
       "      <td>Premium</td>\n",
       "      <td>D</td>\n",
       "      <td>VVS1</td>\n",
       "      <td>62.1</td>\n",
       "      <td>59.0</td>\n",
       "      <td>15686</td>\n",
       "      <td>0</td>\n",
       "      <td>0.00</td>\n",
       "      <td>0.0</td>\n",
       "    </tr>\n",
       "    <tr>\n",
       "      <th>27112</th>\n",
       "      <td>2.20</td>\n",
       "      <td>Premium</td>\n",
       "      <td>H</td>\n",
       "      <td>SI1</td>\n",
       "      <td>61.2</td>\n",
       "      <td>59.0</td>\n",
       "      <td>17265</td>\n",
       "      <td>8.42</td>\n",
       "      <td>8.37</td>\n",
       "      <td>0.0</td>\n",
       "    </tr>\n",
       "    <tr>\n",
       "      <th>27429</th>\n",
       "      <td>2.25</td>\n",
       "      <td>Premium</td>\n",
       "      <td>H</td>\n",
       "      <td>SI2</td>\n",
       "      <td>62.8</td>\n",
       "      <td>59.0</td>\n",
       "      <td>18034</td>\n",
       "      <td>0</td>\n",
       "      <td>0.00</td>\n",
       "      <td>0.0</td>\n",
       "    </tr>\n",
       "    <tr>\n",
       "      <th>27503</th>\n",
       "      <td>2.02</td>\n",
       "      <td>Premium</td>\n",
       "      <td>H</td>\n",
       "      <td>VS2</td>\n",
       "      <td>62.7</td>\n",
       "      <td>53.0</td>\n",
       "      <td>18207</td>\n",
       "      <td>8.02</td>\n",
       "      <td>7.95</td>\n",
       "      <td>0.0</td>\n",
       "    </tr>\n",
       "    <tr>\n",
       "      <th>27739</th>\n",
       "      <td>2.80</td>\n",
       "      <td>Good</td>\n",
       "      <td>G</td>\n",
       "      <td>SI2</td>\n",
       "      <td>63.8</td>\n",
       "      <td>58.0</td>\n",
       "      <td>18788</td>\n",
       "      <td>8.9</td>\n",
       "      <td>8.85</td>\n",
       "      <td>0.0</td>\n",
       "    </tr>\n",
       "    <tr>\n",
       "      <th>49556</th>\n",
       "      <td>0.71</td>\n",
       "      <td>Good</td>\n",
       "      <td>F</td>\n",
       "      <td>SI2</td>\n",
       "      <td>64.1</td>\n",
       "      <td>60.0</td>\n",
       "      <td>2130</td>\n",
       "      <td>0</td>\n",
       "      <td>0.00</td>\n",
       "      <td>0.0</td>\n",
       "    </tr>\n",
       "    <tr>\n",
       "      <th>49557</th>\n",
       "      <td>0.71</td>\n",
       "      <td>Good</td>\n",
       "      <td>F</td>\n",
       "      <td>SI2</td>\n",
       "      <td>64.1</td>\n",
       "      <td>60.0</td>\n",
       "      <td>2130</td>\n",
       "      <td>0</td>\n",
       "      <td>0.00</td>\n",
       "      <td>0.0</td>\n",
       "    </tr>\n",
       "    <tr>\n",
       "      <th>51506</th>\n",
       "      <td>1.12</td>\n",
       "      <td>Premium</td>\n",
       "      <td>G</td>\n",
       "      <td>I1</td>\n",
       "      <td>60.4</td>\n",
       "      <td>59.0</td>\n",
       "      <td>2383</td>\n",
       "      <td>6.71</td>\n",
       "      <td>6.67</td>\n",
       "      <td>0.0</td>\n",
       "    </tr>\n",
       "  </tbody>\n",
       "</table>\n",
       "</div>"
      ],
      "text/plain": [
       "       carat        cut color clarity  depth  table  price     x     y    z\n",
       "2207    1.00    Premium     G     SI2   59.1   59.0   3142  6.55  6.48  0.0\n",
       "2314    1.01    Premium     H      I1   58.1   59.0   3167  6.66  6.60  0.0\n",
       "4791    1.10    Premium     G     SI2   63.0   59.0   3696   6.5  6.47  0.0\n",
       "5471    1.01    Premium     F     SI2   59.2   58.0   3837   6.5  6.47  0.0\n",
       "10167   1.50       Good     G      I1   64.0   61.0   4731  7.15  7.04  0.0\n",
       "11182   1.07      Ideal     F     SI2   61.6   56.0   4954     0  6.62  0.0\n",
       "11963   1.00  Very Good     H     VS2   63.3   53.0   5139     0  0.00  0.0\n",
       "13601   1.15      Ideal     G     VS2   59.2   56.0   5564  6.88  6.83  0.0\n",
       "15951   1.14       Fair     G     VS1   57.5   67.0   6381     0  0.00  0.0\n",
       "24394   2.18    Premium     H     SI2   59.4   61.0  12631  8.49  8.45  0.0\n",
       "24520   1.56      Ideal     G     VS2   62.2   54.0  12800     0  0.00  0.0\n",
       "26123   2.25    Premium     I     SI1   61.3   58.0  15397  8.52  8.42  0.0\n",
       "26243   1.20    Premium     D    VVS1   62.1   59.0  15686     0  0.00  0.0\n",
       "27112   2.20    Premium     H     SI1   61.2   59.0  17265  8.42  8.37  0.0\n",
       "27429   2.25    Premium     H     SI2   62.8   59.0  18034     0  0.00  0.0\n",
       "27503   2.02    Premium     H     VS2   62.7   53.0  18207  8.02  7.95  0.0\n",
       "27739   2.80       Good     G     SI2   63.8   58.0  18788   8.9  8.85  0.0\n",
       "49556   0.71       Good     F     SI2   64.1   60.0   2130     0  0.00  0.0\n",
       "49557   0.71       Good     F     SI2   64.1   60.0   2130     0  0.00  0.0\n",
       "51506   1.12    Premium     G      I1   60.4   59.0   2383  6.71  6.67  0.0"
      ]
     },
     "execution_count": 45,
     "metadata": {},
     "output_type": "execute_result"
    }
   ],
   "source": [
    "filas_valor_cero = df[df['z']==0]\n",
    "filas_valor_cero"
   ]
  },
  {
   "cell_type": "code",
   "execution_count": 46,
   "metadata": {},
   "outputs": [
    {
     "name": "stdout",
     "output_type": "stream",
     "text": [
      "       carat      cut color clarity  depth  table price     x     y   z\n",
      "14472   1.23  Premium     F     SI2   59.9   58.0  5841  7.02  6.96 NaN\n"
     ]
    }
   ],
   "source": [
    "# Se imprimen las líneas que contienen el valor 'NaN' en la columna.\n",
    "print(df[df['z'].isnull()])\n"
   ]
  },
  {
   "cell_type": "markdown",
   "metadata": {},
   "source": [
    "#### 2.3.10-COLUMNA: 'depth'."
   ]
  },
  {
   "cell_type": "markdown",
   "metadata": {},
   "source": [
    "La columna 'depth' (en castellano, 'profundidad'), al igual que sucede con la columna 'table', se expresa mediante valores porcentuales. En este caso, esta profundidad relaciona la dimensión 'z' dividiéndola por el promedio de la anchura (('x' + 'y')/2) y multiplicándola por 100.\n",
    "<p>Tampoco existe un consenso claro sobre cuál es la medida ideal de la profundidad de un diamante, pero valores entre 56,5% y 65% son generalmente aceptados como buenos.\n",
    "<p>Con todo ello, la columna 'depth' representa a una variable cuantitativa de tipo continuo. Como se ha mencionado anteriormente, su valor es un porcentaje, por lo que los valores que puede adoptar son números reales positivos, en el rango de mayor que 0 a 100.\n"
   ]
  },
  {
   "cell_type": "code",
   "execution_count": 47,
   "metadata": {},
   "outputs": [
    {
     "name": "stdout",
     "output_type": "stream",
     "text": [
      "[61.5 59.8 56.9 62.4 63.3 62.8 62.3 61.9 65.1 59.4 64.  60.4 62.2 60.2\n",
      " 60.9 62.  63.4 63.8 62.7 61.  58.1 62.5 60.5 60.  60.7 59.5 58.2 64.1\n",
      " 60.8 61.8 61.2 61.1 65.2 58.4 63.1 61.6 59.3 62.6 63.  63.2 62.1 61.4\n",
      " 62.9 63.7 59.2 59.9 57.9 55.1 57.5 66.3 61.7 58.8 64.5 65.3 59.6 64.4\n",
      " 65.7 63.6 61.3 60.1 60.3 58.  64.6 59.7 57.8 67.9 60.6 57.2 64.2 65.8\n",
      " 67.4 59.  63.5 67.3 58.7 66.4 68.1 63.9 55.  58.6 64.3 58.5 65.  56.\n",
      " 58.3 53.1 64.9 59.1 58.9 66.7 57.7 65.4 53.3 53.  67.8 66.1 55.8 67.6\n",
      " 68.2 65.5 67.7 69.5 56.6 56.3 66.9 66.  67.  57.6 67.1 65.6 64.8 69.3\n",
      " 66.2 55.4 66.8 64.7 66.6 55.9 57.3 57.4 68.3 68.5 56.2 65.9 56.5 56.1\n",
      " 66.5 68.4 69.7 57.1 68.7 56.7 68.6 71.6 43.  68.8 67.5 69.  55.2 68.9\n",
      " 69.6 57.  56.4 56.8 44.  67.2 70.1 71.3 70.6 69.8 71.8 53.8 53.2 70.\n",
      " 69.4 68.  70.2 50.8 55.6 70.5 71.  69.1 55.3 54.2 51.  70.8 54.6 54.\n",
      " 54.4 52.3 55.5 78.2 71.2 52.7 54.3 69.2 73.6 52.2 69.9 53.4 72.2 79.\n",
      " 72.9 54.7]\n"
     ]
    }
   ],
   "source": [
    "# Se imprimen los valores únicos de la columna.\n",
    "print(df['depth'].unique())"
   ]
  },
  {
   "cell_type": "code",
   "execution_count": 48,
   "metadata": {},
   "outputs": [
    {
     "data": {
      "text/plain": [
       "depth\n",
       "62.0    2239\n",
       "61.9    2163\n",
       "61.8    2077\n",
       "62.2    2039\n",
       "62.1    2020\n",
       "        ... \n",
       "52.2       1\n",
       "53.4       1\n",
       "72.2       1\n",
       "72.9       1\n",
       "54.7       1\n",
       "Name: count, Length: 184, dtype: int64"
      ]
     },
     "execution_count": 48,
     "metadata": {},
     "output_type": "execute_result"
    }
   ],
   "source": [
    "# Se imprimen los valores únicos de la columna junto a su frecuencia de aparición.\n",
    "df['depth'].value_counts(dropna=False)"
   ]
  },
  {
   "cell_type": "code",
   "execution_count": 49,
   "metadata": {},
   "outputs": [
    {
     "name": "stdout",
     "output_type": "stream",
     "text": [
      "Empty DataFrame\n",
      "Columns: [carat, cut, color, clarity, depth, table, price, x, y, z]\n",
      "Index: []\n"
     ]
    }
   ],
   "source": [
    "# Se imprimen las líneas que contienen el valor 'NaN' en la columna.\n",
    "print(df[df['depth'].isnull()])\n"
   ]
  },
  {
   "cell_type": "markdown",
   "metadata": {},
   "source": [
    "La columna 'depth' no presenta ni valores 'NaN' ni ningún otro tipo de dato inconsistente."
   ]
  },
  {
   "cell_type": "markdown",
   "metadata": {},
   "source": [
    "### 2.4-TRATAMIENTO DE DATOS."
   ]
  },
  {
   "cell_type": "markdown",
   "metadata": {},
   "source": [
    "Resúmen de las inconsistencias detectadas.\n",
    "\n",
    "<table style=\"width:20%\">\n",
    "<tr>\n",
    "<th></th>\n",
    "<th>CARAT</th>\n",
    "<th>CUT</th>\n",
    "<th>COLOR</th>\n",
    "<th>CLARITY</th>\n",
    "<th>DEPTH</th>\n",
    "<th>TABLE</th>\n",
    "<th>PRICE</th>\n",
    "<th>X</th>\n",
    "<th>Y</th>\n",
    "<th>Z</th>\n",
    "</tr>\n",
    "<tr>\n",
    "<td>TIPO DATO Actual</td>\n",
    "<td>FLOAT64</td>\n",
    "<td>OBJECT</td>\n",
    "<td>OBJECT</td>\n",
    "<td>OBJECT</td>\n",
    "<td>FLOAT64</td>\n",
    "<td>FLOAT64</td>\n",
    "<td>OBJECT</td>\n",
    "<td>OBJECT</td>\n",
    "<td>FLOAT64</td>\n",
    "<td>FLOAT64</td>\n",
    "</tr>\n",
    "\n",
    "<tr>\n",
    "<td>TIPO DATO Óptimo</td>\n",
    "<td>FLOAT64</td>\n",
    "<td>CATEGORY</td>\n",
    "<td>OBJECT</td>\n",
    "<td>CATEGORY</td>\n",
    "<td>FLOAT64</td>\n",
    "<td>FLOAT64</td>\n",
    "<td>FLOAT64</td>\n",
    "<td>FLOAT64</td>\n",
    "<td>FLOAT64</td>\n",
    "<td>FLOAT64</td>\n",
    "</tr>\n",
    "\n",
    "<tr>\n",
    "<td>NaN</td>\n",
    "<td>SÍ</td>\n",
    "<td>SÍ</td>\n",
    "<td>SÍ</td>\n",
    "<td>SÍ</td>\n",
    "<td>NO</td>\n",
    "<td>SÍ</td>\n",
    "<td>SÍ</td>\n",
    "<td>SÍ</td>\n",
    "<td>SÍ</td>\n",
    "<td>SÍ</td>\n",
    "</tr>\n",
    "\n",
    "<tr>\n",
    "<td>?</td>\n",
    "<td>NO</td>\n",
    "<td>SÍ</td>\n",
    "<td>SÍ</td>\n",
    "<td>NO</td>\n",
    "<td>NO</td>\n",
    "<td>NO</td>\n",
    "<td>SÍ</td>\n",
    "<td>SÍ</td>\n",
    "<td>NO</td>\n",
    "<td>NO</td>\n",
    "</tr>\n",
    "\n",
    "<tr>\n",
    "<td>0</td>\n",
    "<td>NO</td>\n",
    "<td>NO</td>\n",
    "<td>NO</td>\n",
    "<td>NO</td>\n",
    "<td>NO</td>\n",
    "<td>NO</td>\n",
    "<td>NO</td>\n",
    "<td>SÍ</td>\n",
    "<td>SÍ</td>\n",
    "<td>SÍ</td>\n",
    "</tr>\n",
    "</table>\n"
   ]
  },
  {
   "cell_type": "markdown",
   "metadata": {},
   "source": [
    "De los datos inconsistentes detectados, tal y como aparecen en la tabla superior, el proceso que se va a realizar es el siguiente:\n",
    "<ol>\n",
    "<li>Definición de valores a tratar.</li>\n",
    "<li>Tratamiento de datos inconsistentes:\n",
    "<ul>\n",
    "<li>Sustituir los valores '?' por otro valor, por ejemplo 'NaN', para su posterior tratamiento.</li>\n",
    "<li>Sustituir los valores 'NaN' por las medianas (valores numéricos) o por las modas (valores no numéricos).</li>\n",
    "<li>Sustituir los valores '0' y '0.' por las medianas.</li>\n",
    "</ul>\n",
    "<li>Eliminar filas duplicadas.</li>\n",
    "<li>Realizar la conversión de tipo de datos.</li>\n",
    "</ol>"
   ]
  },
  {
   "cell_type": "markdown",
   "metadata": {},
   "source": [
    "#### 2.4.1-VALORES A TRATAR."
   ]
  },
  {
   "cell_type": "markdown",
   "metadata": {},
   "source": [
    "##### 2.4.1.1-VALORES NaN O NULOS."
   ]
  },
  {
   "cell_type": "markdown",
   "metadata": {},
   "source": [
    "Se buscan aquellas columnas del DataFrame que puedan contener, al menos, un valor NaN o nulo. Se crea una lista con los nombres de las columnas del DataFrame con alguna coincidencia."
   ]
  },
  {
   "cell_type": "code",
   "execution_count": 50,
   "metadata": {},
   "outputs": [
    {
     "name": "stdout",
     "output_type": "stream",
     "text": [
      "Las columnas del DataFrame que contienen algún valor NaN o nulo son: ['carat', 'cut', 'color', 'clarity', 'table', 'price', 'x', 'y', 'z']\n"
     ]
    }
   ],
   "source": [
    "lista_columnas_nan = buscar_caracter_df(df, np.nan)\n",
    "print(f'Las columnas del DataFrame que contienen algún valor NaN o nulo son: {lista_columnas_nan}')"
   ]
  },
  {
   "cell_type": "markdown",
   "metadata": {},
   "source": [
    "##### 2.4.1.2-VALORES ESPECIALES."
   ]
  },
  {
   "cell_type": "markdown",
   "metadata": {},
   "source": [
    "Fruto del estudio de los valores únicos de las columnas, se ha detectado la presencia del valor '?' en algunas de las mismas. A continuación, se genera una lista de nombres de columnas del DataFrame que contiene, como valor, algún caracter '?'."
   ]
  },
  {
   "cell_type": "code",
   "execution_count": 51,
   "metadata": {},
   "outputs": [
    {
     "name": "stdout",
     "output_type": "stream",
     "text": [
      "Las columnas del DataFrame que contienen algún valor \"?\" son: ['cut', 'color', 'price', 'x']\n"
     ]
    }
   ],
   "source": [
    "lista_columnas_caracter_especial = buscar_caracter_df (df, '\\\\?') # Como el caracter '?' es un caracter especial, se debe anteponer el caracter '\\' para que sea reconocido como un caracter normal y no como el comienzo de una expresión regular.\n",
    "print(f'Las columnas del DataFrame que contienen algún valor \"?\" son: {lista_columnas_caracter_especial}')"
   ]
  },
  {
   "cell_type": "markdown",
   "metadata": {},
   "source": [
    "##### 2.4.1.3-VALORES 0."
   ]
  },
  {
   "cell_type": "markdown",
   "metadata": {},
   "source": [
    "En los resultados de los valores únicos de las columnas del DataFrame, se ha detectado que algunas columnas contienen valores 0. Se genera una lista de nombres de columnas del DataFrame que contienen, al menos, un valor 0."
   ]
  },
  {
   "cell_type": "code",
   "execution_count": 52,
   "metadata": {},
   "outputs": [
    {
     "name": "stdout",
     "output_type": "stream",
     "text": [
      "Las columnas del DataFrame que contienen algún valor \"0\" son: ['x', 'y', 'z']\n"
     ]
    }
   ],
   "source": [
    "lista_columnas_ceros = buscar_ceros_df (df)\n",
    "print(f'Las columnas del DataFrame que contienen algún valor \"0\" son: {lista_columnas_ceros}')"
   ]
  },
  {
   "cell_type": "markdown",
   "metadata": {},
   "source": [
    "De todo el DataFrame, la única columna que puede tener algún sentido que contenga un valor 0 es la columna 'price'. Aunque este valor en la columna indicada pueda tener sentido en algún caso particular, no es lo deseable. No obstante, no se ha detectado ningún valor 0 en la columna 'price'.\n",
    "<p>Sin embargo, en donde sí se han detectado valores 0 son en las columnas 'x', 'y' y 'z'. Estas columnas representan las dimensiones de los diamantes, por tanto, la presencia de valores 0 en estas columnas sí suponen un problema, ya que 0 no es un valor esperable en las columnas indicadas. Estas columnas deberán ser tratadas apropiadamente."
   ]
  },
  {
   "cell_type": "markdown",
   "metadata": {},
   "source": [
    "#### 2.4.2-TRATAMIENTO DE DATOS INCONSISTENTES."
   ]
  },
  {
   "cell_type": "markdown",
   "metadata": {},
   "source": [
    "##### 2.4.2.1-VALORES '?'."
   ]
  },
  {
   "cell_type": "markdown",
   "metadata": {},
   "source": [
    "Se reeplazan los valores '?' por un valor NaN, en aquellas columnas en las que se hadtectado dicho valor."
   ]
  },
  {
   "cell_type": "code",
   "execution_count": 53,
   "metadata": {},
   "outputs": [
    {
     "name": "stdout",
     "output_type": "stream",
     "text": [
      "Se han reemplazado 4 columnas con algún valor '?' por valores NaN.\n"
     ]
    }
   ],
   "source": [
    "df = reemplazar_caracter_por_nan(df, lista_columnas_caracter_especial, '?')"
   ]
  },
  {
   "cell_type": "markdown",
   "metadata": {},
   "source": [
    "##### 2.4.2.2-VALORES NaN O NULOS."
   ]
  },
  {
   "cell_type": "markdown",
   "metadata": {},
   "source": [
    "Se reemplazan los valores NaN o nulos por: la mediana, en el caso de valores numéricos; la moda, en el caso de valores no numéricos."
   ]
  },
  {
   "cell_type": "code",
   "execution_count": 54,
   "metadata": {},
   "outputs": [
    {
     "name": "stdout",
     "output_type": "stream",
     "text": [
      "Se han reemplazado valores NaN en 4 columnas por la moda de la columna.\n",
      "Se han reemplazado valores NaN en 5 columnas por la mediana de la columna.\n"
     ]
    }
   ],
   "source": [
    "df = reemplazar_nan(df, lista_columnas_nan)"
   ]
  },
  {
   "cell_type": "markdown",
   "metadata": {},
   "source": [
    "##### 2.4.2.3-VALORES 0."
   ]
  },
  {
   "cell_type": "markdown",
   "metadata": {},
   "source": [
    "Se reemplazan los valores 0 o '0' por: la mediana, en el caso de columnas con valores numéricos; la moda, en el caso de columnas con valores no numéricos."
   ]
  },
  {
   "cell_type": "code",
   "execution_count": 55,
   "metadata": {},
   "outputs": [
    {
     "name": "stdout",
     "output_type": "stream",
     "text": [
      "Se han reemplazado valores 0 en 3 columnas por la mediana de la columna.\n"
     ]
    }
   ],
   "source": [
    "df = reemplazar_ceros(df, lista_columnas_ceros)"
   ]
  },
  {
   "cell_type": "markdown",
   "metadata": {},
   "source": [
    "#### 2.4.3-ELIMINAR FILAS DUPLICADAS."
   ]
  },
  {
   "cell_type": "code",
   "execution_count": 56,
   "metadata": {},
   "outputs": [
    {
     "name": "stdout",
     "output_type": "stream",
     "text": [
      "Número de filas antes de eliminar duplicados: 53940\n",
      "Se han encontrado 146 filas duplicadas.\n",
      "Se han eliminado 146 filas duplicadas.\n",
      "El DataFrame contiene ahora 53794 filas.\n"
     ]
    }
   ],
   "source": [
    "df = eliminar_filas_duplicadas(df)"
   ]
  },
  {
   "cell_type": "markdown",
   "metadata": {},
   "source": [
    "#### 2.4.4-CONVERSIÓN DE TIPOS DE DATOS."
   ]
  },
  {
   "cell_type": "markdown",
   "metadata": {},
   "source": [
    "El estado actual del Dataframe es el siguiente:"
   ]
  },
  {
   "cell_type": "code",
   "execution_count": 57,
   "metadata": {},
   "outputs": [
    {
     "name": "stdout",
     "output_type": "stream",
     "text": [
      "<class 'pandas.core.frame.DataFrame'>\n",
      "RangeIndex: 53794 entries, 0 to 53793\n",
      "Data columns (total 10 columns):\n",
      " #   Column   Non-Null Count  Dtype  \n",
      "---  ------   --------------  -----  \n",
      " 0   carat    53794 non-null  float64\n",
      " 1   cut      53794 non-null  object \n",
      " 2   color    53794 non-null  object \n",
      " 3   clarity  53794 non-null  object \n",
      " 4   depth    53794 non-null  float64\n",
      " 5   table    53794 non-null  float64\n",
      " 6   price    53794 non-null  object \n",
      " 7   x        53794 non-null  object \n",
      " 8   y        53794 non-null  float64\n",
      " 9   z        53794 non-null  float64\n",
      "dtypes: float64(5), object(5)\n",
      "memory usage: 4.1+ MB\n"
     ]
    }
   ],
   "source": [
    "df.info()"
   ]
  },
  {
   "cell_type": "markdown",
   "metadata": {},
   "source": [
    "Tenemos un DataFRame con 10 columnas, 53794 filas y ningún valor nulo. De las columnas, 5 de ellas contienen valores numéricos (tipo 'float64') y las otras 5 columnas contienen valores de tipo no numérico (texto, tipo 'object'). El tamaño que ocupa el DataFrame en memoria es de 4,1 MB."
   ]
  },
  {
   "cell_type": "markdown",
   "metadata": {},
   "source": [
    "##### 2.4.4.1-CONVERSIÓN DE TIPOS DE DATOS INCORRECTOS."
   ]
  },
  {
   "cell_type": "markdown",
   "metadata": {},
   "source": [
    "Como se ha observado en apartados anteriores, algunas columnas tienen un tipo de dato incorrecto para los valores que representan. En concreto, las columnas 'price' (precio de los diamantes) y 'x' (dimensión del eje x de la medida del diamante) tienen un tipo de dato no numérico ('object'), cuando lo que le debe corresponder es un tipo de dato numérico.\n",
    "<P>A continuación, se convierten los tipos de datos de las columnas 'price' y 'x' de tipo 'object' a tipo 'float64'."
   ]
  },
  {
   "cell_type": "code",
   "execution_count": 58,
   "metadata": {},
   "outputs": [],
   "source": [
    "df[['price', 'x']] = df[['price', 'x']].astype(float)"
   ]
  },
  {
   "cell_type": "markdown",
   "metadata": {},
   "source": [
    "Comprobamos que el cambio de tipo de dato se ha realizado correctamente."
   ]
  },
  {
   "cell_type": "code",
   "execution_count": 59,
   "metadata": {},
   "outputs": [
    {
     "name": "stdout",
     "output_type": "stream",
     "text": [
      "<class 'pandas.core.frame.DataFrame'>\n",
      "RangeIndex: 53794 entries, 0 to 53793\n",
      "Data columns (total 10 columns):\n",
      " #   Column   Non-Null Count  Dtype  \n",
      "---  ------   --------------  -----  \n",
      " 0   carat    53794 non-null  float64\n",
      " 1   cut      53794 non-null  object \n",
      " 2   color    53794 non-null  object \n",
      " 3   clarity  53794 non-null  object \n",
      " 4   depth    53794 non-null  float64\n",
      " 5   table    53794 non-null  float64\n",
      " 6   price    53794 non-null  float64\n",
      " 7   x        53794 non-null  float64\n",
      " 8   y        53794 non-null  float64\n",
      " 9   z        53794 non-null  float64\n",
      "dtypes: float64(7), object(3)\n",
      "memory usage: 4.1+ MB\n"
     ]
    }
   ],
   "source": [
    "df.info()"
   ]
  },
  {
   "cell_type": "markdown",
   "metadata": {},
   "source": [
    "##### 2.4.4.2-OPTIMIZACIÓN DE TIPOS DE DATOS NUMÉRICOS."
   ]
  },
  {
   "cell_type": "markdown",
   "metadata": {},
   "source": [
    "En las columnas del DataFrame que contienen tipos de datos numéricos, actualmente tienen un tipo de dato 'float64' (tipo de dato numérico por defecto en Pandas). El tipo de dato 'float64' utiliza 64 bits para representar número reales (positivos y negativos) en un rango numérico extremadamente amplio: desde 2.2250738585072014e-308 a 1.7976931348623157e+308. \n",
    "<p>La utilización de 64 bits para representar los valores posibles del tipo 'float64' requiere la utilización de una cantidad de memoria importante. Veamos los valores máximos y mínimos que adquieren los valores numéricos de las columnas de tipo 'float64' del DataFrame:"
   ]
  },
  {
   "cell_type": "code",
   "execution_count": 60,
   "metadata": {},
   "outputs": [
    {
     "data": {
      "text/html": [
       "<div>\n",
       "<style scoped>\n",
       "    .dataframe tbody tr th:only-of-type {\n",
       "        vertical-align: middle;\n",
       "    }\n",
       "\n",
       "    .dataframe tbody tr th {\n",
       "        vertical-align: top;\n",
       "    }\n",
       "\n",
       "    .dataframe thead th {\n",
       "        text-align: right;\n",
       "    }\n",
       "</style>\n",
       "<table border=\"1\" class=\"dataframe\">\n",
       "  <thead>\n",
       "    <tr style=\"text-align: right;\">\n",
       "      <th></th>\n",
       "      <th>carat</th>\n",
       "      <th>depth</th>\n",
       "      <th>table</th>\n",
       "      <th>price</th>\n",
       "      <th>x</th>\n",
       "      <th>y</th>\n",
       "      <th>z</th>\n",
       "    </tr>\n",
       "  </thead>\n",
       "  <tbody>\n",
       "    <tr>\n",
       "      <th>count</th>\n",
       "      <td>53794.000000</td>\n",
       "      <td>53794.000000</td>\n",
       "      <td>53794.000000</td>\n",
       "      <td>53794.000000</td>\n",
       "      <td>53794.000000</td>\n",
       "      <td>53794.000000</td>\n",
       "      <td>53794.000000</td>\n",
       "    </tr>\n",
       "    <tr>\n",
       "      <th>mean</th>\n",
       "      <td>0.797785</td>\n",
       "      <td>61.748080</td>\n",
       "      <td>57.458053</td>\n",
       "      <td>3932.623359</td>\n",
       "      <td>5.731693</td>\n",
       "      <td>5.735242</td>\n",
       "      <td>3.539948</td>\n",
       "    </tr>\n",
       "    <tr>\n",
       "      <th>std</th>\n",
       "      <td>0.473388</td>\n",
       "      <td>1.429909</td>\n",
       "      <td>2.233670</td>\n",
       "      <td>3987.736411</td>\n",
       "      <td>1.118933</td>\n",
       "      <td>1.139548</td>\n",
       "      <td>0.701887</td>\n",
       "    </tr>\n",
       "    <tr>\n",
       "      <th>min</th>\n",
       "      <td>0.200000</td>\n",
       "      <td>43.000000</td>\n",
       "      <td>43.000000</td>\n",
       "      <td>326.000000</td>\n",
       "      <td>3.730000</td>\n",
       "      <td>3.680000</td>\n",
       "      <td>1.070000</td>\n",
       "    </tr>\n",
       "    <tr>\n",
       "      <th>25%</th>\n",
       "      <td>0.400000</td>\n",
       "      <td>61.000000</td>\n",
       "      <td>56.000000</td>\n",
       "      <td>951.000000</td>\n",
       "      <td>4.710000</td>\n",
       "      <td>4.720000</td>\n",
       "      <td>2.910000</td>\n",
       "    </tr>\n",
       "    <tr>\n",
       "      <th>50%</th>\n",
       "      <td>0.700000</td>\n",
       "      <td>61.800000</td>\n",
       "      <td>57.000000</td>\n",
       "      <td>2401.000000</td>\n",
       "      <td>5.700000</td>\n",
       "      <td>5.710000</td>\n",
       "      <td>3.530000</td>\n",
       "    </tr>\n",
       "    <tr>\n",
       "      <th>75%</th>\n",
       "      <td>1.040000</td>\n",
       "      <td>62.500000</td>\n",
       "      <td>59.000000</td>\n",
       "      <td>5325.000000</td>\n",
       "      <td>6.540000</td>\n",
       "      <td>6.540000</td>\n",
       "      <td>4.030000</td>\n",
       "    </tr>\n",
       "    <tr>\n",
       "      <th>max</th>\n",
       "      <td>5.010000</td>\n",
       "      <td>79.000000</td>\n",
       "      <td>95.000000</td>\n",
       "      <td>18823.000000</td>\n",
       "      <td>10.740000</td>\n",
       "      <td>58.900000</td>\n",
       "      <td>31.800000</td>\n",
       "    </tr>\n",
       "  </tbody>\n",
       "</table>\n",
       "</div>"
      ],
      "text/plain": [
       "              carat         depth         table         price             x  \\\n",
       "count  53794.000000  53794.000000  53794.000000  53794.000000  53794.000000   \n",
       "mean       0.797785     61.748080     57.458053   3932.623359      5.731693   \n",
       "std        0.473388      1.429909      2.233670   3987.736411      1.118933   \n",
       "min        0.200000     43.000000     43.000000    326.000000      3.730000   \n",
       "25%        0.400000     61.000000     56.000000    951.000000      4.710000   \n",
       "50%        0.700000     61.800000     57.000000   2401.000000      5.700000   \n",
       "75%        1.040000     62.500000     59.000000   5325.000000      6.540000   \n",
       "max        5.010000     79.000000     95.000000  18823.000000     10.740000   \n",
       "\n",
       "                  y             z  \n",
       "count  53794.000000  53794.000000  \n",
       "mean       5.735242      3.539948  \n",
       "std        1.139548      0.701887  \n",
       "min        3.680000      1.070000  \n",
       "25%        4.720000      2.910000  \n",
       "50%        5.710000      3.530000  \n",
       "75%        6.540000      4.030000  \n",
       "max       58.900000     31.800000  "
      ]
     },
     "execution_count": 60,
     "metadata": {},
     "output_type": "execute_result"
    }
   ],
   "source": [
    "df.describe()"
   ]
  },
  {
   "cell_type": "markdown",
   "metadata": {},
   "source": [
    "Como se ve en el resultado de ejecutar el comando anterior, el valor mínimo de todas las columnas de tipo numérico del DataFrame es 0,2 (columna 'carat'). El valor máximo es 18.823 (columna 'price'). Estos valores están muy por debajo del rango de valores que abarca el tipo 'float64', por lo que podemos ajustar el tipo de dato 'float64' a otro tipo de dato con un rango de valores posibles menor y que requiera utilizar menos recursos (memoria, capacidad de procesado, etc.).\n",
    "<p>En este caso, y viendo los valores numéricos mínimos y máximos del DataFrame, podríamos cambiar al tipo de dato 'float16' (desde 6.104e-05 a 65500.0). Sin embargo, en este caso, vamos a cambiar las columnas numéricas al tipo 'float32' (desde 1.1754944e-38 a 3.4028235e+38), para asegurarnos de no tener ningún problema con valores posibles que pueda adquirir alguna nueva columna o cálculo."
   ]
  },
  {
   "cell_type": "code",
   "execution_count": 61,
   "metadata": {},
   "outputs": [
    {
     "name": "stdout",
     "output_type": "stream",
     "text": [
      "<class 'pandas.core.frame.DataFrame'>\n",
      "RangeIndex: 53794 entries, 0 to 53793\n",
      "Data columns (total 10 columns):\n",
      " #   Column   Non-Null Count  Dtype  \n",
      "---  ------   --------------  -----  \n",
      " 0   carat    53794 non-null  float32\n",
      " 1   cut      53794 non-null  object \n",
      " 2   color    53794 non-null  object \n",
      " 3   clarity  53794 non-null  object \n",
      " 4   depth    53794 non-null  float32\n",
      " 5   table    53794 non-null  float32\n",
      " 6   price    53794 non-null  float32\n",
      " 7   x        53794 non-null  float32\n",
      " 8   y        53794 non-null  float32\n",
      " 9   z        53794 non-null  float32\n",
      "dtypes: float32(7), object(3)\n",
      "memory usage: 2.7+ MB\n"
     ]
    }
   ],
   "source": [
    "df = cambiar_tipos_numericos(df, 'float64', 'float32')\n",
    "df.info()"
   ]
  },
  {
   "cell_type": "markdown",
   "metadata": {},
   "source": [
    "Como resultado de la ejecución del la función anterior, se comprueba que se han cambiado correctamente los tipos de datos numéricos a 'float32'. También se puede observar que el tamaño que ocupa el DataFrame en memoria ha pasado de 4,1 MB a 2,7 MB."
   ]
  },
  {
   "cell_type": "markdown",
   "metadata": {},
   "source": [
    "##### 2.4.4.3-CONVERSIÓN DE TIPOS DE DATOS DE TEXTO A TIPO CATEGÓRICO."
   ]
  },
  {
   "cell_type": "markdown",
   "metadata": {},
   "source": [
    "En el DataFrame, tenemos 3 columnas con valores de tipo 'object' (texto): 'cut', 'color' y 'clarity'. Estas columnas representan a variables cualitativas, de tipo ordinal y con un rango de valores discreto. Por todo ello, se puede cambiar el tipo de dato de estas columna de tipo 'object' a tipo 'category'. Esto va a permitir una mejor gestión estudio de estas variables."
   ]
  },
  {
   "cell_type": "code",
   "execution_count": 62,
   "metadata": {},
   "outputs": [
    {
     "data": {
      "text/html": [
       "<div>\n",
       "<style scoped>\n",
       "    .dataframe tbody tr th:only-of-type {\n",
       "        vertical-align: middle;\n",
       "    }\n",
       "\n",
       "    .dataframe tbody tr th {\n",
       "        vertical-align: top;\n",
       "    }\n",
       "\n",
       "    .dataframe thead th {\n",
       "        text-align: right;\n",
       "    }\n",
       "</style>\n",
       "<table border=\"1\" class=\"dataframe\">\n",
       "  <thead>\n",
       "    <tr style=\"text-align: right;\">\n",
       "      <th></th>\n",
       "      <th>carat</th>\n",
       "      <th>cut</th>\n",
       "      <th>color</th>\n",
       "      <th>clarity</th>\n",
       "      <th>depth</th>\n",
       "      <th>table</th>\n",
       "      <th>price</th>\n",
       "      <th>x</th>\n",
       "      <th>y</th>\n",
       "      <th>z</th>\n",
       "    </tr>\n",
       "  </thead>\n",
       "  <tbody>\n",
       "    <tr>\n",
       "      <th>0</th>\n",
       "      <td>0.23</td>\n",
       "      <td>Ideal</td>\n",
       "      <td>E</td>\n",
       "      <td>SI2</td>\n",
       "      <td>61.500000</td>\n",
       "      <td>55.0</td>\n",
       "      <td>326.0</td>\n",
       "      <td>3.95</td>\n",
       "      <td>3.98</td>\n",
       "      <td>2.43</td>\n",
       "    </tr>\n",
       "    <tr>\n",
       "      <th>1</th>\n",
       "      <td>0.21</td>\n",
       "      <td>Premium</td>\n",
       "      <td>E</td>\n",
       "      <td>SI1</td>\n",
       "      <td>59.799999</td>\n",
       "      <td>61.0</td>\n",
       "      <td>326.0</td>\n",
       "      <td>3.89</td>\n",
       "      <td>3.84</td>\n",
       "      <td>2.31</td>\n",
       "    </tr>\n",
       "    <tr>\n",
       "      <th>2</th>\n",
       "      <td>0.23</td>\n",
       "      <td>Good</td>\n",
       "      <td>E</td>\n",
       "      <td>VS1</td>\n",
       "      <td>56.900002</td>\n",
       "      <td>65.0</td>\n",
       "      <td>327.0</td>\n",
       "      <td>4.05</td>\n",
       "      <td>4.07</td>\n",
       "      <td>2.31</td>\n",
       "    </tr>\n",
       "    <tr>\n",
       "      <th>3</th>\n",
       "      <td>0.29</td>\n",
       "      <td>Premium</td>\n",
       "      <td>I</td>\n",
       "      <td>VS2</td>\n",
       "      <td>62.400002</td>\n",
       "      <td>58.0</td>\n",
       "      <td>334.0</td>\n",
       "      <td>4.20</td>\n",
       "      <td>4.23</td>\n",
       "      <td>2.63</td>\n",
       "    </tr>\n",
       "    <tr>\n",
       "      <th>4</th>\n",
       "      <td>0.31</td>\n",
       "      <td>Good</td>\n",
       "      <td>J</td>\n",
       "      <td>SI2</td>\n",
       "      <td>63.299999</td>\n",
       "      <td>58.0</td>\n",
       "      <td>335.0</td>\n",
       "      <td>4.34</td>\n",
       "      <td>4.35</td>\n",
       "      <td>2.75</td>\n",
       "    </tr>\n",
       "    <tr>\n",
       "      <th>5</th>\n",
       "      <td>0.24</td>\n",
       "      <td>Very Good</td>\n",
       "      <td>J</td>\n",
       "      <td>VVS2</td>\n",
       "      <td>62.799999</td>\n",
       "      <td>57.0</td>\n",
       "      <td>336.0</td>\n",
       "      <td>3.94</td>\n",
       "      <td>3.96</td>\n",
       "      <td>2.48</td>\n",
       "    </tr>\n",
       "    <tr>\n",
       "      <th>6</th>\n",
       "      <td>0.24</td>\n",
       "      <td>Very Good</td>\n",
       "      <td>I</td>\n",
       "      <td>VVS1</td>\n",
       "      <td>62.299999</td>\n",
       "      <td>57.0</td>\n",
       "      <td>336.0</td>\n",
       "      <td>3.95</td>\n",
       "      <td>3.98</td>\n",
       "      <td>2.47</td>\n",
       "    </tr>\n",
       "    <tr>\n",
       "      <th>7</th>\n",
       "      <td>0.26</td>\n",
       "      <td>Very Good</td>\n",
       "      <td>H</td>\n",
       "      <td>SI1</td>\n",
       "      <td>61.900002</td>\n",
       "      <td>55.0</td>\n",
       "      <td>337.0</td>\n",
       "      <td>4.07</td>\n",
       "      <td>4.11</td>\n",
       "      <td>2.53</td>\n",
       "    </tr>\n",
       "    <tr>\n",
       "      <th>8</th>\n",
       "      <td>0.22</td>\n",
       "      <td>Fair</td>\n",
       "      <td>E</td>\n",
       "      <td>VS2</td>\n",
       "      <td>65.099998</td>\n",
       "      <td>61.0</td>\n",
       "      <td>337.0</td>\n",
       "      <td>3.87</td>\n",
       "      <td>3.78</td>\n",
       "      <td>2.49</td>\n",
       "    </tr>\n",
       "    <tr>\n",
       "      <th>9</th>\n",
       "      <td>0.23</td>\n",
       "      <td>Very Good</td>\n",
       "      <td>H</td>\n",
       "      <td>VS1</td>\n",
       "      <td>59.400002</td>\n",
       "      <td>61.0</td>\n",
       "      <td>338.0</td>\n",
       "      <td>4.00</td>\n",
       "      <td>4.05</td>\n",
       "      <td>2.39</td>\n",
       "    </tr>\n",
       "  </tbody>\n",
       "</table>\n",
       "</div>"
      ],
      "text/plain": [
       "   carat        cut color clarity      depth  table  price     x     y     z\n",
       "0   0.23      Ideal     E     SI2  61.500000   55.0  326.0  3.95  3.98  2.43\n",
       "1   0.21    Premium     E     SI1  59.799999   61.0  326.0  3.89  3.84  2.31\n",
       "2   0.23       Good     E     VS1  56.900002   65.0  327.0  4.05  4.07  2.31\n",
       "3   0.29    Premium     I     VS2  62.400002   58.0  334.0  4.20  4.23  2.63\n",
       "4   0.31       Good     J     SI2  63.299999   58.0  335.0  4.34  4.35  2.75\n",
       "5   0.24  Very Good     J    VVS2  62.799999   57.0  336.0  3.94  3.96  2.48\n",
       "6   0.24  Very Good     I    VVS1  62.299999   57.0  336.0  3.95  3.98  2.47\n",
       "7   0.26  Very Good     H     SI1  61.900002   55.0  337.0  4.07  4.11  2.53\n",
       "8   0.22       Fair     E     VS2  65.099998   61.0  337.0  3.87  3.78  2.49\n",
       "9   0.23  Very Good     H     VS1  59.400002   61.0  338.0  4.00  4.05  2.39"
      ]
     },
     "execution_count": 62,
     "metadata": {},
     "output_type": "execute_result"
    }
   ],
   "source": [
    "df.head(10)"
   ]
  },
  {
   "cell_type": "code",
   "execution_count": 63,
   "metadata": {},
   "outputs": [
    {
     "data": {
      "text/plain": [
       "carat      float32\n",
       "cut         object\n",
       "color       object\n",
       "clarity     object\n",
       "depth      float32\n",
       "table      float32\n",
       "price      float32\n",
       "x          float32\n",
       "y          float32\n",
       "z          float32\n",
       "dtype: object"
      ]
     },
     "execution_count": 63,
     "metadata": {},
     "output_type": "execute_result"
    }
   ],
   "source": [
    "# Se comprueba el tipo de dato actual de las columnas del DataFrame.\n",
    "df.dtypes"
   ]
  },
  {
   "cell_type": "code",
   "execution_count": 64,
   "metadata": {},
   "outputs": [
    {
     "name": "stdout",
     "output_type": "stream",
     "text": [
      "<class 'pandas.core.frame.DataFrame'>\n",
      "RangeIndex: 53794 entries, 0 to 53793\n",
      "Data columns (total 10 columns):\n",
      " #   Column   Non-Null Count  Dtype  \n",
      "---  ------   --------------  -----  \n",
      " 0   carat    53794 non-null  float32\n",
      " 1   cut      53794 non-null  object \n",
      " 2   color    53794 non-null  object \n",
      " 3   clarity  53794 non-null  object \n",
      " 4   depth    53794 non-null  float32\n",
      " 5   table    53794 non-null  float32\n",
      " 6   price    53794 non-null  float32\n",
      " 7   x        53794 non-null  float32\n",
      " 8   y        53794 non-null  float32\n",
      " 9   z        53794 non-null  float32\n",
      "dtypes: float32(7), object(3)\n",
      "memory usage: 2.7+ MB\n"
     ]
    }
   ],
   "source": [
    "\"\"\" Nota: Dado que (opinión personal) lo idóneo es continuar el estudio convirtiendo las columnas de tipo 'object' a tipo 'category', en el enunciado del ejercicio se requiere realizar un encoding a las columnas categóricas utilizando el método map().\n",
    "Al aplicar el método map() sobre columnas de tipo 'category', he experimentado algunos problemas a la hora de la ordenación de las filas del DataFrame.\n",
    "Por tanto, se continua con el cambio de tipo a tipo 'category' pero, previamente, se realiza una copia del DataFrame, llamada df_map, de cara a aplicar el encoding con el método map() aplicado a columnas de tipo 'object'.\n",
    " \"\"\"\n",
    "df_map = df.copy()\n",
    "df_map.info()"
   ]
  },
  {
   "cell_type": "code",
   "execution_count": 65,
   "metadata": {},
   "outputs": [
    {
     "data": {
      "text/plain": [
       "carat       float32\n",
       "cut        category\n",
       "color      category\n",
       "clarity    category\n",
       "depth       float32\n",
       "table       float32\n",
       "price       float32\n",
       "x           float32\n",
       "y           float32\n",
       "z           float32\n",
       "dtype: object"
      ]
     },
     "execution_count": 65,
     "metadata": {},
     "output_type": "execute_result"
    }
   ],
   "source": [
    "#Se convierten las columnas de tipo 'object' del DataFrame (en este caso, son todas categóricas) a tipo 'category', utilizando el método astype(). Existen otras formas de transformar columnas categóricas, como por ejemplo con el método Categorical.\n",
    "columnas = df.select_dtypes(include='object').columns # Se seleccionan las columnas de tipo 'object'.\n",
    "df[columnas] = df[columnas].astype('category') # Se trsansforman las columnas de tipo 'object' a tipo 'category'.\n",
    "df.dtypes # Se comprueba que la conversión se ha realizado de forma correcta"
   ]
  },
  {
   "cell_type": "markdown",
   "metadata": {},
   "source": [
    "#### 2.4.5-VALORES EN RANGO."
   ]
  },
  {
   "cell_type": "markdown",
   "metadata": {},
   "source": [
    "A continuación, una vez que se han realizado todos los tratamientos pertinentes a los valores de las columnas del DataFrame, se comprueba que todas los valores see encuentren dentro de los rangos esperados."
   ]
  },
  {
   "cell_type": "markdown",
   "metadata": {},
   "source": [
    "* Columna 'carat'."
   ]
  },
  {
   "cell_type": "code",
   "execution_count": 66,
   "metadata": {},
   "outputs": [
    {
     "name": "stdout",
     "output_type": "stream",
     "text": [
      "Todos los valores de la columna 'carat' están dentro del rango.\n"
     ]
    }
   ],
   "source": [
    "_ = valores_numericos_fuera_rango(df, 'carat', 0)"
   ]
  },
  {
   "cell_type": "markdown",
   "metadata": {},
   "source": [
    "* Columna 'cut'."
   ]
  },
  {
   "cell_type": "code",
   "execution_count": 67,
   "metadata": {},
   "outputs": [
    {
     "name": "stdout",
     "output_type": "stream",
     "text": [
      "Todos los valores de la columna 'cut' están dentro del rango.\n"
     ]
    }
   ],
   "source": [
    "_ = valores_discretos_fuera_rango(df, 'cut', lista_valores_cut)"
   ]
  },
  {
   "cell_type": "markdown",
   "metadata": {},
   "source": [
    "* Columna 'color'."
   ]
  },
  {
   "cell_type": "code",
   "execution_count": 68,
   "metadata": {},
   "outputs": [
    {
     "name": "stdout",
     "output_type": "stream",
     "text": [
      "Todos los valores de la columna 'color' están dentro del rango.\n"
     ]
    }
   ],
   "source": [
    "_ = valores_discretos_fuera_rango(df, 'color', lista_valores_color)"
   ]
  },
  {
   "cell_type": "markdown",
   "metadata": {},
   "source": [
    "* Columna 'clarity'."
   ]
  },
  {
   "cell_type": "code",
   "execution_count": 69,
   "metadata": {},
   "outputs": [
    {
     "name": "stdout",
     "output_type": "stream",
     "text": [
      "Todos los valores de la columna 'clarity' están dentro del rango.\n"
     ]
    }
   ],
   "source": [
    "_ = valores_discretos_fuera_rango(df, 'clarity', lista_valores_clarity)"
   ]
  },
  {
   "cell_type": "markdown",
   "metadata": {},
   "source": [
    "* Columna 'table'."
   ]
  },
  {
   "cell_type": "code",
   "execution_count": 70,
   "metadata": {},
   "outputs": [
    {
     "name": "stdout",
     "output_type": "stream",
     "text": [
      "Todos los valores de la columna 'table' están dentro del rango.\n"
     ]
    }
   ],
   "source": [
    "_ = valores_porcentuales_fuera_rango(df, 'table')"
   ]
  },
  {
   "cell_type": "markdown",
   "metadata": {},
   "source": [
    "* Columna 'price'."
   ]
  },
  {
   "cell_type": "code",
   "execution_count": 71,
   "metadata": {},
   "outputs": [
    {
     "name": "stdout",
     "output_type": "stream",
     "text": [
      "Todos los valores de la columna 'price' están dentro del rango.\n"
     ]
    }
   ],
   "source": [
    "_ = valores_numericos_fuera_rango(df, 'price', 0)"
   ]
  },
  {
   "cell_type": "markdown",
   "metadata": {},
   "source": [
    "* Columna 'x'"
   ]
  },
  {
   "cell_type": "code",
   "execution_count": 72,
   "metadata": {},
   "outputs": [
    {
     "name": "stdout",
     "output_type": "stream",
     "text": [
      "Todos los valores de la columna 'x' están dentro del rango.\n"
     ]
    }
   ],
   "source": [
    "_ = valores_numericos_fuera_rango(df, 'x', 0)"
   ]
  },
  {
   "cell_type": "markdown",
   "metadata": {},
   "source": [
    "* Columna 'y'."
   ]
  },
  {
   "cell_type": "code",
   "execution_count": 73,
   "metadata": {},
   "outputs": [
    {
     "name": "stdout",
     "output_type": "stream",
     "text": [
      "Todos los valores de la columna 'y' están dentro del rango.\n"
     ]
    }
   ],
   "source": [
    "_ = valores_numericos_fuera_rango(df, 'y', 0)"
   ]
  },
  {
   "cell_type": "markdown",
   "metadata": {},
   "source": [
    "* Columna 'z'."
   ]
  },
  {
   "cell_type": "code",
   "execution_count": 74,
   "metadata": {},
   "outputs": [
    {
     "name": "stdout",
     "output_type": "stream",
     "text": [
      "Todos los valores de la columna 'z' están dentro del rango.\n"
     ]
    }
   ],
   "source": [
    "_ = valores_numericos_fuera_rango(df, 'z', 0)"
   ]
  },
  {
   "cell_type": "markdown",
   "metadata": {},
   "source": [
    "* Columna 'depth'."
   ]
  },
  {
   "cell_type": "code",
   "execution_count": 75,
   "metadata": {},
   "outputs": [
    {
     "name": "stdout",
     "output_type": "stream",
     "text": [
      "Todos los valores de la columna 'depth' están dentro del rango.\n"
     ]
    }
   ],
   "source": [
    "_ = valores_porcentuales_fuera_rango(df, 'depth')"
   ]
  },
  {
   "cell_type": "markdown",
   "metadata": {},
   "source": [
    "## 3-TRANSFORMACIONES DEL DATAFRAME."
   ]
  },
  {
   "cell_type": "markdown",
   "metadata": {},
   "source": [
    "En este punto, ya tenemos el DataFrame limpio y correctamente estructurado. Ahora, el estado actual del DataFrame supone un punto de partida para poder realizar las transformaciones que se precisen para completar el estudio y realizar cálculos o representar datos mediante gráficas."
   ]
  },
  {
   "cell_type": "markdown",
   "metadata": {},
   "source": [
    "### 3.1-ENCODING: VALORES DE TEXTO A NUMÉRICO."
   ]
  },
  {
   "cell_type": "markdown",
   "metadata": {},
   "source": [
    "#### 3.1.1-ENCODING ORDINAL DE LAS COLUMNAS CATEGÓRICAS."
   ]
  },
  {
   "cell_type": "markdown",
   "metadata": {},
   "source": [
    "Las columnas categóricas ('cut', 'color' y 'clarity') del DataFrame son además de tipo ordinal. Es decir, los valores posibles que pueden tomar estas variables tienen un rango de importancia.\n",
    "<p>A continuación, se van a codificar el grado de importancia de estos valores posibles."
   ]
  },
  {
   "cell_type": "markdown",
   "metadata": {},
   "source": [
    "* Columna 'cut'."
   ]
  },
  {
   "cell_type": "code",
   "execution_count": 76,
   "metadata": {},
   "outputs": [
    {
     "data": {
      "text/html": [
       "<div>\n",
       "<style scoped>\n",
       "    .dataframe tbody tr th:only-of-type {\n",
       "        vertical-align: middle;\n",
       "    }\n",
       "\n",
       "    .dataframe tbody tr th {\n",
       "        vertical-align: top;\n",
       "    }\n",
       "\n",
       "    .dataframe thead th {\n",
       "        text-align: right;\n",
       "    }\n",
       "</style>\n",
       "<table border=\"1\" class=\"dataframe\">\n",
       "  <thead>\n",
       "    <tr style=\"text-align: right;\">\n",
       "      <th></th>\n",
       "      <th>carat</th>\n",
       "      <th>cut</th>\n",
       "      <th>color</th>\n",
       "      <th>clarity</th>\n",
       "      <th>depth</th>\n",
       "      <th>table</th>\n",
       "      <th>price</th>\n",
       "      <th>x</th>\n",
       "      <th>y</th>\n",
       "      <th>z</th>\n",
       "    </tr>\n",
       "  </thead>\n",
       "  <tbody>\n",
       "    <tr>\n",
       "      <th>0</th>\n",
       "      <td>0.23</td>\n",
       "      <td>Ideal</td>\n",
       "      <td>E</td>\n",
       "      <td>SI2</td>\n",
       "      <td>61.500000</td>\n",
       "      <td>55.0</td>\n",
       "      <td>326.0</td>\n",
       "      <td>3.95</td>\n",
       "      <td>3.98</td>\n",
       "      <td>2.43</td>\n",
       "    </tr>\n",
       "    <tr>\n",
       "      <th>1</th>\n",
       "      <td>0.21</td>\n",
       "      <td>Premium</td>\n",
       "      <td>E</td>\n",
       "      <td>SI1</td>\n",
       "      <td>59.799999</td>\n",
       "      <td>61.0</td>\n",
       "      <td>326.0</td>\n",
       "      <td>3.89</td>\n",
       "      <td>3.84</td>\n",
       "      <td>2.31</td>\n",
       "    </tr>\n",
       "    <tr>\n",
       "      <th>2</th>\n",
       "      <td>0.23</td>\n",
       "      <td>Good</td>\n",
       "      <td>E</td>\n",
       "      <td>VS1</td>\n",
       "      <td>56.900002</td>\n",
       "      <td>65.0</td>\n",
       "      <td>327.0</td>\n",
       "      <td>4.05</td>\n",
       "      <td>4.07</td>\n",
       "      <td>2.31</td>\n",
       "    </tr>\n",
       "    <tr>\n",
       "      <th>3</th>\n",
       "      <td>0.29</td>\n",
       "      <td>Premium</td>\n",
       "      <td>I</td>\n",
       "      <td>VS2</td>\n",
       "      <td>62.400002</td>\n",
       "      <td>58.0</td>\n",
       "      <td>334.0</td>\n",
       "      <td>4.20</td>\n",
       "      <td>4.23</td>\n",
       "      <td>2.63</td>\n",
       "    </tr>\n",
       "    <tr>\n",
       "      <th>4</th>\n",
       "      <td>0.31</td>\n",
       "      <td>Good</td>\n",
       "      <td>J</td>\n",
       "      <td>SI2</td>\n",
       "      <td>63.299999</td>\n",
       "      <td>58.0</td>\n",
       "      <td>335.0</td>\n",
       "      <td>4.34</td>\n",
       "      <td>4.35</td>\n",
       "      <td>2.75</td>\n",
       "    </tr>\n",
       "  </tbody>\n",
       "</table>\n",
       "</div>"
      ],
      "text/plain": [
       "   carat      cut color clarity      depth  table  price     x     y     z\n",
       "0   0.23    Ideal     E     SI2  61.500000   55.0  326.0  3.95  3.98  2.43\n",
       "1   0.21  Premium     E     SI1  59.799999   61.0  326.0  3.89  3.84  2.31\n",
       "2   0.23     Good     E     VS1  56.900002   65.0  327.0  4.05  4.07  2.31\n",
       "3   0.29  Premium     I     VS2  62.400002   58.0  334.0  4.20  4.23  2.63\n",
       "4   0.31     Good     J     SI2  63.299999   58.0  335.0  4.34  4.35  2.75"
      ]
     },
     "execution_count": 76,
     "metadata": {},
     "output_type": "execute_result"
    }
   ],
   "source": [
    "encoding_ordinal_category (df, 'cut', lista_valores_cut)\n",
    "#encoding_ordinal_object(df, 'cut', lista_valores_cut)\n",
    "df.head()"
   ]
  },
  {
   "cell_type": "markdown",
   "metadata": {},
   "source": [
    "* Columna 'color'."
   ]
  },
  {
   "cell_type": "code",
   "execution_count": 77,
   "metadata": {},
   "outputs": [
    {
     "data": {
      "text/html": [
       "<div>\n",
       "<style scoped>\n",
       "    .dataframe tbody tr th:only-of-type {\n",
       "        vertical-align: middle;\n",
       "    }\n",
       "\n",
       "    .dataframe tbody tr th {\n",
       "        vertical-align: top;\n",
       "    }\n",
       "\n",
       "    .dataframe thead th {\n",
       "        text-align: right;\n",
       "    }\n",
       "</style>\n",
       "<table border=\"1\" class=\"dataframe\">\n",
       "  <thead>\n",
       "    <tr style=\"text-align: right;\">\n",
       "      <th></th>\n",
       "      <th>carat</th>\n",
       "      <th>cut</th>\n",
       "      <th>color</th>\n",
       "      <th>clarity</th>\n",
       "      <th>depth</th>\n",
       "      <th>table</th>\n",
       "      <th>price</th>\n",
       "      <th>x</th>\n",
       "      <th>y</th>\n",
       "      <th>z</th>\n",
       "    </tr>\n",
       "  </thead>\n",
       "  <tbody>\n",
       "    <tr>\n",
       "      <th>0</th>\n",
       "      <td>0.23</td>\n",
       "      <td>Ideal</td>\n",
       "      <td>E</td>\n",
       "      <td>SI2</td>\n",
       "      <td>61.500000</td>\n",
       "      <td>55.0</td>\n",
       "      <td>326.0</td>\n",
       "      <td>3.95</td>\n",
       "      <td>3.98</td>\n",
       "      <td>2.43</td>\n",
       "    </tr>\n",
       "    <tr>\n",
       "      <th>1</th>\n",
       "      <td>0.21</td>\n",
       "      <td>Premium</td>\n",
       "      <td>E</td>\n",
       "      <td>SI1</td>\n",
       "      <td>59.799999</td>\n",
       "      <td>61.0</td>\n",
       "      <td>326.0</td>\n",
       "      <td>3.89</td>\n",
       "      <td>3.84</td>\n",
       "      <td>2.31</td>\n",
       "    </tr>\n",
       "    <tr>\n",
       "      <th>2</th>\n",
       "      <td>0.23</td>\n",
       "      <td>Good</td>\n",
       "      <td>E</td>\n",
       "      <td>VS1</td>\n",
       "      <td>56.900002</td>\n",
       "      <td>65.0</td>\n",
       "      <td>327.0</td>\n",
       "      <td>4.05</td>\n",
       "      <td>4.07</td>\n",
       "      <td>2.31</td>\n",
       "    </tr>\n",
       "    <tr>\n",
       "      <th>3</th>\n",
       "      <td>0.29</td>\n",
       "      <td>Premium</td>\n",
       "      <td>I</td>\n",
       "      <td>VS2</td>\n",
       "      <td>62.400002</td>\n",
       "      <td>58.0</td>\n",
       "      <td>334.0</td>\n",
       "      <td>4.20</td>\n",
       "      <td>4.23</td>\n",
       "      <td>2.63</td>\n",
       "    </tr>\n",
       "    <tr>\n",
       "      <th>4</th>\n",
       "      <td>0.31</td>\n",
       "      <td>Good</td>\n",
       "      <td>J</td>\n",
       "      <td>SI2</td>\n",
       "      <td>63.299999</td>\n",
       "      <td>58.0</td>\n",
       "      <td>335.0</td>\n",
       "      <td>4.34</td>\n",
       "      <td>4.35</td>\n",
       "      <td>2.75</td>\n",
       "    </tr>\n",
       "  </tbody>\n",
       "</table>\n",
       "</div>"
      ],
      "text/plain": [
       "   carat      cut color clarity      depth  table  price     x     y     z\n",
       "0   0.23    Ideal     E     SI2  61.500000   55.0  326.0  3.95  3.98  2.43\n",
       "1   0.21  Premium     E     SI1  59.799999   61.0  326.0  3.89  3.84  2.31\n",
       "2   0.23     Good     E     VS1  56.900002   65.0  327.0  4.05  4.07  2.31\n",
       "3   0.29  Premium     I     VS2  62.400002   58.0  334.0  4.20  4.23  2.63\n",
       "4   0.31     Good     J     SI2  63.299999   58.0  335.0  4.34  4.35  2.75"
      ]
     },
     "execution_count": 77,
     "metadata": {},
     "output_type": "execute_result"
    }
   ],
   "source": [
    "encoding_ordinal_category (df, 'color', lista_valores_color)\n",
    "#encoding_ordinal_object(df, 'color', lista_valores_color)\n",
    "df.head()"
   ]
  },
  {
   "cell_type": "markdown",
   "metadata": {},
   "source": [
    "* Columna 'clarity'."
   ]
  },
  {
   "cell_type": "code",
   "execution_count": 78,
   "metadata": {},
   "outputs": [
    {
     "data": {
      "text/html": [
       "<div>\n",
       "<style scoped>\n",
       "    .dataframe tbody tr th:only-of-type {\n",
       "        vertical-align: middle;\n",
       "    }\n",
       "\n",
       "    .dataframe tbody tr th {\n",
       "        vertical-align: top;\n",
       "    }\n",
       "\n",
       "    .dataframe thead th {\n",
       "        text-align: right;\n",
       "    }\n",
       "</style>\n",
       "<table border=\"1\" class=\"dataframe\">\n",
       "  <thead>\n",
       "    <tr style=\"text-align: right;\">\n",
       "      <th></th>\n",
       "      <th>carat</th>\n",
       "      <th>cut</th>\n",
       "      <th>color</th>\n",
       "      <th>clarity</th>\n",
       "      <th>depth</th>\n",
       "      <th>table</th>\n",
       "      <th>price</th>\n",
       "      <th>x</th>\n",
       "      <th>y</th>\n",
       "      <th>z</th>\n",
       "    </tr>\n",
       "  </thead>\n",
       "  <tbody>\n",
       "    <tr>\n",
       "      <th>0</th>\n",
       "      <td>0.23</td>\n",
       "      <td>Ideal</td>\n",
       "      <td>E</td>\n",
       "      <td>SI2</td>\n",
       "      <td>61.500000</td>\n",
       "      <td>55.0</td>\n",
       "      <td>326.0</td>\n",
       "      <td>3.95</td>\n",
       "      <td>3.98</td>\n",
       "      <td>2.43</td>\n",
       "    </tr>\n",
       "    <tr>\n",
       "      <th>1</th>\n",
       "      <td>0.21</td>\n",
       "      <td>Premium</td>\n",
       "      <td>E</td>\n",
       "      <td>SI1</td>\n",
       "      <td>59.799999</td>\n",
       "      <td>61.0</td>\n",
       "      <td>326.0</td>\n",
       "      <td>3.89</td>\n",
       "      <td>3.84</td>\n",
       "      <td>2.31</td>\n",
       "    </tr>\n",
       "    <tr>\n",
       "      <th>2</th>\n",
       "      <td>0.23</td>\n",
       "      <td>Good</td>\n",
       "      <td>E</td>\n",
       "      <td>VS1</td>\n",
       "      <td>56.900002</td>\n",
       "      <td>65.0</td>\n",
       "      <td>327.0</td>\n",
       "      <td>4.05</td>\n",
       "      <td>4.07</td>\n",
       "      <td>2.31</td>\n",
       "    </tr>\n",
       "    <tr>\n",
       "      <th>3</th>\n",
       "      <td>0.29</td>\n",
       "      <td>Premium</td>\n",
       "      <td>I</td>\n",
       "      <td>VS2</td>\n",
       "      <td>62.400002</td>\n",
       "      <td>58.0</td>\n",
       "      <td>334.0</td>\n",
       "      <td>4.20</td>\n",
       "      <td>4.23</td>\n",
       "      <td>2.63</td>\n",
       "    </tr>\n",
       "    <tr>\n",
       "      <th>4</th>\n",
       "      <td>0.31</td>\n",
       "      <td>Good</td>\n",
       "      <td>J</td>\n",
       "      <td>SI2</td>\n",
       "      <td>63.299999</td>\n",
       "      <td>58.0</td>\n",
       "      <td>335.0</td>\n",
       "      <td>4.34</td>\n",
       "      <td>4.35</td>\n",
       "      <td>2.75</td>\n",
       "    </tr>\n",
       "  </tbody>\n",
       "</table>\n",
       "</div>"
      ],
      "text/plain": [
       "   carat      cut color clarity      depth  table  price     x     y     z\n",
       "0   0.23    Ideal     E     SI2  61.500000   55.0  326.0  3.95  3.98  2.43\n",
       "1   0.21  Premium     E     SI1  59.799999   61.0  326.0  3.89  3.84  2.31\n",
       "2   0.23     Good     E     VS1  56.900002   65.0  327.0  4.05  4.07  2.31\n",
       "3   0.29  Premium     I     VS2  62.400002   58.0  334.0  4.20  4.23  2.63\n",
       "4   0.31     Good     J     SI2  63.299999   58.0  335.0  4.34  4.35  2.75"
      ]
     },
     "execution_count": 78,
     "metadata": {},
     "output_type": "execute_result"
    }
   ],
   "source": [
    "encoding_ordinal_category (df, 'clarity', lista_valores_clarity)\n",
    "#encoding_ordinal_object(df, 'clarity', lista_valores_clarity)\n",
    "df.head()"
   ]
  },
  {
   "cell_type": "markdown",
   "metadata": {},
   "source": [
    "#### 3.1.2-ENCODING ORDINAL DE LAS COLUMNAS CATEGÓRICAS CON map()."
   ]
  },
  {
   "cell_type": "markdown",
   "metadata": {},
   "source": [
    "Para este caso de encoding, que se realizará aplicando el método map() sobre columnas categíricas de tipo 'object', se utilizará el DataFrame df_map, generado en un apartado anterior.\n"
   ]
  },
  {
   "cell_type": "markdown",
   "metadata": {},
   "source": [
    "* Columna 'cut'."
   ]
  },
  {
   "cell_type": "code",
   "execution_count": 79,
   "metadata": {},
   "outputs": [
    {
     "data": {
      "text/html": [
       "<div>\n",
       "<style scoped>\n",
       "    .dataframe tbody tr th:only-of-type {\n",
       "        vertical-align: middle;\n",
       "    }\n",
       "\n",
       "    .dataframe tbody tr th {\n",
       "        vertical-align: top;\n",
       "    }\n",
       "\n",
       "    .dataframe thead th {\n",
       "        text-align: right;\n",
       "    }\n",
       "</style>\n",
       "<table border=\"1\" class=\"dataframe\">\n",
       "  <thead>\n",
       "    <tr style=\"text-align: right;\">\n",
       "      <th></th>\n",
       "      <th>carat</th>\n",
       "      <th>cut</th>\n",
       "      <th>color</th>\n",
       "      <th>clarity</th>\n",
       "      <th>depth</th>\n",
       "      <th>table</th>\n",
       "      <th>price</th>\n",
       "      <th>x</th>\n",
       "      <th>y</th>\n",
       "      <th>z</th>\n",
       "      <th>cut_ordinal</th>\n",
       "    </tr>\n",
       "  </thead>\n",
       "  <tbody>\n",
       "    <tr>\n",
       "      <th>0</th>\n",
       "      <td>0.23</td>\n",
       "      <td>Ideal</td>\n",
       "      <td>E</td>\n",
       "      <td>SI2</td>\n",
       "      <td>61.500000</td>\n",
       "      <td>55.0</td>\n",
       "      <td>326.0</td>\n",
       "      <td>3.95</td>\n",
       "      <td>3.98</td>\n",
       "      <td>2.43</td>\n",
       "      <td>5</td>\n",
       "    </tr>\n",
       "    <tr>\n",
       "      <th>1</th>\n",
       "      <td>0.21</td>\n",
       "      <td>Premium</td>\n",
       "      <td>E</td>\n",
       "      <td>SI1</td>\n",
       "      <td>59.799999</td>\n",
       "      <td>61.0</td>\n",
       "      <td>326.0</td>\n",
       "      <td>3.89</td>\n",
       "      <td>3.84</td>\n",
       "      <td>2.31</td>\n",
       "      <td>4</td>\n",
       "    </tr>\n",
       "    <tr>\n",
       "      <th>2</th>\n",
       "      <td>0.23</td>\n",
       "      <td>Good</td>\n",
       "      <td>E</td>\n",
       "      <td>VS1</td>\n",
       "      <td>56.900002</td>\n",
       "      <td>65.0</td>\n",
       "      <td>327.0</td>\n",
       "      <td>4.05</td>\n",
       "      <td>4.07</td>\n",
       "      <td>2.31</td>\n",
       "      <td>2</td>\n",
       "    </tr>\n",
       "    <tr>\n",
       "      <th>3</th>\n",
       "      <td>0.29</td>\n",
       "      <td>Premium</td>\n",
       "      <td>I</td>\n",
       "      <td>VS2</td>\n",
       "      <td>62.400002</td>\n",
       "      <td>58.0</td>\n",
       "      <td>334.0</td>\n",
       "      <td>4.20</td>\n",
       "      <td>4.23</td>\n",
       "      <td>2.63</td>\n",
       "      <td>4</td>\n",
       "    </tr>\n",
       "    <tr>\n",
       "      <th>4</th>\n",
       "      <td>0.31</td>\n",
       "      <td>Good</td>\n",
       "      <td>J</td>\n",
       "      <td>SI2</td>\n",
       "      <td>63.299999</td>\n",
       "      <td>58.0</td>\n",
       "      <td>335.0</td>\n",
       "      <td>4.34</td>\n",
       "      <td>4.35</td>\n",
       "      <td>2.75</td>\n",
       "      <td>2</td>\n",
       "    </tr>\n",
       "  </tbody>\n",
       "</table>\n",
       "</div>"
      ],
      "text/plain": [
       "   carat      cut color clarity      depth  table  price     x     y     z  \\\n",
       "0   0.23    Ideal     E     SI2  61.500000   55.0  326.0  3.95  3.98  2.43   \n",
       "1   0.21  Premium     E     SI1  59.799999   61.0  326.0  3.89  3.84  2.31   \n",
       "2   0.23     Good     E     VS1  56.900002   65.0  327.0  4.05  4.07  2.31   \n",
       "3   0.29  Premium     I     VS2  62.400002   58.0  334.0  4.20  4.23  2.63   \n",
       "4   0.31     Good     J     SI2  63.299999   58.0  335.0  4.34  4.35  2.75   \n",
       "\n",
       "   cut_ordinal  \n",
       "0            5  \n",
       "1            4  \n",
       "2            2  \n",
       "3            4  \n",
       "4            2  "
      ]
     },
     "execution_count": 79,
     "metadata": {},
     "output_type": "execute_result"
    }
   ],
   "source": [
    "encoding_ordinal_object(df_map, 'cut', lista_valores_cut)\n",
    "df_map.head()"
   ]
  },
  {
   "cell_type": "markdown",
   "metadata": {},
   "source": [
    "* Columna 'color'."
   ]
  },
  {
   "cell_type": "code",
   "execution_count": 80,
   "metadata": {},
   "outputs": [
    {
     "data": {
      "text/html": [
       "<div>\n",
       "<style scoped>\n",
       "    .dataframe tbody tr th:only-of-type {\n",
       "        vertical-align: middle;\n",
       "    }\n",
       "\n",
       "    .dataframe tbody tr th {\n",
       "        vertical-align: top;\n",
       "    }\n",
       "\n",
       "    .dataframe thead th {\n",
       "        text-align: right;\n",
       "    }\n",
       "</style>\n",
       "<table border=\"1\" class=\"dataframe\">\n",
       "  <thead>\n",
       "    <tr style=\"text-align: right;\">\n",
       "      <th></th>\n",
       "      <th>carat</th>\n",
       "      <th>cut</th>\n",
       "      <th>color</th>\n",
       "      <th>clarity</th>\n",
       "      <th>depth</th>\n",
       "      <th>table</th>\n",
       "      <th>price</th>\n",
       "      <th>x</th>\n",
       "      <th>y</th>\n",
       "      <th>z</th>\n",
       "      <th>cut_ordinal</th>\n",
       "      <th>color_ordinal</th>\n",
       "    </tr>\n",
       "  </thead>\n",
       "  <tbody>\n",
       "    <tr>\n",
       "      <th>0</th>\n",
       "      <td>0.23</td>\n",
       "      <td>Ideal</td>\n",
       "      <td>E</td>\n",
       "      <td>SI2</td>\n",
       "      <td>61.500000</td>\n",
       "      <td>55.0</td>\n",
       "      <td>326.0</td>\n",
       "      <td>3.95</td>\n",
       "      <td>3.98</td>\n",
       "      <td>2.43</td>\n",
       "      <td>5</td>\n",
       "      <td>2</td>\n",
       "    </tr>\n",
       "    <tr>\n",
       "      <th>1</th>\n",
       "      <td>0.21</td>\n",
       "      <td>Premium</td>\n",
       "      <td>E</td>\n",
       "      <td>SI1</td>\n",
       "      <td>59.799999</td>\n",
       "      <td>61.0</td>\n",
       "      <td>326.0</td>\n",
       "      <td>3.89</td>\n",
       "      <td>3.84</td>\n",
       "      <td>2.31</td>\n",
       "      <td>4</td>\n",
       "      <td>2</td>\n",
       "    </tr>\n",
       "    <tr>\n",
       "      <th>2</th>\n",
       "      <td>0.23</td>\n",
       "      <td>Good</td>\n",
       "      <td>E</td>\n",
       "      <td>VS1</td>\n",
       "      <td>56.900002</td>\n",
       "      <td>65.0</td>\n",
       "      <td>327.0</td>\n",
       "      <td>4.05</td>\n",
       "      <td>4.07</td>\n",
       "      <td>2.31</td>\n",
       "      <td>2</td>\n",
       "      <td>2</td>\n",
       "    </tr>\n",
       "    <tr>\n",
       "      <th>3</th>\n",
       "      <td>0.29</td>\n",
       "      <td>Premium</td>\n",
       "      <td>I</td>\n",
       "      <td>VS2</td>\n",
       "      <td>62.400002</td>\n",
       "      <td>58.0</td>\n",
       "      <td>334.0</td>\n",
       "      <td>4.20</td>\n",
       "      <td>4.23</td>\n",
       "      <td>2.63</td>\n",
       "      <td>4</td>\n",
       "      <td>6</td>\n",
       "    </tr>\n",
       "    <tr>\n",
       "      <th>4</th>\n",
       "      <td>0.31</td>\n",
       "      <td>Good</td>\n",
       "      <td>J</td>\n",
       "      <td>SI2</td>\n",
       "      <td>63.299999</td>\n",
       "      <td>58.0</td>\n",
       "      <td>335.0</td>\n",
       "      <td>4.34</td>\n",
       "      <td>4.35</td>\n",
       "      <td>2.75</td>\n",
       "      <td>2</td>\n",
       "      <td>7</td>\n",
       "    </tr>\n",
       "  </tbody>\n",
       "</table>\n",
       "</div>"
      ],
      "text/plain": [
       "   carat      cut color clarity      depth  table  price     x     y     z  \\\n",
       "0   0.23    Ideal     E     SI2  61.500000   55.0  326.0  3.95  3.98  2.43   \n",
       "1   0.21  Premium     E     SI1  59.799999   61.0  326.0  3.89  3.84  2.31   \n",
       "2   0.23     Good     E     VS1  56.900002   65.0  327.0  4.05  4.07  2.31   \n",
       "3   0.29  Premium     I     VS2  62.400002   58.0  334.0  4.20  4.23  2.63   \n",
       "4   0.31     Good     J     SI2  63.299999   58.0  335.0  4.34  4.35  2.75   \n",
       "\n",
       "   cut_ordinal  color_ordinal  \n",
       "0            5              2  \n",
       "1            4              2  \n",
       "2            2              2  \n",
       "3            4              6  \n",
       "4            2              7  "
      ]
     },
     "execution_count": 80,
     "metadata": {},
     "output_type": "execute_result"
    }
   ],
   "source": [
    "encoding_ordinal_object(df_map, 'color', lista_valores_color)\n",
    "df_map.head()"
   ]
  },
  {
   "cell_type": "markdown",
   "metadata": {},
   "source": [
    "* Columna 'clarity'."
   ]
  },
  {
   "cell_type": "code",
   "execution_count": 81,
   "metadata": {},
   "outputs": [
    {
     "data": {
      "text/html": [
       "<div>\n",
       "<style scoped>\n",
       "    .dataframe tbody tr th:only-of-type {\n",
       "        vertical-align: middle;\n",
       "    }\n",
       "\n",
       "    .dataframe tbody tr th {\n",
       "        vertical-align: top;\n",
       "    }\n",
       "\n",
       "    .dataframe thead th {\n",
       "        text-align: right;\n",
       "    }\n",
       "</style>\n",
       "<table border=\"1\" class=\"dataframe\">\n",
       "  <thead>\n",
       "    <tr style=\"text-align: right;\">\n",
       "      <th></th>\n",
       "      <th>carat</th>\n",
       "      <th>cut</th>\n",
       "      <th>color</th>\n",
       "      <th>clarity</th>\n",
       "      <th>depth</th>\n",
       "      <th>table</th>\n",
       "      <th>price</th>\n",
       "      <th>x</th>\n",
       "      <th>y</th>\n",
       "      <th>z</th>\n",
       "      <th>cut_ordinal</th>\n",
       "      <th>color_ordinal</th>\n",
       "      <th>clarity_ordinal</th>\n",
       "    </tr>\n",
       "  </thead>\n",
       "  <tbody>\n",
       "    <tr>\n",
       "      <th>0</th>\n",
       "      <td>0.23</td>\n",
       "      <td>Ideal</td>\n",
       "      <td>E</td>\n",
       "      <td>SI2</td>\n",
       "      <td>61.500000</td>\n",
       "      <td>55.0</td>\n",
       "      <td>326.0</td>\n",
       "      <td>3.95</td>\n",
       "      <td>3.98</td>\n",
       "      <td>2.43</td>\n",
       "      <td>5</td>\n",
       "      <td>2</td>\n",
       "      <td>2</td>\n",
       "    </tr>\n",
       "    <tr>\n",
       "      <th>1</th>\n",
       "      <td>0.21</td>\n",
       "      <td>Premium</td>\n",
       "      <td>E</td>\n",
       "      <td>SI1</td>\n",
       "      <td>59.799999</td>\n",
       "      <td>61.0</td>\n",
       "      <td>326.0</td>\n",
       "      <td>3.89</td>\n",
       "      <td>3.84</td>\n",
       "      <td>2.31</td>\n",
       "      <td>4</td>\n",
       "      <td>2</td>\n",
       "      <td>3</td>\n",
       "    </tr>\n",
       "    <tr>\n",
       "      <th>2</th>\n",
       "      <td>0.23</td>\n",
       "      <td>Good</td>\n",
       "      <td>E</td>\n",
       "      <td>VS1</td>\n",
       "      <td>56.900002</td>\n",
       "      <td>65.0</td>\n",
       "      <td>327.0</td>\n",
       "      <td>4.05</td>\n",
       "      <td>4.07</td>\n",
       "      <td>2.31</td>\n",
       "      <td>2</td>\n",
       "      <td>2</td>\n",
       "      <td>5</td>\n",
       "    </tr>\n",
       "    <tr>\n",
       "      <th>3</th>\n",
       "      <td>0.29</td>\n",
       "      <td>Premium</td>\n",
       "      <td>I</td>\n",
       "      <td>VS2</td>\n",
       "      <td>62.400002</td>\n",
       "      <td>58.0</td>\n",
       "      <td>334.0</td>\n",
       "      <td>4.20</td>\n",
       "      <td>4.23</td>\n",
       "      <td>2.63</td>\n",
       "      <td>4</td>\n",
       "      <td>6</td>\n",
       "      <td>4</td>\n",
       "    </tr>\n",
       "    <tr>\n",
       "      <th>4</th>\n",
       "      <td>0.31</td>\n",
       "      <td>Good</td>\n",
       "      <td>J</td>\n",
       "      <td>SI2</td>\n",
       "      <td>63.299999</td>\n",
       "      <td>58.0</td>\n",
       "      <td>335.0</td>\n",
       "      <td>4.34</td>\n",
       "      <td>4.35</td>\n",
       "      <td>2.75</td>\n",
       "      <td>2</td>\n",
       "      <td>7</td>\n",
       "      <td>2</td>\n",
       "    </tr>\n",
       "  </tbody>\n",
       "</table>\n",
       "</div>"
      ],
      "text/plain": [
       "   carat      cut color clarity      depth  table  price     x     y     z  \\\n",
       "0   0.23    Ideal     E     SI2  61.500000   55.0  326.0  3.95  3.98  2.43   \n",
       "1   0.21  Premium     E     SI1  59.799999   61.0  326.0  3.89  3.84  2.31   \n",
       "2   0.23     Good     E     VS1  56.900002   65.0  327.0  4.05  4.07  2.31   \n",
       "3   0.29  Premium     I     VS2  62.400002   58.0  334.0  4.20  4.23  2.63   \n",
       "4   0.31     Good     J     SI2  63.299999   58.0  335.0  4.34  4.35  2.75   \n",
       "\n",
       "   cut_ordinal  color_ordinal  clarity_ordinal  \n",
       "0            5              2                2  \n",
       "1            4              2                3  \n",
       "2            2              2                5  \n",
       "3            4              6                4  \n",
       "4            2              7                2  "
      ]
     },
     "execution_count": 81,
     "metadata": {},
     "output_type": "execute_result"
    }
   ],
   "source": [
    "encoding_ordinal_object(df_map, 'clarity', lista_valores_clarity)\n",
    "df_map.head()"
   ]
  },
  {
   "cell_type": "markdown",
   "metadata": {},
   "source": [
    "#### 3.1.3-ONE-HOT ENCODING DE LAS COLUMNAS CATEGÓRICAS."
   ]
  },
  {
   "cell_type": "code",
   "execution_count": 82,
   "metadata": {},
   "outputs": [
    {
     "data": {
      "text/html": [
       "<div>\n",
       "<style scoped>\n",
       "    .dataframe tbody tr th:only-of-type {\n",
       "        vertical-align: middle;\n",
       "    }\n",
       "\n",
       "    .dataframe tbody tr th {\n",
       "        vertical-align: top;\n",
       "    }\n",
       "\n",
       "    .dataframe thead th {\n",
       "        text-align: right;\n",
       "    }\n",
       "</style>\n",
       "<table border=\"1\" class=\"dataframe\">\n",
       "  <thead>\n",
       "    <tr style=\"text-align: right;\">\n",
       "      <th></th>\n",
       "      <th>carat</th>\n",
       "      <th>depth</th>\n",
       "      <th>table</th>\n",
       "      <th>price</th>\n",
       "      <th>x</th>\n",
       "      <th>y</th>\n",
       "      <th>z</th>\n",
       "      <th>cut_Fair</th>\n",
       "      <th>cut_Good</th>\n",
       "      <th>cut_Very Good</th>\n",
       "      <th>...</th>\n",
       "      <th>color_Z</th>\n",
       "      <th>clarity_I1</th>\n",
       "      <th>clarity_SI2</th>\n",
       "      <th>clarity_SI1</th>\n",
       "      <th>clarity_VS2</th>\n",
       "      <th>clarity_VS1</th>\n",
       "      <th>clarity_VVS2</th>\n",
       "      <th>clarity_VVS1</th>\n",
       "      <th>clarity_IF</th>\n",
       "      <th>clarity_FL</th>\n",
       "    </tr>\n",
       "  </thead>\n",
       "  <tbody>\n",
       "    <tr>\n",
       "      <th>0</th>\n",
       "      <td>0.23</td>\n",
       "      <td>61.500000</td>\n",
       "      <td>55.0</td>\n",
       "      <td>326.0</td>\n",
       "      <td>3.95</td>\n",
       "      <td>3.98</td>\n",
       "      <td>2.43</td>\n",
       "      <td>False</td>\n",
       "      <td>False</td>\n",
       "      <td>False</td>\n",
       "      <td>...</td>\n",
       "      <td>False</td>\n",
       "      <td>False</td>\n",
       "      <td>True</td>\n",
       "      <td>False</td>\n",
       "      <td>False</td>\n",
       "      <td>False</td>\n",
       "      <td>False</td>\n",
       "      <td>False</td>\n",
       "      <td>False</td>\n",
       "      <td>False</td>\n",
       "    </tr>\n",
       "    <tr>\n",
       "      <th>1</th>\n",
       "      <td>0.21</td>\n",
       "      <td>59.799999</td>\n",
       "      <td>61.0</td>\n",
       "      <td>326.0</td>\n",
       "      <td>3.89</td>\n",
       "      <td>3.84</td>\n",
       "      <td>2.31</td>\n",
       "      <td>False</td>\n",
       "      <td>False</td>\n",
       "      <td>False</td>\n",
       "      <td>...</td>\n",
       "      <td>False</td>\n",
       "      <td>False</td>\n",
       "      <td>False</td>\n",
       "      <td>True</td>\n",
       "      <td>False</td>\n",
       "      <td>False</td>\n",
       "      <td>False</td>\n",
       "      <td>False</td>\n",
       "      <td>False</td>\n",
       "      <td>False</td>\n",
       "    </tr>\n",
       "    <tr>\n",
       "      <th>2</th>\n",
       "      <td>0.23</td>\n",
       "      <td>56.900002</td>\n",
       "      <td>65.0</td>\n",
       "      <td>327.0</td>\n",
       "      <td>4.05</td>\n",
       "      <td>4.07</td>\n",
       "      <td>2.31</td>\n",
       "      <td>False</td>\n",
       "      <td>True</td>\n",
       "      <td>False</td>\n",
       "      <td>...</td>\n",
       "      <td>False</td>\n",
       "      <td>False</td>\n",
       "      <td>False</td>\n",
       "      <td>False</td>\n",
       "      <td>False</td>\n",
       "      <td>True</td>\n",
       "      <td>False</td>\n",
       "      <td>False</td>\n",
       "      <td>False</td>\n",
       "      <td>False</td>\n",
       "    </tr>\n",
       "    <tr>\n",
       "      <th>3</th>\n",
       "      <td>0.29</td>\n",
       "      <td>62.400002</td>\n",
       "      <td>58.0</td>\n",
       "      <td>334.0</td>\n",
       "      <td>4.20</td>\n",
       "      <td>4.23</td>\n",
       "      <td>2.63</td>\n",
       "      <td>False</td>\n",
       "      <td>False</td>\n",
       "      <td>False</td>\n",
       "      <td>...</td>\n",
       "      <td>False</td>\n",
       "      <td>False</td>\n",
       "      <td>False</td>\n",
       "      <td>False</td>\n",
       "      <td>True</td>\n",
       "      <td>False</td>\n",
       "      <td>False</td>\n",
       "      <td>False</td>\n",
       "      <td>False</td>\n",
       "      <td>False</td>\n",
       "    </tr>\n",
       "    <tr>\n",
       "      <th>4</th>\n",
       "      <td>0.31</td>\n",
       "      <td>63.299999</td>\n",
       "      <td>58.0</td>\n",
       "      <td>335.0</td>\n",
       "      <td>4.34</td>\n",
       "      <td>4.35</td>\n",
       "      <td>2.75</td>\n",
       "      <td>False</td>\n",
       "      <td>True</td>\n",
       "      <td>False</td>\n",
       "      <td>...</td>\n",
       "      <td>False</td>\n",
       "      <td>False</td>\n",
       "      <td>True</td>\n",
       "      <td>False</td>\n",
       "      <td>False</td>\n",
       "      <td>False</td>\n",
       "      <td>False</td>\n",
       "      <td>False</td>\n",
       "      <td>False</td>\n",
       "      <td>False</td>\n",
       "    </tr>\n",
       "  </tbody>\n",
       "</table>\n",
       "<p>5 rows × 44 columns</p>\n",
       "</div>"
      ],
      "text/plain": [
       "   carat      depth  table  price     x     y     z  cut_Fair  cut_Good  \\\n",
       "0   0.23  61.500000   55.0  326.0  3.95  3.98  2.43     False     False   \n",
       "1   0.21  59.799999   61.0  326.0  3.89  3.84  2.31     False     False   \n",
       "2   0.23  56.900002   65.0  327.0  4.05  4.07  2.31     False      True   \n",
       "3   0.29  62.400002   58.0  334.0  4.20  4.23  2.63     False     False   \n",
       "4   0.31  63.299999   58.0  335.0  4.34  4.35  2.75     False      True   \n",
       "\n",
       "   cut_Very Good  ...  color_Z  clarity_I1  clarity_SI2  clarity_SI1  \\\n",
       "0          False  ...    False       False         True        False   \n",
       "1          False  ...    False       False        False         True   \n",
       "2          False  ...    False       False        False        False   \n",
       "3          False  ...    False       False        False        False   \n",
       "4          False  ...    False       False         True        False   \n",
       "\n",
       "   clarity_VS2  clarity_VS1  clarity_VVS2  clarity_VVS1  clarity_IF  \\\n",
       "0        False        False         False         False       False   \n",
       "1        False        False         False         False       False   \n",
       "2        False         True         False         False       False   \n",
       "3         True        False         False         False       False   \n",
       "4        False        False         False         False       False   \n",
       "\n",
       "   clarity_FL  \n",
       "0       False  \n",
       "1       False  \n",
       "2       False  \n",
       "3       False  \n",
       "4       False  \n",
       "\n",
       "[5 rows x 44 columns]"
      ]
     },
     "execution_count": 82,
     "metadata": {},
     "output_type": "execute_result"
    }
   ],
   "source": [
    "# Crear variables dummy en un nuevo DataFrame a partir del original.\n",
    "df_dummies = pd.get_dummies(df, columns=['cut', 'color', 'clarity'])\n",
    "\n",
    "df_dummies.head()"
   ]
  },
  {
   "cell_type": "markdown",
   "metadata": {},
   "source": [
    "### 3.2-NUEVA COLUMNA CALCULADA: 'price_iva'."
   ]
  },
  {
   "cell_type": "markdown",
   "metadata": {},
   "source": [
    "Se crea una nueva columna, en el DataFrame original y se coloca a continuación de la columna 'price', a partir de  la suma del IVA (21%) los valores de la columna 'price'.\n",
    "<p>Esta nueva columna, representa el precio del diamante al que se le ha añadido el valor del impuesto del IVA (21%). Los valores esperados de esta columna son números reales positivos, mayores que 0. La unidad de medida que representa, presumiblemente, es el euro (€)."
   ]
  },
  {
   "cell_type": "code",
   "execution_count": 83,
   "metadata": {},
   "outputs": [
    {
     "data": {
      "text/html": [
       "<div>\n",
       "<style scoped>\n",
       "    .dataframe tbody tr th:only-of-type {\n",
       "        vertical-align: middle;\n",
       "    }\n",
       "\n",
       "    .dataframe tbody tr th {\n",
       "        vertical-align: top;\n",
       "    }\n",
       "\n",
       "    .dataframe thead th {\n",
       "        text-align: right;\n",
       "    }\n",
       "</style>\n",
       "<table border=\"1\" class=\"dataframe\">\n",
       "  <thead>\n",
       "    <tr style=\"text-align: right;\">\n",
       "      <th></th>\n",
       "      <th>carat</th>\n",
       "      <th>cut</th>\n",
       "      <th>color</th>\n",
       "      <th>clarity</th>\n",
       "      <th>depth</th>\n",
       "      <th>table</th>\n",
       "      <th>price</th>\n",
       "      <th>price_iva</th>\n",
       "      <th>x</th>\n",
       "      <th>y</th>\n",
       "      <th>z</th>\n",
       "    </tr>\n",
       "  </thead>\n",
       "  <tbody>\n",
       "    <tr>\n",
       "      <th>0</th>\n",
       "      <td>0.23</td>\n",
       "      <td>Ideal</td>\n",
       "      <td>E</td>\n",
       "      <td>SI2</td>\n",
       "      <td>61.500000</td>\n",
       "      <td>55.0</td>\n",
       "      <td>326.0</td>\n",
       "      <td>394.460022</td>\n",
       "      <td>3.95</td>\n",
       "      <td>3.98</td>\n",
       "      <td>2.43</td>\n",
       "    </tr>\n",
       "    <tr>\n",
       "      <th>1</th>\n",
       "      <td>0.21</td>\n",
       "      <td>Premium</td>\n",
       "      <td>E</td>\n",
       "      <td>SI1</td>\n",
       "      <td>59.799999</td>\n",
       "      <td>61.0</td>\n",
       "      <td>326.0</td>\n",
       "      <td>394.460022</td>\n",
       "      <td>3.89</td>\n",
       "      <td>3.84</td>\n",
       "      <td>2.31</td>\n",
       "    </tr>\n",
       "    <tr>\n",
       "      <th>2</th>\n",
       "      <td>0.23</td>\n",
       "      <td>Good</td>\n",
       "      <td>E</td>\n",
       "      <td>VS1</td>\n",
       "      <td>56.900002</td>\n",
       "      <td>65.0</td>\n",
       "      <td>327.0</td>\n",
       "      <td>395.670013</td>\n",
       "      <td>4.05</td>\n",
       "      <td>4.07</td>\n",
       "      <td>2.31</td>\n",
       "    </tr>\n",
       "    <tr>\n",
       "      <th>3</th>\n",
       "      <td>0.29</td>\n",
       "      <td>Premium</td>\n",
       "      <td>I</td>\n",
       "      <td>VS2</td>\n",
       "      <td>62.400002</td>\n",
       "      <td>58.0</td>\n",
       "      <td>334.0</td>\n",
       "      <td>404.140015</td>\n",
       "      <td>4.20</td>\n",
       "      <td>4.23</td>\n",
       "      <td>2.63</td>\n",
       "    </tr>\n",
       "    <tr>\n",
       "      <th>4</th>\n",
       "      <td>0.31</td>\n",
       "      <td>Good</td>\n",
       "      <td>J</td>\n",
       "      <td>SI2</td>\n",
       "      <td>63.299999</td>\n",
       "      <td>58.0</td>\n",
       "      <td>335.0</td>\n",
       "      <td>405.350006</td>\n",
       "      <td>4.34</td>\n",
       "      <td>4.35</td>\n",
       "      <td>2.75</td>\n",
       "    </tr>\n",
       "  </tbody>\n",
       "</table>\n",
       "</div>"
      ],
      "text/plain": [
       "   carat      cut color clarity      depth  table  price   price_iva     x  \\\n",
       "0   0.23    Ideal     E     SI2  61.500000   55.0  326.0  394.460022  3.95   \n",
       "1   0.21  Premium     E     SI1  59.799999   61.0  326.0  394.460022  3.89   \n",
       "2   0.23     Good     E     VS1  56.900002   65.0  327.0  395.670013  4.05   \n",
       "3   0.29  Premium     I     VS2  62.400002   58.0  334.0  404.140015  4.20   \n",
       "4   0.31     Good     J     SI2  63.299999   58.0  335.0  405.350006  4.34   \n",
       "\n",
       "      y     z  \n",
       "0  3.98  2.43  \n",
       "1  3.84  2.31  \n",
       "2  4.07  2.31  \n",
       "3  4.23  2.63  \n",
       "4  4.35  2.75  "
      ]
     },
     "execution_count": 83,
     "metadata": {},
     "output_type": "execute_result"
    }
   ],
   "source": [
    "iva = 0.21\n",
    "calc_precio_iva = pd.Series(df['price'] * (1 + iva)) # Se calcula el precio con el IVA añadido y se genera una Serie de Pandas.\n",
    "posicion = df.columns.get_loc('price') + 1 # Se obtiene la posición en la que se va a insertar la nueva columna.\n",
    "df.insert(posicion, 'price_iva', calc_precio_iva, allow_duplicates=False) # Se inserta la nueva columna en el DataFrame original.\n",
    "df.head()"
   ]
  },
  {
   "cell_type": "markdown",
   "metadata": {},
   "source": [
    "### 3.3-NUEVA COLUMNA CALCULADA: 'volumen'."
   ]
  },
  {
   "cell_type": "markdown",
   "metadata": {},
   "source": [
    "Se crea una nueva columna, en el DataFrame original y se coloca a continuación de la columna 'z', a partir de  la multiplicación de los valores de las columnas 'x', 'y' y 'z'.\n",
    "<p>Esta nueva columna, representa el volúmen aproximado del diamante. Los valores esperados de esta columna son números reales positivos, mayores que 0. La unidad de medida que representa, presumiblemente, son los mm3."
   ]
  },
  {
   "cell_type": "code",
   "execution_count": 84,
   "metadata": {},
   "outputs": [
    {
     "data": {
      "text/html": [
       "<div>\n",
       "<style scoped>\n",
       "    .dataframe tbody tr th:only-of-type {\n",
       "        vertical-align: middle;\n",
       "    }\n",
       "\n",
       "    .dataframe tbody tr th {\n",
       "        vertical-align: top;\n",
       "    }\n",
       "\n",
       "    .dataframe thead th {\n",
       "        text-align: right;\n",
       "    }\n",
       "</style>\n",
       "<table border=\"1\" class=\"dataframe\">\n",
       "  <thead>\n",
       "    <tr style=\"text-align: right;\">\n",
       "      <th></th>\n",
       "      <th>carat</th>\n",
       "      <th>cut</th>\n",
       "      <th>color</th>\n",
       "      <th>clarity</th>\n",
       "      <th>depth</th>\n",
       "      <th>table</th>\n",
       "      <th>price</th>\n",
       "      <th>price_iva</th>\n",
       "      <th>x</th>\n",
       "      <th>y</th>\n",
       "      <th>z</th>\n",
       "      <th>volumen</th>\n",
       "    </tr>\n",
       "  </thead>\n",
       "  <tbody>\n",
       "    <tr>\n",
       "      <th>0</th>\n",
       "      <td>0.23</td>\n",
       "      <td>Ideal</td>\n",
       "      <td>E</td>\n",
       "      <td>SI2</td>\n",
       "      <td>61.500000</td>\n",
       "      <td>55.0</td>\n",
       "      <td>326.0</td>\n",
       "      <td>394.460022</td>\n",
       "      <td>3.95</td>\n",
       "      <td>3.98</td>\n",
       "      <td>2.43</td>\n",
       "      <td>38.202034</td>\n",
       "    </tr>\n",
       "    <tr>\n",
       "      <th>1</th>\n",
       "      <td>0.21</td>\n",
       "      <td>Premium</td>\n",
       "      <td>E</td>\n",
       "      <td>SI1</td>\n",
       "      <td>59.799999</td>\n",
       "      <td>61.0</td>\n",
       "      <td>326.0</td>\n",
       "      <td>394.460022</td>\n",
       "      <td>3.89</td>\n",
       "      <td>3.84</td>\n",
       "      <td>2.31</td>\n",
       "      <td>34.505856</td>\n",
       "    </tr>\n",
       "    <tr>\n",
       "      <th>2</th>\n",
       "      <td>0.23</td>\n",
       "      <td>Good</td>\n",
       "      <td>E</td>\n",
       "      <td>VS1</td>\n",
       "      <td>56.900002</td>\n",
       "      <td>65.0</td>\n",
       "      <td>327.0</td>\n",
       "      <td>395.670013</td>\n",
       "      <td>4.05</td>\n",
       "      <td>4.07</td>\n",
       "      <td>2.31</td>\n",
       "      <td>38.076889</td>\n",
       "    </tr>\n",
       "    <tr>\n",
       "      <th>3</th>\n",
       "      <td>0.29</td>\n",
       "      <td>Premium</td>\n",
       "      <td>I</td>\n",
       "      <td>VS2</td>\n",
       "      <td>62.400002</td>\n",
       "      <td>58.0</td>\n",
       "      <td>334.0</td>\n",
       "      <td>404.140015</td>\n",
       "      <td>4.20</td>\n",
       "      <td>4.23</td>\n",
       "      <td>2.63</td>\n",
       "      <td>46.724579</td>\n",
       "    </tr>\n",
       "    <tr>\n",
       "      <th>4</th>\n",
       "      <td>0.31</td>\n",
       "      <td>Good</td>\n",
       "      <td>J</td>\n",
       "      <td>SI2</td>\n",
       "      <td>63.299999</td>\n",
       "      <td>58.0</td>\n",
       "      <td>335.0</td>\n",
       "      <td>405.350006</td>\n",
       "      <td>4.34</td>\n",
       "      <td>4.35</td>\n",
       "      <td>2.75</td>\n",
       "      <td>51.917248</td>\n",
       "    </tr>\n",
       "  </tbody>\n",
       "</table>\n",
       "</div>"
      ],
      "text/plain": [
       "   carat      cut color clarity      depth  table  price   price_iva     x  \\\n",
       "0   0.23    Ideal     E     SI2  61.500000   55.0  326.0  394.460022  3.95   \n",
       "1   0.21  Premium     E     SI1  59.799999   61.0  326.0  394.460022  3.89   \n",
       "2   0.23     Good     E     VS1  56.900002   65.0  327.0  395.670013  4.05   \n",
       "3   0.29  Premium     I     VS2  62.400002   58.0  334.0  404.140015  4.20   \n",
       "4   0.31     Good     J     SI2  63.299999   58.0  335.0  405.350006  4.34   \n",
       "\n",
       "      y     z    volumen  \n",
       "0  3.98  2.43  38.202034  \n",
       "1  3.84  2.31  34.505856  \n",
       "2  4.07  2.31  38.076889  \n",
       "3  4.23  2.63  46.724579  \n",
       "4  4.35  2.75  51.917248  "
      ]
     },
     "execution_count": 84,
     "metadata": {},
     "output_type": "execute_result"
    }
   ],
   "source": [
    "calc_volumen = pd.Series(df['x'] * df['y'] * df['z']) # Se calcula el volumen y se genera una Serie de Pandas.\n",
    "posicion = df.columns.get_loc('z') + 1 # Se obtiene la posición en la que se va a insertar la nueva columna.\n",
    "df.insert(posicion, 'volumen', calc_volumen, allow_duplicates=False) # Se inserta la nueva columna en el DataFrame original.\n",
    "df.head()\n"
   ]
  },
  {
   "cell_type": "markdown",
   "metadata": {},
   "source": [
    "### 3.4-ORDENACIÓN DE TABLA EN FUNCIÓN DE 2 COLUMNAS."
   ]
  },
  {
   "cell_type": "markdown",
   "metadata": {},
   "source": [
    "A partir del DataFrame original (df), se crea un nuevo DataFrame (df_ordenado) en el que se ordenan las filas en base a dos criterios: 1º en función de los valores de la columna 'cut'; 2º en función de los valores de la columna 'price'."
   ]
  },
  {
   "cell_type": "code",
   "execution_count": 85,
   "metadata": {},
   "outputs": [
    {
     "data": {
      "text/html": [
       "<div>\n",
       "<style scoped>\n",
       "    .dataframe tbody tr th:only-of-type {\n",
       "        vertical-align: middle;\n",
       "    }\n",
       "\n",
       "    .dataframe tbody tr th {\n",
       "        vertical-align: top;\n",
       "    }\n",
       "\n",
       "    .dataframe thead th {\n",
       "        text-align: right;\n",
       "    }\n",
       "</style>\n",
       "<table border=\"1\" class=\"dataframe\">\n",
       "  <thead>\n",
       "    <tr style=\"text-align: right;\">\n",
       "      <th></th>\n",
       "      <th>index</th>\n",
       "      <th>carat</th>\n",
       "      <th>cut</th>\n",
       "      <th>color</th>\n",
       "      <th>clarity</th>\n",
       "      <th>depth</th>\n",
       "      <th>table</th>\n",
       "      <th>price</th>\n",
       "      <th>price_iva</th>\n",
       "      <th>x</th>\n",
       "      <th>y</th>\n",
       "      <th>z</th>\n",
       "      <th>volumen</th>\n",
       "    </tr>\n",
       "  </thead>\n",
       "  <tbody>\n",
       "    <tr>\n",
       "      <th>0</th>\n",
       "      <td>8</td>\n",
       "      <td>0.22</td>\n",
       "      <td>Fair</td>\n",
       "      <td>E</td>\n",
       "      <td>VS2</td>\n",
       "      <td>65.099998</td>\n",
       "      <td>61.0</td>\n",
       "      <td>337.0</td>\n",
       "      <td>407.770020</td>\n",
       "      <td>3.87</td>\n",
       "      <td>3.78</td>\n",
       "      <td>2.49</td>\n",
       "      <td>36.425213</td>\n",
       "    </tr>\n",
       "    <tr>\n",
       "      <th>1</th>\n",
       "      <td>28200</td>\n",
       "      <td>0.25</td>\n",
       "      <td>Fair</td>\n",
       "      <td>E</td>\n",
       "      <td>VS1</td>\n",
       "      <td>55.200001</td>\n",
       "      <td>64.0</td>\n",
       "      <td>361.0</td>\n",
       "      <td>436.810028</td>\n",
       "      <td>4.21</td>\n",
       "      <td>4.23</td>\n",
       "      <td>2.33</td>\n",
       "      <td>41.493340</td>\n",
       "    </tr>\n",
       "    <tr>\n",
       "      <th>2</th>\n",
       "      <td>31525</td>\n",
       "      <td>0.23</td>\n",
       "      <td>Fair</td>\n",
       "      <td>G</td>\n",
       "      <td>VVS2</td>\n",
       "      <td>61.400002</td>\n",
       "      <td>66.0</td>\n",
       "      <td>369.0</td>\n",
       "      <td>446.490021</td>\n",
       "      <td>3.87</td>\n",
       "      <td>3.91</td>\n",
       "      <td>2.39</td>\n",
       "      <td>36.164764</td>\n",
       "    </tr>\n",
       "    <tr>\n",
       "      <th>3</th>\n",
       "      <td>31529</td>\n",
       "      <td>0.27</td>\n",
       "      <td>Fair</td>\n",
       "      <td>E</td>\n",
       "      <td>VS1</td>\n",
       "      <td>66.400002</td>\n",
       "      <td>58.0</td>\n",
       "      <td>371.0</td>\n",
       "      <td>448.910004</td>\n",
       "      <td>3.99</td>\n",
       "      <td>4.02</td>\n",
       "      <td>2.66</td>\n",
       "      <td>42.665871</td>\n",
       "    </tr>\n",
       "    <tr>\n",
       "      <th>4</th>\n",
       "      <td>10008</td>\n",
       "      <td>0.30</td>\n",
       "      <td>Fair</td>\n",
       "      <td>J</td>\n",
       "      <td>VS2</td>\n",
       "      <td>64.800003</td>\n",
       "      <td>58.0</td>\n",
       "      <td>416.0</td>\n",
       "      <td>503.360016</td>\n",
       "      <td>4.24</td>\n",
       "      <td>4.16</td>\n",
       "      <td>2.72</td>\n",
       "      <td>47.976444</td>\n",
       "    </tr>\n",
       "    <tr>\n",
       "      <th>...</th>\n",
       "      <td>...</td>\n",
       "      <td>...</td>\n",
       "      <td>...</td>\n",
       "      <td>...</td>\n",
       "      <td>...</td>\n",
       "      <td>...</td>\n",
       "      <td>...</td>\n",
       "      <td>...</td>\n",
       "      <td>...</td>\n",
       "      <td>...</td>\n",
       "      <td>...</td>\n",
       "      <td>...</td>\n",
       "      <td>...</td>\n",
       "    </tr>\n",
       "    <tr>\n",
       "      <th>53789</th>\n",
       "      <td>27668</td>\n",
       "      <td>1.60</td>\n",
       "      <td>Ideal</td>\n",
       "      <td>F</td>\n",
       "      <td>VS1</td>\n",
       "      <td>62.000000</td>\n",
       "      <td>56.0</td>\n",
       "      <td>18780.0</td>\n",
       "      <td>22723.800781</td>\n",
       "      <td>7.47</td>\n",
       "      <td>7.52</td>\n",
       "      <td>4.65</td>\n",
       "      <td>261.210938</td>\n",
       "    </tr>\n",
       "    <tr>\n",
       "      <th>53790</th>\n",
       "      <td>27671</td>\n",
       "      <td>2.05</td>\n",
       "      <td>Ideal</td>\n",
       "      <td>G</td>\n",
       "      <td>SI1</td>\n",
       "      <td>61.900002</td>\n",
       "      <td>57.0</td>\n",
       "      <td>18787.0</td>\n",
       "      <td>22732.271484</td>\n",
       "      <td>8.10</td>\n",
       "      <td>8.16</td>\n",
       "      <td>5.03</td>\n",
       "      <td>332.462891</td>\n",
       "    </tr>\n",
       "    <tr>\n",
       "      <th>53791</th>\n",
       "      <td>27674</td>\n",
       "      <td>2.15</td>\n",
       "      <td>Ideal</td>\n",
       "      <td>G</td>\n",
       "      <td>SI2</td>\n",
       "      <td>62.599998</td>\n",
       "      <td>54.0</td>\n",
       "      <td>18791.0</td>\n",
       "      <td>22737.111328</td>\n",
       "      <td>8.29</td>\n",
       "      <td>8.35</td>\n",
       "      <td>5.21</td>\n",
       "      <td>360.644043</td>\n",
       "    </tr>\n",
       "    <tr>\n",
       "      <th>53792</th>\n",
       "      <td>27679</td>\n",
       "      <td>2.07</td>\n",
       "      <td>Ideal</td>\n",
       "      <td>G</td>\n",
       "      <td>SI2</td>\n",
       "      <td>62.500000</td>\n",
       "      <td>55.0</td>\n",
       "      <td>18804.0</td>\n",
       "      <td>22752.839844</td>\n",
       "      <td>8.20</td>\n",
       "      <td>8.13</td>\n",
       "      <td>5.11</td>\n",
       "      <td>340.663269</td>\n",
       "    </tr>\n",
       "    <tr>\n",
       "      <th>53793</th>\n",
       "      <td>27680</td>\n",
       "      <td>1.51</td>\n",
       "      <td>Ideal</td>\n",
       "      <td>G</td>\n",
       "      <td>IF</td>\n",
       "      <td>61.700001</td>\n",
       "      <td>55.0</td>\n",
       "      <td>18806.0</td>\n",
       "      <td>22755.259766</td>\n",
       "      <td>7.37</td>\n",
       "      <td>7.41</td>\n",
       "      <td>4.56</td>\n",
       "      <td>249.029343</td>\n",
       "    </tr>\n",
       "  </tbody>\n",
       "</table>\n",
       "<p>53794 rows × 13 columns</p>\n",
       "</div>"
      ],
      "text/plain": [
       "       index  carat    cut color clarity      depth  table    price  \\\n",
       "0          8   0.22   Fair     E     VS2  65.099998   61.0    337.0   \n",
       "1      28200   0.25   Fair     E     VS1  55.200001   64.0    361.0   \n",
       "2      31525   0.23   Fair     G    VVS2  61.400002   66.0    369.0   \n",
       "3      31529   0.27   Fair     E     VS1  66.400002   58.0    371.0   \n",
       "4      10008   0.30   Fair     J     VS2  64.800003   58.0    416.0   \n",
       "...      ...    ...    ...   ...     ...        ...    ...      ...   \n",
       "53789  27668   1.60  Ideal     F     VS1  62.000000   56.0  18780.0   \n",
       "53790  27671   2.05  Ideal     G     SI1  61.900002   57.0  18787.0   \n",
       "53791  27674   2.15  Ideal     G     SI2  62.599998   54.0  18791.0   \n",
       "53792  27679   2.07  Ideal     G     SI2  62.500000   55.0  18804.0   \n",
       "53793  27680   1.51  Ideal     G      IF  61.700001   55.0  18806.0   \n",
       "\n",
       "          price_iva     x     y     z     volumen  \n",
       "0        407.770020  3.87  3.78  2.49   36.425213  \n",
       "1        436.810028  4.21  4.23  2.33   41.493340  \n",
       "2        446.490021  3.87  3.91  2.39   36.164764  \n",
       "3        448.910004  3.99  4.02  2.66   42.665871  \n",
       "4        503.360016  4.24  4.16  2.72   47.976444  \n",
       "...             ...   ...   ...   ...         ...  \n",
       "53789  22723.800781  7.47  7.52  4.65  261.210938  \n",
       "53790  22732.271484  8.10  8.16  5.03  332.462891  \n",
       "53791  22737.111328  8.29  8.35  5.21  360.644043  \n",
       "53792  22752.839844  8.20  8.13  5.11  340.663269  \n",
       "53793  22755.259766  7.37  7.41  4.56  249.029343  \n",
       "\n",
       "[53794 rows x 13 columns]"
      ]
     },
     "execution_count": 85,
     "metadata": {},
     "output_type": "execute_result"
    }
   ],
   "source": [
    "df_ordenado = df.sort_values(by=['cut', 'price']).reset_index() # Se ordenan las filas, según los criterios indicados, y se resetea el índice del DataFrame.\n",
    "df_ordenado"
   ]
  },
  {
   "cell_type": "markdown",
   "metadata": {},
   "source": [
    "### 3.5-AGRUPACIÓN DE FILAS CON NUEVAS COLUMNAS CALCULADAS."
   ]
  },
  {
   "cell_type": "markdown",
   "metadata": {},
   "source": [
    "Se agrupan las filas por las tres columnas de tipo categórico ('cut', 'color' y 'clarity') y se calculan los siguientes valores:\n",
    "* Columna 'price': media de los precios de la columna.\n",
    "* Columna 'carat': valor mínimo de los valores de la columna.\n",
    "* Columna 'depth': valor máximo de los valores de la columna."
   ]
  },
  {
   "cell_type": "code",
   "execution_count": 86,
   "metadata": {},
   "outputs": [
    {
     "data": {
      "text/html": [
       "<div>\n",
       "<style scoped>\n",
       "    .dataframe tbody tr th:only-of-type {\n",
       "        vertical-align: middle;\n",
       "    }\n",
       "\n",
       "    .dataframe tbody tr th {\n",
       "        vertical-align: top;\n",
       "    }\n",
       "\n",
       "    .dataframe thead th {\n",
       "        text-align: right;\n",
       "    }\n",
       "</style>\n",
       "<table border=\"1\" class=\"dataframe\">\n",
       "  <thead>\n",
       "    <tr style=\"text-align: right;\">\n",
       "      <th></th>\n",
       "      <th>cut</th>\n",
       "      <th>color</th>\n",
       "      <th>clarity</th>\n",
       "      <th>price_median</th>\n",
       "      <th>carat_max</th>\n",
       "      <th>depth_min</th>\n",
       "    </tr>\n",
       "  </thead>\n",
       "  <tbody>\n",
       "    <tr>\n",
       "      <th>0</th>\n",
       "      <td>Fair</td>\n",
       "      <td>D</td>\n",
       "      <td>I1</td>\n",
       "      <td>7383.000000</td>\n",
       "      <td>3.40</td>\n",
       "      <td>64.699997</td>\n",
       "    </tr>\n",
       "    <tr>\n",
       "      <th>1</th>\n",
       "      <td>Fair</td>\n",
       "      <td>D</td>\n",
       "      <td>SI2</td>\n",
       "      <td>4355.143066</td>\n",
       "      <td>2.07</td>\n",
       "      <td>55.500000</td>\n",
       "    </tr>\n",
       "    <tr>\n",
       "      <th>2</th>\n",
       "      <td>Fair</td>\n",
       "      <td>D</td>\n",
       "      <td>SI1</td>\n",
       "      <td>4273.344727</td>\n",
       "      <td>2.02</td>\n",
       "      <td>52.200001</td>\n",
       "    </tr>\n",
       "    <tr>\n",
       "      <th>3</th>\n",
       "      <td>Fair</td>\n",
       "      <td>D</td>\n",
       "      <td>VS2</td>\n",
       "      <td>4512.879883</td>\n",
       "      <td>1.51</td>\n",
       "      <td>55.599998</td>\n",
       "    </tr>\n",
       "    <tr>\n",
       "      <th>4</th>\n",
       "      <td>Fair</td>\n",
       "      <td>D</td>\n",
       "      <td>VS1</td>\n",
       "      <td>2921.199951</td>\n",
       "      <td>1.00</td>\n",
       "      <td>55.900002</td>\n",
       "    </tr>\n",
       "    <tr>\n",
       "      <th>...</th>\n",
       "      <td>...</td>\n",
       "      <td>...</td>\n",
       "      <td>...</td>\n",
       "      <td>...</td>\n",
       "      <td>...</td>\n",
       "      <td>...</td>\n",
       "    </tr>\n",
       "    <tr>\n",
       "      <th>271</th>\n",
       "      <td>Ideal</td>\n",
       "      <td>J</td>\n",
       "      <td>VS2</td>\n",
       "      <td>4866.619141</td>\n",
       "      <td>2.45</td>\n",
       "      <td>43.000000</td>\n",
       "    </tr>\n",
       "    <tr>\n",
       "      <th>272</th>\n",
       "      <td>Ideal</td>\n",
       "      <td>J</td>\n",
       "      <td>VS1</td>\n",
       "      <td>4734.427734</td>\n",
       "      <td>2.59</td>\n",
       "      <td>58.700001</td>\n",
       "    </tr>\n",
       "    <tr>\n",
       "      <th>273</th>\n",
       "      <td>Ideal</td>\n",
       "      <td>J</td>\n",
       "      <td>VVS2</td>\n",
       "      <td>4187.207520</td>\n",
       "      <td>2.07</td>\n",
       "      <td>60.200001</td>\n",
       "    </tr>\n",
       "    <tr>\n",
       "      <th>274</th>\n",
       "      <td>Ideal</td>\n",
       "      <td>J</td>\n",
       "      <td>VVS1</td>\n",
       "      <td>2000.172363</td>\n",
       "      <td>1.58</td>\n",
       "      <td>60.400002</td>\n",
       "    </tr>\n",
       "    <tr>\n",
       "      <th>275</th>\n",
       "      <td>Ideal</td>\n",
       "      <td>J</td>\n",
       "      <td>IF</td>\n",
       "      <td>2489.000000</td>\n",
       "      <td>2.08</td>\n",
       "      <td>60.599998</td>\n",
       "    </tr>\n",
       "  </tbody>\n",
       "</table>\n",
       "<p>276 rows × 6 columns</p>\n",
       "</div>"
      ],
      "text/plain": [
       "       cut color clarity  price_median  carat_max  depth_min\n",
       "0     Fair     D      I1   7383.000000       3.40  64.699997\n",
       "1     Fair     D     SI2   4355.143066       2.07  55.500000\n",
       "2     Fair     D     SI1   4273.344727       2.02  52.200001\n",
       "3     Fair     D     VS2   4512.879883       1.51  55.599998\n",
       "4     Fair     D     VS1   2921.199951       1.00  55.900002\n",
       "..     ...   ...     ...           ...        ...        ...\n",
       "271  Ideal     J     VS2   4866.619141       2.45  43.000000\n",
       "272  Ideal     J     VS1   4734.427734       2.59  58.700001\n",
       "273  Ideal     J    VVS2   4187.207520       2.07  60.200001\n",
       "274  Ideal     J    VVS1   2000.172363       1.58  60.400002\n",
       "275  Ideal     J      IF   2489.000000       2.08  60.599998\n",
       "\n",
       "[276 rows x 6 columns]"
      ]
     },
     "execution_count": 86,
     "metadata": {},
     "output_type": "execute_result"
    }
   ],
   "source": [
    "df_agrupado = df.groupby(['cut', 'color', 'clarity'], dropna = True, observed=True).agg({'price': 'mean', 'carat': 'max', 'depth': 'min'}).reset_index() # Se agrupa el DataFrame por las columnas indicadas y se aplican las funciones de agregación.\n",
    "df_agrupado = df_agrupado.rename(columns={'price': 'price_median', 'carat': 'carat_max', 'depth': 'depth_min'}) # Se renombran las columnas del DataFrame.\n",
    "df_agrupado"
   ]
  },
  {
   "cell_type": "markdown",
   "metadata": {},
   "source": [
    "## 4-ANÁLISIS ESTADÍSTICO COLUMNA 'price'."
   ]
  },
  {
   "cell_type": "markdown",
   "metadata": {},
   "source": [
    "### 4.1-ANÁLISIS DESCRIPTIVO."
   ]
  },
  {
   "cell_type": "markdown",
   "metadata": {},
   "source": [
    "#### 4.1.1-MEDIDAS DE TENDENCIA CENTRAL."
   ]
  },
  {
   "cell_type": "markdown",
   "metadata": {},
   "source": [
    "##### 4.1.1.1-MEDIA."
   ]
  },
  {
   "cell_type": "code",
   "execution_count": 87,
   "metadata": {},
   "outputs": [],
   "source": [
    "media_price = df['price'].mean()"
   ]
  },
  {
   "cell_type": "markdown",
   "metadata": {},
   "source": [
    "##### 4.1.1.2-MEDIANA."
   ]
  },
  {
   "cell_type": "code",
   "execution_count": 88,
   "metadata": {},
   "outputs": [],
   "source": [
    "mediana_price = df['price'].median()"
   ]
  },
  {
   "cell_type": "markdown",
   "metadata": {},
   "source": [
    "##### 4.1.1.3-MODA."
   ]
  },
  {
   "cell_type": "code",
   "execution_count": 89,
   "metadata": {},
   "outputs": [],
   "source": [
    "moda_price = df['price'].mode()[0]"
   ]
  },
  {
   "cell_type": "markdown",
   "metadata": {},
   "source": [
    "#### 4.1.2-MEDIDAS DESCRIPTIVAS."
   ]
  },
  {
   "cell_type": "markdown",
   "metadata": {},
   "source": [
    "##### 4.1.2.1-MÁXIMO."
   ]
  },
  {
   "cell_type": "code",
   "execution_count": 90,
   "metadata": {},
   "outputs": [],
   "source": [
    "max_price = df['price'].max()"
   ]
  },
  {
   "cell_type": "markdown",
   "metadata": {},
   "source": [
    "##### 4.1.2.2-MÍNIMO."
   ]
  },
  {
   "cell_type": "code",
   "execution_count": 91,
   "metadata": {},
   "outputs": [],
   "source": [
    "min_price = df['price'].min()"
   ]
  },
  {
   "cell_type": "markdown",
   "metadata": {},
   "source": [
    "#### 4.1.3-MEDIDAS POSICIÓN NO CENTRAL."
   ]
  },
  {
   "cell_type": "markdown",
   "metadata": {},
   "source": [
    "##### 4.1.3.1-CUARTILES."
   ]
  },
  {
   "cell_type": "code",
   "execution_count": 92,
   "metadata": {},
   "outputs": [],
   "source": [
    "q1_price = df['price'].quantile(0.25)\n",
    "q2_price = mediana_price\n",
    "q3_price = df['price'].quantile(0.75)"
   ]
  },
  {
   "cell_type": "markdown",
   "metadata": {},
   "source": [
    "#### 4.1.4-MEDIDAS DE DISPERSIÓN."
   ]
  },
  {
   "cell_type": "markdown",
   "metadata": {},
   "source": [
    "##### 4.1.4.1-RANGO."
   ]
  },
  {
   "cell_type": "code",
   "execution_count": 93,
   "metadata": {},
   "outputs": [],
   "source": [
    "rango_price = max_price - min_price"
   ]
  },
  {
   "cell_type": "markdown",
   "metadata": {},
   "source": [
    "##### 4.1.4.2-RANGO INTER-CUARTÍLICO (IQR)."
   ]
  },
  {
   "cell_type": "code",
   "execution_count": 94,
   "metadata": {},
   "outputs": [],
   "source": [
    "iqr_price = q3_price - q1_price"
   ]
  },
  {
   "cell_type": "markdown",
   "metadata": {},
   "source": [
    "##### 4.1.4.3-VARIANZA."
   ]
  },
  {
   "cell_type": "code",
   "execution_count": 95,
   "metadata": {},
   "outputs": [],
   "source": [
    "var_price = df['price'].var()"
   ]
  },
  {
   "cell_type": "markdown",
   "metadata": {},
   "source": [
    "##### 4.1.4.4-DESVIACIÓN ESTÁNDAR."
   ]
  },
  {
   "cell_type": "code",
   "execution_count": 96,
   "metadata": {},
   "outputs": [],
   "source": [
    "desv_price = df['price'].std()"
   ]
  },
  {
   "cell_type": "markdown",
   "metadata": {},
   "source": [
    "#### 4.1.5-REPRESENTACIÓN GRÁFICA DESCRIPTIVA."
   ]
  },
  {
   "cell_type": "markdown",
   "metadata": {},
   "source": [
    "##### 4.1.5.1-DISTRIBUCIÓN DE FRECUENCIAS: HISTOGRAMA."
   ]
  },
  {
   "cell_type": "code",
   "execution_count": 97,
   "metadata": {},
   "outputs": [
    {
     "data": {
      "image/png": "[encoded data removed]",
      "text/plain": [
       "<Figure size 1000x500 with 1 Axes>"
      ]
     },
     "metadata": {},
     "output_type": "display_data"
    }
   ],
   "source": [
    "plt.figure(figsize=(10,5))\n",
    "sns.histplot(df['price'], bins=30, color='green', kde=True, alpha=0.3)\n",
    "plt.title(\"Precios de Diamantes\")\n",
    "plt.xlabel(\"Precio (€)\")\n",
    "plt.ylabel(\"Frecuencia\")\n",
    "plt.xticks(np.arange(0, max_price + 1000, 1000), rotation=45)\n",
    "plt.axvline(media_price, color='magenta', linestyle='--', label=f'Media(€): {media_price:.2f}') # media\n",
    "plt.axvline(mediana_price, color='blue', linestyle='dotted', label=f'Mediana(€): {mediana_price:.2f}') # mediana\n",
    "plt.axvline(q1_price, color='yellow', linestyle='-.', label=f'Q1(€): {q1_price:.2f}') # Q1\n",
    "plt.axvline(q3_price, color='red', linestyle='-.', label=f'Q3(€): {q3_price:.2f}') # Q3\n",
    "plt.legend()\n",
    "plt.grid()\n",
    "plt.show();"
   ]
  },
  {
   "cell_type": "markdown",
   "metadata": {},
   "source": [
    "##### 4.1.5.2-DISPERSIÓN, POSICIÓN NO CENTRAL Y DISPERSIÓN: BOXPLOT."
   ]
  },
  {
   "cell_type": "code",
   "execution_count": 98,
   "metadata": {},
   "outputs": [
    {
     "data": {
      "image/png": "[encoded data removed]",
      "text/plain": [
       "<Figure size 800x500 with 1 Axes>"
      ]
     },
     "metadata": {},
     "output_type": "display_data"
    }
   ],
   "source": [
    "plt.figure(figsize=(8,5))\n",
    "sns.boxplot(data=df['price'], showmeans=True, meanline=True, orient='v', linewidth=2, fliersize=5, whis=1.5, dodge='auto',color='skyblue', width=0.5)\n",
    "plt.title(\"Precios de Diamantes\")\n",
    "plt.ylabel(\"Precio (€)\")\n",
    "plt.grid(axis='y', linestyle='--', linewidth=0.5)\n",
    "plt.show();"
   ]
  },
  {
   "cell_type": "markdown",
   "metadata": {},
   "source": [
    "### 4.2-ANÁLISIS INFERENCIAL."
   ]
  },
  {
   "cell_type": "markdown",
   "metadata": {},
   "source": [
    "#### 4.2.1-FILTRADO DE OUTLIERS."
   ]
  },
  {
   "cell_type": "markdown",
   "metadata": {},
   "source": [
    "##### 4.2.1.1-FILTRADO Z-SCORE."
   ]
  },
  {
   "cell_type": "code",
   "execution_count": 103,
   "metadata": {},
   "outputs": [],
   "source": [
    "\"\"\" z = 3\n",
    "df_sin_ouliers_z_score_price = df[(np.abs((df['price'] - media_price) / desv_price) < z)]\n",
    "df_sin_ouliers_z_score_price.head() \"\"\";"
   ]
  },
  {
   "cell_type": "code",
   "execution_count": 128,
   "metadata": {},
   "outputs": [
    {
     "name": "stdout",
     "output_type": "stream",
     "text": [
      "<class 'pandas.core.frame.DataFrame'>\n",
      "RangeIndex: 52591 entries, 0 to 52590\n",
      "Data columns (total 13 columns):\n",
      " #   Column     Non-Null Count  Dtype   \n",
      "---  ------     --------------  -----   \n",
      " 0   index      52591 non-null  int64   \n",
      " 1   carat      52591 non-null  float32 \n",
      " 2   cut        52591 non-null  category\n",
      " 3   color      52591 non-null  category\n",
      " 4   clarity    52591 non-null  category\n",
      " 5   depth      52591 non-null  float32 \n",
      " 6   table      52591 non-null  float32 \n",
      " 7   price      52591 non-null  float32 \n",
      " 8   price_iva  52591 non-null  float32 \n",
      " 9   x          52591 non-null  float32 \n",
      " 10  y          52591 non-null  float32 \n",
      " 11  z          52591 non-null  float32 \n",
      " 12  volumen    52591 non-null  float32 \n",
      "dtypes: category(3), float32(9), int64(1)\n",
      "memory usage: 2.4 MB\n"
     ]
    }
   ],
   "source": [
    "# Se calculan los valores del DataFrame, filtrando los outliers de los valores de la colimna 'price', según el método \"Z-Score\"\n",
    "z = 3\n",
    "lim_inf_z_score = media_price - z * desv_price\n",
    "lim_sup_z_score = media_price + z * desv_price\n",
    "\n",
    "outliers_z_score = df[(df['price'] < lim_inf_z_score) | (df['price'] > lim_sup_z_score)] # Se seleccionan los elementos fuera de los límites superior e inferior\n",
    "df_sin_outliers_z_score_price = df.drop(outliers_z_score.index).reset_index() # Se eliminan las filas contenidas en el DataFRame outliers\n",
    "df_sin_outliers_z_score_price.info()"
   ]
  },
  {
   "cell_type": "code",
   "execution_count": 125,
   "metadata": {},
   "outputs": [
    {
     "data": {
      "image/png": "[encoded data removed]",
      "text/plain": [
       "<Figure size 2000x2000 with 2 Axes>"
      ]
     },
     "metadata": {},
     "output_type": "display_data"
    }
   ],
   "source": [
    "plt.figure(figsize=(20,20))\n",
    "plt.subplot(2, 1, 1) # Histograma con outliers\n",
    "sns.histplot(df['price'], bins=30, color='green', kde=True, alpha=0.3)\n",
    "plt.title(\"Precios de Diamantes\")\n",
    "plt.xlabel(\"Precio (€)\")\n",
    "plt.ylabel(\"Frecuencia\")\n",
    "plt.xticks(np.arange(0, max_price + 1000, 1000), rotation=45)\n",
    "# No se representa el límite inferior, porque es un valor negativo y no existen (ni deberían) existir precios con valor negativo.\n",
    "# plt.axvline(lim_inf_z_score, color='yellow', linestyle='-.', label=f'Límite Inferior(€): {lim_inf_z_score:.2f}')\n",
    "plt.axvline(lim_sup_z_score, color='red', linestyle='-.', label=f'Límite Superior(€): {lim_sup_z_score:.2f}')\n",
    "plt.legend()\n",
    "plt.grid()\n",
    "\n",
    "plt.subplot(2, 1, 2) # Histograma sin outliers Z-Score\n",
    "sns.histplot(df_sin_outliers_z_score_price['price'], bins=30, color='blue', kde=True, alpha=0.3)\n",
    "plt.title(\"Precios de Diamantes (sin outliers Z-Score)\")\n",
    "plt.xlabel(\"Precio (€)\")\n",
    "plt.ylabel(\"Frecuencia\")\n",
    "plt.xticks(np.arange(0, max_price + 1000, 1000), rotation=45)\n",
    "plt.grid()\n",
    "plt.show();"
   ]
  },
  {
   "cell_type": "markdown",
   "metadata": {},
   "source": [
    "##### 4.2.1.2-FILTRADO LA VALLA DE TUKEY."
   ]
  },
  {
   "cell_type": "code",
   "execution_count": 129,
   "metadata": {},
   "outputs": [
    {
     "name": "stdout",
     "output_type": "stream",
     "text": [
      "<class 'pandas.core.frame.DataFrame'>\n",
      "RangeIndex: 50269 entries, 0 to 50268\n",
      "Data columns (total 13 columns):\n",
      " #   Column     Non-Null Count  Dtype   \n",
      "---  ------     --------------  -----   \n",
      " 0   index      50269 non-null  int64   \n",
      " 1   carat      50269 non-null  float32 \n",
      " 2   cut        50269 non-null  category\n",
      " 3   color      50269 non-null  category\n",
      " 4   clarity    50269 non-null  category\n",
      " 5   depth      50269 non-null  float32 \n",
      " 6   table      50269 non-null  float32 \n",
      " 7   price      50269 non-null  float32 \n",
      " 8   price_iva  50269 non-null  float32 \n",
      " 9   x          50269 non-null  float32 \n",
      " 10  y          50269 non-null  float32 \n",
      " 11  z          50269 non-null  float32 \n",
      " 12  volumen    50269 non-null  float32 \n",
      "dtypes: category(3), float32(9), int64(1)\n",
      "memory usage: 2.3 MB\n"
     ]
    }
   ],
   "source": [
    "# Se calculan los valores del DataFrame, filtrando los outliers de los valores de la colimna 'price', según el método \"La Valla de Tukey\".\n",
    "k = 1.5\n",
    "# Se calculan los límites inferior y superior.\n",
    "lim_inf_tukey = q1_price - k * iqr_price\n",
    "lim_sup_tukey = q3_price + k * iqr_price\n",
    "\n",
    "outliers_tukey = df[(df['price'] < lim_inf_tukey) | (df['price'] > lim_sup_tukey)] # Se seleccionan los elementos fuera de los límites superior e inferior.\n",
    "df_sin_outliers_tukey_price = df.drop(outliers_tukey.index).reset_index() # Se eliminan las filas contenidas en el DataFRame outliers.\n",
    "df_sin_outliers_tukey_price.info()"
   ]
  },
  {
   "cell_type": "code",
   "execution_count": 131,
   "metadata": {},
   "outputs": [
    {
     "data": {
      "image/png": "[encoded data removed]",
      "text/plain": [
       "<Figure size 2000x2000 with 2 Axes>"
      ]
     },
     "metadata": {},
     "output_type": "display_data"
    }
   ],
   "source": [
    "plt.figure(figsize=(20,20))\n",
    "plt.subplot(2, 1, 1) # Histograma con outliers\n",
    "sns.histplot(df['price'], bins=30, color='green', kde=True, alpha=0.3)\n",
    "plt.title(\"Precios de Diamantes\")\n",
    "plt.xlabel(\"Precio (€)\")\n",
    "plt.ylabel(\"Frecuencia\")\n",
    "plt.xticks(np.arange(0, max_price + 1000, 1000), rotation=45)\n",
    "# No se representa el límite inferior, porque es un valor negativo y no existen (ni deberían) existir precios con valor negativo.\n",
    "#plt.axvline(lim_inf_tukey, color='yellow', linestyle='-.', label=f'Límite Inferior(€): {lim_inf_tukey:.2f}')\n",
    "plt.axvline(lim_sup_tukey, color='red', linestyle='-.', label=f'Límite Superior(€): {lim_sup_tukey:.2f}')\n",
    "plt.legend()\n",
    "plt.grid()\n",
    "\n",
    "plt.subplot(2, 1, 2) # Histograma sin outliers Valle de Tukey\n",
    "sns.histplot(df_sin_outliers_tukey_price['price'], bins=30, color='blue', kde=True, alpha=0.3)\n",
    "plt.title(\"Precios de Diamantes (sin outliers Valle de Tukey)\")\n",
    "plt.xlabel(\"Precio (€)\")\n",
    "plt.ylabel(\"Frecuencia\")\n",
    "plt.xticks(np.arange(0, max_price + 1000, 1000), rotation=45)\n",
    "plt.grid()\n",
    "plt.show();"
   ]
  },
  {
   "cell_type": "markdown",
   "metadata": {},
   "source": [
    "#### 4.2.2-ASIMETRÍA."
   ]
  },
  {
   "cell_type": "code",
   "execution_count": 132,
   "metadata": {},
   "outputs": [
    {
     "name": "stdout",
     "output_type": "stream",
     "text": [
      "El coeficiente de asimetría de la variable 'price' es: 1.6182420253753662\n"
     ]
    }
   ],
   "source": [
    "asimetria_price = df['price'].skew()\n",
    "print(f\"El coeficiente de asimetría de la variable 'price' es: {asimetria_price}\")"
   ]
  },
  {
   "cell_type": "code",
   "execution_count": 138,
   "metadata": {},
   "outputs": [
    {
     "data": {
      "image/png": "[encoded data removed]",
      "text/plain": [
       "<Figure size 1000x500 with 1 Axes>"
      ]
     },
     "metadata": {},
     "output_type": "display_data"
    }
   ],
   "source": [
    "plt.figure(figsize=(10,5))\n",
    "sns.kdeplot(df['price'], color='blue', label=\"Precios\")\n",
    "plt.title(\"Precios de Diamantes\")\n",
    "plt.xlabel(\"Precio (€)\")\n",
    "plt.ylabel(\"Densidad\")\n",
    "plt.xticks(np.arange(0, max_price + 1000, 1000), rotation=45)\n",
    "plt.axvline(media_price, color='magenta', linestyle='--', label=f'Media(€): {media_price:.2f}') # media\n",
    "plt.axvline(mediana_price, color='blue', linestyle='dotted', label=f'Mediana(€): {mediana_price:.2f}') # mediana\n",
    "plt.legend()\n",
    "plt.grid()\n",
    "plt.show();"
   ]
  },
  {
   "cell_type": "markdown",
   "metadata": {},
   "source": [
    "El coeficiente de asimetría resulta con un valor positivo y relativamente alto. Observando la gráfica, se aprecia que la distribución es claramente asimétrica, con una larga cola hacia la derecha del eje X. Esto indica la existencia de una distribución amplia y reseñable cantidad de observaciones con valores especialmente altos, afectando negativamentea la representatividad de la media del conjunto de datos."
   ]
  },
  {
   "cell_type": "markdown",
   "metadata": {},
   "source": [
    "#### 4.2.3-CURTOSIS."
   ]
  },
  {
   "cell_type": "code",
   "execution_count": 136,
   "metadata": {},
   "outputs": [
    {
     "name": "stdout",
     "output_type": "stream",
     "text": [
      "La curtosis de la variable 'price' es: 2.1785504817962646\n"
     ]
    }
   ],
   "source": [
    "curtosis_price = df['price'].kurtosis()\n",
    "print(f\"La curtosis de la variable 'price' es: {curtosis_price}\")"
   ]
  },
  {
   "cell_type": "code",
   "execution_count": 139,
   "metadata": {},
   "outputs": [
    {
     "data": {
      "image/png": "[encoded data removed]",
      "text/plain": [
       "<Figure size 1000x500 with 1 Axes>"
      ]
     },
     "metadata": {},
     "output_type": "display_data"
    }
   ],
   "source": [
    "plt.figure(figsize=(10,5))\n",
    "sns.kdeplot(df['price'], color='blue', label=\"Precios\")\n",
    "plt.title(\"Precios de Diamantes\")\n",
    "plt.xlabel(\"Precio (€)\")\n",
    "plt.ylabel(\"Densidad\")\n",
    "plt.xticks(np.arange(0, max_price + 1000, 1000), rotation=45)\n",
    "plt.axvline(media_price, color='magenta', linestyle='--', label=f'Media(€): {media_price:.2f}') # media\n",
    "plt.axvline(mediana_price, color='blue', linestyle='dotted', label=f'Mediana(€): {mediana_price:.2f}') # mediana\n",
    "plt.legend()\n",
    "plt.grid()\n",
    "plt.show();"
   ]
  },
  {
   "cell_type": "markdown",
   "metadata": {},
   "source": [
    "Esta distribución de valores presenta una curtosis de tipo Platicúrtica, con un valor positivo y relativamente moderado. Este valor se corresponde con la larga y estrecha cola hacia la derecha, indicando la presencia de valores extremos. El pico de valores es menos pronunciado, con una reseñable concentración de valores en la base alrededor de la mediana."
   ]
  },
  {
   "cell_type": "markdown",
   "metadata": {},
   "source": [
    "#### 4.2.3-TRANSFORMACIONES DE LA DISTRIBUCIÓN."
   ]
  },
  {
   "cell_type": "markdown",
   "metadata": {},
   "source": [
    "##### 4.2.3.1-FUNCIÓN RAÍZ."
   ]
  },
  {
   "cell_type": "code",
   "execution_count": 140,
   "metadata": {},
   "outputs": [
    {
     "data": {
      "text/html": [
       "<div>\n",
       "<style scoped>\n",
       "    .dataframe tbody tr th:only-of-type {\n",
       "        vertical-align: middle;\n",
       "    }\n",
       "\n",
       "    .dataframe tbody tr th {\n",
       "        vertical-align: top;\n",
       "    }\n",
       "\n",
       "    .dataframe thead th {\n",
       "        text-align: right;\n",
       "    }\n",
       "</style>\n",
       "<table border=\"1\" class=\"dataframe\">\n",
       "  <thead>\n",
       "    <tr style=\"text-align: right;\">\n",
       "      <th></th>\n",
       "      <th>carat</th>\n",
       "      <th>cut</th>\n",
       "      <th>color</th>\n",
       "      <th>clarity</th>\n",
       "      <th>depth</th>\n",
       "      <th>table</th>\n",
       "      <th>price</th>\n",
       "      <th>price_sqrt</th>\n",
       "      <th>price_iva</th>\n",
       "      <th>x</th>\n",
       "      <th>y</th>\n",
       "      <th>z</th>\n",
       "      <th>volumen</th>\n",
       "    </tr>\n",
       "  </thead>\n",
       "  <tbody>\n",
       "    <tr>\n",
       "      <th>0</th>\n",
       "      <td>0.23</td>\n",
       "      <td>Ideal</td>\n",
       "      <td>E</td>\n",
       "      <td>SI2</td>\n",
       "      <td>61.500000</td>\n",
       "      <td>55.0</td>\n",
       "      <td>326.0</td>\n",
       "      <td>18.055470</td>\n",
       "      <td>394.460022</td>\n",
       "      <td>3.95</td>\n",
       "      <td>3.98</td>\n",
       "      <td>2.43</td>\n",
       "      <td>38.202034</td>\n",
       "    </tr>\n",
       "    <tr>\n",
       "      <th>1</th>\n",
       "      <td>0.21</td>\n",
       "      <td>Premium</td>\n",
       "      <td>E</td>\n",
       "      <td>SI1</td>\n",
       "      <td>59.799999</td>\n",
       "      <td>61.0</td>\n",
       "      <td>326.0</td>\n",
       "      <td>18.055470</td>\n",
       "      <td>394.460022</td>\n",
       "      <td>3.89</td>\n",
       "      <td>3.84</td>\n",
       "      <td>2.31</td>\n",
       "      <td>34.505856</td>\n",
       "    </tr>\n",
       "    <tr>\n",
       "      <th>2</th>\n",
       "      <td>0.23</td>\n",
       "      <td>Good</td>\n",
       "      <td>E</td>\n",
       "      <td>VS1</td>\n",
       "      <td>56.900002</td>\n",
       "      <td>65.0</td>\n",
       "      <td>327.0</td>\n",
       "      <td>18.083141</td>\n",
       "      <td>395.670013</td>\n",
       "      <td>4.05</td>\n",
       "      <td>4.07</td>\n",
       "      <td>2.31</td>\n",
       "      <td>38.076889</td>\n",
       "    </tr>\n",
       "    <tr>\n",
       "      <th>3</th>\n",
       "      <td>0.29</td>\n",
       "      <td>Premium</td>\n",
       "      <td>I</td>\n",
       "      <td>VS2</td>\n",
       "      <td>62.400002</td>\n",
       "      <td>58.0</td>\n",
       "      <td>334.0</td>\n",
       "      <td>18.275667</td>\n",
       "      <td>404.140015</td>\n",
       "      <td>4.20</td>\n",
       "      <td>4.23</td>\n",
       "      <td>2.63</td>\n",
       "      <td>46.724579</td>\n",
       "    </tr>\n",
       "    <tr>\n",
       "      <th>4</th>\n",
       "      <td>0.31</td>\n",
       "      <td>Good</td>\n",
       "      <td>J</td>\n",
       "      <td>SI2</td>\n",
       "      <td>63.299999</td>\n",
       "      <td>58.0</td>\n",
       "      <td>335.0</td>\n",
       "      <td>18.303005</td>\n",
       "      <td>405.350006</td>\n",
       "      <td>4.34</td>\n",
       "      <td>4.35</td>\n",
       "      <td>2.75</td>\n",
       "      <td>51.917248</td>\n",
       "    </tr>\n",
       "  </tbody>\n",
       "</table>\n",
       "</div>"
      ],
      "text/plain": [
       "   carat      cut color clarity      depth  table  price  price_sqrt  \\\n",
       "0   0.23    Ideal     E     SI2  61.500000   55.0  326.0   18.055470   \n",
       "1   0.21  Premium     E     SI1  59.799999   61.0  326.0   18.055470   \n",
       "2   0.23     Good     E     VS1  56.900002   65.0  327.0   18.083141   \n",
       "3   0.29  Premium     I     VS2  62.400002   58.0  334.0   18.275667   \n",
       "4   0.31     Good     J     SI2  63.299999   58.0  335.0   18.303005   \n",
       "\n",
       "    price_iva     x     y     z    volumen  \n",
       "0  394.460022  3.95  3.98  2.43  38.202034  \n",
       "1  394.460022  3.89  3.84  2.31  34.505856  \n",
       "2  395.670013  4.05  4.07  2.31  38.076889  \n",
       "3  404.140015  4.20  4.23  2.63  46.724579  \n",
       "4  405.350006  4.34  4.35  2.75  51.917248  "
      ]
     },
     "execution_count": 140,
     "metadata": {},
     "output_type": "execute_result"
    }
   ],
   "source": [
    "# se crea una nueva columna, 'price_sqrt', con los valores resultantes de aplicar la función raíz a los valores de la columna 'precio'.\n",
    "price_sqrt = pd.Series(df['price'].apply(np.sqrt)) # Se aplica la función raiz a la columna 'price'.\n",
    "posicion = df.columns.get_loc('price') + 1 # Se busca la posición siguiente a la columna 'price'. Puede haber más columnas relacionadas con 'price'.\n",
    "df.insert(posicion, 'price_sqrt', price_sqrt, allow_duplicates=False) # Se insertan los valores conla función raíz aplicada, a continuación de la columna 'price'.\n",
    "df.head()"
   ]
  },
  {
   "cell_type": "markdown",
   "metadata": {},
   "source": [
    "##### 4.2.3.2-FUNCIÓN LOGARITMO."
   ]
  },
  {
   "cell_type": "code",
   "execution_count": 141,
   "metadata": {},
   "outputs": [
    {
     "data": {
      "text/html": [
       "<div>\n",
       "<style scoped>\n",
       "    .dataframe tbody tr th:only-of-type {\n",
       "        vertical-align: middle;\n",
       "    }\n",
       "\n",
       "    .dataframe tbody tr th {\n",
       "        vertical-align: top;\n",
       "    }\n",
       "\n",
       "    .dataframe thead th {\n",
       "        text-align: right;\n",
       "    }\n",
       "</style>\n",
       "<table border=\"1\" class=\"dataframe\">\n",
       "  <thead>\n",
       "    <tr style=\"text-align: right;\">\n",
       "      <th></th>\n",
       "      <th>carat</th>\n",
       "      <th>cut</th>\n",
       "      <th>color</th>\n",
       "      <th>clarity</th>\n",
       "      <th>depth</th>\n",
       "      <th>table</th>\n",
       "      <th>price</th>\n",
       "      <th>price_log</th>\n",
       "      <th>price_sqrt</th>\n",
       "      <th>price_iva</th>\n",
       "      <th>x</th>\n",
       "      <th>y</th>\n",
       "      <th>z</th>\n",
       "      <th>volumen</th>\n",
       "    </tr>\n",
       "  </thead>\n",
       "  <tbody>\n",
       "    <tr>\n",
       "      <th>0</th>\n",
       "      <td>0.23</td>\n",
       "      <td>Ideal</td>\n",
       "      <td>E</td>\n",
       "      <td>SI2</td>\n",
       "      <td>61.500000</td>\n",
       "      <td>55.0</td>\n",
       "      <td>326.0</td>\n",
       "      <td>5.786897</td>\n",
       "      <td>18.055470</td>\n",
       "      <td>394.460022</td>\n",
       "      <td>3.95</td>\n",
       "      <td>3.98</td>\n",
       "      <td>2.43</td>\n",
       "      <td>38.202034</td>\n",
       "    </tr>\n",
       "    <tr>\n",
       "      <th>1</th>\n",
       "      <td>0.21</td>\n",
       "      <td>Premium</td>\n",
       "      <td>E</td>\n",
       "      <td>SI1</td>\n",
       "      <td>59.799999</td>\n",
       "      <td>61.0</td>\n",
       "      <td>326.0</td>\n",
       "      <td>5.786897</td>\n",
       "      <td>18.055470</td>\n",
       "      <td>394.460022</td>\n",
       "      <td>3.89</td>\n",
       "      <td>3.84</td>\n",
       "      <td>2.31</td>\n",
       "      <td>34.505856</td>\n",
       "    </tr>\n",
       "    <tr>\n",
       "      <th>2</th>\n",
       "      <td>0.23</td>\n",
       "      <td>Good</td>\n",
       "      <td>E</td>\n",
       "      <td>VS1</td>\n",
       "      <td>56.900002</td>\n",
       "      <td>65.0</td>\n",
       "      <td>327.0</td>\n",
       "      <td>5.789960</td>\n",
       "      <td>18.083141</td>\n",
       "      <td>395.670013</td>\n",
       "      <td>4.05</td>\n",
       "      <td>4.07</td>\n",
       "      <td>2.31</td>\n",
       "      <td>38.076889</td>\n",
       "    </tr>\n",
       "    <tr>\n",
       "      <th>3</th>\n",
       "      <td>0.29</td>\n",
       "      <td>Premium</td>\n",
       "      <td>I</td>\n",
       "      <td>VS2</td>\n",
       "      <td>62.400002</td>\n",
       "      <td>58.0</td>\n",
       "      <td>334.0</td>\n",
       "      <td>5.811141</td>\n",
       "      <td>18.275667</td>\n",
       "      <td>404.140015</td>\n",
       "      <td>4.20</td>\n",
       "      <td>4.23</td>\n",
       "      <td>2.63</td>\n",
       "      <td>46.724579</td>\n",
       "    </tr>\n",
       "    <tr>\n",
       "      <th>4</th>\n",
       "      <td>0.31</td>\n",
       "      <td>Good</td>\n",
       "      <td>J</td>\n",
       "      <td>SI2</td>\n",
       "      <td>63.299999</td>\n",
       "      <td>58.0</td>\n",
       "      <td>335.0</td>\n",
       "      <td>5.814131</td>\n",
       "      <td>18.303005</td>\n",
       "      <td>405.350006</td>\n",
       "      <td>4.34</td>\n",
       "      <td>4.35</td>\n",
       "      <td>2.75</td>\n",
       "      <td>51.917248</td>\n",
       "    </tr>\n",
       "  </tbody>\n",
       "</table>\n",
       "</div>"
      ],
      "text/plain": [
       "   carat      cut color clarity      depth  table  price  price_log  \\\n",
       "0   0.23    Ideal     E     SI2  61.500000   55.0  326.0   5.786897   \n",
       "1   0.21  Premium     E     SI1  59.799999   61.0  326.0   5.786897   \n",
       "2   0.23     Good     E     VS1  56.900002   65.0  327.0   5.789960   \n",
       "3   0.29  Premium     I     VS2  62.400002   58.0  334.0   5.811141   \n",
       "4   0.31     Good     J     SI2  63.299999   58.0  335.0   5.814131   \n",
       "\n",
       "   price_sqrt   price_iva     x     y     z    volumen  \n",
       "0   18.055470  394.460022  3.95  3.98  2.43  38.202034  \n",
       "1   18.055470  394.460022  3.89  3.84  2.31  34.505856  \n",
       "2   18.083141  395.670013  4.05  4.07  2.31  38.076889  \n",
       "3   18.275667  404.140015  4.20  4.23  2.63  46.724579  \n",
       "4   18.303005  405.350006  4.34  4.35  2.75  51.917248  "
      ]
     },
     "execution_count": 141,
     "metadata": {},
     "output_type": "execute_result"
    }
   ],
   "source": [
    "# se crea una nueva columna, 'price_log', con los valores resultantes de aplicar la función logaritmo a los valores de la columna 'precio'.\n",
    "price_log = pd.Series(df['price'].apply(np.log)) # Se aplica la función logaritmo a la columna 'price'.\n",
    "posicion = df.columns.get_loc('price') + 1 # Se busca la posición siguiente a la columna 'price'. Puede haber más columnas relacionadas con 'price'.\n",
    "df.insert(posicion, 'price_log', price_log, allow_duplicates=False) # Se insertan los valores conla función logaritmo aplicada, a continuación de la columna 'price'.\n",
    "df.head()"
   ]
  },
  {
   "cell_type": "markdown",
   "metadata": {},
   "source": [
    "##### 4.2.3.3-COMPARACIÓN DE DISTRIBUCIONES TRANSFORMADAS."
   ]
  },
  {
   "cell_type": "code",
   "execution_count": 163,
   "metadata": {},
   "outputs": [
    {
     "data": {
      "image/png": "[encoded data removed]",
      "text/plain": [
       "<Figure size 3000x1000 with 3 Axes>"
      ]
     },
     "metadata": {},
     "output_type": "display_data"
    }
   ],
   "source": [
    "plt.figure(figsize=(30,10))\n",
    "plt.subplot(1,3,1)\n",
    "sns.kdeplot(df['price'], color='blue', label=\"Precios (Original)\")\n",
    "plt.title(\"Precios de Diamantes\")\n",
    "plt.ylabel(\"Densidad\")\n",
    "plt.legend()\n",
    "plt.grid()\n",
    "\n",
    "plt.subplot(1,3,2)\n",
    "sns.kdeplot(df['price_sqrt'], color='red', label=\"Precios (Raíz)\")\n",
    "plt.title(\"Precios de Diamantes\")\n",
    "plt.ylabel(\"Densidad\")\n",
    "plt.legend()\n",
    "plt.grid()\n",
    "\n",
    "plt.subplot(1,3,3)\n",
    "sns.kdeplot(df['price_log'], color='green', label=\"Precios (Logaritmo)\")\n",
    "plt.title(\"Precios de Diamantes\")\n",
    "plt.ylabel(\"Densidad\")\n",
    "plt.legend()\n",
    "plt.grid()\n",
    "\n",
    "plt.show();"
   ]
  },
  {
   "cell_type": "markdown",
   "metadata": {},
   "source": [
    "Se aprecia cómo la variable transformada mediante la aplicación de la función logarítmica presenta la distribución más cercana de las tres a una distribución normal."
   ]
  },
  {
   "cell_type": "markdown",
   "metadata": {},
   "source": [
    "#### 4.2.4-DISCRETIZACIÓN DE VALORES."
   ]
  }
 ],
 "metadata": {
  "kernelspec": {
   "display_name": "Python 3",
   "language": "python",
   "name": "python3"
  },
  "language_info": {
   "codemirror_mode": {
    "name": "ipython",
    "version": 3
   },
   "file_extension": ".py",
   "mimetype": "text/x-python",
   "name": "python",
   "nbconvert_exporter": "python",
   "pygments_lexer": "ipython3",
   "version": "3.13.1"
  }
 },
 "nbformat": 4,
 "nbformat_minor": 2
}
