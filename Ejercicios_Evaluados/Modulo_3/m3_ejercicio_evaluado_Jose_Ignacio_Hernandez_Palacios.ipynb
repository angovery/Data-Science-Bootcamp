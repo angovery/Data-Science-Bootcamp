{
 "cells": [
  {
   "cell_type": "markdown",
   "metadata": {},
   "source": [
    "# ANÁLISIS DEL DATASET \"DIAMONDS\"."
   ]
  },
  {
   "cell_type": "markdown",
   "metadata": {},
   "source": [
    "## 1-CARGA DE DATOS, LIBRERÍAS DE PYTHON Y FUNCIONES AUXILIARES."
   ]
  },
  {
   "cell_type": "markdown",
   "metadata": {},
   "source": [
    "### 1.1-CARGA DE LIBRERÍAS DE PYTHON."
   ]
  },
  {
   "cell_type": "code",
   "execution_count": 1,
   "metadata": {},
   "outputs": [],
   "source": [
    "import numpy as np\n",
    "import pandas as pd\n",
    "import seaborn as sns\n",
    "import plotly.express as px\n",
    "import re # Para poder utilizar expresiones regulares"
   ]
  },
  {
   "cell_type": "markdown",
   "metadata": {},
   "source": [
    "### 1.2-CARGA DE DATOS."
   ]
  },
  {
   "cell_type": "code",
   "execution_count": 2,
   "metadata": {},
   "outputs": [],
   "source": [
    "# Archivo fuente de datos\n",
    "file = './Data/diamonds.csv'\n",
    "\n",
    "# Carga del archivo fuente y generación del DataFrame\n",
    "df = pd.read_csv(file)"
   ]
  },
  {
   "cell_type": "markdown",
   "metadata": {},
   "source": [
    "### 1.3-FUNCIONES AUXILIARES."
   ]
  },
  {
   "cell_type": "code",
   "execution_count": 64,
   "metadata": {},
   "outputs": [],
   "source": [
    "# Función para buscar valores '0' o '0.' en las columnas, en formato texto o numérico, de un DataFrame.\n",
    "# Entrada: pd.DataFrame\n",
    "# Salida: Lista con los nombres de las columnas del DataFrame donde se encontraron coincidencias. Si la lista está vacía, se devuelve False\n",
    "def buscar_ceros_df (df):\n",
    "    lista_coincidencias = [] # Lista para almacenar los nombres de las columnas donde se encontraron coincidencias.\n",
    "    for columna in df.columns:\n",
    "       if df[columna].apply(lambda x: str(x) in ['0', '0.0'] or x == 0).any(): # Se comprueba si existe algún valor 0 en las columna, ya sea en formato texto o numérico.\n",
    "           lista_coincidencias.append(columna)\n",
    "    if lista_coincidencias == []: # No se ha añadido ningún nombre de columna a la lista.\n",
    "        print('No se han encontrado coincidencias.')\n",
    "        return False\n",
    "    else:\n",
    "        return lista_coincidencias\n",
    "\n",
    "# Función para buscar coincidencias de caracteres las columnas de un DataFrame. Puede buscar coincidencias de cualquier tipo de dato convertible a string, incluso de valores NaN (np.nan)\n",
    "# Entrada: pd.DataFrame, valor\n",
    "# Salida: Lista con los nombres de las columnas del DataFrame donde se encontraron coincidencias. Si la lista está vacía, se devuelve False\n",
    "def buscar_caracter_df (df, caracter):\n",
    "    lista_coincidencias = [] # Lista para almacenar los nombres de las columnas donde se encontraron coincidencias.\n",
    "    for columna in df.columns:\n",
    "       if df[columna].astype(str).str.contains(str(caracter)).any(): # Se convierten los valores de la columna a string y se busca el caracter en la columna.\n",
    "           lista_coincidencias.append(columna)\n",
    "    if lista_coincidencias == []: # No se ha añadido ningún nombre de columna a la lista.\n",
    "        print('No se han encontrado coincidencias.')\n",
    "        return False\n",
    "    else:\n",
    "        return lista_coincidencias\n",
    "\n",
    "# Función para reemplazar valores (nulos o 'NaN'): por la mediana, en el caso de valores numéricos; por la moda, en el caso de valores categóricos.\n",
    "# Entrada: pd.DataFrame / valor a sustituir (de tipo string|category|boolean o tipo NaN)\n",
    "# Salida: pd.DataFrame / Se imprime en pantalla el número de reemplazos realizados por la moda y por la mediana. / Devuelve False si la no ha habido reemplazos.\n",
    "def reemplazar_nan (df, lista_columnas):\n",
    "    contador_modas = 0\n",
    "    contador_medianas = 0\n",
    "    for columna in lista_columnas:\n",
    "        if columna not in df.columns:\n",
    "            print(f'La columna {columna} no existe en el DataFrame.')\n",
    "        else:\n",
    "            condicion_busqueda = df[columna].apply(lambda x: str(x) in ['0', '0.0'] or x == 0) # Seleccionar los valores 0 de la columna, ya sean de tipo numérico o no.\n",
    "            if pd.api.types.is_numeric_dtype(df[columna]): # Los valores son de tipo numérico.\n",
    "                # Se calcula la mediana excluyendo los ceros a sustituir, para que no influyan en el cálculo de la mediana.\n",
    "                mediana_sin_ceros = df.loc[~condicion_busqueda, columna].median()\n",
    "                df[columna] = df[columna].fillna(mediana_sin_ceros)\n",
    "                contador_modas += 1\n",
    "            else : # Los valores no son de tipo numérico.\n",
    "                moda_sin_ceros = df.loc[~condicion_busqueda, columna].mode()[0] \n",
    "                df[columna] = df[columna].fillna(moda_sin_ceros)\n",
    "                contador_medianas += 1\n",
    "    if contador_modas == 0 & contador_medianas == 0: # No se han encontrado valores NaN en el DataFrame.\n",
    "        print('No se han encontrado valores NaN que sustituir.')\n",
    "        return False\n",
    "    if contador_modas > 0: # Se han reemplazado valores NaN por modas.\n",
    "        print(f'Se han reemplazado valores NaN en {contador_modas} columnas por la moda de la columna.')\n",
    "    if contador_medianas > 0: # Se han reemplazado valores NaN por medianas.\n",
    "        print(f'Se han reemplazado valores NaN en {contador_medianas} columnas por la mediana de la columna.')\n",
    "    else:\n",
    "        None\n",
    "\n",
    "    return df\n",
    "    \n",
    "# Función para sustituir valores 0: por la mediana, en columnas con valores numéricos; por la moda, en columnas con valores no numéricos de un Data frame.\n",
    "# Entrada: pd.DataFrame, lista de nombres de columnas con valores que contengan, al menos, un valor 0.\n",
    "# Salida: pd.DataFrame | Se imprime un mensaje si alguna columna no existe en el DataFrame.\n",
    "def reemplazar_ceros (df, lista_columnas):\n",
    "    contador_modas = 0\n",
    "    contador_medianas = 0\n",
    "    # Iterar sobre las columnas especificadas\n",
    "    for columna in lista_columnas:\n",
    "            if columna in df.columns:  # Verificar que la columna existe en el DataFrame.\n",
    "                condicion_busqueda = df[columna].apply(lambda x: str(x) in ['0', '0.0'] or x == 0) # Seleccionar los valores 0 de la columna, ya sean de tipo numérico o no.\n",
    "                if pd.api.types.is_numeric_dtype(df[columna]): # Los valores son de tipo numérico. \n",
    "                    # Se calcula la mediana excluyendo los ceros a sustituir, para que no influyan en el cálculo de la mediana.\n",
    "                    mediana_sin_ceros = df.loc[~condicion_busqueda, columna].median()\n",
    "                    # Reemplazar los ceros por la mediana.\n",
    "                    df.loc[condicion_busqueda, columna] = mediana_sin_ceros\n",
    "                    contador_medianas += 1\n",
    "                else : # Los valores no son de tipo numérico.\n",
    "                    moda_sin_ceros = df.loc[~condicion_busqueda, columna].mode()[0]\n",
    "                     # Reemplazar los ceros por la moda.\n",
    "                    df.loc[condicion_busqueda, columna] = moda_sin_ceros\n",
    "                    contador_medianas += 1\n",
    "            else:\n",
    "                print(f\"La columna '{columna}' no existe en el DataFrame.\")\n",
    "\n",
    "    if (contador_modas == 0) & (contador_medianas == 0): # No se han encontrado valores NaN en el DataFrame.\n",
    "        print('No se han encontrado valores 0 que sustituir.')\n",
    "        return False\n",
    "    if contador_modas > 0: # Se han reemplazado valores 0 por modas.\n",
    "        print(f'Se han reemplazado valores 0 en {contador_modas} columnas por la moda de la columna.')\n",
    "    if contador_medianas > 0: # Se han reemplazado valores 0 por medianas.\n",
    "        print(f'Se han reemplazado valores 0 en {contador_medianas} columnas por la mediana de la columna.')\n",
    "    else:\n",
    "        None\n",
    "    \n",
    "    return df\n",
    "\n",
    "# Función para reemplazar caracteres (especciales) por valores NaN en las columnas de un DataFrame de Pandas.\n",
    "# Entrada: pd.DataFrame, caracter a sustituir, lista de nombres de columnas.\n",
    "# Salida: pd.DataFrame | Se imprime un mensaje si alguna columna no existe en el DataFrame.\n",
    "def reemplazar_caracter_por_nan (df, lista_columnas, caracter):\n",
    "    contador_reemplazos = 0\n",
    "    for columna in lista_columnas:\n",
    "        if columna in df.columns:  # Verificar que la columna existe en el DataFrame.\n",
    "            df[columna] = df[columna].replace(str(caracter), np.nan)\n",
    "            contador_reemplazos += 1\n",
    "        else:\n",
    "            print(f\"La columna '{columna}' no existe en el DataFrame.\")\n",
    "    if contador_reemplazos == 0: # No se han encontrado valores NaN en el DataFrame.\n",
    "        print(f\"No se han encontrado el caracter '{caracter}' que sustituir.\")\n",
    "        return False\n",
    "    else:\n",
    "        print(f\"Se han reemplazado {contador_reemplazos} columnas con algún valor '{caracter}' por valores NaN.\")\n",
    "    return df\n",
    "\n",
    "# Función para comprobar si un DataFrame tiene filas duplicadas. Si tuviera filas duplicadas, se eliminan y se resetea el índice del DataFrame.\n",
    "# Entrada: pd.DataFrame\n",
    "# Salida: pd.DataFrame | Se imprime el número de filas del DataFrame antes de eliminar duplicados y después un mensaje si no se han encontrado filas duplicadas.\n",
    "def eliminar_filas_duplicadas (df):\n",
    "    numero_filas_inicial = df.shape[0] # Número de filas del DataFrame antes de eliminar duplicados.\n",
    "    print(f'Número de filas antes de eliminar duplicados: {numero_filas_inicial}')\n",
    "    if df.duplicated().any():\n",
    "        filas_duplicadas = df.duplicated().sum()\n",
    "        print(f'Se han encontrado {filas_duplicadas} filas duplicadas.')\n",
    "        df = df.drop_duplicates().reset_index(drop=True) # Eliminar filas duplicadas y resetear el índice.\n",
    "        print(f'Se han eliminado {numero_filas_inicial - df.shape[0]} filas duplicadas.')\n",
    "        print(f'El DataFrame contiene ahora {df.shape[0]} filas.')\n",
    "    else: # no hay filas duplicadas.\n",
    "        print('No se han encontrado filas duplicadas.')\n",
    "        print(f'El número de filas actual del DataFrame es de {df.shape[0]} filas')\n",
    "    return df"
   ]
  },
  {
   "cell_type": "markdown",
   "metadata": {},
   "source": [
    "## 2-ANÁLISIS PRELIMINAR DEL DATAFRAME."
   ]
  },
  {
   "cell_type": "markdown",
   "metadata": {},
   "source": [
    "### 2.1-ANÁLISIS DE LA ESTRUCTURA DEL DATAFRAME."
   ]
  },
  {
   "cell_type": "markdown",
   "metadata": {},
   "source": [
    "#### 2.1.1-VISUALIZACIÓN PREVIA DEL DATAFRAME."
   ]
  },
  {
   "cell_type": "code",
   "execution_count": null,
   "metadata": {},
   "outputs": [],
   "source": [
    "df.head(5)"
   ]
  },
  {
   "cell_type": "code",
   "execution_count": null,
   "metadata": {},
   "outputs": [],
   "source": [
    "df[25000::5]"
   ]
  },
  {
   "cell_type": "code",
   "execution_count": null,
   "metadata": {},
   "outputs": [],
   "source": [
    "df.tail(5)"
   ]
  },
  {
   "cell_type": "markdown",
   "metadata": {},
   "source": [
    "Como se puede observar en las tablas superiores, el DataFrame cargado consta de 53.940 filas y 10 columnas, de las cuales, 7 columnas son numéricas y 3 columnas son categóricas, en principio."
   ]
  },
  {
   "cell_type": "markdown",
   "metadata": {},
   "source": [
    "### 2.2-ANÁLISIS DE LA INCONSISTENCIA DE DATOS."
   ]
  },
  {
   "cell_type": "code",
   "execution_count": null,
   "metadata": {},
   "outputs": [],
   "source": [
    "df.info()"
   ]
  },
  {
   "cell_type": "markdown",
   "metadata": {},
   "source": [
    "Al ampliar la información del DataFrame, como se puede apreciar en la tabla superior, se indica que el DataFrame tiene 53.940 filas. Sin embargo, existe una única columna (la 4 - 'depth') en cuyas observaciones no existe ningún valor nulo. En el resto de columnas, se han detectado valores nulos: existen columnas con 1 valor nulo ('carat', 'y', 'z'), 2 valores nulos ('color', 'clarity', 'table' y 'price') y 3 valores nulos ('cut').\n",
    "<p>Por otra parte, algunas columnas no tienen el tipo de dato que se esperaba a priori. Por ejemplo, las columnas 'price' y 'x', en principio, se esperaban que contuvieran valores numéricos y se han detectado valores de tipo 'object', por lo que los valores de las columnas indicadas pueden haberse cargado como tipo 'string'.\n",
    "<P>Por todo ello, se deduce que existen valores inconsistentes en las columnas mencionadas que hay que tratar adecuadamente. \n",
    "<p>En principio, las cantidades de estas inconsitencias encontradas no son muy numerosas. Dada la cantidad total de las filas del DataFrame, las inconsistencias no parecen tener un peso importante en el conjunto del mismo, y una de las opciones podría ser eliminar directamente las filas afectadas. No obstante, es preferible evitar su eliminación (afín de no perder información) y las filas/columnas afectadas se van a tratar adecuadamente. Para ello, a continuación se procede al análisis de cada columna afectada."
   ]
  },
  {
   "cell_type": "markdown",
   "metadata": {},
   "source": [
    "### 2.3-ANÁLISIS POR COLUMNAS."
   ]
  },
  {
   "cell_type": "markdown",
   "metadata": {},
   "source": [
    "#### 2.3.1-COLUMNA: 'carat'."
   ]
  },
  {
   "cell_type": "code",
   "execution_count": null,
   "metadata": {},
   "outputs": [],
   "source": [
    "# Se imprimen los valores únicos de la columna. Se aprecia que el último valor obtenido es de tipo 'NaN\n",
    "print(df['carat'].unique())"
   ]
  },
  {
   "cell_type": "code",
   "execution_count": null,
   "metadata": {},
   "outputs": [],
   "source": [
    "# Se imprimen los valores únicos de la columna junto a su frecuencia de aparición.\n",
    "df['carat'].value_counts(dropna=False, sort=True, ascending=True)"
   ]
  },
  {
   "cell_type": "markdown",
   "metadata": {},
   "source": [
    "A parte de los valores NaN, no se aprecia ningún otro valor inconsistente en la columna."
   ]
  },
  {
   "cell_type": "code",
   "execution_count": null,
   "metadata": {},
   "outputs": [],
   "source": [
    "# Se imprime la línea que contiene el valor 'NaN' en la columna 'carat'\n",
    "print(df[df['carat'].isnull()])"
   ]
  },
  {
   "cell_type": "code",
   "execution_count": null,
   "metadata": {},
   "outputs": [],
   "source": [
    "filas_valor_cero = df[df['carat']==0]\n",
    "filas_valor_cero"
   ]
  },
  {
   "cell_type": "markdown",
   "metadata": {},
   "source": [
    "#### 2.3.2-COLUMNA: 'cut'."
   ]
  },
  {
   "cell_type": "code",
   "execution_count": null,
   "metadata": {},
   "outputs": [],
   "source": [
    "# Se imprimen los valores únicos de la columna.\n",
    "print(df['cut'].unique())"
   ]
  },
  {
   "cell_type": "code",
   "execution_count": null,
   "metadata": {},
   "outputs": [],
   "source": [
    "# Se imprimen los valores únicos de la columna junto a su frecuencia de aparición.\n",
    "df['cut'].value_counts(dropna=False)"
   ]
  },
  {
   "cell_type": "markdown",
   "metadata": {},
   "source": [
    "Se observa que, además de los 3 valores NaN, también aparece un valor '?', que no se correspondería con un valor esperado en la columna 'cut'."
   ]
  },
  {
   "cell_type": "code",
   "execution_count": null,
   "metadata": {},
   "outputs": [],
   "source": [
    "# Se imprime la fila que contiene el caracter '?' en la columna 'cut'\n",
    "df[df['cut'].str.contains(r'\\?', na=False)]"
   ]
  },
  {
   "cell_type": "code",
   "execution_count": null,
   "metadata": {},
   "outputs": [],
   "source": [
    "# Se imprimen las líneas que contienen el valor 'NaN' en la columna 'cut'\n",
    "print(df[df['cut'].isnull()])\n"
   ]
  },
  {
   "cell_type": "code",
   "execution_count": null,
   "metadata": {},
   "outputs": [],
   "source": [
    "filas_valor_cero = df[df['cut'].str.startswith('0', na=False)]\n",
    "filas_valor_cero"
   ]
  },
  {
   "cell_type": "markdown",
   "metadata": {},
   "source": [
    "No hay valores '0'."
   ]
  },
  {
   "cell_type": "markdown",
   "metadata": {},
   "source": [
    "#### 2.3.3-COLUMNA: 'color'."
   ]
  },
  {
   "cell_type": "code",
   "execution_count": null,
   "metadata": {},
   "outputs": [],
   "source": [
    "# Se imprimen los valores únicos de la columna junto a su frecuencia de aparición.\n",
    "print(df['color'].value_counts(dropna=False))"
   ]
  },
  {
   "cell_type": "markdown",
   "metadata": {},
   "source": [
    "Se observa que, además de los 2 valores 'NaN', también aparece un valor '?' no esperado en la columna."
   ]
  },
  {
   "cell_type": "code",
   "execution_count": null,
   "metadata": {},
   "outputs": [],
   "source": [
    "# Se imprimen las líneas que contienen el valor 'NaN' en la columna 'color'\n",
    "print(df[df['color'].isnull()])\n"
   ]
  },
  {
   "cell_type": "code",
   "execution_count": null,
   "metadata": {},
   "outputs": [],
   "source": [
    "filas_valor_cero = df[df['color'].str.startswith('0', na=False)]\n",
    "filas_valor_cero"
   ]
  },
  {
   "cell_type": "markdown",
   "metadata": {},
   "source": [
    "#### 2.3.4-COLUMNA: 'clarity'."
   ]
  },
  {
   "cell_type": "code",
   "execution_count": null,
   "metadata": {},
   "outputs": [],
   "source": [
    "# Se imprimen los valores únicos de la columna.\n",
    "print(df['clarity'].unique())"
   ]
  },
  {
   "cell_type": "code",
   "execution_count": null,
   "metadata": {},
   "outputs": [],
   "source": [
    "# Se imprimen los valores únicos de la columna junto a su frecuencia de aparición.\n",
    "df['clarity'].value_counts(dropna=False)"
   ]
  },
  {
   "cell_type": "markdown",
   "metadata": {},
   "source": [
    "En este caso, aparecen 2 valores NaN."
   ]
  },
  {
   "cell_type": "code",
   "execution_count": null,
   "metadata": {},
   "outputs": [],
   "source": [
    "# Se imprimen las líneas que contienen el valor 'NaN' en la columna 'clarity'\n",
    "print(df[df['clarity'].isnull()])\n"
   ]
  },
  {
   "cell_type": "code",
   "execution_count": null,
   "metadata": {},
   "outputs": [],
   "source": [
    "filas_valor_cero = df[df['clarity'].str.startswith('0', na=False)]\n",
    "filas_valor_cero"
   ]
  },
  {
   "cell_type": "markdown",
   "metadata": {},
   "source": [
    "#### 2.3.5-COLUMNA: 'table'."
   ]
  },
  {
   "cell_type": "code",
   "execution_count": null,
   "metadata": {},
   "outputs": [],
   "source": [
    "# Se imprimen los valores únicos de la columna.\n",
    "print(df['table'].unique())"
   ]
  },
  {
   "cell_type": "code",
   "execution_count": null,
   "metadata": {},
   "outputs": [],
   "source": [
    "# Se imprimen los valores únicos de la columna junto a su frecuencia de aparición.\n",
    "df['table'].value_counts(dropna=False)"
   ]
  },
  {
   "cell_type": "code",
   "execution_count": null,
   "metadata": {},
   "outputs": [],
   "source": [
    "# Se imprimen las líneas que contienen el valor 'NaN' en la columna.\n",
    "print(df[df['table'].isnull()])\n"
   ]
  },
  {
   "cell_type": "markdown",
   "metadata": {},
   "source": [
    "Aquí aparecen otros 2 valores NaN."
   ]
  },
  {
   "cell_type": "code",
   "execution_count": null,
   "metadata": {},
   "outputs": [],
   "source": [
    "filas_valor_cero = df[df['table']==0]\n",
    "filas_valor_cero"
   ]
  },
  {
   "cell_type": "markdown",
   "metadata": {},
   "source": [
    "#### 2.3.6-COLUMNA: 'price'."
   ]
  },
  {
   "cell_type": "code",
   "execution_count": null,
   "metadata": {},
   "outputs": [],
   "source": [
    "# Se imprimen los valores únicos de la columna.\n",
    "print(df['price'].unique())"
   ]
  },
  {
   "cell_type": "code",
   "execution_count": null,
   "metadata": {},
   "outputs": [],
   "source": [
    "# Se imprimen los valores únicos de la columna junto a su frecuencia de aparición.\n",
    "df['price'].value_counts(dropna=False)"
   ]
  },
  {
   "cell_type": "code",
   "execution_count": null,
   "metadata": {},
   "outputs": [],
   "source": [
    "# Se imprimen las líneas que contienen el valor 'NaN' en la columna.\n",
    "print(df[df['price'].isnull()])\n"
   ]
  },
  {
   "cell_type": "markdown",
   "metadata": {},
   "source": [
    "Esta columna 'price' contiene valores que representan precios (en formato string) de diamantes. Dado que un precio '0' puede representar un valor anómalo no esperado, se busca en la columna si existe algún valor '0' o '0.'. Dando como resultado que no existe ningún valor de este tipo. En un apartado posterior, se realizará la conversión de tipo de dato a un tipo numérico más adecuado."
   ]
  },
  {
   "cell_type": "code",
   "execution_count": null,
   "metadata": {},
   "outputs": [],
   "source": [
    "print(('0' in df['price']) | ('0.' in df['price']))\n"
   ]
  },
  {
   "cell_type": "markdown",
   "metadata": {},
   "source": [
    "#### 2.3.7-COLUMNA: 'x'."
   ]
  },
  {
   "cell_type": "code",
   "execution_count": null,
   "metadata": {},
   "outputs": [],
   "source": [
    "# Se imprimen los valores únicos de la columna.\n",
    "print(df['x'].unique())"
   ]
  },
  {
   "cell_type": "code",
   "execution_count": null,
   "metadata": {},
   "outputs": [],
   "source": [
    "# Se imprimen los valores únicos de la columna junto a su frecuencia de aparición.\n",
    "df['x'].value_counts(dropna=False)"
   ]
  },
  {
   "cell_type": "markdown",
   "metadata": {},
   "source": [
    "Aparece un valor '?'."
   ]
  },
  {
   "cell_type": "code",
   "execution_count": null,
   "metadata": {},
   "outputs": [],
   "source": [
    "# Se imprimen las líneas que contienen el valor 'NaN' en la columna.\n",
    "print(df[df['x'].isnull()])\n"
   ]
  },
  {
   "cell_type": "code",
   "execution_count": null,
   "metadata": {},
   "outputs": [],
   "source": [
    "filas_valor_cero = df[df['x'].str.startswith('0', na=False)]\n",
    "filas_valor_cero"
   ]
  },
  {
   "cell_type": "markdown",
   "metadata": {},
   "source": [
    "En esta columna, también aparecen varios valores '0', que deberán ser tratados adecuadamente."
   ]
  },
  {
   "cell_type": "markdown",
   "metadata": {},
   "source": [
    "#### 2.3.8-COLUMNA: 'y'."
   ]
  },
  {
   "cell_type": "code",
   "execution_count": null,
   "metadata": {},
   "outputs": [],
   "source": [
    "# Se imprimen los valores únicos de la columna.\n",
    "print(df['y'].unique())"
   ]
  },
  {
   "cell_type": "code",
   "execution_count": null,
   "metadata": {},
   "outputs": [],
   "source": [
    "# Se imprimen los valores únicos de la columna junto a su frecuencia de aparición.\n",
    "df['y'].value_counts(dropna=False)"
   ]
  },
  {
   "cell_type": "code",
   "execution_count": null,
   "metadata": {},
   "outputs": [],
   "source": [
    "filas_valor_cero = df[df['y']==0]\n",
    "filas_valor_cero"
   ]
  },
  {
   "cell_type": "code",
   "execution_count": null,
   "metadata": {},
   "outputs": [],
   "source": [
    "# Se imprimen las líneas que contienen el valor 'NaN' en la columna.\n",
    "print(df[df['y'].isnull()])\n"
   ]
  },
  {
   "cell_type": "markdown",
   "metadata": {},
   "source": [
    "#### 2.3.9-COLUMNA: 'z'."
   ]
  },
  {
   "cell_type": "code",
   "execution_count": null,
   "metadata": {},
   "outputs": [],
   "source": [
    "# Se imprimen los valores únicos de la columna.\n",
    "print(df['z'].unique())"
   ]
  },
  {
   "cell_type": "code",
   "execution_count": null,
   "metadata": {},
   "outputs": [],
   "source": [
    "# Se imprimen los valores únicos de la columna junto a su frecuencia de aparición.\n",
    "df['z'].value_counts(dropna=False)"
   ]
  },
  {
   "cell_type": "code",
   "execution_count": null,
   "metadata": {},
   "outputs": [],
   "source": [
    "filas_valor_cero = df[df['z']==0]\n",
    "filas_valor_cero"
   ]
  },
  {
   "cell_type": "code",
   "execution_count": null,
   "metadata": {},
   "outputs": [],
   "source": [
    "# Se imprimen las líneas que contienen el valor 'NaN' en la columna.\n",
    "print(df[df['z'].isnull()])\n"
   ]
  },
  {
   "cell_type": "markdown",
   "metadata": {},
   "source": [
    "#### 2.3.10-COLUMNA: 'depth'."
   ]
  },
  {
   "cell_type": "code",
   "execution_count": null,
   "metadata": {},
   "outputs": [],
   "source": [
    "# Se imprimen los valores únicos de la columna.\n",
    "print(df['depth'].unique())"
   ]
  },
  {
   "cell_type": "code",
   "execution_count": null,
   "metadata": {},
   "outputs": [],
   "source": [
    "# Se imprimen los valores únicos de la columna junto a su frecuencia de aparición.\n",
    "df['depth'].value_counts(dropna=False)"
   ]
  },
  {
   "cell_type": "code",
   "execution_count": null,
   "metadata": {},
   "outputs": [],
   "source": [
    "# Se imprimen las líneas que contienen el valor 'NaN' en la columna.\n",
    "print(df[df['depth'].isnull()])\n"
   ]
  },
  {
   "cell_type": "markdown",
   "metadata": {},
   "source": [
    "La columna 'depth' no presenta ni valores 'NaN' ni ningún otro tipo de dato inconsistente."
   ]
  },
  {
   "cell_type": "markdown",
   "metadata": {},
   "source": [
    "### 2.4-TRATAMIENTO DE DATOS NULOS O INCONSISTENTES, LIMPIEZA Y CAMBIO DE TIPOS DE DATO ."
   ]
  },
  {
   "cell_type": "markdown",
   "metadata": {},
   "source": [
    "Resúmen de las inconsistencias detectadas.\n",
    "\n",
    "<table style=\"width:20%\">\n",
    "<tr>\n",
    "<th></th>\n",
    "<th>CARAT</th>\n",
    "<th>CUT</th>\n",
    "<th>COLOR</th>\n",
    "<th>CLARITY</th>\n",
    "<th>DEPTH</th>\n",
    "<th>TABLE</th>\n",
    "<th>PRICE</th>\n",
    "<th>X</th>\n",
    "<th>Y</th>\n",
    "<th>Z</th>\n",
    "</tr>\n",
    "<tr>\n",
    "<td>TIPO DATO Actual</td>\n",
    "<td>FLOAT64</td>\n",
    "<td>OBJECT</td>\n",
    "<td>OBJECT</td>\n",
    "<td>OBJECT</td>\n",
    "<td>FLOAT64</td>\n",
    "<td>FLOAT64</td>\n",
    "<td>OBJECT</td>\n",
    "<td>OBJECT</td>\n",
    "<td>FLOAT64</td>\n",
    "<td>FLOAT64</td>\n",
    "</tr>\n",
    "\n",
    "<tr>\n",
    "<td>TIPO DATO Óptimo</td>\n",
    "<td>FLOAT64</td>\n",
    "<td>CATEGORY</td>\n",
    "<td>OBJECT</td>\n",
    "<td>CATEGORY</td>\n",
    "<td>FLOAT64</td>\n",
    "<td>FLOAT64</td>\n",
    "<td>FLOAT64</td>\n",
    "<td>FLOAT64</td>\n",
    "<td>FLOAT64</td>\n",
    "<td>FLOAT64</td>\n",
    "</tr>\n",
    "\n",
    "<tr>\n",
    "<td>NaN</td>\n",
    "<td>SÍ</td>\n",
    "<td>SÍ</td>\n",
    "<td>SÍ</td>\n",
    "<td>SÍ</td>\n",
    "<td>NO</td>\n",
    "<td>SÍ</td>\n",
    "<td>SÍ</td>\n",
    "<td>SÍ</td>\n",
    "<td>SÍ</td>\n",
    "<td>SÍ</td>\n",
    "</tr>\n",
    "\n",
    "<tr>\n",
    "<td>?</td>\n",
    "<td>NO</td>\n",
    "<td>SÍ</td>\n",
    "<td>SÍ</td>\n",
    "<td>NO</td>\n",
    "<td>NO</td>\n",
    "<td>NO</td>\n",
    "<td>SÍ</td>\n",
    "<td>SÍ</td>\n",
    "<td>NO</td>\n",
    "<td>NO</td>\n",
    "</tr>\n",
    "\n",
    "<tr>\n",
    "<td>0</td>\n",
    "<td>NO</td>\n",
    "<td>NO</td>\n",
    "<td>NO</td>\n",
    "<td>NO</td>\n",
    "<td>NO</td>\n",
    "<td>NO</td>\n",
    "<td>NO</td>\n",
    "<td>SÍ</td>\n",
    "<td>SÍ</td>\n",
    "<td>SÍ</td>\n",
    "</tr>\n",
    "</table>\n"
   ]
  },
  {
   "cell_type": "markdown",
   "metadata": {},
   "source": [
    "De los datos inconsistentes detectados, tal y como aparecen en la tabla superior, el proceso que se va a realizar es el siguiente:\n",
    "<ol>\n",
    "<li>Definición de valores a tratar.</li>\n",
    "<li>Tratamiento de datos inconsistentes:\n",
    "<ul>\n",
    "<li>Sustituir los valores '?' por otro valor, por ejemplo 'NaN', para su posterior tratamiento.</li>\n",
    "<li>Sustituir los valores 'NaN' por las medianas (valores numéricos) o por las modas (valores no numéricos).</li>\n",
    "<li>Sustituir los valores '0' y '0.' por las medianas.</li>\n",
    "</ul>\n",
    "<li>Eliminar filas duplicadas.</li>\n",
    "<li>Realizar la conversión de tipo de datos.</li>\n",
    "</ol>"
   ]
  },
  {
   "cell_type": "markdown",
   "metadata": {},
   "source": [
    "#### 2.4.1-VALORES A TRATAR."
   ]
  },
  {
   "cell_type": "markdown",
   "metadata": {},
   "source": [
    "##### 2.4.1.1-VALORES NaN O NULOS."
   ]
  },
  {
   "cell_type": "markdown",
   "metadata": {},
   "source": [
    "Se buscan aquellas columnas del DataFrame que puedan contener, al menos, un valor NaN o nulo. Se crea una lista con los nombres de las columnas del DataFrame con alguna coincidencia."
   ]
  },
  {
   "cell_type": "code",
   "execution_count": null,
   "metadata": {},
   "outputs": [],
   "source": [
    "lista_columnas_nan = buscar_caracter_df(df, np.nan)\n",
    "print(f'Las columnas del DataFrame que contienen algún valor NaN o nulo son: {lista_columnas_nan}')"
   ]
  },
  {
   "cell_type": "markdown",
   "metadata": {},
   "source": [
    "##### 2.4.1.2-VALORES ESPECIALES."
   ]
  },
  {
   "cell_type": "markdown",
   "metadata": {},
   "source": [
    "Fruto del estudio de los valores únicos de las columnas, se ha detectado la presencia del valor '?' en algunas de las mismas. A continuación, se genera una lista de nombres de columnas del DataFrame que contiene, como valor, algún caracter '?'."
   ]
  },
  {
   "cell_type": "code",
   "execution_count": null,
   "metadata": {},
   "outputs": [],
   "source": [
    "lista_columnas_caracter_especial = buscar_caracter_df (df, '\\\\?') # Como el caracter '?' es un caracter especial, se debe anteponer el caracter '\\' para que sea reconocido como un caracter normal y no como el comienzo de una expresión regular.\n",
    "print(f'Las columnas del DataFrame que contienen algún valor \"?\" son: {lista_columnas_caracter_especial}')"
   ]
  },
  {
   "cell_type": "markdown",
   "metadata": {},
   "source": [
    "##### 2.4.1.3-VALORES 0."
   ]
  },
  {
   "cell_type": "markdown",
   "metadata": {},
   "source": [
    "En los resultados de los valores únicos de las columnas del DataFrame, se ha detectado que algunas columnas contienen valores 0. Se genera una lista de nombres de columnas del DataFrame que contienen, al menos, un valor 0."
   ]
  },
  {
   "cell_type": "code",
   "execution_count": null,
   "metadata": {},
   "outputs": [],
   "source": [
    "lista_columnas_ceros = buscar_ceros_df (df)\n",
    "print(f'Las columnas del DataFrame que contienen algún valor \"0\" son: {lista_columnas_ceros}')"
   ]
  },
  {
   "cell_type": "markdown",
   "metadata": {},
   "source": [
    "De todo el DataFrame, la única columna que puede tener algún sentido que contenga un valor 0 es la columna 'price'. Aunque este valor en la columna indicada pueda tener sentido en algún caso particular, no es lo deseable. No obstante, no se ha detectado ningún valor 0 en la columna 'price'.\n",
    "<p>Sin embargo, en donde sí se han detectado valores 0 son en las columnas 'x', 'y' y 'z'. Estas columnas representan las dimensiones de los diamantes, por tanto, la presencia de valores 0 en estas columnas sí suponen un problema, ya que 0 no es un valor esperable en las columnas indicadas. Estas columnas deberán ser tratadas apropiadamente."
   ]
  },
  {
   "cell_type": "markdown",
   "metadata": {},
   "source": [
    "#### 2.4.2-TRATAMIENTO DE DATOS INCONSISTENTES."
   ]
  },
  {
   "cell_type": "markdown",
   "metadata": {},
   "source": [
    "##### 2.4.2.1-VALORES '?'."
   ]
  },
  {
   "cell_type": "markdown",
   "metadata": {},
   "source": [
    "Se reeplazan los valores '?' por un valor NaN, en aquellas columnas en las que se hadtectado dicho valor."
   ]
  },
  {
   "cell_type": "code",
   "execution_count": null,
   "metadata": {},
   "outputs": [],
   "source": [
    "df = reemplazar_caracter_por_nan(df, lista_columnas_caracter_especial, '?')"
   ]
  },
  {
   "cell_type": "markdown",
   "metadata": {},
   "source": [
    "##### 2.4.2.2-VALORES NaN O NULOS."
   ]
  },
  {
   "cell_type": "markdown",
   "metadata": {},
   "source": [
    "Se reemplazan los valores NaN o nulos por: la mediana, en el caso de valores numéricos; la moda, en el caso de valores no numéricos."
   ]
  },
  {
   "cell_type": "code",
   "execution_count": null,
   "metadata": {},
   "outputs": [],
   "source": [
    "df = reemplazar_nan(df, lista_columnas_nan)"
   ]
  },
  {
   "cell_type": "markdown",
   "metadata": {},
   "source": [
    "##### 2.4.2.3-VALORES 0."
   ]
  },
  {
   "cell_type": "markdown",
   "metadata": {},
   "source": [
    "Se reemplazan los valores 0 o '0' por: la mediana, en el caso de columnas con valores numéricos; la moda, en el caso de columnas con valores no numéricos."
   ]
  },
  {
   "cell_type": "code",
   "execution_count": null,
   "metadata": {},
   "outputs": [],
   "source": [
    "df = reemplazar_ceros(df, lista_columnas_ceros)"
   ]
  },
  {
   "cell_type": "markdown",
   "metadata": {},
   "source": [
    "#### 2.4.3-ELIMINAR FILAS DUPLICADAS."
   ]
  },
  {
   "cell_type": "code",
   "execution_count": 65,
   "metadata": {},
   "outputs": [
    {
     "name": "stdout",
     "output_type": "stream",
     "text": [
      "Número de filas antes de eliminar duplicados: 53940\n",
      "Se han encontrado 146 filas duplicadas.\n",
      "Se han eliminado 146 filas duplicadas.\n",
      "El DataFrame contiene ahora 53794 filas.\n"
     ]
    }
   ],
   "source": [
    "df = eliminar_filas_duplicadas(df)"
   ]
  }
 ],
 "metadata": {
  "kernelspec": {
   "display_name": "Python 3",
   "language": "python",
   "name": "python3"
  },
  "language_info": {
   "codemirror_mode": {
    "name": "ipython",
    "version": 3
   },
   "file_extension": ".py",
   "mimetype": "text/x-python",
   "name": "python",
   "nbconvert_exporter": "python",
   "pygments_lexer": "ipython3",
   "version": "3.13.1"
  }
 },
 "nbformat": 4,
 "nbformat_minor": 2
}
