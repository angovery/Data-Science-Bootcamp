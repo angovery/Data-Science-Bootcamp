{
 "cells": [
  {
   "cell_type": "markdown",
   "metadata": {},
   "source": [
    "# ANÁLISIS DEL DATASET \"DIAMONDS\"."
   ]
  },
  {
   "cell_type": "markdown",
   "metadata": {},
   "source": [
    "## 1-CARGA DE DATOS Y LIBRERÍAS DE PYTHON."
   ]
  },
  {
   "cell_type": "markdown",
   "metadata": {},
   "source": [
    "### 1.1-CARGA DE LIBRERÍAS DE PYTHON."
   ]
  },
  {
   "cell_type": "code",
   "execution_count": 1,
   "metadata": {},
   "outputs": [],
   "source": [
    "import numpy as np\n",
    "import pandas as pd\n",
    "import seaborn as sns\n",
    "import plotly.express as px"
   ]
  },
  {
   "cell_type": "markdown",
   "metadata": {},
   "source": [
    "### 1.2-CARGA DE DATOS."
   ]
  },
  {
   "cell_type": "code",
   "execution_count": 2,
   "metadata": {},
   "outputs": [],
   "source": [
    "# Archivo fuente de datos\n",
    "file = './Data/diamonds.csv'\n",
    "\n",
    "# Carga del archivo fuente y generación del DataFrame\n",
    "df = pd.read_csv(file)"
   ]
  },
  {
   "cell_type": "markdown",
   "metadata": {},
   "source": [
    "## 2-ANÁLISIS PRELIMINAR DEL DATAFRAME."
   ]
  },
  {
   "cell_type": "markdown",
   "metadata": {},
   "source": [
    "### 2.1-ANÁLISIS DE LA ESTRUCTURA DEL DATAFRAME."
   ]
  },
  {
   "cell_type": "markdown",
   "metadata": {},
   "source": [
    "#### 2.1.1-VISUALIZACIÓN PREVIA DEL DATAFRAME."
   ]
  },
  {
   "cell_type": "code",
   "execution_count": null,
   "metadata": {},
   "outputs": [],
   "source": [
    "df.head(5)"
   ]
  },
  {
   "cell_type": "code",
   "execution_count": null,
   "metadata": {},
   "outputs": [],
   "source": [
    "df[25000::5]"
   ]
  },
  {
   "cell_type": "code",
   "execution_count": null,
   "metadata": {},
   "outputs": [],
   "source": [
    "df.tail(5)"
   ]
  },
  {
   "cell_type": "markdown",
   "metadata": {},
   "source": [
    "Como se puede observar en las tablas superiores, el DataFrame cargado consta de 53.940 filas y 10 columnas, de las cuales, 7 columnas son numéricas y 3 columnas son categóricas, en principio."
   ]
  },
  {
   "cell_type": "markdown",
   "metadata": {},
   "source": [
    "#### 2.1.2-ANÁLISIS DE LA INCONSISTENCIA DE DATOS."
   ]
  },
  {
   "cell_type": "code",
   "execution_count": null,
   "metadata": {},
   "outputs": [],
   "source": [
    "df.info()"
   ]
  },
  {
   "cell_type": "markdown",
   "metadata": {},
   "source": [
    "Al ampliar la información del DataFrame, como se puede apreciar en la tabla superior, se indica que el DataFrame tiene 53.940 filas. Sin embargo, existe una única columna (la 4 - 'depth') en cuyas observaciones no existe ningún valor nulo. En el resto de columnas, se han detectado valores nulos: existen columnas con 1 valor nulo ('carat', 'y', 'z'), 2 valores nulos ('color', 'clarity', 'table' y 'price') y 3 valores nulos ('cut').\n",
    "<p>Por otra parte, algunas columnas no tienen el tipo de dato que se esperaba a priori. Por ejemplo, las columnas 'price' y 'x', en principio, se esperaban que contuvieran valores numéricos y se han detectado valores de tipo 'object', por lo que los valores de las columnas indicadas pueden haberse cargado como tipo 'string'.\n",
    "<P>Por todo ello, nos hace pensar que existen valores inconsistentes en las columnas mencionadas que hay que tratar adecuadamente. \n",
    "<p>En principio, las cantidades de estas inconsitencias encontradas no son muy numerosas. Dada la cantidad total de las filas del DataFrame, las inconsistencias no parecen tener un peso importante en el conjunto del mismo, y una de las opciones podría ser eliminar directamente las filas afectadas. No obstante, es preferible evitar su eliminación (afín de no perder información) y las filas/columnas afectadas se van a tratar adecuadamente. Para ello, a continuación se procede al análisis de cada columna afectada."
   ]
  },
  {
   "cell_type": "code",
   "execution_count": null,
   "metadata": {},
   "outputs": [],
   "source": [
    "\"\"\" print(df[df['carat'].isnull()])\n",
    "print(df[df['cut'].isnull()])\n",
    "print(df[df['color'].isnull()])\n",
    "print(df[df['clarity'].isnull()])\n",
    "print(df[df['table'].isnull()])\n",
    "print(df[df['price'].isnull()])\n",
    "print(df[df['x'].isnull()])\n",
    "print(df[df['y'].isnull()])\n",
    "print(df[df['z'].isnull()])\n",
    "df[df['depth'].isnull()] \"\"\""
   ]
  },
  {
   "cell_type": "markdown",
   "metadata": {},
   "source": [
    "##### 2.1.2.1-ANÁLISIS POR COLUMNA: 'carat'."
   ]
  },
  {
   "cell_type": "code",
   "execution_count": null,
   "metadata": {},
   "outputs": [],
   "source": [
    "# Se imprimen los valores únicos de la columna. Se aprecia que el último valor obtenido es de tipo 'NaN\n",
    "print(df['carat'].unique())"
   ]
  },
  {
   "cell_type": "markdown",
   "metadata": {},
   "source": [
    "A parte de los valores NaN, no se aprecia ningún otro valor inconsistente en la columna."
   ]
  },
  {
   "cell_type": "code",
   "execution_count": null,
   "metadata": {},
   "outputs": [],
   "source": [
    "# Se imprime la línea que contiene el valor 'NaN' en la columna 'carat'\n",
    "print(df[df['carat'].isnull()])"
   ]
  },
  {
   "cell_type": "markdown",
   "metadata": {},
   "source": [
    "##### 2.1.2.2-ANÁLISIS POR COLUMNA: 'cut'."
   ]
  },
  {
   "cell_type": "code",
   "execution_count": null,
   "metadata": {},
   "outputs": [],
   "source": [
    "# Se imprimen los valores únicos de la columna.\n",
    "print(df['cut'].unique())"
   ]
  },
  {
   "cell_type": "markdown",
   "metadata": {},
   "source": [
    "Se observa que, además de los valores NaN, también aparece un valor (al menos uno) '?' que no se correspondería con un valor esperado en la columna 'cut'. Dado que, en un próximo apartado, se van a tratar en bloque todos los valores NaN, en esta columna, al tratarse de un caso particular, se va a sustituir el valor '?' por NaN"
   ]
  },
  {
   "cell_type": "code",
   "execution_count": null,
   "metadata": {},
   "outputs": [],
   "source": [
    "filas_con_interrogacion = df[df['cut'].str.contains(r'\\?', na=False)]\n",
    "filas_con_interrogacion"
   ]
  },
  {
   "cell_type": "code",
   "execution_count": 12,
   "metadata": {},
   "outputs": [],
   "source": [
    "# Se reemplazan los carácteres '?' con NaN en la columna\n",
    "df['cut'] = df['cut'].replace('?', np.nan)"
   ]
  },
  {
   "cell_type": "code",
   "execution_count": null,
   "metadata": {},
   "outputs": [],
   "source": [
    "# Se imprimen las líneas que contienen el valor 'NaN' en la columna 'cut'\n",
    "print(df[df['cut'].isnull()])\n"
   ]
  },
  {
   "cell_type": "markdown",
   "metadata": {},
   "source": [
    "##### 2.1.2.3-ANÁLISIS POR COLUMNA: 'color'."
   ]
  },
  {
   "cell_type": "code",
   "execution_count": null,
   "metadata": {},
   "outputs": [],
   "source": [
    "# Se imprimen los valores únicos de la columna.\n",
    "print(df['color'].unique())"
   ]
  },
  {
   "cell_type": "code",
   "execution_count": null,
   "metadata": {},
   "outputs": [],
   "source": [
    "filas_con_interrogacion = df[df['color'].str.contains(r'\\?', na=False)]\n",
    "filas_con_interrogacion"
   ]
  },
  {
   "cell_type": "code",
   "execution_count": null,
   "metadata": {},
   "outputs": [],
   "source": [
    "filas_vacias = df[df['color'].str.contains(r'', na=False)]\n",
    "filas_vacias"
   ]
  },
  {
   "cell_type": "code",
   "execution_count": null,
   "metadata": {},
   "outputs": [],
   "source": [
    "# Se imprimen las líneas que contienen el valor 'NaN' en la columna 'color'\n",
    "print(df[df['color'].isnull()])\n"
   ]
  },
  {
   "cell_type": "markdown",
   "metadata": {},
   "source": [
    "En este caso, no existen valores NaN. Sin embargo, al igual que en la columna anterior, sí existen valores '?' que son valores no esperados en esta columna."
   ]
  },
  {
   "cell_type": "markdown",
   "metadata": {},
   "source": [
    "##### 2.1.2.4-ANÁLISIS POR COLUMNA: 'clarity'."
   ]
  },
  {
   "cell_type": "code",
   "execution_count": null,
   "metadata": {},
   "outputs": [],
   "source": [
    "# Se imprimen los valores únicos de la columna.\n",
    "print(df['clarity'].unique())"
   ]
  },
  {
   "cell_type": "code",
   "execution_count": null,
   "metadata": {},
   "outputs": [],
   "source": [
    "# Se imprimen las líneas que contienen el valor 'NaN' en la columna 'clarity'\n",
    "print(df[df['clarity'].isnull()])\n"
   ]
  },
  {
   "cell_type": "markdown",
   "metadata": {},
   "source": [
    "##### 2.1.2.5-ANÁLISIS POR COLUMNA: 'table'."
   ]
  },
  {
   "cell_type": "code",
   "execution_count": null,
   "metadata": {},
   "outputs": [],
   "source": [
    "# Se imprimen los valores únicos de la columna.\n",
    "print(df['table'].unique())"
   ]
  },
  {
   "cell_type": "code",
   "execution_count": null,
   "metadata": {},
   "outputs": [],
   "source": [
    "# Se imprimen las líneas que contienen el valor 'NaN' en la columna.\n",
    "print(df[df['table'].isnull()])\n"
   ]
  },
  {
   "cell_type": "markdown",
   "metadata": {},
   "source": [
    "##### 2.1.2.6-ANÁLISIS POR COLUMNA: 'price'."
   ]
  },
  {
   "cell_type": "code",
   "execution_count": null,
   "metadata": {},
   "outputs": [],
   "source": [
    "# Se imprimen los valores únicos de la columna.\n",
    "print(df['price'].unique())"
   ]
  },
  {
   "cell_type": "code",
   "execution_count": null,
   "metadata": {},
   "outputs": [],
   "source": [
    "filas_valor_cero = df[df['price'].str.startswith('0', na=False)]\n",
    "filas_valor_cero"
   ]
  },
  {
   "cell_type": "code",
   "execution_count": null,
   "metadata": {},
   "outputs": [],
   "source": [
    "# Se imprimen las líneas que contienen el valor 'NaN' en la columna.\n",
    "print(df[df['price'].isnull()])\n"
   ]
  },
  {
   "cell_type": "markdown",
   "metadata": {},
   "source": [
    "##### 2.1.2.7-ANÁLISIS POR COLUMNA: 'x'."
   ]
  },
  {
   "cell_type": "code",
   "execution_count": null,
   "metadata": {},
   "outputs": [],
   "source": [
    "# Se imprimen los valores únicos de la columna.\n",
    "print(df['x'].unique())"
   ]
  },
  {
   "cell_type": "code",
   "execution_count": null,
   "metadata": {},
   "outputs": [],
   "source": [
    "filas_valor_cero = df[df['x'].str.startswith('0', na=False)]\n",
    "filas_valor_cero"
   ]
  },
  {
   "cell_type": "code",
   "execution_count": null,
   "metadata": {},
   "outputs": [],
   "source": [
    "# Se imprimen las líneas que contienen el valor 'NaN' en la columna.\n",
    "print(df[df['x'].isnull()])\n"
   ]
  },
  {
   "cell_type": "markdown",
   "metadata": {},
   "source": [
    "##### 2.1.2.8-ANÁLISIS POR COLUMNA: 'y'."
   ]
  },
  {
   "cell_type": "code",
   "execution_count": null,
   "metadata": {},
   "outputs": [],
   "source": [
    "# Se imprimen los valores únicos de la columna.\n",
    "print(df['y'].unique())"
   ]
  },
  {
   "cell_type": "code",
   "execution_count": null,
   "metadata": {},
   "outputs": [],
   "source": [
    "filas_valor_cero = df[df['y']==0]\n",
    "filas_valor_cero"
   ]
  },
  {
   "cell_type": "code",
   "execution_count": null,
   "metadata": {},
   "outputs": [],
   "source": [
    "# Se imprimen las líneas que contienen el valor 'NaN' en la columna.\n",
    "print(df[df['y'].isnull()])\n"
   ]
  },
  {
   "cell_type": "markdown",
   "metadata": {},
   "source": [
    "##### 2.1.2.9-ANÁLISIS POR COLUMNA: 'z'."
   ]
  },
  {
   "cell_type": "code",
   "execution_count": null,
   "metadata": {},
   "outputs": [],
   "source": [
    "# Se imprimen los valores únicos de la columna.\n",
    "print(df['z'].unique())"
   ]
  },
  {
   "cell_type": "code",
   "execution_count": null,
   "metadata": {},
   "outputs": [],
   "source": [
    "filas_valor_cero = df[df['z']==0]\n",
    "filas_valor_cero"
   ]
  },
  {
   "cell_type": "code",
   "execution_count": null,
   "metadata": {},
   "outputs": [],
   "source": [
    "# Se imprimen las líneas que contienen el valor 'NaN' en la columna.\n",
    "print(df[df['z'].isnull()])\n"
   ]
  },
  {
   "cell_type": "markdown",
   "metadata": {},
   "source": [
    "##### 2.1.2.10-ANÁLISIS POR COLUMNA: 'depth'."
   ]
  },
  {
   "cell_type": "code",
   "execution_count": null,
   "metadata": {},
   "outputs": [],
   "source": [
    "# Se imprimen los valores únicos de la columna.\n",
    "print(df['depth'].unique())"
   ]
  },
  {
   "cell_type": "code",
   "execution_count": null,
   "metadata": {},
   "outputs": [],
   "source": [
    "# Se imprimen las líneas que contienen el valor 'NaN' en la columna.\n",
    "print(df[df['depth'].isnull()])\n"
   ]
  },
  {
   "cell_type": "markdown",
   "metadata": {},
   "source": [
    "#### 2.1.3-LIMPIEZA Y TRATAMIENTO DE DATOS NULOS O INCONSISTENTES."
   ]
  },
  {
   "cell_type": "markdown",
   "metadata": {},
   "source": [
    "Se va a sustituir el valor 'NaN' por la mediana de la columna."
   ]
  },
  {
   "cell_type": "code",
   "execution_count": null,
   "metadata": {},
   "outputs": [],
   "source": [
    "# Se obtienen las columnas con, al menos, un valor NaN\n",
    "columnas_nan = df.columns[df.isnull().any()]\n",
    "print(\"Columnas con valores NaN:\", columnas_nan)\n",
    "\n",
    "# Reemplazar NaN con la mediana para columnas numéricas y la moda para categóricas\n",
    "for columna in columnas_nan:\n",
    "    if df[columna].dtype in ['float64', 'int64']:  # Si la columna es numérica\n",
    "        median = df[columna].median()\n",
    "        df[columna].fillna(median, inplace=True) # Se reemplaza NaN por la mediana\n",
    "    else:  # Si la columna es categórica o string ('object')\n",
    "        mode = df[columna].mode().iloc[0]  # Se selecciona la primera moda\n",
    "        df[columna].fillna(mode, inplace=True) # Se reemplaza NaN por la moda\n",
    "\n",
    "# Resultado\n",
    "\"\"\" print(\"\\nDataFrame después de reemplazar valores NaN:\")\n",
    "print(df) \"\"\"\n",
    "df.info()\n"
   ]
  }
 ],
 "metadata": {
  "kernelspec": {
   "display_name": "Python 3",
   "language": "python",
   "name": "python3"
  },
  "language_info": {
   "codemirror_mode": {
    "name": "ipython",
    "version": 3
   },
   "file_extension": ".py",
   "mimetype": "text/x-python",
   "name": "python",
   "nbconvert_exporter": "python",
   "pygments_lexer": "ipython3",
   "version": "3.13.1"
  }
 },
 "nbformat": 4,
 "nbformat_minor": 2
}
