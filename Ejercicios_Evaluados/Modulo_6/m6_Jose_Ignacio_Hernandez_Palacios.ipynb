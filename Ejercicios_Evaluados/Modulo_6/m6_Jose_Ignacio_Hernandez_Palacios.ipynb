{
 "cells": [
  {
   "cell_type": "markdown",
   "metadata": {},
   "source": [
    "# ANÁLISIS DATAFRAME 'DIAMONDS' CON PYSPARK."
   ]
  },
  {
   "cell_type": "markdown",
   "metadata": {},
   "source": [
    "## OBJETIVO DEL ESTUDIO."
   ]
  },
  {
   "cell_type": "markdown",
   "metadata": {},
   "source": [
    "<p>El objetivo del estudio es crear un modelo que sea capaz de predecir el precio de un diamante.</p>"
   ]
  },
  {
   "cell_type": "markdown",
   "metadata": {},
   "source": [
    "## 1.-CARGA DE LIBRERÍAS."
   ]
  },
  {
   "cell_type": "code",
   "execution_count": 10,
   "metadata": {},
   "outputs": [],
   "source": [
    "import seaborn as sns\n",
    "import pandas as pd\n",
    "import requests\n",
    "from pyspark.sql import SparkSession\n",
    "from pyspark.sql.types import StructType, StructField, FloatType, StringType, NumericType, IntegerType\n",
    "from pyspark.sql.functions import col, sum\n",
    "from pyspark.ml.feature import StringIndexer, Imputer, OneHotEncoder, VectorAssembler, MinMaxScaler\n",
    "from pyspark.ml.classification import RandomForestClassifier\n",
    "from pyspark.ml import Pipeline, PipelineModel\n",
    "from pyspark.ml.evaluation import MulticlassClassificationEvaluator\n",
    "from pyspark.ml.tuning import ParamGridBuilder, CrossValidator"
   ]
  },
  {
   "cell_type": "markdown",
   "metadata": {},
   "source": [
    "## 2.-CREACIÓN SESIÓN PYSPARK."
   ]
  },
  {
   "cell_type": "code",
   "execution_count": 11,
   "metadata": {},
   "outputs": [],
   "source": [
    "spark = SparkSession.builder.appName(\"pipeline_diamonds\").getOrCreate()"
   ]
  },
  {
   "cell_type": "markdown",
   "metadata": {},
   "source": [
    "## 3.-CARGA DEL DATAFRAME."
   ]
  },
  {
   "cell_type": "code",
   "execution_count": 12,
   "metadata": {},
   "outputs": [
    {
     "name": "stdout",
     "output_type": "stream",
     "text": [
      "+------+-------+-----+-------+-----+-----+-----+----+----+----+\n",
      "|caract|    cut|color|clarity|depth|table|price|   x|   y|   z|\n",
      "+------+-------+-----+-------+-----+-----+-----+----+----+----+\n",
      "|  0.23|  Ideal|    E|    SI2| 61.5| 55.0|326.0|3.95|3.98|2.43|\n",
      "|  0.21|Premium|    E|    SI1| 59.8| 61.0|326.0|3.89|3.84|2.31|\n",
      "|  0.23|   Good|    E|    VS1| 56.9| 65.0|327.0|4.05|4.07|2.31|\n",
      "|  0.29|Premium|    I|    VS2| 62.4| 58.0|334.0| 4.2|4.23|2.63|\n",
      "|  0.31|   Good|    J|    SI2| 63.3| 58.0|335.0|4.34|4.35|2.75|\n",
      "+------+-------+-----+-------+-----+-----+-----+----+----+----+\n",
      "only showing top 5 rows\n",
      "\n",
      "root\n",
      " |-- caract: float (nullable = true)\n",
      " |-- cut: string (nullable = true)\n",
      " |-- color: string (nullable = true)\n",
      " |-- clarity: string (nullable = true)\n",
      " |-- depth: float (nullable = true)\n",
      " |-- table: float (nullable = true)\n",
      " |-- price: float (nullable = true)\n",
      " |-- x: float (nullable = true)\n",
      " |-- y: float (nullable = true)\n",
      " |-- z: float (nullable = true)\n",
      "\n"
     ]
    }
   ],
   "source": [
    "url = 'https://raw.githubusercontent.com/mwaskom/seaborn-data/refs/heads/master/diamonds.csv' # Se define la URL del archivo csv.\n",
    "csv_path = 'diamonds.csv'           # Se define el nombre del archivo csv.\n",
    "\n",
    "with open(csv_path, 'wb') as file:                  # Se descarga el archivo csv.\n",
    "    file.write(requests.get(url).content)\n",
    "    \n",
    "schema = StructType([                               # Se define el Schema del DataFrame.\n",
    "    StructField('caract', FloatType(), True),\n",
    "    StructField('cut', StringType(), True),\n",
    "    StructField('color', StringType(), True),\n",
    "    StructField('clarity', StringType(), True),\n",
    "    StructField('depth', FloatType(), True),\n",
    "    StructField('table', FloatType(), True),\n",
    "    StructField('price', FloatType(), True),\n",
    "    StructField('x', FloatType(), True),\n",
    "    StructField('y', FloatType(), True),\n",
    "    StructField('z', FloatType(), True)\n",
    "])\n",
    "\n",
    "df = spark.read.csv(csv_path, header=True, inferSchema=False, schema=schema)    # Se lee el archivo csv con el Schema definido.\n",
    "df.show(5)          # Se muestran los primeros 5 registros del DataFrame.\n",
    "df.printSchema()    # Se muestra el Schema del DataFrame."
   ]
  },
  {
   "cell_type": "markdown",
   "metadata": {},
   "source": [
    "## 4.-PRE-PROCESADOS."
   ]
  },
  {
   "cell_type": "markdown",
   "metadata": {},
   "source": [
    "### 4.1.-Preparación previa del DataFRame."
   ]
  },
  {
   "cell_type": "markdown",
   "metadata": {},
   "source": [
    "#### 4.1.1.-Eliminación de valores 'NaN' en la columna objetivo."
   ]
  },
  {
   "cell_type": "code",
   "execution_count": 13,
   "metadata": {},
   "outputs": [],
   "source": [
    "# La variable objetivo es 'precio'. Por tanto, se eliminan las filas con valores nulos en esta variable.\n",
    "df = df.dropna(subset=['price'])"
   ]
  },
  {
   "cell_type": "markdown",
   "metadata": {},
   "source": [
    "#### 4.1.2.-Contabilizar valores 'NaN' en las columnas del DataFrame."
   ]
  },
  {
   "cell_type": "code",
   "execution_count": 14,
   "metadata": {},
   "outputs": [
    {
     "name": "stdout",
     "output_type": "stream",
     "text": [
      "+------+---+-----+-------+-----+-----+-----+---+---+---+\n",
      "|caract|cut|color|clarity|depth|table|price|  x|  y|  z|\n",
      "+------+---+-----+-------+-----+-----+-----+---+---+---+\n",
      "|     0|  0|    0|      0|    0|    0|    0|  0|  0|  0|\n",
      "+------+---+-----+-------+-----+-----+-----+---+---+---+\n",
      "\n"
     ]
    }
   ],
   "source": [
    "# Se cuentan los valores nulos en cada columna.\n",
    "df.select([sum(col(c).isNull().cast('int')).alias(c) for c in df.columns]).show()"
   ]
  },
  {
   "cell_type": "markdown",
   "metadata": {},
   "source": [
    "## 5.-REGRESIÓN DE LA COLUMNA NUMÉRICA 'price'."
   ]
  },
  {
   "cell_type": "markdown",
   "metadata": {},
   "source": [
    "### 5.1.-Separación de las columnas numéricas, no-numéricas y variable objetivo."
   ]
  },
  {
   "cell_type": "code",
   "execution_count": 15,
   "metadata": {},
   "outputs": [],
   "source": [
    "# Se seleccionan los nombres de las columnas a las que aplicar Preprocesados.\n",
    "num_cols = [field.name for field in df.schema.fields if isinstance(field.dataType, NumericType)]\n",
    "cat_cols = [field.name for field in df.schema.fields if isinstance(field.dataType, StringType) and field.name != 'price']\n",
    "label_col = 'price'"
   ]
  },
  {
   "cell_type": "markdown",
   "metadata": {},
   "source": [
    "### 5.2.-Indexados."
   ]
  },
  {
   "cell_type": "markdown",
   "metadata": {},
   "source": [
    "#### 5.2.1.-Indexado de la columna objetivo: 'price'."
   ]
  },
  {
   "cell_type": "code",
   "execution_count": null,
   "metadata": {},
   "outputs": [],
   "source": [
    "# Indexer para la columna a predecir 'price'.\n",
    "indexer_label = StringIndexer(\n",
    "    inputCol=label_col,\n",
    "    outputCol='label',\n",
    "    handleInvalid='keep'\n",
    ")"
   ]
  },
  {
   "cell_type": "markdown",
   "metadata": {},
   "source": [
    "### 5.2.2.-Indexado de la columnas categóricas."
   ]
  },
  {
   "cell_type": "code",
   "execution_count": null,
   "metadata": {},
   "outputs": [
    {
     "name": "stdout",
     "output_type": "stream",
     "text": [
      "['cut_indexed', 'color_indexed', 'clarity_indexed']\n"
     ]
    }
   ],
   "source": [
    "# Indexers para las features de la entrada que no son la columna label a predecir.\n",
    "# Se crea un objeto StringIndexer por cada columna categórica a indexar.\n",
    "indexers_features = [\n",
    "    StringIndexer(inputCol=c, outputCol=c + '_indexed', handleInvalid='keep') for c in cat_cols\n",
    "]\n",
    "cat_cols_indexed = [c + '_indexed' for c in cat_cols]\n",
    "print(cat_cols_indexed)"
   ]
  },
  {
   "cell_type": "markdown",
   "metadata": {},
   "source": [
    "### 5.3.-Procesados."
   ]
  },
  {
   "cell_type": "markdown",
   "metadata": {},
   "source": [
    "#### 5.3.1.-Columnas categóricas."
   ]
  }
 ],
 "metadata": {
  "kernelspec": {
   "display_name": "Python 3 (ipykernel)",
   "language": "python",
   "name": "python3"
  },
  "language_info": {
   "codemirror_mode": {
    "name": "ipython",
    "version": 3
   },
   "file_extension": ".py",
   "mimetype": "text/x-python",
   "name": "python",
   "nbconvert_exporter": "python",
   "pygments_lexer": "ipython3",
   "version": "3.11.6"
  }
 },
 "nbformat": 4,
 "nbformat_minor": 2
}
