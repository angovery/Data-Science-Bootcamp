{
 "cells": [
  {
   "cell_type": "markdown",
   "metadata": {},
   "source": [
    "# EJERCICIO MÓDULO 4: BASE DE DATOS 'SUPERMERCADO'"
   ]
  },
  {
   "cell_type": "markdown",
   "metadata": {},
   "source": [
    "## 1-CREACIÓN DE LA BASE DE DATOS."
   ]
  },
  {
   "cell_type": "markdown",
   "metadata": {},
   "source": [
    "Se genera una Base de Datos relacional cuya temática es la operativa habitual de un supermercado. Para ello, se definirán las correspondientes tablas de datos, así como las relaciones entre dichas tablas."
   ]
  },
  {
   "cell_type": "markdown",
   "metadata": {},
   "source": [
    "### 1.1-DEFINICIÓN DE LAS TABLAS DE DATOS."
   ]
  },
  {
   "cell_type": "markdown",
   "metadata": {},
   "source": [
    "Se define cada una de las tablas que componen la Base de Datos, junto a sus atributos, los tipos de datos y las relaciones."
   ]
  },
  {
   "cell_type": "markdown",
   "metadata": {},
   "source": [
    "#### 1.1.1-TABLA tiendas."
   ]
  },
  {
   "cell_type": "markdown",
   "metadata": {},
   "source": [
    "|Columna          |Tipo                       |Valores permitidos|\n",
    "|-----------------|---------------------------|------------------|\n",
    "|**id_tienda**    |INT UNSIGNED AUTO_INCREMENT|                  |\n",
    "|**nombre_tienda**|VARCHAR(60)                |                  |\n",
    "|**direccion**    |VARCHAR(80)                |                  |\n",
    "|**ciudad**       |VARCHAR(40)                |                  |\n",
    "|**cod_postal**   |INT(5) UNSIGNED            |                  |\n",
    "|**PRIMARY KEY**  |(id_tienda)                |                  |"
   ]
  },
  {
   "cell_type": "markdown",
   "metadata": {},
   "source": [
    "#### 1.1.2-TABLA empleados."
   ]
  },
  {
   "cell_type": "markdown",
   "metadata": {},
   "source": [
    "|Columna            |Tipo                                     |Valores permitidos                          |\n",
    "|-------------------|-----------------------------------------|--------------------------------------------|\n",
    "|**id_empleado**    |INT UNSIGNED AUTO_INCREMENT              |                                            |\n",
    "|**id_tienda**      |INT UNSIGNED                             |                                            |\n",
    "|**nombre_empleado**|VARCHAR(60)                              |                                            |\n",
    "|**puesto**         |ENUM                                     |'Cajero', 'Gerente', 'Reponedor', 'Vendedor'|\n",
    "|**PRIMARY KEY**    |(id_empleado)                            |                                            |\n",
    "|**FOREIGN KEY**    |(id_tienda) REFERENCES tienda (id_tienda)|                                            |"
   ]
  },
  {
   "cell_type": "markdown",
   "metadata": {},
   "source": [
    "#### 1.1.3-TABLA categorias."
   ]
  },
  {
   "cell_type": "markdown",
   "metadata": {},
   "source": [
    "|Columna             |Tipo                       |Valores permitidos|\n",
    "|--------------------|---------------------------|------------------|\n",
    "|**id_categoria**    |INT UNSIGNED AUTO_INCREMENT|                  |\n",
    "|**nombre_categoria**|VARCHAR(60)                |                  |\n",
    "|**PRIMARY KEY**     |(id_categoria)             |                  |"
   ]
  },
  {
   "cell_type": "markdown",
   "metadata": {},
   "source": [
    "#### 1.1.4-TABLA productos."
   ]
  },
  {
   "cell_type": "markdown",
   "metadata": {},
   "source": [
    "|Columna            |Tipo                                               |Valores permitidos|\n",
    "|-------------------|---------------------------------------------------|------------------|\n",
    "|**id_producto**    |INT UNSIGNED AUTO_INCREMENT                        |                  |\n",
    "|**id_categoria**   |INT UNSIGNED                                       |                  |\n",
    "|**nombre_producto**|VARCHAR(60)                                        |                  |\n",
    "|**precio**         |FLOAT(10,2)                                        |                  |\n",
    "|**stock**          |MEDIUMINT                                          |                  |\n",
    "|**PRIMARY KEY**    |(id_producto)                                      |                  |\n",
    "|**FOREIGN KEY**    |(id_categoria) REFERENCES categorias (id_categoria)|                  |"
   ]
  },
  {
   "cell_type": "markdown",
   "metadata": {},
   "source": [
    "#### 1.1.5-TABLA clientes."
   ]
  },
  {
   "cell_type": "markdown",
   "metadata": {},
   "source": [
    "|Columna             |Tipo                                   |Valores permitidos|\n",
    "|--------------------|---------------------------------------|------------------|\n",
    "|**id_cliente**      |INT UNSIGNED PRIMARY KEY AUTO_INCREMENT|                  |\n",
    "|**nombre_cliente**  |VARCHAR(60)                            |                  |\n",
    "|**apellido_cliente**|VARCHAR(60)                            |                  |\n",
    "|**email**           |VARCHAR(60)                            |                  |\n",
    "|**cod_postal**      |INT(5) UNSIGNED                        |                  |\n",
    "|**PRIMARY KEY**     |(id_cliente)                           |                  |"
   ]
  },
  {
   "cell_type": "markdown",
   "metadata": {},
   "source": [
    "#### 1.1.6-TABLA ordenes."
   ]
  },
  {
   "cell_type": "markdown",
   "metadata": {},
   "source": [
    "|Columna        |Tipo                                            |Valores permitidos   |\n",
    "|---------------|------------------------------------------------|---------------------|\n",
    "|**id_orden**   |INT UNSIGNED AUTO_INCREMENT                     |                     |\n",
    "|**id_cliente** |INT UNSIGNED                                    |                     |\n",
    "|**id_empleado**|INT UNSIGNED                                    |                     |\n",
    "|**fecha_orden**|DATE                                            |                     |\n",
    "|**metodo_pago**|ENUM                                            |'Tarjeta', 'Efectivo'|\n",
    "|**PRIMARY KEY**|(id_orden)                                      |                     |\n",
    "|**FOREIGN KEY**|(id_cliente) REFERENCES clientes (id_cliente)   |                     |\n",
    "|**FOREIGN KEY**|(id_empleado) REFERENCES empleados (id_empleado)|                     |"
   ]
  },
  {
   "cell_type": "markdown",
   "metadata": {},
   "source": [
    "#### 1.1.7-TABLA detalle_ordenes."
   ]
  },
  {
   "cell_type": "markdown",
   "metadata": {},
   "source": [
    "|Columna             |Tipo                                            |Valores permitidos|\n",
    "|--------------------|------------------------------------------------|------------------|\n",
    "|**id_detalle_orden**|INT UNSIGNED AUTO_INCREMENT                     |                  |\n",
    "|**id_orden**        |INT UNSIGNED                                    |                  |\n",
    "|**id_producto**     |INT UNSIGNED                                    |                  |\n",
    "|**cantidad**        |INT UNSIGNED                                    |                  |\n",
    "|**precio_unitario** |FLOAT(10,2)                                     |                  |\n",
    "|**descuento**       |FLOAT(3,2)                                      |                  |\n",
    "|**PRIMARY KEY**     |(id_detalle_orden)                              |                  |\n",
    "|**FOREIGN KEY**     |(id_orden) REFERENCES ordenes (id_orden)        |                  |\n",
    "|**FOREIGN KEY**     |(id_producto) REFERENCES productos (id_producto)|                  |"
   ]
  },
  {
   "cell_type": "markdown",
   "metadata": {},
   "source": [
    "### 1.2-CÓDIGO SQL DE LA BASE DE DATOS"
   ]
  },
  {
   "cell_type": "code",
   "execution_count": 1,
   "metadata": {},
   "outputs": [],
   "source": [
    "query = \"\"\"/*Se borra cualquier Base de Datos existente que tenga el mismo nombre*/\n",
    "\n",
    "DROP DATABASE IF EXISTS supermercado;\n",
    "\n",
    "/*Se crea la Base de Datos*/\n",
    "\n",
    "CREATE DATABASE IF NOT EXISTS supermercado;\n",
    "\n",
    "USE supermercado;\n",
    "\n",
    "/*Se crea la tabla tiendas*/\n",
    "\n",
    "CREATE TABLE tiendas (\n",
    "    id_tienda INT UNSIGNED AUTO_INCREMENT,\n",
    "    nombre_tienda VARCHAR(60),\n",
    "    direccion VARCHAR(80),\n",
    "    ciudad VARCHAR(40),\n",
    "    cod_postal INT(5) UNSIGNED,\n",
    "    PRIMARY KEY (id_tienda)\n",
    ");\n",
    "\n",
    "/*Se crea la tabla empleados*/\n",
    "\n",
    "CREATE TABLE empleados (\n",
    "    id_empleado INT UNSIGNED AUTO_INCREMENT,\n",
    "    id_tienda INT UNSIGNED,\n",
    "    nombre_empleado VARCHAR(60),\n",
    "    puesto ENUM ('Cajero', 'Gerente', 'Reponedor', 'Vendedor'),\n",
    "    PRIMARY KEY (id_empleado),\n",
    "    FOREIGN KEY (id_tienda) REFERENCES tiendas (id_tienda)\n",
    ");\n",
    "\n",
    "/*Se crea la tabla categorias*/\n",
    "\n",
    "CREATE TABLE categorias (\n",
    "    id_categoria INT UNSIGNED AUTO_INCREMENT,\n",
    "    nombre_categoria VARCHAR(60),\n",
    "    PRIMARY KEY (id_categoria)\n",
    ");\n",
    "\n",
    "/*Se crea la tabla productos*/\n",
    "\n",
    "CREATE TABLE productos (\n",
    "    id_producto INT UNSIGNED AUTO_INCREMENT,\n",
    "    id_categoria INT UNSIGNED,\n",
    "    nombre_producto VARCHAR(60),\n",
    "    precio FLOAT(10,2),\n",
    "    stock MEDIUMINT,\n",
    "    PRIMARY KEY (id_producto),\n",
    "    FOREIGN KEY (id_categoria) REFERENCES categorias (id_categoria)\n",
    ");\n",
    "\n",
    "/*Se crea la tabla clientes*/\n",
    "\n",
    "CREATE TABLE clientes (\n",
    "    id_cliente INT UNSIGNED AUTO_INCREMENT,\n",
    "    nombre_cliente VARCHAR(60),\n",
    "    apellid_cliente VARCHAR(60),\n",
    "    email VARCHAR(60),\n",
    "    cod_postal INT(5) UNSIGNED,\n",
    "    PRIMARY KEY (id_cliente)\n",
    ");\n",
    "\n",
    "/*Se crea la tabla ordenes*/\n",
    "\n",
    "CREATE TABLE ordenes (\n",
    "    id_orden INT UNSIGNED AUTO_INCREMENT,\n",
    "    id_cliente INT UNSIGNED,\n",
    "    id_empleado INT UNSIGNED,\n",
    "    fecha_orden DATE,\n",
    "    metodo_pago ENUM ('Tarjeta', 'Efectivo'),\n",
    "    PRIMARY KEY (id_orden),\n",
    "    FOREIGN KEY (id_cliente) REFERENCES clientes (id_cliente),\n",
    "    FOREIGN KEY (id_empleado) REFERENCES empleados (id_empleado)\n",
    ");\n",
    "\n",
    "/*Se crea la tabla detalle_ordenes*/\n",
    "\n",
    "CREATE TABLE detalle_ordenes (\n",
    "    id_detalle INT UNSIGNED AUTO_INCREMENT,\n",
    "    id_orden INT UNSIGNED,\n",
    "    id_producto INT UNSIGNED,\n",
    "    cantidad INT UNSIGNED,\n",
    "    precio_unitario FLOAT(10,2),\n",
    "    descuento FLOAT(3,2),\n",
    "    PRIMARY KEY (id_detalle),\n",
    "    FOREIGN KEY (id_orden) REFERENCES ordenes (id_orden),\n",
    "    FOREIGN KEY (id_producto) REFERENCES productos (id_producto)\n",
    ");\n",
    "\"\"\""
   ]
  },
  {
   "cell_type": "markdown",
   "metadata": {},
   "source": [
    "### 1.3-CÓDIGO PYTHON PARA GENERAR LA BASE DE DATOS."
   ]
  },
  {
   "cell_type": "markdown",
   "metadata": {},
   "source": [
    "#### 1.3.1-INICIALIZACIÓN DE LIBRERÍAS."
   ]
  },
  {
   "cell_type": "code",
   "execution_count": 2,
   "metadata": {},
   "outputs": [],
   "source": [
    "import pandas as pd\n",
    "import mysql\n",
    "import mysql.connector as con\n",
    "from mysql.connector import Error # Se importa el módulo de errores de conexión a Base de Datos.\n",
    "import random\n",
    "import datetime\n"
   ]
  },
  {
   "cell_type": "markdown",
   "metadata": {},
   "source": [
    "#### 1.3.2-CONEXIÓN Y CREACIÓN DE LA BASE DE DATOS."
   ]
  },
  {
   "cell_type": "code",
   "execution_count": null,
   "metadata": {},
   "outputs": [],
   "source": [
    "try:\n",
    "    conexion = con.connect( # Se crea la conexión.\n",
    "    host= 'localhost',\n",
    "    port = '3306',\n",
    "    user = 'root',\n",
    "    password = 'admin'\n",
    "    )\n",
    "    \n",
    "    if conexion.is_connected(): # Se comprueba si se ha establecido conexión correctamente con la Base de Datos.\n",
    "        print(\"Conexión correcta a MySQL.\")\n",
    "        cursor = conexion.cursor()\n",
    "        for sentencia in query.split(';'): # Se crea una lista, cuyos elementos son las sentencias SQL contenidas en la variable 'query', se recorren sus elementos.\n",
    "            if sentencia.strip(): # Elemento no vacío.\n",
    "                cursor.execute(sentencia) # Se ejecuta la sentencia.\n",
    "        print(\"Base de datos y tablas creadas correctamente.\")\n",
    "        \n",
    "except Error as e: # Se ha producido un error de conexión con la Base de Datos.\n",
    "    print(f\"Error al conectar con MySQL: {e}.\")\n",
    "    \n",
    "finally:\n",
    "    if conexion.is_connected(): # Se cierran cursor y conexión.\n",
    "        cursor.close()\n",
    "        conexion.close()\n",
    "        print(\"Conexión cerrada.\")\n",
    "\n"
   ]
  },
  {
   "cell_type": "markdown",
   "metadata": {},
   "source": [
    "## 2-GENERACIÓN DE DATOS DEMO."
   ]
  },
  {
   "cell_type": "markdown",
   "metadata": {},
   "source": [
    "### 2.1-FUNCIONES AUXILIARES."
   ]
  },
  {
   "cell_type": "markdown",
   "metadata": {},
   "source": [
    "#### 2.1.1-Función generar_tiendas()."
   ]
  },
  {
   "cell_type": "code",
   "execution_count": 4,
   "metadata": {},
   "outputs": [],
   "source": [
    "# Función para generar un DataFrame con un número aleatorio (entre 5 y 10) de tiendas.\n",
    "# Entrada: (vacía).\n",
    "# Salida: pd.DataFrame con datos de ejemplo de la tabla 'tienda'.\n",
    "def generar_tiendas():\n",
    "    \n",
    "    num_tiendas = random.randint(5, 10)     # Se genera el número de tiendas que se van a crear.\n",
    "    \n",
    "    # Se genera un diccionario, con el conjunto total (fijado en 20 elementos) de tiendas posibles, desde el que poder alimentar el DataFrame de salida.\n",
    "    dict_tiendas = {\n",
    "        \"id_tienda\": list(range(1, 21)),\n",
    "        \"nombre_tienda\": ['Supermercado' for num in range(20)],\n",
    "        \"direccion\": [\n",
    "            \"Calle Serrano, 47\", \"Avenida del Cid, 14\", \"Plaza Mayor, 5\", \"Calle Gran Vía, 21\", \"Carretera de Burgos, Km 12\",\n",
    "            \"Calle de Alcalá, 150\", \"Avenida Europa, 8\", \"Calle San Martín, 32\", \"Plaza del Sol, 3\", \"Calle Princesa, 25\",\n",
    "            \"Avenida de la Ilustración, 10\", \"Calle del Comercio, 19\", \"Calle Real, 44\", \"Calle Mayor, 9\", \"Calle del Juego, 11\",\n",
    "            \"Avenida de España, 17\", \"Calle Libertad, 6\", \"Plaza Nueva, 7\", \"Calle del Centro, 12\", \"Calle Industria, 20\"\n",
    "        ],\n",
    "        \"ciudad\": [\n",
    "            \"Madrid\", \"Valencia\", \"Barcelona\", \"Sevilla\", \"Bilbao\",\n",
    "            \"Málaga\", \"Granada\", \"Santander\", \"Alicante\", \"Zaragoza\",\n",
    "            \"Córdoba\", \"Valladolid\", \"Oviedo\", \"Murcia\", \"Toledo\",\n",
    "            \"Salamanca\", \"San Sebastián\", \"Palma\", \"Burgos\", \"Almería\"\n",
    "        ],\n",
    "        \"cod_postal\": [\n",
    "            28001, 46001, 8002, 41004, 48002,\n",
    "            29007, 18001, 39001, 30001, 50001,\n",
    "            14001, 47001, 33001, 30002, 45001,\n",
    "            37001, 20001, 7011, 9001, 40001\n",
    "        ]\n",
    "    }\n",
    "    \n",
    "    # Se formatean los códigos postales para convertirlos a cadenas con 5 dígitos.\n",
    "    dict_tiendas[\"cod_postal\"] = [f\"{codigo:05d}\" for codigo in dict_tiendas[\"cod_postal\"]]\n",
    "\n",
    "    # Se genera el DataFrame con todas las tiendas y se extrae una muestra aleatoria (sin repetición).\n",
    "    df = pd.DataFrame(dict_tiendas).sample(num_tiendas, replace=False, random_state=42).reset_index(drop=True)\n",
    "    \n",
    "    df[\"id_tienda\"] = range(1, len(df) + 1)     # Se reasignan números consecutivos a la columna 'id_tienda'.\n",
    "    \n",
    "    # Se actualizan los valores de 'nombre_tienda' para incluir el valor de 'id_tienda' y así darle un nombre único a la tienda.\n",
    "    df[\"nombre_tienda\"] = df.apply(lambda fila: f\"{fila['nombre_tienda']} {fila['id_tienda']}\", axis=1)\n",
    "    \n",
    "    df.set_index(\"id_tienda\", inplace=True)     # Se establece la columna 'id_tienda' como índice del DataFrame.\n",
    "    \n",
    "    return df"
   ]
  },
  {
   "cell_type": "markdown",
   "metadata": {},
   "source": [
    "#### 2.1.2-Función generar_empleados()."
   ]
  },
  {
   "cell_type": "code",
   "execution_count": 5,
   "metadata": {},
   "outputs": [],
   "source": [
    "# Función para generar un Dataframe de Pandas con datos de ejemplo de empleados, de forma aleatoria, para cada tienda generada. Se generarán 20 empleados por tienda. \n",
    "# Un mismo empleado no puede pertenecer a más de una tienda al mismo tiempo.\n",
    "# El valor del campo 'id_empleado' serán valores enteros cosecutivos, comenzando por '1'. Este campo, además, será el índice del DataFrame)\n",
    "# El valor del campo 'puesto' debe ser un valor, a elegir de forma aleatoria entre los siguientes valores posibles: (‘Cajero’, ‘Gerente’, ‘Reponedor’, ‘Vendedor’).\n",
    "# Entrada: Numero entero, mayor o igual a 1, de empleados a generar por tienda & lista con las id's de las tiendas generadas previamente. \n",
    "# Salida: pd.DataFrame con datos de ejemplo de la tabla 'empleados'.\n",
    "def generar_empleados(num_empleados, lista_id_tiendas):\n",
    "    \n",
    "    # Lista de nombres y apellidos para generar una combinacikón aleatoria nombre + apellido de empleados.\n",
    "    nombres = [\"Carlos\", \"María\", \"Luis\", \"Ana\", \"Javier\", \"Isabel\", \"Pedro\", \"Lucía\", \"Diego\", \"Elena\", \"Roberto\", \"Manuel\", \"Gonzalo\", \"Pilar\", \"Natalia\", \"Antonia\"]\n",
    "    apellidos = [\"García\", \"Martínez\", \"López\", \"Hernández\", \"Pérez\", \"González\", \"Sánchez\", \"Ramírez\", \"Torres\", \"Vargas\", \"Villarón\", \"Riquelme\", \"Bonparte\"]\n",
    "    puestos = ['Cajero', 'Gerente', 'Reponedor', 'Vendedor']\n",
    "\n",
    "    \n",
    "    lista_empleados = []        # Se genera una lista para almacenar los datos de empleados.\n",
    "    id_empleado = 1             # Se inicializa el id del empleado.\n",
    "\n",
    "    for id_tienda in lista_id_tiendas:                  # Se recorren los id's de las tiendas existentes.\n",
    "        for _ in range(num_empleados):                  # Se itera entre el número de empleados total que debe tener cada tienda.\n",
    "            nombre_empleado = f\"{random.choice(nombres)} {random.choice(apellidos)}\" # Se forma el string 'Nombre Apellido'.\n",
    "            puesto = random.choice(puestos)             # Se selecciona el puesto del empleado.\n",
    "            lista_empleados.append({                    # Se añade el diccionario con los datos de cada empleado a la lista.\n",
    "                \"id_empleado\": id_empleado,\n",
    "                \"id_tienda\": id_tienda,\n",
    "                \"nombre_empleado\": nombre_empleado,\n",
    "                \"puesto\": puesto\n",
    "            })\n",
    "            id_empleado += 1\n",
    "\n",
    "    df_empleados = pd.DataFrame(lista_empleados)        # Se crea el DataFrame a partir de la lista de empleados.\n",
    "    \n",
    "    df_empleados.set_index(\"id_empleado\", inplace=True) # Se establece la columna 'id_empleado' como índice del DataFrame.\n",
    "\n",
    "    return df_empleados"
   ]
  },
  {
   "cell_type": "code",
   "execution_count": null,
   "metadata": {},
   "outputs": [],
   "source": [
    "df_tiendas = generar_tiendas()\n",
    "print(df_tiendas)\n",
    "\n",
    "df_empleados = generar_empleados(10, df_tiendas.index.values)\n",
    "df_empleados"
   ]
  },
  {
   "cell_type": "markdown",
   "metadata": {},
   "source": [
    "#### 2.1.3-Función generar_categorias()."
   ]
  },
  {
   "cell_type": "code",
   "execution_count": 7,
   "metadata": {},
   "outputs": [],
   "source": [
    "# Función para generar un DataFrame de Pandas con 10 categorías de productos en venta.\n",
    "# Entrada: (vacía). \n",
    "# Salida: pd.DataFrame con datos de ejemplo de la tabla 'categorias'. El campo 'id_categoria' es el índice del DataFrame\n",
    "def generar_categorias():\n",
    "    \n",
    "    num_categorias = 10         # Se fija el número de categorías en 10.\n",
    "    lista_categorias = {\n",
    "        'id_categoria': [i + 1 for i in range(num_categorias)],     # Se genera una lista con los id_categoria.\n",
    "        'nombre_categorias': ['Lácteos', 'Carnes', 'Frutas', 'Verduras', 'Bebidas', 'Panadería', 'Higiene', 'Pescadería', 'Charcutería', 'Parafarmacia'] # Revisar en caso de que num_categorias > 10\n",
    "        }\n",
    "    df = pd.DataFrame(lista_categorias)\n",
    "    df.set_index('id_categoria', inplace=True)      # Se fija la columna 'id_categoria' como índice del DataFrame.\n",
    "    return df"
   ]
  },
  {
   "cell_type": "code",
   "execution_count": 15,
   "metadata": {},
   "outputs": [],
   "source": [
    "df_categorias = generar_categorias()"
   ]
  },
  {
   "cell_type": "markdown",
   "metadata": {},
   "source": [
    "#### 2.1.4-Función generar_productos()."
   ]
  },
  {
   "cell_type": "code",
   "execution_count": 13,
   "metadata": {},
   "outputs": [],
   "source": [
    "# Función que genera un DataFrame de Pandas con datos de ejemplo de productos por cada categoría existente en la tabla 'categorias'.\n",
    "# Entrada: pd.DataFrame de categorias & numero entero >=1.\n",
    "# Salida: pd.DataFrame con datos de productos de ejemplo por cada categoría existente en la tabla 'categorias'\n",
    "def generar_productos(n_productos,df_categorias):\n",
    "    \n",
    "    datos_productos = []                                    # Se genera una lista para almacenar los datos de los productos.\n",
    "\n",
    "    id_producto = 1                                         # Contador para el id_productos.\n",
    "    \n",
    "    for id_cat in df_categorias.index.values:               # Se recorrer los id_categorias.\n",
    "        for n_prod in range(n_productos):                   # Se itera el numéro deseado de productos por cada categoría.\n",
    "            nombre_producto = (f'Producto_{df_categorias['nombre_categorias'][id_cat]}_{n_prod+1}') # Se forma el nombre de producto: Prducto_Categoría_Numero.\n",
    "            precio = round(random.uniform(1.0, 100.0), 2)   # Se genera un precio aleatorio entre 1.00 y 100.00.\n",
    "            stock = random.randint(10, 200)                 # Se genera un stock aleatorio entre 10 y 200 unidades.\n",
    "            datos_productos.append({                        # Se añaden los datos de cada producto a la lista.\n",
    "                \"id_producto\": id_producto,\n",
    "                \"id_categoria\": id_cat,\n",
    "                \"nombre_producto\": nombre_producto,\n",
    "                \"precio\": precio,\n",
    "                \"stock\": stock\n",
    "            })\n",
    "            id_producto += 1\n",
    "\n",
    "    df_productos = pd.DataFrame(datos_productos)            # Se crea el DataFrame.\n",
    "    df_productos.set_index('id_producto', inplace=True)     # Se sustituye el índice del DataFrame por el id_producto.\n",
    "\n",
    "    return df_productos"
   ]
  },
  {
   "cell_type": "code",
   "execution_count": null,
   "metadata": {},
   "outputs": [],
   "source": [
    "df_productos = generar_productos(4,df_categorias)\n",
    "df_productos"
   ]
  },
  {
   "cell_type": "markdown",
   "metadata": {},
   "source": [
    "#### 2.1.5-Función generar_clientes()."
   ]
  },
  {
   "cell_type": "code",
   "execution_count": 48,
   "metadata": {},
   "outputs": [],
   "source": [
    "def generar_clientes(num_clientes):\n",
    "    \n",
    "    nombres_personas = [\n",
    "        \"Antonio\", \"María\", \"José\", \"Carmen\", \"Manuel\", \"Ana\", \"Francisco\", \"Laura\",\n",
    "        \"Juan\", \"Isabel\", \"David\", \"Marta\", \"Luis\", \"Sara\", \"Javier\", \"Lucía\",\n",
    "        \"Carlos\", \"Paula\", \"Miguel\", \"Elena\", \"Rafael\", \"Sofía\", \"Pedro\", \"Clara\",\n",
    "        \"Jorge\", \"Teresa\", \"Alberto\", \"Rosa\", \"Álvaro\", \"Beatriz\", \"Sergio\", \"Julia\",\n",
    "        \"Raúl\", \"Natalia\", \"Fernando\", \"Lorena\", \"Pablo\", \"Eva\", \"Diego\", \"Patricia\",\n",
    "        \"Andrés\", \"Gloria\", \"Héctor\", \"Alicia\", \"Guillermo\", \"Cristina\", \"Rubén\", \"Verónica\",\n",
    "        \"Vicente\", \"Noelia\", \"Óscar\", \"Silvia\", \"Adrián\", \"Nuria\", \"Ricardo\", \"Esther\",\n",
    "        \"Ramón\", \"Irene\", \"Roberto\", \"Andrea\"\n",
    "        ]\n",
    "    \n",
    "    apellidos_personas = [\n",
    "        \"García\", \"Martínez\", \"López\", \"Sánchez\", \"González\", \"Pérez\", \"Rodríguez\", \"Fernández\",\n",
    "        \"Gómez\", \"Ruiz\", \"Díaz\", \"Hernández\", \"Alonso\", \"Torres\", \"Gil\", \"Ramírez\",\n",
    "        \"Moreno\", \"Jiménez\", \"Molina\", \"Castro\", \"Ortiz\", \"Rubio\", \"Vázquez\", \"Romero\",\n",
    "        \"Serrano\", \"Navarro\", \"Ramos\", \"Domínguez\", \"Álvarez\", \"Gutiérrez\", \"Iglesias\", \"Suárez\",\n",
    "        \"Cruz\", \"Castillo\", \"Flores\", \"Delgado\", \"Nieto\", \"Aguilar\", \"Vega\", \"Herrera\",\n",
    "        \"Peña\", \"Cabrera\", \"Fuentes\", \"León\", \"Marín\", \"Soto\", \"Rojas\", \"Carmona\",\n",
    "        \"Guerrero\", \"Pardo\", \"Méndez\", \"Blanco\", \"Campos\", \"Vidal\", \"Luna\", \"Calvo\",\n",
    "        \"Reyes\", \"Moya\", \"Ortega\", \"Prieto\"\n",
    "        ]\n",
    "    \n",
    "    def generar_direccion():\n",
    "        lista_direccion = []\n",
    "        direccion = [\n",
    "            \"Calle Serrano\", \"Avenida del Cid\", \"Plaza Mayor\", \"Calle Gran Vía\", \"Avenida de Burgos\",\n",
    "            \"Calle de Alcalá\", \"Avenida Europa\", \"Calle San Martín\", \"Plaza del Sol\", \"Calle Princesa\",\n",
    "            \"Avenida de la Ilustración\", \"Calle del Comercio\", \"Calle Real\", \"Calle Mayor\", \"Calle del Juego\",\n",
    "            \"Avenida de España\", \"Calle Libertad\", \"Plaza Nueva\", \"Calle del Centro\", \"Calle Industria\"\n",
    "            ]\n",
    "        ciudad = [\n",
    "            \"Madrid\", \"Valencia\", \"Barcelona\", \"Sevilla\", \"Bilbao\",\n",
    "            \"Málaga\", \"Granada\", \"Santander\", \"Alicante\", \"Zaragoza\",\n",
    "            \"Córdoba\", \"Valladolid\", \"Oviedo\", \"Murcia\", \"Toledo\",\n",
    "            \"Salamanca\", \"San Sebastián\", \"Palma\", \"Burgos\", \"Almería\"\n",
    "            ]\n",
    "        cod_postal = [\n",
    "            28001, 46001, 8002, 41004, 48002,\n",
    "            29007, 18001, 39001, 30001, 50001,\n",
    "            14001, 47001, 33001, 30002, 45001,\n",
    "            37001, 20001, 7011, 9001, 40001\n",
    "            ]\n",
    "        indice = random.randint(0,len(direccion))\n",
    "        lista_direccion = [direccion[indice] + f', {random.randint(1, 100)}', ciudad[indice], cod_postal[indice]]\n",
    "        return lista_direccion\n",
    "    \n",
    "    for num_c in range(num_clientes):\n",
    "        nombre_cliente = f'{random.choice(nombres_personas)} {random.choice(apellidos_personas)}'\n",
    "        lista_direccion = generar_direccion()\n",
    "        print(nombre_cliente)\n",
    "        print(lista_direccion)\n",
    "    return nombre_cliente\n"
   ]
  },
  {
   "cell_type": "code",
   "execution_count": 49,
   "metadata": {},
   "outputs": [
    {
     "name": "stdout",
     "output_type": "stream",
     "text": [
      "Verónica Rojas\n",
      "['Calle Libertad, 73', 'San Sebastián', 20001]\n",
      "Isabel Castro\n",
      "['Plaza del Sol, 35', 'Alicante', 30001]\n",
      "Isabel Castro\n"
     ]
    }
   ],
   "source": [
    "print(generar_clientes(2))"
   ]
  },
  {
   "cell_type": "markdown",
   "metadata": {},
   "source": [
    "## 3-CONSULTAS SQL."
   ]
  },
  {
   "cell_type": "markdown",
   "metadata": {},
   "source": [
    "### 3.1-LISTADO DE ÓRDENES, CON DETALLES DE CLIENTE Y EMPLEADO."
   ]
  },
  {
   "cell_type": "markdown",
   "metadata": {},
   "source": [
    "* Mostrar el ID de la orden, la fecha, el nombre del cliente, el nombre del empleado que atendió la compra y el método de pago.\n",
    "* Utilizar un JOIN entre las tablas ordenes, clientes y empleados."
   ]
  },
  {
   "cell_type": "markdown",
   "metadata": {},
   "source": [
    "### 3.2-LISTADO DE PRODUCTOS CON STOCK BAJO."
   ]
  },
  {
   "cell_type": "markdown",
   "metadata": {},
   "source": [
    "* Filtrar aquellos productos cuyo stock sea menor a 10.\n",
    "* Mostrar el nombre del producto, categoría y stock."
   ]
  },
  {
   "cell_type": "markdown",
   "metadata": {},
   "source": [
    "### 3.3-LISTADO DE VENTAS TOTALESTOTALES POR CATEGORÍA."
   ]
  },
  {
   "cell_type": "markdown",
   "metadata": {},
   "source": [
    "* Mostrar el nombre de la categoría y la suma total de las ventas (ej.: multiplicando cantidad * precio_unitario) para cada categoría.\n",
    "* Realizar el JOIN con detalle_ordenes.\n",
    "* Utilizar agrupación (GROUP BY)."
   ]
  },
  {
   "cell_type": "markdown",
   "metadata": {},
   "source": [
    "### 3.4-LISTADO DE LOS CLIENTES CON MAYORES GASTOS ACUMULADOS."
   ]
  },
  {
   "cell_type": "markdown",
   "metadata": {},
   "source": [
    "* Mostrar el nombre del cliente y el monto total que ha gastado (suma de todas sus órdenes).\n",
    "* Nos aseguramos de tener en cuenta posibles descuentos (descuento), si se ha definido. Por ejemplo, la fórmula podría ser (cantidad * precio_unitario) - descuento.\n",
    "* Ordenar el resultado de mayor a menor gasto acumulado."
   ]
  },
  {
   "cell_type": "markdown",
   "metadata": {},
   "source": [
    "### 3.5-LISTADO DE EMPLEADOS Y EL NÚMERO DE ÓRDENES GESTIONADAS."
   ]
  },
  {
   "cell_type": "markdown",
   "metadata": {},
   "source": [
    "* Mostrar el nombre del empleado, el puesto y la cantidad de órdenes que ha gestionado.\n",
    "* Utilizar GROUP BY y COUNT."
   ]
  },
  {
   "cell_type": "markdown",
   "metadata": {},
   "source": [
    "### 3.6-LISTADO DE ÓRDENES, FIILTRADAS POR FECHA Y TIENDA."
   ]
  },
  {
   "cell_type": "markdown",
   "metadata": {},
   "source": [
    "* Mostrar todas las órdenes que se realizaron en un rango de fechas determinado (ej.: del 1 de enero de 2025 al 31 de enero de 2025) y en una tienda específica.\n",
    "* Incluir datos de la tienda y del cliente."
   ]
  },
  {
   "cell_type": "markdown",
   "metadata": {},
   "source": [
    "### 3.7-RANKING DE LOS PRODUCTOS MÁS VENDIDOS EN CADA TIENDA."
   ]
  },
  {
   "cell_type": "markdown",
   "metadata": {},
   "source": [
    "* Para cada tienda, mostrar los 3 productos más vendidos (en términos de cantidad total).\n",
    "* Habrá que unir tiendas, empleados, ordenes y detalle_orden, además de productos.\n",
    "* Usar GROUP BY y ordena por la cantidad sumada (y opcionalmente, un LIMIT 3)."
   ]
  },
  {
   "cell_type": "markdown",
   "metadata": {},
   "source": [
    "### 3.8-OPCIONAL."
   ]
  },
  {
   "cell_type": "markdown",
   "metadata": {},
   "source": [
    "Añadir alguna consulta con subconsultas o algo que no se abarque en las anteriores consulta.\n"
   ]
  }
 ],
 "metadata": {
  "kernelspec": {
   "display_name": "Python 3",
   "language": "python",
   "name": "python3"
  },
  "language_info": {
   "codemirror_mode": {
    "name": "ipython",
    "version": 3
   },
   "file_extension": ".py",
   "mimetype": "text/x-python",
   "name": "python",
   "nbconvert_exporter": "python",
   "pygments_lexer": "ipython3",
   "version": "3.13.1"
  }
 },
 "nbformat": 4,
 "nbformat_minor": 2
}
