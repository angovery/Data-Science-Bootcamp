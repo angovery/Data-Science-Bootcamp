{
 "cells": [
  {
   "cell_type": "markdown",
   "metadata": {},
   "source": [
    "# EJERCICIO MÓDULO 4: BASE DE DATOS 'SUPERMERCADO'"
   ]
  },
  {
   "cell_type": "markdown",
   "metadata": {},
   "source": [
    "## 1-CREACIÓN DE LA BASE DE DATOS."
   ]
  },
  {
   "cell_type": "markdown",
   "metadata": {},
   "source": [
    "Se genera una Base de Datos relacional cuya temática es la operativa habitual de un supermercado. Para ello, se definirán las correspondientes tablas de datos, así como las relaciones entre dichas tablas."
   ]
  },
  {
   "cell_type": "markdown",
   "metadata": {},
   "source": [
    "### 1.1-DEFINICIÓN DE LAS TABLAS DE DATOS."
   ]
  },
  {
   "cell_type": "markdown",
   "metadata": {},
   "source": [
    "Se define cada una de las tablas que componen la Base de Datos, junto a sus atributos, los tipos de datos y las relaciones."
   ]
  },
  {
   "cell_type": "markdown",
   "metadata": {},
   "source": [
    "#### 1.1.1-TABLA tiendas."
   ]
  },
  {
   "cell_type": "markdown",
   "metadata": {},
   "source": [
    "|Columna          |Tipo                       |Valores permitidos|\n",
    "|-----------------|---------------------------|------------------|\n",
    "|**id_tienda**    |INT UNSIGNED AUTO_INCREMENT|                  |\n",
    "|**nombre_tienda**|VARCHAR(60)                |                  |\n",
    "|**direccion**    |VARCHAR(80)                |                  |\n",
    "|**ciudad**       |VARCHAR(40)                |                  |\n",
    "|**cod_postal**   |INT(5) UNSIGNED            |                  |\n",
    "|**PRIMARY KEY**  |(id_tienda)                |                  |"
   ]
  },
  {
   "cell_type": "markdown",
   "metadata": {},
   "source": [
    "#### 1.1.2-TABLA empleados."
   ]
  },
  {
   "cell_type": "markdown",
   "metadata": {},
   "source": [
    "|Columna            |Tipo                                     |Valores permitidos                          |\n",
    "|-------------------|-----------------------------------------|--------------------------------------------|\n",
    "|**id_empleado**    |INT UNSIGNED AUTO_INCREMENT              |                                            |\n",
    "|**id_tienda**      |INT UNSIGNED                             |                                            |\n",
    "|**nombre_empleado**|VARCHAR(60)                              |                                            |\n",
    "|**puesto**         |ENUM                                     |'Cajero', 'Gerente', 'Reponedor', 'Vendedor'|\n",
    "|**PRIMARY KEY**    |(id_empleado)                            |                                            |\n",
    "|**FOREIGN KEY**    |(id_tienda) REFERENCES tienda (id_tienda)|                                            |"
   ]
  },
  {
   "cell_type": "markdown",
   "metadata": {},
   "source": [
    "#### 1.1.3-TABLA categorias."
   ]
  },
  {
   "cell_type": "markdown",
   "metadata": {},
   "source": [
    "|Columna             |Tipo                       |Valores permitidos|\n",
    "|--------------------|---------------------------|------------------|\n",
    "|**id_categoria**    |INT UNSIGNED AUTO_INCREMENT|                  |\n",
    "|**nombre_categoria**|VARCHAR(60)                |                  |\n",
    "|**PRIMARY KEY**     |(id_categoria)             |                  |"
   ]
  },
  {
   "cell_type": "markdown",
   "metadata": {},
   "source": [
    "#### 1.1.4-TABLA productos."
   ]
  },
  {
   "cell_type": "markdown",
   "metadata": {},
   "source": [
    "|Columna            |Tipo                                               |Valores permitidos|\n",
    "|-------------------|---------------------------------------------------|------------------|\n",
    "|**id_producto**    |INT UNSIGNED AUTO_INCREMENT                        |                  |\n",
    "|**id_categoria**   |INT UNSIGNED                                       |                  |\n",
    "|**nombre_producto**|VARCHAR(60)                                        |                  |\n",
    "|**precio**         |FLOAT(10,2)                                        |                  |\n",
    "|**stock**          |MEDIUMINT                                          |                  |\n",
    "|**PRIMARY KEY**    |(id_producto)                                      |                  |\n",
    "|**FOREIGN KEY**    |(id_categoria) REFERENCES categorias (id_categoria)|                  |"
   ]
  },
  {
   "cell_type": "markdown",
   "metadata": {},
   "source": [
    "#### 1.1.5-TABLA clientes."
   ]
  },
  {
   "cell_type": "markdown",
   "metadata": {},
   "source": [
    "|Columna             |Tipo                                   |Valores permitidos|\n",
    "|--------------------|---------------------------------------|------------------|\n",
    "|**id_cliente**      |INT UNSIGNED PRIMARY KEY AUTO_INCREMENT|                  |\n",
    "|**nombre_cliente**  |VARCHAR(60)                            |                  |\n",
    "|**apellido_cliente**|VARCHAR(60)                            |                  |\n",
    "|**email**           |VARCHAR(60)                            |                  |\n",
    "|**cod_postal**      |INT(5) UNSIGNED                        |                  |\n",
    "|**PRIMARY KEY**     |(id_cliente)                           |                  |"
   ]
  },
  {
   "cell_type": "markdown",
   "metadata": {},
   "source": [
    "#### 1.1.6-TABLA ordenes."
   ]
  },
  {
   "cell_type": "markdown",
   "metadata": {},
   "source": [
    "|Columna        |Tipo                                            |Valores permitidos   |\n",
    "|---------------|------------------------------------------------|---------------------|\n",
    "|**id_orden**   |INT UNSIGNED AUTO_INCREMENT                     |                     |\n",
    "|**id_cliente** |INT UNSIGNED                                    |                     |\n",
    "|**id_empleado**|INT UNSIGNED                                    |                     |\n",
    "|**fecha_orden**|DATE                                            |                     |\n",
    "|**metodo_pago**|ENUM                                            |'Tarjeta', 'Efectivo'|\n",
    "|**PRIMARY KEY**|(id_orden)                                      |                     |\n",
    "|**FOREIGN KEY**|(id_cliente) REFERENCES clientes (id_cliente)   |                     |\n",
    "|**FOREIGN KEY**|(id_empleado) REFERENCES empleados (id_empleado)|                     |"
   ]
  },
  {
   "cell_type": "markdown",
   "metadata": {},
   "source": [
    "#### 1.1.7-TABLA detalle_ordenes."
   ]
  },
  {
   "cell_type": "markdown",
   "metadata": {},
   "source": [
    "|Columna             |Tipo                                            |Valores permitidos|\n",
    "|--------------------|------------------------------------------------|------------------|\n",
    "|**id_detalle_orden**|INT UNSIGNED AUTO_INCREMENT                     |                  |\n",
    "|**id_orden**        |INT UNSIGNED                                    |                  |\n",
    "|**id_producto**     |INT UNSIGNED                                    |                  |\n",
    "|**cantidad**        |INT UNSIGNED                                    |                  |\n",
    "|**precio_unitario** |FLOAT(10,2)                                     |                  |\n",
    "|**descuento**       |FLOAT(3,2)                                      |                  |\n",
    "|**PRIMARY KEY**     |(id_detalle_orden)                              |                  |\n",
    "|**FOREIGN KEY**     |(id_orden) REFERENCES ordenes (id_orden)        |                  |\n",
    "|**FOREIGN KEY**     |(id_producto) REFERENCES productos (id_producto)|                  |"
   ]
  },
  {
   "cell_type": "markdown",
   "metadata": {},
   "source": [
    "### 1.2-CÓDIGO SQL DE LA BASE DE DATOS"
   ]
  },
  {
   "cell_type": "code",
   "execution_count": 1,
   "metadata": {},
   "outputs": [],
   "source": [
    "query = \"\"\"/*Se borra cualquier Base de Datos existente que tenga el mismo nombre*/\n",
    "\n",
    "DROP DATABASE IF EXISTS supermercado;\n",
    "\n",
    "/*Se crea la Base de Datos*/\n",
    "\n",
    "CREATE DATABASE IF NOT EXISTS supermercado;\n",
    "\n",
    "USE supermercado;\n",
    "\n",
    "/*Se crea la tabla tiendas*/\n",
    "\n",
    "CREATE TABLE tiendas (\n",
    "    id_tienda INT UNSIGNED AUTO_INCREMENT,\n",
    "    nombre_tienda VARCHAR(60),\n",
    "    direccion VARCHAR(80),\n",
    "    ciudad VARCHAR(40),\n",
    "    cod_postal INT(5) UNSIGNED,\n",
    "    PRIMARY KEY (id_tienda)\n",
    ");\n",
    "\n",
    "/*Se crea la tabla empleados*/\n",
    "\n",
    "CREATE TABLE empleados (\n",
    "    id_empleado INT UNSIGNED AUTO_INCREMENT,\n",
    "    id_tienda INT UNSIGNED,\n",
    "    nombre_empleado VARCHAR(60),\n",
    "    puesto ENUM ('Cajero', 'Gerente', 'Reponedor', 'Vendedor'),\n",
    "    PRIMARY KEY (id_empleado),\n",
    "    FOREIGN KEY (id_tienda) REFERENCES tiendas (id_tienda)\n",
    ");\n",
    "\n",
    "/*Se crea la tabla categorias*/\n",
    "\n",
    "CREATE TABLE categorias (\n",
    "    id_categoria INT UNSIGNED AUTO_INCREMENT,\n",
    "    nombre_categoria VARCHAR(60),\n",
    "    PRIMARY KEY (id_categoria)\n",
    ");\n",
    "\n",
    "/*Se crea la tabla productos*/\n",
    "\n",
    "CREATE TABLE productos (\n",
    "    id_producto INT UNSIGNED AUTO_INCREMENT,\n",
    "    id_categoria INT UNSIGNED,\n",
    "    nombre_producto VARCHAR(60),\n",
    "    precio FLOAT(10,2),\n",
    "    stock MEDIUMINT,\n",
    "    PRIMARY KEY (id_producto),\n",
    "    FOREIGN KEY (id_categoria) REFERENCES categorias (id_categoria)\n",
    ");\n",
    "\n",
    "/*Se crea la tabla clientes*/\n",
    "\n",
    "CREATE TABLE clientes (\n",
    "    id_cliente INT UNSIGNED AUTO_INCREMENT,\n",
    "    nombre_cliente VARCHAR(60),\n",
    "    apellid_cliente VARCHAR(60),\n",
    "    email VARCHAR(60),\n",
    "    cod_postal INT(5) UNSIGNED,\n",
    "    PRIMARY KEY (id_cliente)\n",
    ");\n",
    "\n",
    "/*Se crea la tabla ordenes*/\n",
    "\n",
    "CREATE TABLE ordenes (\n",
    "    id_orden INT UNSIGNED AUTO_INCREMENT,\n",
    "    id_cliente INT UNSIGNED,\n",
    "    id_empleado INT UNSIGNED,\n",
    "    fecha_orden DATE,\n",
    "    metodo_pago ENUM ('Tarjeta', 'Efectivo'),\n",
    "    PRIMARY KEY (id_orden),\n",
    "    FOREIGN KEY (id_cliente) REFERENCES clientes (id_cliente),\n",
    "    FOREIGN KEY (id_empleado) REFERENCES empleados (id_empleado)\n",
    ");\n",
    "\n",
    "/*Se crea la tabla detalle_ordenes*/\n",
    "\n",
    "CREATE TABLE detalle_ordenes (\n",
    "    id_detalle INT UNSIGNED AUTO_INCREMENT,\n",
    "    id_orden INT UNSIGNED,\n",
    "    id_producto INT UNSIGNED,\n",
    "    cantidad INT UNSIGNED,\n",
    "    precio_unitario FLOAT(10,2),\n",
    "    descuento FLOAT(3,2),\n",
    "    PRIMARY KEY (id_detalle),\n",
    "    FOREIGN KEY (id_orden) REFERENCES ordenes (id_orden),\n",
    "    FOREIGN KEY (id_producto) REFERENCES productos (id_producto)\n",
    ");\n",
    "\"\"\""
   ]
  },
  {
   "cell_type": "markdown",
   "metadata": {},
   "source": [
    "### 1.3-CÓDIGO PYTHON PARA GENERAR LA BASE DE DATOS."
   ]
  },
  {
   "cell_type": "markdown",
   "metadata": {},
   "source": [
    "#### 1.3.1-INICIALIZACIÓN DE LIBRERÍAS."
   ]
  },
  {
   "cell_type": "code",
   "execution_count": 2,
   "metadata": {},
   "outputs": [],
   "source": [
    "import pandas as pd\n",
    "import mysql\n",
    "import mysql.connector as con\n",
    "from mysql.connector import Error # Se importa el módulo de errores de conexión a Base de Datos.\n",
    "import random\n",
    "import datetime\n"
   ]
  },
  {
   "cell_type": "markdown",
   "metadata": {},
   "source": [
    "#### 1.3.2-CONEXIÓN Y CREACIÓN DE LA BASE DE DATOS."
   ]
  },
  {
   "cell_type": "code",
   "execution_count": 3,
   "metadata": {},
   "outputs": [
    {
     "name": "stdout",
     "output_type": "stream",
     "text": [
      "Conexión correcta a MySQL.\n",
      "Base de datos y tablas creadas correctamente.\n",
      "Conexión cerrada.\n"
     ]
    }
   ],
   "source": [
    "try:\n",
    "    conexion = con.connect( # Se crea la conexión.\n",
    "    host= 'localhost',\n",
    "    port = '3306',\n",
    "    user = 'root',\n",
    "    password = 'admin'\n",
    "    )\n",
    "    \n",
    "    if conexion.is_connected(): # Se comprueba si se ha establecido conexión correctamente con la Base de Datos.\n",
    "        print(\"Conexión correcta a MySQL.\")\n",
    "        cursor = conexion.cursor()\n",
    "        for sentencia in query.split(';'): # Se crea una lista, cuyos elementos son las sentencias SQL contenidas en la variable 'query', se recorren sus elementos.\n",
    "            if sentencia.strip(): # Elemento no vacío.\n",
    "                cursor.execute(sentencia) # Se ejecuta la sentencia.\n",
    "        print(\"Base de datos y tablas creadas correctamente.\")\n",
    "        \n",
    "except Error as e: # Se ha producido un error de conexión con la Base de Datos.\n",
    "    print(f\"Error al conectar con MySQL: {e}.\")\n",
    "    \n",
    "finally:\n",
    "    if conexion.is_connected(): # Se cierran cursor y conexión.\n",
    "        cursor.close()\n",
    "        conexion.close()\n",
    "        print(\"Conexión cerrada.\")\n",
    "\n"
   ]
  },
  {
   "cell_type": "markdown",
   "metadata": {},
   "source": [
    "## 2-GENERACIÓN DE DATOS DEMO."
   ]
  },
  {
   "cell_type": "markdown",
   "metadata": {},
   "source": [
    "### 2.1-FUNCIONES AUXILIARES."
   ]
  },
  {
   "cell_type": "markdown",
   "metadata": {},
   "source": [
    "#### 2.1.1-Función generar_tiendas()."
   ]
  },
  {
   "cell_type": "code",
   "execution_count": 4,
   "metadata": {},
   "outputs": [],
   "source": [
    "# Función para generar un DataFrame con un número aleatorio (entre 5 y 10) de tiendas.\n",
    "# Entrada: (vacía).\n",
    "# Salida: pd.DataFrame con datos de ejemplo de la tabla 'tienda'.\n",
    "def generar_tiendas():\n",
    "    # Se genera el número de tiendas que se van a crear.\n",
    "    num_tiendas = random.randint(5, 10)\n",
    "    \n",
    "    # Se genera un diccionario, con el conjunto total (fijado en 20 elementos) de tiendas posibles, desde el que poder alimentar el DataFrame de salida.\n",
    "    dict_tiendas = {\n",
    "        \"id_tienda\": list(range(1, 21)),\n",
    "        \"nombre_tienda\": ['Supermercado' for num in range(20)],\n",
    "        \"direccion\": [\n",
    "            \"Calle Serrano, 47\", \"Avenida del Cid, 14\", \"Plaza Mayor, 5\", \"Calle Gran Vía, 21\", \"Carretera de Burgos, Km 12\",\n",
    "            \"Calle de Alcalá, 150\", \"Avenida Europa, 8\", \"Calle San Martín, 32\", \"Plaza del Sol, 3\", \"Calle Princesa, 25\",\n",
    "            \"Avenida de la Ilustración, 10\", \"Calle del Comercio, 19\", \"Calle Real, 44\", \"Calle Mayor, 9\", \"Calle del Juego, 11\",\n",
    "            \"Avenida de España, 17\", \"Calle Libertad, 6\", \"Plaza Nueva, 7\", \"Calle del Centro, 12\", \"Calle Industria, 20\"\n",
    "        ],\n",
    "        \"ciudad\": [\n",
    "            \"Madrid\", \"Valencia\", \"Barcelona\", \"Sevilla\", \"Bilbao\",\n",
    "            \"Málaga\", \"Granada\", \"Santander\", \"Alicante\", \"Zaragoza\",\n",
    "            \"Córdoba\", \"Valladolid\", \"Oviedo\", \"Murcia\", \"Toledo\",\n",
    "            \"Salamanca\", \"San Sebastián\", \"Palma\", \"Burgos\", \"Almería\"\n",
    "        ],\n",
    "        \"cod_postal\": [\n",
    "            28001, 46001, 8002, 41004, 48002,\n",
    "            29007, 18001, 39001, 30001, 50001,\n",
    "            14001, 47001, 33001, 30002, 45001,\n",
    "            37001, 20001, 7011, 9001, 40001\n",
    "        ]\n",
    "    }\n",
    "    \n",
    "    # Se formatean los códigos postales para convertirlos a cadenas con 5 dígitos.\n",
    "    dict_tiendas[\"cod_postal\"] = [f\"{codigo:05d}\" for codigo in dict_tiendas[\"cod_postal\"]]\n",
    "\n",
    "    # Se genera el DataFrame con todas las tiendas y se extrae una muestra aleatoria (sin repetición).\n",
    "    df = pd.DataFrame(dict_tiendas).sample(num_tiendas, replace=False, random_state=42).reset_index(drop=True)\n",
    "    \n",
    "    # Se reasignan números consecutivos a la columna 'id_tienda'.\n",
    "    df[\"id_tienda\"] = range(1, len(df) + 1)\n",
    "    \n",
    "    # Se actualizan los valores de 'nombre_tienda' para incluir el valor de 'id_tienda' y así darle un nombre único a la tienda.\n",
    "    df[\"nombre_tienda\"] = df.apply(lambda fila: f\"{fila['nombre_tienda']} {fila['id_tienda']}\", axis=1)\n",
    "    \n",
    "    # Se establece la columna 'id_tienda' como índice del DataFrame.\n",
    "    df.set_index(\"id_tienda\", inplace=True)\n",
    "    \n",
    "    return df"
   ]
  },
  {
   "cell_type": "markdown",
   "metadata": {},
   "source": [
    "#### 2.1.2-Función generar_empleados()."
   ]
  },
  {
   "cell_type": "code",
   "execution_count": 5,
   "metadata": {},
   "outputs": [],
   "source": [
    "# Función para generar un Dataframe de Pandas con datos de ejemplo de empleados, de forma aleatoria, para cada tienda generada. Se generarán 20 empleados por tienda. \n",
    "# Un mismo empleado no puede pertenecer a más de una tienda al mismo tiempo.\n",
    "# El valor del campo 'id_empleado' serán valores enteros cosecutivos, comenzando por '1'. Este campo, además, será el índice del DataFrame)\n",
    "# El valor del campo 'puesto' debe ser un valor, a elegir de forma aleatoria entre los siguientes valores posibles: (‘Cajero’, ‘Gerente’, ‘Reponedor’, ‘Vendedor’).\n",
    "# Entrada: Numero entero, mayor o igual a 1, de empleados a generar por tienda & lista con las id's de las tiendas generadas previamente. \n",
    "# Salida: pd.DataFrame con datos de ejemplo de la tabla 'empleados'.\n",
    "def generar_empleados(num_empleados, lista_id_tiendas):\n",
    "    # Lista de nombres y apellidos para generar una combinacikón aleatoria nombre + apellido de empleados.\n",
    "    nombres = [\"Carlos\", \"María\", \"Luis\", \"Ana\", \"Javier\", \"Isabel\", \"Pedro\", \"Lucía\", \"Diego\", \"Elena\", \"Roberto\", \"Manuel\", \"Gonzalo\", \"Pilar\", \"Natalia\", \"Antonia\"]\n",
    "    apellidos = [\"García\", \"Martínez\", \"López\", \"Hernández\", \"Pérez\", \"González\", \"Sánchez\", \"Ramírez\", \"Torres\", \"Vargas\", \"Villarón\", \"Riquelme\", \"Bonparte\"]\n",
    "    puestos = ['Cajero', 'Gerente', 'Reponedor', 'Vendedor']\n",
    "\n",
    "    # Se genera una lista para almacenar los datos de empleados.\n",
    "    lista_empleados = []\n",
    "    id_empleado = 1  # Se inicializa el id del empleado.\n",
    "\n",
    "    for id_tienda in lista_id_tiendas: # Se recorren los id's de las tiendas existentes.\n",
    "        for _ in range(num_empleados): # Se itera entre el número de empleados total que debe tener cada tienda.\n",
    "            nombre_empleado = f\"{random.choice(nombres)} {random.choice(apellidos)}\" # Se forma el string 'Nombre Apellido'.\n",
    "            puesto = random.choice(puestos) # Se selecciona el puesto del empleado.\n",
    "            lista_empleados.append({ # Se añade el diccionario con los datos de cada empleado a la lista.\n",
    "                \"id_empleado\": id_empleado,\n",
    "                \"id_tienda\": id_tienda,\n",
    "                \"nombre_empleado\": nombre_empleado,\n",
    "                \"puesto\": puesto\n",
    "            })\n",
    "            id_empleado += 1\n",
    "\n",
    "    # Crear el DataFrame\n",
    "    df_empleados = pd.DataFrame(lista_empleados) # Se crea el DataFrame a partir de la lista de empleados.\n",
    "    \n",
    "    # Se establece la columna 'id_empleado' como índice del DataFrame.\n",
    "    df_empleados.set_index(\"id_empleado\", inplace=True)\n",
    "\n",
    "    return df_empleados"
   ]
  },
  {
   "cell_type": "code",
   "execution_count": 6,
   "metadata": {},
   "outputs": [
    {
     "name": "stdout",
     "output_type": "stream",
     "text": [
      "            nombre_tienda               direccion      ciudad cod_postal\n",
      "id_tienda                                                               \n",
      "1          Supermercado 1       Calle Serrano, 47      Madrid      28001\n",
      "2          Supermercado 2          Plaza Nueva, 7       Palma      07011\n",
      "3          Supermercado 3   Avenida de España, 17   Salamanca      37001\n",
      "4          Supermercado 4     Avenida del Cid, 14    Valencia      46001\n",
      "5          Supermercado 5        Plaza del Sol, 3    Alicante      30001\n",
      "6          Supermercado 6    Calle de Alcalá, 150      Málaga      29007\n",
      "7          Supermercado 7  Calle del Comercio, 19  Valladolid      47001\n",
      "8          Supermercado 8      Calle Gran Vía, 21     Sevilla      41004\n"
     ]
    },
    {
     "data": {
      "text/html": [
       "<div>\n",
       "<style scoped>\n",
       "    .dataframe tbody tr th:only-of-type {\n",
       "        vertical-align: middle;\n",
       "    }\n",
       "\n",
       "    .dataframe tbody tr th {\n",
       "        vertical-align: top;\n",
       "    }\n",
       "\n",
       "    .dataframe thead th {\n",
       "        text-align: right;\n",
       "    }\n",
       "</style>\n",
       "<table border=\"1\" class=\"dataframe\">\n",
       "  <thead>\n",
       "    <tr style=\"text-align: right;\">\n",
       "      <th></th>\n",
       "      <th>id_tienda</th>\n",
       "      <th>nombre_empleado</th>\n",
       "      <th>puesto</th>\n",
       "    </tr>\n",
       "    <tr>\n",
       "      <th>id_empleado</th>\n",
       "      <th></th>\n",
       "      <th></th>\n",
       "      <th></th>\n",
       "    </tr>\n",
       "  </thead>\n",
       "  <tbody>\n",
       "    <tr>\n",
       "      <th>1</th>\n",
       "      <td>1</td>\n",
       "      <td>Javier Vargas</td>\n",
       "      <td>Gerente</td>\n",
       "    </tr>\n",
       "    <tr>\n",
       "      <th>2</th>\n",
       "      <td>1</td>\n",
       "      <td>Manuel Bonparte</td>\n",
       "      <td>Cajero</td>\n",
       "    </tr>\n",
       "    <tr>\n",
       "      <th>3</th>\n",
       "      <td>1</td>\n",
       "      <td>Roberto García</td>\n",
       "      <td>Gerente</td>\n",
       "    </tr>\n",
       "    <tr>\n",
       "      <th>4</th>\n",
       "      <td>1</td>\n",
       "      <td>Manuel Pérez</td>\n",
       "      <td>Vendedor</td>\n",
       "    </tr>\n",
       "    <tr>\n",
       "      <th>5</th>\n",
       "      <td>1</td>\n",
       "      <td>Ana Hernández</td>\n",
       "      <td>Vendedor</td>\n",
       "    </tr>\n",
       "    <tr>\n",
       "      <th>...</th>\n",
       "      <td>...</td>\n",
       "      <td>...</td>\n",
       "      <td>...</td>\n",
       "    </tr>\n",
       "    <tr>\n",
       "      <th>76</th>\n",
       "      <td>8</td>\n",
       "      <td>Natalia Vargas</td>\n",
       "      <td>Gerente</td>\n",
       "    </tr>\n",
       "    <tr>\n",
       "      <th>77</th>\n",
       "      <td>8</td>\n",
       "      <td>María García</td>\n",
       "      <td>Cajero</td>\n",
       "    </tr>\n",
       "    <tr>\n",
       "      <th>78</th>\n",
       "      <td>8</td>\n",
       "      <td>Isabel Martínez</td>\n",
       "      <td>Gerente</td>\n",
       "    </tr>\n",
       "    <tr>\n",
       "      <th>79</th>\n",
       "      <td>8</td>\n",
       "      <td>María Villarón</td>\n",
       "      <td>Cajero</td>\n",
       "    </tr>\n",
       "    <tr>\n",
       "      <th>80</th>\n",
       "      <td>8</td>\n",
       "      <td>Elena López</td>\n",
       "      <td>Cajero</td>\n",
       "    </tr>\n",
       "  </tbody>\n",
       "</table>\n",
       "<p>80 rows × 3 columns</p>\n",
       "</div>"
      ],
      "text/plain": [
       "             id_tienda  nombre_empleado    puesto\n",
       "id_empleado                                      \n",
       "1                    1    Javier Vargas   Gerente\n",
       "2                    1  Manuel Bonparte    Cajero\n",
       "3                    1   Roberto García   Gerente\n",
       "4                    1     Manuel Pérez  Vendedor\n",
       "5                    1    Ana Hernández  Vendedor\n",
       "...                ...              ...       ...\n",
       "76                   8   Natalia Vargas   Gerente\n",
       "77                   8     María García    Cajero\n",
       "78                   8  Isabel Martínez   Gerente\n",
       "79                   8   María Villarón    Cajero\n",
       "80                   8      Elena López    Cajero\n",
       "\n",
       "[80 rows x 3 columns]"
      ]
     },
     "execution_count": 6,
     "metadata": {},
     "output_type": "execute_result"
    }
   ],
   "source": [
    "df_tiendas = generar_tiendas()\n",
    "print(df_tiendas)\n",
    "\n",
    "df_empleados = generar_empleados(10, df_tiendas.index.values)\n",
    "df_empleados"
   ]
  },
  {
   "cell_type": "markdown",
   "metadata": {},
   "source": [
    "#### 2.1.3-Función generar_categorias()."
   ]
  },
  {
   "cell_type": "code",
   "execution_count": 7,
   "metadata": {},
   "outputs": [],
   "source": [
    "# Función para generar un DataFrame de Pandas con 10 categorías de productos en venta.\n",
    "# Entrada: (vacía). \n",
    "# Salida: pd.DataFrame con datos de ejemplo de la tabla 'categorias'. El campo 'id_categoria' es el índice del DataFrame\n",
    "def generar_categorias():\n",
    "    num_categorias = 10\n",
    "    lista_categorias = {\n",
    "        'id_categoria': [i + 1 for i in range(num_categorias)],\n",
    "        'nombre_categorias': ['Lácteos', 'Carnes', 'Frutas', 'Verduras', 'Bebidas', 'Panadería', 'Higiene', 'Pescadería', 'Charcutería', 'Parafarmacia'] # Revisar en caso de que num_categorias > 10\n",
    "        }\n",
    "    df = pd.DataFrame(lista_categorias)\n",
    "    df.set_index('id_categoria', inplace=True) # Se fija la columna 'id_categoria' como índice del DataFrame.\n",
    "    return df"
   ]
  },
  {
   "cell_type": "code",
   "execution_count": 15,
   "metadata": {},
   "outputs": [],
   "source": [
    "df_categorias = generar_categorias()"
   ]
  },
  {
   "cell_type": "markdown",
   "metadata": {},
   "source": [
    "#### 2.1.4-Función generar_productos()."
   ]
  },
  {
   "cell_type": "code",
   "execution_count": 13,
   "metadata": {},
   "outputs": [],
   "source": [
    "# Función que genera un DataFrame de Pandas con datos de ejemplo de productos por cada categoría existente en la tabla 'categorias'.\n",
    "# Entrada: pd.DataFrame de categorias & numero entero >=1.\n",
    "# Salida: pd.DataFrame con datos de productos de ejemplo por cada categoría existente en la tabla 'categorias'\n",
    "def generar_productos(n_productos,df_categorias):\n",
    "    # Lista para almacenar los datos de los productos\n",
    "    datos_productos = []\n",
    "\n",
    "    id_producto = 1  # Contador para el ID de productos\n",
    "    \n",
    "    for id_cat in df_categorias.index.values: # Se recorrer los id_categorias\n",
    "        for n_prod in range(n_productos): # Se itera el numéro deseado de productos por cada categoría.\n",
    "            nombre_producto = (f'Producto_{df_categorias['nombre_categorias'][id_cat]}_{n_prod+1}') # Se forma el nombre de producto: Prducto_Categoría_Numero.\n",
    "            precio = round(random.uniform(1.0, 100.0), 2)   # Se genera un precio aleatorio entre 1.00 y 100.00.\n",
    "            stock = random.randint(10, 200)                 # Se genera un stock aleatorio entre 10 y 200 unidades.\n",
    "            datos_productos.append({                        # Se añaden los datos de cada producto a la lista.\n",
    "                \"id_producto\": id_producto,\n",
    "                \"id_categoria\": id_cat,\n",
    "                \"nombre_producto\": nombre_producto,\n",
    "                \"precio\": precio,\n",
    "                \"stock\": stock\n",
    "            })\n",
    "            id_producto += 1\n",
    "\n",
    "    df_productos = pd.DataFrame(datos_productos)            # Se crea el DataFrame.\n",
    "    df_productos.set_index('id_producto', inplace=True)     # Se sustituye el índice del DataFrame por el id_producto.\n",
    "\n",
    "    return df_productos"
   ]
  },
  {
   "cell_type": "code",
   "execution_count": 14,
   "metadata": {},
   "outputs": [
    {
     "data": {
      "text/html": [
       "<div>\n",
       "<style scoped>\n",
       "    .dataframe tbody tr th:only-of-type {\n",
       "        vertical-align: middle;\n",
       "    }\n",
       "\n",
       "    .dataframe tbody tr th {\n",
       "        vertical-align: top;\n",
       "    }\n",
       "\n",
       "    .dataframe thead th {\n",
       "        text-align: right;\n",
       "    }\n",
       "</style>\n",
       "<table border=\"1\" class=\"dataframe\">\n",
       "  <thead>\n",
       "    <tr style=\"text-align: right;\">\n",
       "      <th></th>\n",
       "      <th>id_categoria</th>\n",
       "      <th>nombre_producto</th>\n",
       "      <th>precio</th>\n",
       "      <th>stock</th>\n",
       "    </tr>\n",
       "    <tr>\n",
       "      <th>id_producto</th>\n",
       "      <th></th>\n",
       "      <th></th>\n",
       "      <th></th>\n",
       "      <th></th>\n",
       "    </tr>\n",
       "  </thead>\n",
       "  <tbody>\n",
       "    <tr>\n",
       "      <th>1</th>\n",
       "      <td>1</td>\n",
       "      <td>Producto_Lácteos_1</td>\n",
       "      <td>22.15</td>\n",
       "      <td>83</td>\n",
       "    </tr>\n",
       "    <tr>\n",
       "      <th>2</th>\n",
       "      <td>1</td>\n",
       "      <td>Producto_Lácteos_2</td>\n",
       "      <td>57.53</td>\n",
       "      <td>94</td>\n",
       "    </tr>\n",
       "    <tr>\n",
       "      <th>3</th>\n",
       "      <td>1</td>\n",
       "      <td>Producto_Lácteos_3</td>\n",
       "      <td>14.71</td>\n",
       "      <td>51</td>\n",
       "    </tr>\n",
       "    <tr>\n",
       "      <th>4</th>\n",
       "      <td>1</td>\n",
       "      <td>Producto_Lácteos_4</td>\n",
       "      <td>25.75</td>\n",
       "      <td>188</td>\n",
       "    </tr>\n",
       "    <tr>\n",
       "      <th>5</th>\n",
       "      <td>2</td>\n",
       "      <td>Producto_Carnes_1</td>\n",
       "      <td>65.17</td>\n",
       "      <td>186</td>\n",
       "    </tr>\n",
       "    <tr>\n",
       "      <th>6</th>\n",
       "      <td>2</td>\n",
       "      <td>Producto_Carnes_2</td>\n",
       "      <td>15.07</td>\n",
       "      <td>165</td>\n",
       "    </tr>\n",
       "    <tr>\n",
       "      <th>7</th>\n",
       "      <td>2</td>\n",
       "      <td>Producto_Carnes_3</td>\n",
       "      <td>11.05</td>\n",
       "      <td>27</td>\n",
       "    </tr>\n",
       "    <tr>\n",
       "      <th>8</th>\n",
       "      <td>2</td>\n",
       "      <td>Producto_Carnes_4</td>\n",
       "      <td>63.57</td>\n",
       "      <td>96</td>\n",
       "    </tr>\n",
       "    <tr>\n",
       "      <th>9</th>\n",
       "      <td>3</td>\n",
       "      <td>Producto_Frutas_1</td>\n",
       "      <td>23.61</td>\n",
       "      <td>18</td>\n",
       "    </tr>\n",
       "    <tr>\n",
       "      <th>10</th>\n",
       "      <td>3</td>\n",
       "      <td>Producto_Frutas_2</td>\n",
       "      <td>97.44</td>\n",
       "      <td>20</td>\n",
       "    </tr>\n",
       "    <tr>\n",
       "      <th>11</th>\n",
       "      <td>3</td>\n",
       "      <td>Producto_Frutas_3</td>\n",
       "      <td>86.43</td>\n",
       "      <td>89</td>\n",
       "    </tr>\n",
       "    <tr>\n",
       "      <th>12</th>\n",
       "      <td>3</td>\n",
       "      <td>Producto_Frutas_4</td>\n",
       "      <td>4.17</td>\n",
       "      <td>66</td>\n",
       "    </tr>\n",
       "    <tr>\n",
       "      <th>13</th>\n",
       "      <td>4</td>\n",
       "      <td>Producto_Verduras_1</td>\n",
       "      <td>83.38</td>\n",
       "      <td>118</td>\n",
       "    </tr>\n",
       "    <tr>\n",
       "      <th>14</th>\n",
       "      <td>4</td>\n",
       "      <td>Producto_Verduras_2</td>\n",
       "      <td>20.86</td>\n",
       "      <td>138</td>\n",
       "    </tr>\n",
       "    <tr>\n",
       "      <th>15</th>\n",
       "      <td>4</td>\n",
       "      <td>Producto_Verduras_3</td>\n",
       "      <td>20.61</td>\n",
       "      <td>60</td>\n",
       "    </tr>\n",
       "    <tr>\n",
       "      <th>16</th>\n",
       "      <td>4</td>\n",
       "      <td>Producto_Verduras_4</td>\n",
       "      <td>97.91</td>\n",
       "      <td>113</td>\n",
       "    </tr>\n",
       "    <tr>\n",
       "      <th>17</th>\n",
       "      <td>5</td>\n",
       "      <td>Producto_Bebidas_1</td>\n",
       "      <td>39.21</td>\n",
       "      <td>84</td>\n",
       "    </tr>\n",
       "    <tr>\n",
       "      <th>18</th>\n",
       "      <td>5</td>\n",
       "      <td>Producto_Bebidas_2</td>\n",
       "      <td>53.11</td>\n",
       "      <td>195</td>\n",
       "    </tr>\n",
       "    <tr>\n",
       "      <th>19</th>\n",
       "      <td>5</td>\n",
       "      <td>Producto_Bebidas_3</td>\n",
       "      <td>4.84</td>\n",
       "      <td>129</td>\n",
       "    </tr>\n",
       "    <tr>\n",
       "      <th>20</th>\n",
       "      <td>5</td>\n",
       "      <td>Producto_Bebidas_4</td>\n",
       "      <td>32.66</td>\n",
       "      <td>113</td>\n",
       "    </tr>\n",
       "    <tr>\n",
       "      <th>21</th>\n",
       "      <td>6</td>\n",
       "      <td>Producto_Panadería_1</td>\n",
       "      <td>16.77</td>\n",
       "      <td>193</td>\n",
       "    </tr>\n",
       "    <tr>\n",
       "      <th>22</th>\n",
       "      <td>6</td>\n",
       "      <td>Producto_Panadería_2</td>\n",
       "      <td>34.25</td>\n",
       "      <td>89</td>\n",
       "    </tr>\n",
       "    <tr>\n",
       "      <th>23</th>\n",
       "      <td>6</td>\n",
       "      <td>Producto_Panadería_3</td>\n",
       "      <td>2.26</td>\n",
       "      <td>82</td>\n",
       "    </tr>\n",
       "    <tr>\n",
       "      <th>24</th>\n",
       "      <td>6</td>\n",
       "      <td>Producto_Panadería_4</td>\n",
       "      <td>17.47</td>\n",
       "      <td>115</td>\n",
       "    </tr>\n",
       "    <tr>\n",
       "      <th>25</th>\n",
       "      <td>7</td>\n",
       "      <td>Producto_Higiene_1</td>\n",
       "      <td>24.03</td>\n",
       "      <td>27</td>\n",
       "    </tr>\n",
       "    <tr>\n",
       "      <th>26</th>\n",
       "      <td>7</td>\n",
       "      <td>Producto_Higiene_2</td>\n",
       "      <td>82.69</td>\n",
       "      <td>195</td>\n",
       "    </tr>\n",
       "    <tr>\n",
       "      <th>27</th>\n",
       "      <td>7</td>\n",
       "      <td>Producto_Higiene_3</td>\n",
       "      <td>85.78</td>\n",
       "      <td>84</td>\n",
       "    </tr>\n",
       "    <tr>\n",
       "      <th>28</th>\n",
       "      <td>7</td>\n",
       "      <td>Producto_Higiene_4</td>\n",
       "      <td>48.74</td>\n",
       "      <td>191</td>\n",
       "    </tr>\n",
       "    <tr>\n",
       "      <th>29</th>\n",
       "      <td>8</td>\n",
       "      <td>Producto_Pescadería_1</td>\n",
       "      <td>68.33</td>\n",
       "      <td>199</td>\n",
       "    </tr>\n",
       "    <tr>\n",
       "      <th>30</th>\n",
       "      <td>8</td>\n",
       "      <td>Producto_Pescadería_2</td>\n",
       "      <td>79.16</td>\n",
       "      <td>145</td>\n",
       "    </tr>\n",
       "    <tr>\n",
       "      <th>31</th>\n",
       "      <td>8</td>\n",
       "      <td>Producto_Pescadería_3</td>\n",
       "      <td>41.50</td>\n",
       "      <td>172</td>\n",
       "    </tr>\n",
       "    <tr>\n",
       "      <th>32</th>\n",
       "      <td>8</td>\n",
       "      <td>Producto_Pescadería_4</td>\n",
       "      <td>97.55</td>\n",
       "      <td>88</td>\n",
       "    </tr>\n",
       "    <tr>\n",
       "      <th>33</th>\n",
       "      <td>9</td>\n",
       "      <td>Producto_Charcutería_1</td>\n",
       "      <td>40.36</td>\n",
       "      <td>102</td>\n",
       "    </tr>\n",
       "    <tr>\n",
       "      <th>34</th>\n",
       "      <td>9</td>\n",
       "      <td>Producto_Charcutería_2</td>\n",
       "      <td>48.85</td>\n",
       "      <td>182</td>\n",
       "    </tr>\n",
       "    <tr>\n",
       "      <th>35</th>\n",
       "      <td>9</td>\n",
       "      <td>Producto_Charcutería_3</td>\n",
       "      <td>73.35</td>\n",
       "      <td>160</td>\n",
       "    </tr>\n",
       "    <tr>\n",
       "      <th>36</th>\n",
       "      <td>9</td>\n",
       "      <td>Producto_Charcutería_4</td>\n",
       "      <td>11.24</td>\n",
       "      <td>199</td>\n",
       "    </tr>\n",
       "    <tr>\n",
       "      <th>37</th>\n",
       "      <td>10</td>\n",
       "      <td>Producto_Parafarmacia_1</td>\n",
       "      <td>67.12</td>\n",
       "      <td>149</td>\n",
       "    </tr>\n",
       "    <tr>\n",
       "      <th>38</th>\n",
       "      <td>10</td>\n",
       "      <td>Producto_Parafarmacia_2</td>\n",
       "      <td>51.21</td>\n",
       "      <td>155</td>\n",
       "    </tr>\n",
       "    <tr>\n",
       "      <th>39</th>\n",
       "      <td>10</td>\n",
       "      <td>Producto_Parafarmacia_3</td>\n",
       "      <td>5.88</td>\n",
       "      <td>86</td>\n",
       "    </tr>\n",
       "    <tr>\n",
       "      <th>40</th>\n",
       "      <td>10</td>\n",
       "      <td>Producto_Parafarmacia_4</td>\n",
       "      <td>53.03</td>\n",
       "      <td>145</td>\n",
       "    </tr>\n",
       "  </tbody>\n",
       "</table>\n",
       "</div>"
      ],
      "text/plain": [
       "             id_categoria          nombre_producto  precio  stock\n",
       "id_producto                                                      \n",
       "1                       1       Producto_Lácteos_1   22.15     83\n",
       "2                       1       Producto_Lácteos_2   57.53     94\n",
       "3                       1       Producto_Lácteos_3   14.71     51\n",
       "4                       1       Producto_Lácteos_4   25.75    188\n",
       "5                       2        Producto_Carnes_1   65.17    186\n",
       "6                       2        Producto_Carnes_2   15.07    165\n",
       "7                       2        Producto_Carnes_3   11.05     27\n",
       "8                       2        Producto_Carnes_4   63.57     96\n",
       "9                       3        Producto_Frutas_1   23.61     18\n",
       "10                      3        Producto_Frutas_2   97.44     20\n",
       "11                      3        Producto_Frutas_3   86.43     89\n",
       "12                      3        Producto_Frutas_4    4.17     66\n",
       "13                      4      Producto_Verduras_1   83.38    118\n",
       "14                      4      Producto_Verduras_2   20.86    138\n",
       "15                      4      Producto_Verduras_3   20.61     60\n",
       "16                      4      Producto_Verduras_4   97.91    113\n",
       "17                      5       Producto_Bebidas_1   39.21     84\n",
       "18                      5       Producto_Bebidas_2   53.11    195\n",
       "19                      5       Producto_Bebidas_3    4.84    129\n",
       "20                      5       Producto_Bebidas_4   32.66    113\n",
       "21                      6     Producto_Panadería_1   16.77    193\n",
       "22                      6     Producto_Panadería_2   34.25     89\n",
       "23                      6     Producto_Panadería_3    2.26     82\n",
       "24                      6     Producto_Panadería_4   17.47    115\n",
       "25                      7       Producto_Higiene_1   24.03     27\n",
       "26                      7       Producto_Higiene_2   82.69    195\n",
       "27                      7       Producto_Higiene_3   85.78     84\n",
       "28                      7       Producto_Higiene_4   48.74    191\n",
       "29                      8    Producto_Pescadería_1   68.33    199\n",
       "30                      8    Producto_Pescadería_2   79.16    145\n",
       "31                      8    Producto_Pescadería_3   41.50    172\n",
       "32                      8    Producto_Pescadería_4   97.55     88\n",
       "33                      9   Producto_Charcutería_1   40.36    102\n",
       "34                      9   Producto_Charcutería_2   48.85    182\n",
       "35                      9   Producto_Charcutería_3   73.35    160\n",
       "36                      9   Producto_Charcutería_4   11.24    199\n",
       "37                     10  Producto_Parafarmacia_1   67.12    149\n",
       "38                     10  Producto_Parafarmacia_2   51.21    155\n",
       "39                     10  Producto_Parafarmacia_3    5.88     86\n",
       "40                     10  Producto_Parafarmacia_4   53.03    145"
      ]
     },
     "execution_count": 14,
     "metadata": {},
     "output_type": "execute_result"
    }
   ],
   "source": [
    "df_productos = generar_productos(4,df_categorias)\n",
    "df_productos"
   ]
  },
  {
   "cell_type": "markdown",
   "metadata": {},
   "source": [
    "## 3-CONSULTAS SQL."
   ]
  },
  {
   "cell_type": "markdown",
   "metadata": {},
   "source": [
    "### 3.1-LISTADO DE ÓRDENES, CON DETALLES DE CLIENTE Y EMPLEADO."
   ]
  },
  {
   "cell_type": "markdown",
   "metadata": {},
   "source": [
    "* Mostrar el ID de la orden, la fecha, el nombre del cliente, el nombre del empleado que atendió la compra y el método de pago.\n",
    "* Utilizar un JOIN entre las tablas ordenes, clientes y empleados."
   ]
  },
  {
   "cell_type": "markdown",
   "metadata": {},
   "source": [
    "### 3.2-LISTADO DE PRODUCTOS CON STOCK BAJO."
   ]
  },
  {
   "cell_type": "markdown",
   "metadata": {},
   "source": [
    "* Filtrar aquellos productos cuyo stock sea menor a 10.\n",
    "* Mostrar el nombre del producto, categoría y stock."
   ]
  },
  {
   "cell_type": "markdown",
   "metadata": {},
   "source": [
    "### 3.3-LISTADO DE VENTAS TOTALESTOTALES POR CATEGORÍA."
   ]
  },
  {
   "cell_type": "markdown",
   "metadata": {},
   "source": [
    "* Mostrar el nombre de la categoría y la suma total de las ventas (ej.: multiplicando cantidad * precio_unitario) para cada categoría.\n",
    "* Realizar el JOIN con detalle_ordenes.\n",
    "* Utilizar agrupación (GROUP BY)."
   ]
  },
  {
   "cell_type": "markdown",
   "metadata": {},
   "source": [
    "### 3.4-LISTADO DE LOS CLIENTES CON MAYORES GASTOS ACUMULADOS."
   ]
  },
  {
   "cell_type": "markdown",
   "metadata": {},
   "source": [
    "* Mostrar el nombre del cliente y el monto total que ha gastado (suma de todas sus órdenes).\n",
    "* Nos aseguramos de tener en cuenta posibles descuentos (descuento), si se ha definido. Por ejemplo, la fórmula podría ser (cantidad * precio_unitario) - descuento.\n",
    "* Ordenar el resultado de mayor a menor gasto acumulado."
   ]
  },
  {
   "cell_type": "markdown",
   "metadata": {},
   "source": [
    "### 3.5-LISTADO DE EMPLEADOS Y EL NÚMERO DE ÓRDENES GESTIONADAS."
   ]
  },
  {
   "cell_type": "markdown",
   "metadata": {},
   "source": [
    "* Mostrar el nombre del empleado, el puesto y la cantidad de órdenes que ha gestionado.\n",
    "* Utilizar GROUP BY y COUNT."
   ]
  },
  {
   "cell_type": "markdown",
   "metadata": {},
   "source": [
    "### 3.6-LISTADO DE ÓRDENES, FIILTRADAS POR FECHA Y TIENDA."
   ]
  },
  {
   "cell_type": "markdown",
   "metadata": {},
   "source": [
    "* Mostrar todas las órdenes que se realizaron en un rango de fechas determinado (ej.: del 1 de enero de 2025 al 31 de enero de 2025) y en una tienda específica.\n",
    "* Incluir datos de la tienda y del cliente."
   ]
  },
  {
   "cell_type": "markdown",
   "metadata": {},
   "source": [
    "### 3.7-RANKING DE LOS PRODUCTOS MÁS VENDIDOS EN CADA TIENDA."
   ]
  },
  {
   "cell_type": "markdown",
   "metadata": {},
   "source": [
    "* Para cada tienda, mostrar los 3 productos más vendidos (en términos de cantidad total).\n",
    "* Habrá que unir tiendas, empleados, ordenes y detalle_orden, además de productos.\n",
    "* Usar GROUP BY y ordena por la cantidad sumada (y opcionalmente, un LIMIT 3)."
   ]
  },
  {
   "cell_type": "markdown",
   "metadata": {},
   "source": [
    "### 3.8-OPCIONAL."
   ]
  },
  {
   "cell_type": "markdown",
   "metadata": {},
   "source": [
    "Añadir alguna consulta con subconsultas o algo que no se abarque en las anteriores consulta.\n"
   ]
  }
 ],
 "metadata": {
  "kernelspec": {
   "display_name": "Python 3",
   "language": "python",
   "name": "python3"
  },
  "language_info": {
   "codemirror_mode": {
    "name": "ipython",
    "version": 3
   },
   "file_extension": ".py",
   "mimetype": "text/x-python",
   "name": "python",
   "nbconvert_exporter": "python",
   "pygments_lexer": "ipython3",
   "version": "3.13.1"
  }
 },
 "nbformat": 4,
 "nbformat_minor": 2
}
