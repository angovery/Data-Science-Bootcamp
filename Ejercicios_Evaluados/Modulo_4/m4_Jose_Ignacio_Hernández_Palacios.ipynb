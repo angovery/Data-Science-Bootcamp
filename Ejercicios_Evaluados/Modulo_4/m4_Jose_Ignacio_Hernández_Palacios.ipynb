{
 "cells": [
  {
   "cell_type": "markdown",
   "metadata": {},
   "source": [
    "# EJERCICIO MÓDULO 4: BASE DE DATOS 'SUPERMERCADO'"
   ]
  },
  {
   "cell_type": "markdown",
   "metadata": {},
   "source": [
    "## 1-CREACIÓN DE LA BASE DE DATOS."
   ]
  },
  {
   "cell_type": "markdown",
   "metadata": {},
   "source": [
    "Se genera una Base de Datos relacional cuya temática es la operativa habitual de un supermercado. Para ello, se definirán las correspondientes tablas de datos, así como las relaciones entre dichas tablas."
   ]
  },
  {
   "cell_type": "markdown",
   "metadata": {},
   "source": [
    "### 1.1-DEFINICIÓN DE LAS TABLAS DE DATOS."
   ]
  },
  {
   "cell_type": "markdown",
   "metadata": {},
   "source": [
    "Se define cada una de las tablas que componen la Base de Datos, junto a sus atributos, los tipos de datos y las relaciones."
   ]
  },
  {
   "cell_type": "markdown",
   "metadata": {},
   "source": [
    "#### 1.1.1-TABLA tiendas."
   ]
  },
  {
   "cell_type": "markdown",
   "metadata": {},
   "source": [
    "|Columna          |Tipo                       |Valores permitidos|\n",
    "|-----------------|---------------------------|------------------|\n",
    "|**id_tienda**    |INT UNSIGNED AUTO_INCREMENT|                  |\n",
    "|**nombre_tienda**|VARCHAR(60)                |                  |\n",
    "|**direccion**    |VARCHAR(80)                |                  |\n",
    "|**ciudad**       |VARCHAR(40)                |                  |\n",
    "|**cod_postal**   |INT(5) UNSIGNED            |                  |\n",
    "|**PRIMARY KEY**  |(id_tienda)                |                  |"
   ]
  },
  {
   "cell_type": "markdown",
   "metadata": {},
   "source": [
    "#### 1.1.2-TABLA empleados."
   ]
  },
  {
   "cell_type": "markdown",
   "metadata": {},
   "source": [
    "|Columna            |Tipo                                     |Valores permitidos                          |\n",
    "|-------------------|-----------------------------------------|--------------------------------------------|\n",
    "|**id_empleado**    |INT UNSIGNED AUTO_INCREMENT              |                                            |\n",
    "|**id_tienda**      |INT UNSIGNED                             |                                            |\n",
    "|**nombre_empleado**|VARCHAR(60)                              |                                            |\n",
    "|**puesto**         |ENUM                                     |'Cajero', 'Gerente', 'Reponedor', 'Vendedor'|\n",
    "|**PRIMARY KEY**    |(id_empleado)                            |                                            |\n",
    "|**FOREIGN KEY**    |(id_tienda) REFERENCES tienda (id_tienda)|                                            |"
   ]
  },
  {
   "cell_type": "markdown",
   "metadata": {},
   "source": [
    "#### 1.1.3-TABLA categorias."
   ]
  },
  {
   "cell_type": "markdown",
   "metadata": {},
   "source": [
    "|Columna             |Tipo                       |Valores permitidos|\n",
    "|--------------------|---------------------------|------------------|\n",
    "|**id_categoria**    |INT UNSIGNED AUTO_INCREMENT|                  |\n",
    "|**nombre_categoria**|VARCHAR(60)                |                  |\n",
    "|**PRIMARY KEY**     |(id_categoria)             |                  |"
   ]
  },
  {
   "cell_type": "markdown",
   "metadata": {},
   "source": [
    "#### 1.1.4-TABLA productos."
   ]
  },
  {
   "cell_type": "markdown",
   "metadata": {},
   "source": [
    "|Columna            |Tipo                                               |Valores permitidos|\n",
    "|-------------------|---------------------------------------------------|------------------|\n",
    "|**id_producto**    |INT UNSIGNED AUTO_INCREMENT                        |                  |\n",
    "|**id_categoria**   |INT UNSIGNED                                       |                  |\n",
    "|**nombre_producto**|VARCHAR(60)                                        |                  |\n",
    "|**precio**         |FLOAT(10,2)                                        |                  |\n",
    "|**stock**          |MEDIUMINT                                          |                  |\n",
    "|**PRIMARY KEY**    |(id_producto)                                      |                  |\n",
    "|**FOREIGN KEY**    |(id_categoria) REFERENCES categorias (id_categoria)|                  |"
   ]
  },
  {
   "cell_type": "markdown",
   "metadata": {},
   "source": [
    "#### 1.1.5-TABLA clientes."
   ]
  },
  {
   "cell_type": "markdown",
   "metadata": {},
   "source": [
    "|Columna             |Tipo                                   |Valores permitidos|\n",
    "|--------------------|---------------------------------------|------------------|\n",
    "|**id_cliente**      |INT UNSIGNED PRIMARY KEY AUTO_INCREMENT|                  |\n",
    "|**nombre_cliente**  |VARCHAR(60)                            |                  |\n",
    "|**apellido_cliente**|VARCHAR(60)                            |                  |\n",
    "|**email**           |VARCHAR(60)                            |                  |\n",
    "|**cod_postal**      |INT(5) UNSIGNED                        |                  |\n",
    "|**PRIMARY KEY**     |(id_cliente)                           |                  |"
   ]
  },
  {
   "cell_type": "markdown",
   "metadata": {},
   "source": [
    "#### 1.1.6-TABLA ordenes."
   ]
  },
  {
   "cell_type": "markdown",
   "metadata": {},
   "source": [
    "|Columna        |Tipo                                            |Valores permitidos   |\n",
    "|---------------|------------------------------------------------|---------------------|\n",
    "|**id_orden**   |INT UNSIGNED AUTO_INCREMENT                     |                     |\n",
    "|**id_cliente** |INT UNSIGNED                                    |                     |\n",
    "|**id_empleado**|INT UNSIGNED                                    |                     |\n",
    "|**fecha_orden**|DATE                                            |                     |\n",
    "|**metodo_pago**|ENUM                                            |'Tarjeta', 'Efectivo'|\n",
    "|**PRIMARY KEY**|(id_orden)                                      |                     |\n",
    "|**FOREIGN KEY**|(id_cliente) REFERENCES clientes (id_cliente)   |                     |\n",
    "|**FOREIGN KEY**|(id_empleado) REFERENCES empleados (id_empleado)|                     |"
   ]
  },
  {
   "cell_type": "markdown",
   "metadata": {},
   "source": [
    "#### 1.1.7-TABLA detalle_ordenes."
   ]
  },
  {
   "cell_type": "markdown",
   "metadata": {},
   "source": [
    "|Columna             |Tipo                                            |Valores permitidos|\n",
    "|--------------------|------------------------------------------------|------------------|\n",
    "|**id_detalle_orden**|INT UNSIGNED AUTO_INCREMENT                     |                  |\n",
    "|**id_orden**        |INT UNSIGNED                                    |                  |\n",
    "|**id_producto**     |INT UNSIGNED                                    |                  |\n",
    "|**cantidad**        |INT UNSIGNED                                    |                  |\n",
    "|**precio_unitario** |FLOAT(10,2)                                     |                  |\n",
    "|**descuento**       |FLOAT(3,2)                                      |                  |\n",
    "|**PRIMARY KEY**     |(id_detalle_orden)                              |                  |\n",
    "|**FOREIGN KEY**     |(id_orden) REFERENCES ordenes (id_orden)        |                  |\n",
    "|**FOREIGN KEY**     |(id_producto) REFERENCES productos (id_producto)|                  |"
   ]
  },
  {
   "cell_type": "markdown",
   "metadata": {},
   "source": [
    "### 1.2-CÓDIGO SQL DE LA BASE DE DATOS"
   ]
  },
  {
   "cell_type": "markdown",
   "metadata": {},
   "source": [
    "Se añade a una variable ('query'), en formato string, el conjunto de sentencias SQL que generan la Base de Datos 'supermercado'. De esta manera, desde código Python integrado en este mismo notebook, se puede ir extrayendo de la variable cada sentencia SQL a ejecutar."
   ]
  },
  {
   "cell_type": "code",
   "execution_count": 1,
   "metadata": {},
   "outputs": [],
   "source": [
    "query = \"\"\"/*Se borra cualquier Base de Datos existente que tenga el mismo nombre*/\n",
    "\n",
    "DROP DATABASE IF EXISTS supermercado;\n",
    "\n",
    "/*Se crea la Base de Datos*/\n",
    "\n",
    "CREATE DATABASE IF NOT EXISTS supermercado;\n",
    "\n",
    "USE supermercado;\n",
    "\n",
    "/*Se crea la tabla tiendas*/\n",
    "\n",
    "CREATE TABLE tiendas (\n",
    "    id_tienda INT UNSIGNED AUTO_INCREMENT,\n",
    "    nombre_tienda VARCHAR(60),\n",
    "    direccion VARCHAR(80),\n",
    "    ciudad VARCHAR(40),\n",
    "    cod_postal VARCHAR(5),\n",
    "    PRIMARY KEY (id_tienda)\n",
    ");\n",
    "\n",
    "/*Se crea la tabla empleados*/\n",
    "\n",
    "CREATE TABLE empleados (\n",
    "    id_empleado INT UNSIGNED AUTO_INCREMENT,\n",
    "    id_tienda INT UNSIGNED,\n",
    "    nombre_empleado VARCHAR(30),\n",
    "    apellido_empleado VARCHAR(30),\n",
    "    puesto ENUM ('Cajero', 'Gerente', 'Reponedor', 'Vendedor'),\n",
    "    PRIMARY KEY (id_empleado),\n",
    "    FOREIGN KEY (id_tienda) REFERENCES tiendas (id_tienda)\n",
    ");\n",
    "\n",
    "/*Se crea la tabla categorias*/\n",
    "\n",
    "CREATE TABLE categorias (\n",
    "    id_categoria INT UNSIGNED AUTO_INCREMENT,\n",
    "    nombre_categoria VARCHAR(60),\n",
    "    PRIMARY KEY (id_categoria)\n",
    ");\n",
    "\n",
    "/*Se crea la tabla productos*/\n",
    "\n",
    "CREATE TABLE productos (\n",
    "    id_producto INT UNSIGNED AUTO_INCREMENT,\n",
    "    id_categoria INT UNSIGNED,\n",
    "    nombre_producto VARCHAR(60),\n",
    "    precio FLOAT(10,2),\n",
    "    stock MEDIUMINT,\n",
    "    PRIMARY KEY (id_producto),\n",
    "    FOREIGN KEY (id_categoria) REFERENCES categorias (id_categoria)\n",
    ");\n",
    "\n",
    "/*Se crea la tabla clientes*/\n",
    "\n",
    "CREATE TABLE clientes (\n",
    "    id_cliente INT UNSIGNED AUTO_INCREMENT,\n",
    "    nombre_cliente VARCHAR(30),\n",
    "    apellido_cliente VARCHAR(30),\n",
    "    email VARCHAR(80),\n",
    "    direccion VARCHAR(80),\n",
    "    ciudad VARCHAR(40),\n",
    "    cod_postal VARCHAR(5),\n",
    "    PRIMARY KEY (id_cliente)\n",
    ");\n",
    "\n",
    "/*Se crea la tabla ordenes*/\n",
    "\n",
    "CREATE TABLE ordenes (\n",
    "    id_orden INT UNSIGNED AUTO_INCREMENT,\n",
    "    id_cliente INT UNSIGNED,\n",
    "    id_empleado INT UNSIGNED,\n",
    "    fecha_orden DATE,\n",
    "    metodo_pago ENUM ('Tarjeta', 'Efectivo'),\n",
    "    PRIMARY KEY (id_orden),\n",
    "    FOREIGN KEY (id_cliente) REFERENCES clientes (id_cliente),\n",
    "    FOREIGN KEY (id_empleado) REFERENCES empleados (id_empleado)\n",
    ");\n",
    "\n",
    "/*Se crea la tabla detalle_ordenes*/\n",
    "\n",
    "CREATE TABLE detalle_ordenes (\n",
    "    id_detalle INT UNSIGNED AUTO_INCREMENT,\n",
    "    id_orden INT UNSIGNED,\n",
    "    id_producto INT UNSIGNED,\n",
    "    cantidad INT UNSIGNED,\n",
    "    precio_unitario FLOAT(10,2),\n",
    "    descuento FLOAT(3,2),\n",
    "    PRIMARY KEY (id_detalle),\n",
    "    FOREIGN KEY (id_orden) REFERENCES ordenes (id_orden),\n",
    "    FOREIGN KEY (id_producto) REFERENCES productos (id_producto)\n",
    ");\n",
    "\"\"\""
   ]
  },
  {
   "cell_type": "markdown",
   "metadata": {},
   "source": [
    "### 1.3-CÓDIGO PYTHON PARA GENERAR LA BASE DE DATOS."
   ]
  },
  {
   "cell_type": "markdown",
   "metadata": {},
   "source": [
    "#### 1.3.1-DATOS DE CONEXIÓN A LA BASE DE DATOS."
   ]
  },
  {
   "cell_type": "code",
   "execution_count": 2,
   "metadata": {},
   "outputs": [],
   "source": [
    "usuario_db = 'root'\n",
    "password_db = 'admin'\n",
    "host_db = 'localhost'\n",
    "port_db = '3306'\n",
    "nombre_db = 'supermercado'"
   ]
  },
  {
   "cell_type": "markdown",
   "metadata": {},
   "source": [
    "#### 1.3.2-INICIALIZACIÓN DE LIBRERÍAS."
   ]
  },
  {
   "cell_type": "code",
   "execution_count": 3,
   "metadata": {},
   "outputs": [],
   "source": [
    "import pandas as pd\n",
    "import mysql.connector as con\n",
    "from mysql.connector import Error # Se importa el módulo de errores de conexión a Base de Datos.\n",
    "from sqlalchemy import create_engine, exc\n",
    "import random\n",
    "from datetime import datetime, timedelta"
   ]
  },
  {
   "cell_type": "markdown",
   "metadata": {},
   "source": [
    "#### 1.3.3-CREACIÓN DE LA BASE DE DATOS."
   ]
  },
  {
   "cell_type": "code",
   "execution_count": 4,
   "metadata": {},
   "outputs": [
    {
     "name": "stdout",
     "output_type": "stream",
     "text": [
      "Conexión correcta a MySQL.\n",
      "Base de datos y tablas creadas correctamente.\n",
      "Conexión cerrada.\n"
     ]
    }
   ],
   "source": [
    "try:\n",
    "    conexion = con.connect(                     # Se crea la conexión.\n",
    "    host= host_db,\n",
    "    port = port_db,\n",
    "    user = usuario_db,\n",
    "    password = password_db\n",
    "    )\n",
    "    \n",
    "    if conexion.is_connected():                 # Se comprueba si se ha establecido conexión correctamente con la Base de Datos.\n",
    "        print(\"Conexión correcta a MySQL.\")\n",
    "        cursor = conexion.cursor()\n",
    "        for sentencia in query.split(';'):      # Se crea una lista, cuyos elementos son las sentencias SQL contenidas en la variable 'query', se recorren sus elementos.\n",
    "            if sentencia.strip():               # Elemento no vacío.\n",
    "                cursor.execute(sentencia)       # Se ejecuta la sentencia.\n",
    "        print(\"Base de datos y tablas creadas correctamente.\")\n",
    "        \n",
    "except Error as e:                              # Se ha producido un error de conexión con la Base de Datos.\n",
    "    print(f\"Error al conectar con MySQL: {e}.\")\n",
    "    \n",
    "finally:\n",
    "    if conexion.is_connected():                 # Se cierran cursor y conexión.\n",
    "        cursor.close()\n",
    "        conexion.close()\n",
    "        print(\"Conexión cerrada.\")\n",
    "\n"
   ]
  },
  {
   "cell_type": "markdown",
   "metadata": {},
   "source": [
    "## 2-GENERACIÓN DE DATOS DEMO."
   ]
  },
  {
   "cell_type": "markdown",
   "metadata": {},
   "source": [
    "### 2.1-FUNCIONES AUXILIARES."
   ]
  },
  {
   "cell_type": "markdown",
   "metadata": {},
   "source": [
    "#### 2.1.1-Función generar_direccion()."
   ]
  },
  {
   "cell_type": "code",
   "execution_count": 5,
   "metadata": {},
   "outputs": [],
   "source": [
    "# Función que genera, de forma aleatoria una dirección.\n",
    "    # Entrada: (vacía).\n",
    "    # Salida: Devuielve una lista cuyos elementos son, respectivamente: calle, ciudad y código postal.\n",
    "def generar_direccion():\n",
    "    lista_direccion = []        # Se genera lista para almacenar datos de la dirección.\n",
    "    \n",
    "    # Lista que sirve de base para seleccionar la calle del cliente.\n",
    "    direccion = [\n",
    "        \"Calle Serrano\", \"Avenida del Cid\", \"Plaza Mayor\", \"Calle Gran Vía\", \"Avenida de Burgos\",\n",
    "        \"Calle de Alcalá\", \"Avenida Europa\", \"Calle San Martín\", \"Plaza del Sol\", \"Calle Princesa\",\n",
    "        \"Avenida de la Ilustración\", \"Calle del Comercio\", \"Calle Real\", \"Calle Mayor\", \"Calle del Juego\",\n",
    "        \"Avenida de España\", \"Calle Libertad\", \"Plaza Nueva\", \"Calle del Centro\", \"Calle Industria\"\n",
    "        ]\n",
    "    \n",
    "    # Lista que sirve de base para seleccionar la ciudad del cliente.\n",
    "    ciudad = [\n",
    "        \"Madrid\", \"Valencia\", \"Barcelona\", \"Sevilla\", \"Bilbao\",\n",
    "        \"Málaga\", \"Granada\", \"Santander\", \"Alicante\", \"Zaragoza\",\n",
    "        \"Córdoba\", \"Valladolid\", \"Oviedo\", \"Murcia\", \"Toledo\",\n",
    "        \"Salamanca\", \"San Sebastián\", \"Palma\", \"Burgos\", \"Almería\"\n",
    "        ]\n",
    "    \n",
    "    # Lista que sirve de base para seleccionar el código postal del cliente.\n",
    "    cod_postal = [\n",
    "        28001, 46001, 8002, 41004, 48002,\n",
    "        29007, 18001, 39001, 30001, 50001,\n",
    "        14001, 47001, 33001, 30002, 45001,\n",
    "        37001, 20001, 7011, 9001, 40001\n",
    "        ]\n",
    "\n",
    "    indice = random.randint(0, len(direccion) - 1)      # Se genera, aleatoriamente, el índice para seleccionar los correspondientes datos en cada una de las listas.\n",
    "    lista_direccion = [direccion[indice] + f', {random.randint(1, 100)}', ciudad[indice], str(cod_postal[indice]).zfill(5)]         # Se añaden los datos seleccionados a la lista.\n",
    "    return lista_direccion"
   ]
  },
  {
   "cell_type": "markdown",
   "metadata": {},
   "source": [
    "#### 2.1.2-Función generar_nombre_apellido()."
   ]
  },
  {
   "cell_type": "code",
   "execution_count": 6,
   "metadata": {},
   "outputs": [],
   "source": [
    "# Función para generar una lista cuyos elementos son un nombre y un apellido, de forma aleatoria.\n",
    "# Entrada: (vacía).\n",
    "# Salida: Una lista cuyo primer elemento es un nombre, y su segundo elemento es un apellido.\n",
    "def generar_nombre_apellido():\n",
    "    \n",
    "        # Lista que sirve de base para seleccionar el nombre.\n",
    "        nombres_personas = [\n",
    "            \"Antonio\", \"María\", \"José\", \"Carmen\", \"Manuel\", \"Ana\", \"Francisco\", \"Laura\",\n",
    "            \"Juan\", \"Isabel\", \"David\", \"Marta\", \"Luis\", \"Sara\", \"Javier\", \"Lucía\",\n",
    "            \"Carlos\", \"Paula\", \"Miguel\", \"Elena\", \"Rafael\", \"Sofía\", \"Pedro\", \"Clara\",\n",
    "            \"Jorge\", \"Teresa\", \"Alberto\", \"Rosa\", \"Álvaro\", \"Beatriz\", \"Sergio\", \"Julia\",\n",
    "            \"Raúl\", \"Natalia\", \"Fernando\", \"Lorena\", \"Pablo\", \"Eva\", \"Diego\", \"Patricia\",\n",
    "            \"Andrés\", \"Gloria\", \"Héctor\", \"Alicia\", \"Guillermo\", \"Cristina\", \"Rubén\", \"Verónica\",\n",
    "            \"Vicente\", \"Noelia\", \"Óscar\", \"Silvia\", \"Adrián\", \"Nuria\", \"Ricardo\", \"Esther\",\n",
    "            \"Ramón\", \"Irene\", \"Roberto\", \"Andrea\"\n",
    "            ]\n",
    "        \n",
    "        # Lista que sirve de base para seleccionar el apellido.\n",
    "        apellidos_personas = [\n",
    "            \"García\", \"Martínez\", \"López\", \"Sánchez\", \"González\", \"Pérez\", \"Rodríguez\", \"Fernández\",\n",
    "            \"Gómez\", \"Ruiz\", \"Díaz\", \"Hernández\", \"Alonso\", \"Torres\", \"Gil\", \"Ramírez\",\n",
    "            \"Moreno\", \"Jiménez\", \"Molina\", \"Castro\", \"Ortiz\", \"Rubio\", \"Vázquez\", \"Romero\",\n",
    "            \"Serrano\", \"Navarro\", \"Ramos\", \"Domínguez\", \"Álvarez\", \"Gutiérrez\", \"Iglesias\", \"Suárez\",\n",
    "            \"Cruz\", \"Castillo\", \"Flores\", \"Delgado\", \"Nieto\", \"Aguilar\", \"Vega\", \"Herrera\",\n",
    "            \"Peña\", \"Cabrera\", \"Fuentes\", \"León\", \"Marín\", \"Soto\", \"Rojas\", \"Carmona\",\n",
    "            \"Guerrero\", \"Pardo\", \"Méndez\", \"Blanco\", \"Campos\", \"Vidal\", \"Luna\", \"Calvo\",\n",
    "            \"Reyes\", \"Moya\", \"Ortega\", \"Prieto\"\n",
    "            ]\n",
    "        \n",
    "        nombre = random.choice(nombres_personas)        # Se selecciona, aleatoriamente, un nombre.\n",
    "        apellido = random.choice(apellidos_personas)    # Se selecciona, aleatoriamente, un apellido.\n",
    "            \n",
    "        return [nombre, apellido]\n",
    "            "
   ]
  },
  {
   "cell_type": "markdown",
   "metadata": {},
   "source": [
    "#### 2.1.3-Función generar_fechas()."
   ]
  },
  {
   "cell_type": "code",
   "execution_count": 7,
   "metadata": {},
   "outputs": [],
   "source": [
    "# Función para generar, de forma aleatoria, una fecha entre dos fechas datas.\n",
    "# Entrada: Fecha de Inicio, formato AAAA-MM-DD en string & Fecha de Fin, formato AAAA-MM-DD en string.\n",
    "# Salida: String con la fecha en formato AAAA-MM-DD. En caso de formato de fecha fin < fecha inicio, o quetengan un formato inadecuado, se genera un error y se imprime un mensaje de error.\n",
    "def generar_fecha_aleatoria(fecha_inicio_str, fecha_fin_str):\n",
    "    try:\n",
    "        # Se comprueban y convierten las fechas de string a objetos datetime.\n",
    "        fecha_inicio = datetime.strptime(fecha_inicio_str, '%Y-%m-%d')\n",
    "        fecha_fin = datetime.strptime(fecha_fin_str, '%Y-%m-%d')\n",
    "        \n",
    "        # Se valida que la fecha de inicio es anterior o igual a la fecha fin.\n",
    "        if fecha_inicio > fecha_fin:\n",
    "            raise ValueError(\"La fecha de inicio no puede ser posterior a la fecha fin.\")\n",
    "        \n",
    "        dias_totales = (fecha_fin - fecha_inicio).days                      # Se calcula el número total de días entre las dos fechas.\n",
    "        \n",
    "        dias_aleatorios = random.randint(0, dias_totales)                   # Se genera un número aleatorio de días dentro del rango.\n",
    "        \n",
    "        fecha_aleatoria = fecha_inicio + timedelta(days=dias_aleatorios)    # Se genera la nueva fecha aleatoria.\n",
    "        \n",
    "        return fecha_aleatoria.strftime('%Y-%m-%d')                         # Se devuelve la fecha aleatoria en formato string.\n",
    "        \n",
    "    except ValueError as e:                                                 # Se gestionan los de errores, si el formato es incorrecto o hay algún problema.\n",
    "    \n",
    "        return f\"Error: {e}\"\n"
   ]
  },
  {
   "cell_type": "markdown",
   "metadata": {},
   "source": [
    "#### 2.1.4-Función insertar_dataframe()."
   ]
  },
  {
   "cell_type": "code",
   "execution_count": 8,
   "metadata": {},
   "outputs": [],
   "source": [
    "# Función para insertar un DataFrame en una base de datos.\n",
    "# Entrada: pd.DataFrame, con los datos a insertar & String, con el nombre de la base de datos & String, con el nombre de la tabla donde se insertará.\n",
    "# Salida:  Si hasucedido algún error, se imprime mensaje de error.\n",
    "def insertar_dataframe(df, database_name, table_name):\n",
    "    try:\n",
    "        connection = con.connect(\n",
    "            host = \"localhost\",\n",
    "            port = \"3306\",\n",
    "            user = \"root\",\n",
    "            password = \"admin\",\n",
    "            database = database_name\n",
    "        )\n",
    "        cursor = connection.cursor()\n",
    "        \n",
    "        columns = ','.join(df.columns)\n",
    "        placeholders = ','.join(['%s'] * len(df.columns))\n",
    "        sql = f'INSERT INTO {table_name} ({columns}) VALUES ({placeholders});'\n",
    "    \n",
    "        rows = [tuple(row) for index, row in df.iterrows()]     # lista de tuplas con los datos del dataframe\n",
    "\n",
    "        cursor.executemany(sql, rows)\n",
    "        \n",
    "        connection.commit()\n",
    "        return cursor.rowcount\n",
    "    except con.Error as error:\n",
    "        print(f\"Ha ocurrido un error: {error}\")\n",
    "        if connection:\n",
    "            connection.rollback()\n",
    "        return 0\n",
    "    finally:\n",
    "        if cursor: \n",
    "            cursor.close()\n",
    "        if connection:\n",
    "            connection.close()"
   ]
  },
  {
   "cell_type": "markdown",
   "metadata": {},
   "source": [
    "#### 2.1.5-Función consultar_bd()."
   ]
  },
  {
   "cell_type": "code",
   "execution_count": 9,
   "metadata": {},
   "outputs": [],
   "source": [
    "def consultar_bd(query, usuario_db, password_db, host_db, nombre_db):\n",
    "\n",
    "    # Se crea la URL de la conexión.\n",
    "    url_db = f'mysql+pymysql://{usuario_db}:{password_db}@{host_db}/{nombre_db}'\n",
    "\n",
    "    try:\n",
    "        engine = create_engine(url_db)                  # Se crea el motor de conexión.\n",
    "\n",
    "        with engine.connect() as connection:            # Conexión con contexto administrado para garantizar el cierre.\n",
    "            df = pd.read_sql(query, con=connection)     # Se ejecuta la consulta y se cargan los resultados en un DataFrame.\n",
    "            return df\n",
    "\n",
    "    except exc.OperationalError as e:\n",
    "        print(\"Error de conexión a la base de datos. Verificar los parámetros de conexión.\")\n",
    "        print(e)\n",
    "\n",
    "    except exc.ProgrammingError as e:\n",
    "        print(\"Error en la consulta SQL. Revisar la sintaxis de la consulta.\")\n",
    "        print(e)\n",
    "\n",
    "    except Exception as e:\n",
    "        print(\"Ocurrió un error inesperado:\")\n",
    "        print(e)\n",
    "\n",
    "    finally:                                            # Se libera el motor creado.\n",
    "        if 'engine' in locals() and not engine.dispose():\n",
    "            engine.dispose()\n",
    "\n"
   ]
  },
  {
   "cell_type": "markdown",
   "metadata": {},
   "source": [
    "#### 2.1.6-Función generar_tiendas()."
   ]
  },
  {
   "cell_type": "code",
   "execution_count": 10,
   "metadata": {},
   "outputs": [],
   "source": [
    "# Función para generar un DataFrame con un número aleatorio (entre 5 y 10) de tiendas.\n",
    "# Entrada: (vacía).\n",
    "# Salida: pd.DataFrame con datos de ejemplo de la tabla 'tienda'.\n",
    "def generar_tiendas():\n",
    "    \n",
    "    num_tiendas = random.randint(5, 10)             # Se genera el número de tiendas que se van a crear, entre 5 y 10 tiendas.\n",
    "    \n",
    "    lista_tiendas = []                              # Se genera una lista donde se almacenarán los datos de las tiendas.\n",
    "    \n",
    "    for id_tienda in range(1, num_tiendas+1):       # Se crean las tiendas, según el número generado aleatoriamente.\n",
    "        datos_direccion = generar_direccion()       # Se genera la dirección de la tienda.\n",
    "        lista_tiendas.append({                      # Se añaden, a la lista, los datos de cada tienda generada.\n",
    "            'id_tienda': id_tienda,\n",
    "            'nombre_tienda': 'Supermercado ' + str(id_tienda),\n",
    "            'direccion': datos_direccion[0],\n",
    "            'ciudad': datos_direccion[1],\n",
    "            'cod_postal': datos_direccion[2],\n",
    "        })\n",
    "    df = pd.DataFrame(lista_tiendas)                # Se crea el DataFrame a devolver.\n",
    "\n",
    "    return df"
   ]
  },
  {
   "cell_type": "markdown",
   "metadata": {},
   "source": [
    "#### 2.1.7-Función generar_empleados()."
   ]
  },
  {
   "cell_type": "code",
   "execution_count": 11,
   "metadata": {},
   "outputs": [],
   "source": [
    "# Función para generar un Dataframe de Pandas con datos de ejemplo de empleados, de forma aleatoria, para cada tienda generada. Se generarán 20 empleados por tienda. \n",
    "# Un mismo empleado no puede pertenecer a más de una tienda al mismo tiempo.\n",
    "# El valor del campo 'id_empleado' serán valores enteros cosecutivos, comenzando por '1'. Este campo, además, será el índice del DataFrame)\n",
    "# El valor del campo 'puesto' debe ser un valor, a elegir de forma aleatoria entre los siguientes valores posibles: (‘Cajero’, ‘Gerente’, ‘Reponedor’, ‘Vendedor’).\n",
    "# Entrada: Numero entero, mayor o igual a 1, de empleados a generar por tienda & lista con las id's de las tiendas generadas previamente. \n",
    "# Salida: pd.DataFrame con datos de ejemplo de la tabla 'empleados'.\n",
    "def generar_empleados(num_empleados, lista_id_tiendas):\n",
    "    \n",
    "    lista_puestos = ['Cajero', 'Gerente', 'Reponedor', 'Vendedor']      # Lista con los puestos definidos en el supermercado.\n",
    "    \n",
    "    lista_empleados = []        # Se genera una lista para almacenar los datos de empleados.\n",
    "    id_empleado = 1             # Se inicializa el id del empleado.\n",
    "\n",
    "    for id_tienda in lista_id_tiendas:                          # Se recorren los id's de las tiendas existentes.\n",
    "        for _ in range(num_empleados):                          # Se itera entre el número de empleados total que debe tener cada tienda.\n",
    "            nombre_empleado = generar_nombre_apellido()[0]      # Se genera el nombre del empleado.\n",
    "            apellido_empleado = generar_nombre_apellido()[1]    # Se genera el apellido del empleado. \n",
    "            puesto = random.choice(lista_puestos)               # Se selecciona el puesto del empleado.\n",
    "            lista_empleados.append({                            # Se añade el diccionario con los datos de cada empleado a la lista.\n",
    "                'id_empleado': id_empleado,\n",
    "                'id_tienda': id_tienda,\n",
    "                'nombre_empleado': nombre_empleado,\n",
    "                'apellido_empleado': apellido_empleado,\n",
    "                'puesto': puesto\n",
    "            })\n",
    "            id_empleado += 1\n",
    "\n",
    "    df_empleados = pd.DataFrame(lista_empleados)        # Se crea el DataFrame a partir de la lista de empleados.\n",
    "    \n",
    "    return df_empleados"
   ]
  },
  {
   "cell_type": "markdown",
   "metadata": {},
   "source": [
    "#### 2.1.8-Función generar_categorias()."
   ]
  },
  {
   "cell_type": "code",
   "execution_count": 12,
   "metadata": {},
   "outputs": [],
   "source": [
    "# Función para generar un DataFrame de Pandas con 10 categorías de productos en venta.\n",
    "# Entrada: (vacía). \n",
    "# Salida: pd.DataFrame con datos de ejemplo de la tabla 'categorias'. El campo 'id_categoria' es el índice del DataFrame\n",
    "def generar_categorias():\n",
    "    \n",
    "    num_categorias = 10         # Se fija el número de categorías en 10.\n",
    "    lista_categorias = {\n",
    "        'id_categoria': [i + 1 for i in range(num_categorias)],     # Se genera una lista con los id_categoria.\n",
    "        'nombre_categoria': ['Lácteos', 'Carnes', 'Frutas', 'Verduras', 'Bebidas', 'Panadería', 'Higiene', 'Pescadería', 'Charcutería', 'Parafarmacia']     # Revisar en caso de que num_categorias > 10\n",
    "        }\n",
    "    df = pd.DataFrame(lista_categorias)\n",
    "\n",
    "    return df"
   ]
  },
  {
   "cell_type": "markdown",
   "metadata": {},
   "source": [
    "#### 2.1.9-Función generar_productos()."
   ]
  },
  {
   "cell_type": "code",
   "execution_count": 13,
   "metadata": {},
   "outputs": [],
   "source": [
    "# Función que genera un DataFrame de Pandas con datos de ejemplo de productos por cada categoría existente en la tabla 'categorias'.\n",
    "# Entrada: pd.DataFrame de categorias & numero entero >=1.\n",
    "# Salida: pd.DataFrame con datos de productos de ejemplo por cada categoría existente en la tabla 'categorias'\n",
    "def generar_productos(n_productos,df_categorias):\n",
    "    \n",
    "    datos_productos = []                                    # Se genera una lista para almacenar los datos de los productos.\n",
    "\n",
    "    id_producto = 1                                         # Contador para el id_productos.\n",
    "    \n",
    "    for id_cat in df_categorias['id_categoria']:            # Se recorrer los id_categorias.\n",
    "        for n_prod in range(n_productos):                   # Se itera el numéro deseado de productos por cada categoría.\n",
    "            nombre_producto = (f'Producto_{df_categorias['nombre_categoria'][id_cat-1]}_{n_prod+1}')        # Se forma el nombre de producto: Prducto_Categoría_Numero.\n",
    "            precio = round(random.uniform(1.0, 100.0), 2)   # Se genera un precio aleatorio entre 1.00 y 100.00.\n",
    "            stock = random.randint(10, 200)                 # Se genera un stock aleatorio entre 10 y 200 unidades.\n",
    "            datos_productos.append({                        # Se añaden los datos de cada producto a la lista.\n",
    "                'id_producto': id_producto,\n",
    "                'id_categoria': id_cat,\n",
    "                'nombre_producto': nombre_producto,\n",
    "                'precio': precio,\n",
    "                'stock': stock\n",
    "            })\n",
    "            id_producto += 1\n",
    "\n",
    "    df_productos = pd.DataFrame(datos_productos)            # Se crea el DataFrame.\n",
    "\n",
    "    return df_productos"
   ]
  },
  {
   "cell_type": "markdown",
   "metadata": {},
   "source": [
    "#### 2.1.10-Función generar_clientes()."
   ]
  },
  {
   "cell_type": "code",
   "execution_count": 14,
   "metadata": {},
   "outputs": [],
   "source": [
    "# Función para generar un Dataframe de Pandas con datos de ejemplo de clientes, de forma aleatoria.\n",
    "# Entrada: Numero entero, mayor o igual a 1, de clientes a generar por tienda.\n",
    "# Salida: pd.DataFrame con datos de ejemplo de la tabla 'clientes'. \n",
    "def generar_clientes(num_clientes):\n",
    "    \n",
    "    lista_datos_clientes = []           # Se genera lista para almacenar datos de los clientes.\n",
    "          \n",
    "    for num_c in range(num_clientes):                      # Se genera el numero de clientes definido en la entrada.\n",
    "        nombre_cliente = generar_nombre_apellido()[0]      # Se selecciona, aleatoriamente, un nombre de cliente.\n",
    "        apellido_cliente = generar_nombre_apellido()[1]    # Se selecciona, aleatoriamente, un apellido de cliente.\n",
    "        lista_direccion = generar_direccion()              # Se genera, aleatoriamente, una dirección.\n",
    "        \n",
    "        lista_datos_clientes.append ({                     # Se añaden, a una lista, los datos generados del cliente.\n",
    "            'id_cliente': num_c + 1,\n",
    "            'nombre_cliente': nombre_cliente,\n",
    "            'apellido_cliente': apellido_cliente,\n",
    "            'email': nombre_cliente.lower() + '.' + apellido_cliente.lower() + str(num_c + 1) + '@test.com',\n",
    "            'direccion': lista_direccion[0],\n",
    "            'ciudad': lista_direccion[1],\n",
    "            'cod_postal': lista_direccion[2],\n",
    "            })\n",
    "\n",
    "    df_clientes = pd.DataFrame(lista_datos_clientes)        # Se genera el DataFrame a devolver.\n",
    "     \n",
    "    return df_clientes\n"
   ]
  },
  {
   "cell_type": "markdown",
   "metadata": {},
   "source": [
    "#### 2.1.11-Función generar_ordenes()."
   ]
  },
  {
   "cell_type": "code",
   "execution_count": 15,
   "metadata": {},
   "outputs": [],
   "source": [
    "# Función para generar un múmero determinado de órdenes de compra demo, para la tabla 'ordenes'.\n",
    "# Entrada: Número entero >=1 & Lista de códigos de cliente & Lista de códigos de empleados.\n",
    "# Salida: pd.DataFrame con las ordenes generadas.\n",
    "def generar_ordenes (num_ordenes, ids_clientes, ids_empleados):\n",
    "    lista_ordenes = []\n",
    "    lista_metodos_pago = ['Tarjeta', 'Efectivo']                # Lista para seleccionar los métodos de pago posibles.\n",
    "    for id_orden in range(1,num_ordenes+1):                     # Se genera el número de ordenes concretados.\n",
    "        lista_ordenes.append({                                  # Se añade las características de la orden a la lista.\n",
    "            'id_orden': id_orden,\n",
    "            'id_cliente': random.choice(ids_clientes),          # Se selecciona aleatoriamente in id_cliente.\n",
    "            'id_empleado': random.choice(ids_empleados),        # Se selecciona aleatoriamente in id_empleado.\n",
    "            'fecha_orden': generar_fecha_aleatoria('2024-01-01', '2025-01-01'), # Se genera aleatoriamente una fecha.\n",
    "            'metodo_pago': random.choice(lista_metodos_pago)    # Se selecciona aleatoriamente unmétodo de pago.\n",
    "        })\n",
    "    df = pd.DataFrame(lista_ordenes)        # Se genera el DataFrame\n",
    "    \n",
    "    return df"
   ]
  },
  {
   "cell_type": "markdown",
   "metadata": {},
   "source": [
    "#### 2.1.12-Función generar_detalle_ordenes()."
   ]
  },
  {
   "cell_type": "code",
   "execution_count": 16,
   "metadata": {},
   "outputs": [],
   "source": [
    "# Función para generar un número determinado de demos de detalles de órdenes de compra, para la tabla 'detalle_ordenes'.\n",
    "def generar_detalle_ordenes (num_detalles, ids_orden, df_productos):\n",
    "    descuentos = (0.0, 0.05, 0.1, 0.15, 0.2, 0.25, 0.3, 0.35, 0.5) # Tupla con los descuentos permitidos.\n",
    "    lista_detalles = []\n",
    "\n",
    "    for id_detalle in range(1,num_detalles+1):                      # Se genera cada detallede orden.\n",
    "        id_producto = random.choice(df_productos['id_producto'])    # Se selecciona aleatoriamente un id_producto.\n",
    "        lista_detalles.append({                                     # Se añade las características de los detalles de la orden a la lista.\n",
    "            'id_detalle': id_detalle, \n",
    "            'id_orden': random.choice(ids_orden),                   # Se elige aleatoriamente un id_orden.\n",
    "            'id_producto': id_producto,\n",
    "            'cantidad': random.randint(1, 20),                      # Se elige aleatoriamente una cantidad de unidades de compra del producto.\n",
    "            'precio_unitario': df_productos[df_productos['id_producto'] == id_producto]['precio'].values[0],        # Se asigna el precio del producto anterior seleccionado.\n",
    "            'descuento': random.choice(descuentos)                  # Se elige aleatoriamente un descuento a aplicar.\n",
    "        })\n",
    "    df = pd.DataFrame(lista_detalles)       # Se genera el DataFrame.\n",
    "    \n",
    "    return df"
   ]
  },
  {
   "cell_type": "markdown",
   "metadata": {},
   "source": [
    "### 2.2-GENERACIÓN DE DATAFRAMES."
   ]
  },
  {
   "cell_type": "markdown",
   "metadata": {},
   "source": [
    "#### 2.2.1-DataFrame 'tiendas'."
   ]
  },
  {
   "cell_type": "code",
   "execution_count": 17,
   "metadata": {},
   "outputs": [
    {
     "data": {
      "text/html": [
       "<div>\n",
       "<style scoped>\n",
       "    .dataframe tbody tr th:only-of-type {\n",
       "        vertical-align: middle;\n",
       "    }\n",
       "\n",
       "    .dataframe tbody tr th {\n",
       "        vertical-align: top;\n",
       "    }\n",
       "\n",
       "    .dataframe thead th {\n",
       "        text-align: right;\n",
       "    }\n",
       "</style>\n",
       "<table border=\"1\" class=\"dataframe\">\n",
       "  <thead>\n",
       "    <tr style=\"text-align: right;\">\n",
       "      <th></th>\n",
       "      <th>id_tienda</th>\n",
       "      <th>nombre_tienda</th>\n",
       "      <th>direccion</th>\n",
       "      <th>ciudad</th>\n",
       "      <th>cod_postal</th>\n",
       "    </tr>\n",
       "  </thead>\n",
       "  <tbody>\n",
       "    <tr>\n",
       "      <th>0</th>\n",
       "      <td>1</td>\n",
       "      <td>Supermercado 1</td>\n",
       "      <td>Avenida Europa, 77</td>\n",
       "      <td>Granada</td>\n",
       "      <td>18001</td>\n",
       "    </tr>\n",
       "    <tr>\n",
       "      <th>1</th>\n",
       "      <td>2</td>\n",
       "      <td>Supermercado 2</td>\n",
       "      <td>Avenida Europa, 100</td>\n",
       "      <td>Granada</td>\n",
       "      <td>18001</td>\n",
       "    </tr>\n",
       "    <tr>\n",
       "      <th>2</th>\n",
       "      <td>3</td>\n",
       "      <td>Supermercado 3</td>\n",
       "      <td>Calle Industria, 46</td>\n",
       "      <td>Almería</td>\n",
       "      <td>40001</td>\n",
       "    </tr>\n",
       "    <tr>\n",
       "      <th>3</th>\n",
       "      <td>4</td>\n",
       "      <td>Supermercado 4</td>\n",
       "      <td>Calle Princesa, 57</td>\n",
       "      <td>Zaragoza</td>\n",
       "      <td>50001</td>\n",
       "    </tr>\n",
       "    <tr>\n",
       "      <th>4</th>\n",
       "      <td>5</td>\n",
       "      <td>Supermercado 5</td>\n",
       "      <td>Plaza Mayor, 98</td>\n",
       "      <td>Barcelona</td>\n",
       "      <td>08002</td>\n",
       "    </tr>\n",
       "    <tr>\n",
       "      <th>5</th>\n",
       "      <td>6</td>\n",
       "      <td>Supermercado 6</td>\n",
       "      <td>Calle de Alcalá, 65</td>\n",
       "      <td>Málaga</td>\n",
       "      <td>29007</td>\n",
       "    </tr>\n",
       "    <tr>\n",
       "      <th>6</th>\n",
       "      <td>7</td>\n",
       "      <td>Supermercado 7</td>\n",
       "      <td>Avenida de la Ilustración, 73</td>\n",
       "      <td>Córdoba</td>\n",
       "      <td>14001</td>\n",
       "    </tr>\n",
       "    <tr>\n",
       "      <th>7</th>\n",
       "      <td>8</td>\n",
       "      <td>Supermercado 8</td>\n",
       "      <td>Calle Princesa, 2</td>\n",
       "      <td>Zaragoza</td>\n",
       "      <td>50001</td>\n",
       "    </tr>\n",
       "  </tbody>\n",
       "</table>\n",
       "</div>"
      ],
      "text/plain": [
       "   id_tienda   nombre_tienda                      direccion     ciudad  \\\n",
       "0          1  Supermercado 1             Avenida Europa, 77    Granada   \n",
       "1          2  Supermercado 2            Avenida Europa, 100    Granada   \n",
       "2          3  Supermercado 3            Calle Industria, 46    Almería   \n",
       "3          4  Supermercado 4             Calle Princesa, 57   Zaragoza   \n",
       "4          5  Supermercado 5                Plaza Mayor, 98  Barcelona   \n",
       "5          6  Supermercado 6            Calle de Alcalá, 65     Málaga   \n",
       "6          7  Supermercado 7  Avenida de la Ilustración, 73    Córdoba   \n",
       "7          8  Supermercado 8              Calle Princesa, 2   Zaragoza   \n",
       "\n",
       "  cod_postal  \n",
       "0      18001  \n",
       "1      18001  \n",
       "2      40001  \n",
       "3      50001  \n",
       "4      08002  \n",
       "5      29007  \n",
       "6      14001  \n",
       "7      50001  "
      ]
     },
     "execution_count": 17,
     "metadata": {},
     "output_type": "execute_result"
    }
   ],
   "source": [
    "df_tiendas = generar_tiendas()\n",
    "df_tiendas"
   ]
  },
  {
   "cell_type": "markdown",
   "metadata": {},
   "source": [
    "#### 2.2.2-DataFrame 'empleados'."
   ]
  },
  {
   "cell_type": "code",
   "execution_count": 18,
   "metadata": {},
   "outputs": [
    {
     "data": {
      "text/html": [
       "<div>\n",
       "<style scoped>\n",
       "    .dataframe tbody tr th:only-of-type {\n",
       "        vertical-align: middle;\n",
       "    }\n",
       "\n",
       "    .dataframe tbody tr th {\n",
       "        vertical-align: top;\n",
       "    }\n",
       "\n",
       "    .dataframe thead th {\n",
       "        text-align: right;\n",
       "    }\n",
       "</style>\n",
       "<table border=\"1\" class=\"dataframe\">\n",
       "  <thead>\n",
       "    <tr style=\"text-align: right;\">\n",
       "      <th></th>\n",
       "      <th>id_empleado</th>\n",
       "      <th>id_tienda</th>\n",
       "      <th>nombre_empleado</th>\n",
       "      <th>apellido_empleado</th>\n",
       "      <th>puesto</th>\n",
       "    </tr>\n",
       "  </thead>\n",
       "  <tbody>\n",
       "    <tr>\n",
       "      <th>0</th>\n",
       "      <td>1</td>\n",
       "      <td>1</td>\n",
       "      <td>Elena</td>\n",
       "      <td>Rojas</td>\n",
       "      <td>Vendedor</td>\n",
       "    </tr>\n",
       "    <tr>\n",
       "      <th>1</th>\n",
       "      <td>2</td>\n",
       "      <td>1</td>\n",
       "      <td>Silvia</td>\n",
       "      <td>Guerrero</td>\n",
       "      <td>Cajero</td>\n",
       "    </tr>\n",
       "    <tr>\n",
       "      <th>2</th>\n",
       "      <td>3</td>\n",
       "      <td>1</td>\n",
       "      <td>Teresa</td>\n",
       "      <td>Gutiérrez</td>\n",
       "      <td>Vendedor</td>\n",
       "    </tr>\n",
       "    <tr>\n",
       "      <th>3</th>\n",
       "      <td>4</td>\n",
       "      <td>1</td>\n",
       "      <td>Guillermo</td>\n",
       "      <td>Ortiz</td>\n",
       "      <td>Vendedor</td>\n",
       "    </tr>\n",
       "    <tr>\n",
       "      <th>4</th>\n",
       "      <td>5</td>\n",
       "      <td>1</td>\n",
       "      <td>Natalia</td>\n",
       "      <td>Carmona</td>\n",
       "      <td>Gerente</td>\n",
       "    </tr>\n",
       "    <tr>\n",
       "      <th>...</th>\n",
       "      <td>...</td>\n",
       "      <td>...</td>\n",
       "      <td>...</td>\n",
       "      <td>...</td>\n",
       "      <td>...</td>\n",
       "    </tr>\n",
       "    <tr>\n",
       "      <th>155</th>\n",
       "      <td>156</td>\n",
       "      <td>8</td>\n",
       "      <td>Andrea</td>\n",
       "      <td>Moreno</td>\n",
       "      <td>Reponedor</td>\n",
       "    </tr>\n",
       "    <tr>\n",
       "      <th>156</th>\n",
       "      <td>157</td>\n",
       "      <td>8</td>\n",
       "      <td>Sara</td>\n",
       "      <td>Serrano</td>\n",
       "      <td>Gerente</td>\n",
       "    </tr>\n",
       "    <tr>\n",
       "      <th>157</th>\n",
       "      <td>158</td>\n",
       "      <td>8</td>\n",
       "      <td>Roberto</td>\n",
       "      <td>Martínez</td>\n",
       "      <td>Cajero</td>\n",
       "    </tr>\n",
       "    <tr>\n",
       "      <th>158</th>\n",
       "      <td>159</td>\n",
       "      <td>8</td>\n",
       "      <td>Beatriz</td>\n",
       "      <td>Gil</td>\n",
       "      <td>Cajero</td>\n",
       "    </tr>\n",
       "    <tr>\n",
       "      <th>159</th>\n",
       "      <td>160</td>\n",
       "      <td>8</td>\n",
       "      <td>Luis</td>\n",
       "      <td>Vidal</td>\n",
       "      <td>Gerente</td>\n",
       "    </tr>\n",
       "  </tbody>\n",
       "</table>\n",
       "<p>160 rows × 5 columns</p>\n",
       "</div>"
      ],
      "text/plain": [
       "     id_empleado  id_tienda nombre_empleado apellido_empleado     puesto\n",
       "0              1          1           Elena             Rojas   Vendedor\n",
       "1              2          1          Silvia          Guerrero     Cajero\n",
       "2              3          1          Teresa         Gutiérrez   Vendedor\n",
       "3              4          1       Guillermo             Ortiz   Vendedor\n",
       "4              5          1         Natalia           Carmona    Gerente\n",
       "..           ...        ...             ...               ...        ...\n",
       "155          156          8          Andrea            Moreno  Reponedor\n",
       "156          157          8            Sara           Serrano    Gerente\n",
       "157          158          8         Roberto          Martínez     Cajero\n",
       "158          159          8         Beatriz               Gil     Cajero\n",
       "159          160          8            Luis             Vidal    Gerente\n",
       "\n",
       "[160 rows x 5 columns]"
      ]
     },
     "execution_count": 18,
     "metadata": {},
     "output_type": "execute_result"
    }
   ],
   "source": [
    "df_empleados = generar_empleados(20, df_tiendas['id_tienda'])\n",
    "df_empleados"
   ]
  },
  {
   "cell_type": "markdown",
   "metadata": {},
   "source": [
    "#### 2.2.3-DataFrame 'categorias'."
   ]
  },
  {
   "cell_type": "code",
   "execution_count": 19,
   "metadata": {},
   "outputs": [
    {
     "data": {
      "text/html": [
       "<div>\n",
       "<style scoped>\n",
       "    .dataframe tbody tr th:only-of-type {\n",
       "        vertical-align: middle;\n",
       "    }\n",
       "\n",
       "    .dataframe tbody tr th {\n",
       "        vertical-align: top;\n",
       "    }\n",
       "\n",
       "    .dataframe thead th {\n",
       "        text-align: right;\n",
       "    }\n",
       "</style>\n",
       "<table border=\"1\" class=\"dataframe\">\n",
       "  <thead>\n",
       "    <tr style=\"text-align: right;\">\n",
       "      <th></th>\n",
       "      <th>id_categoria</th>\n",
       "      <th>nombre_categoria</th>\n",
       "    </tr>\n",
       "  </thead>\n",
       "  <tbody>\n",
       "    <tr>\n",
       "      <th>0</th>\n",
       "      <td>1</td>\n",
       "      <td>Lácteos</td>\n",
       "    </tr>\n",
       "    <tr>\n",
       "      <th>1</th>\n",
       "      <td>2</td>\n",
       "      <td>Carnes</td>\n",
       "    </tr>\n",
       "    <tr>\n",
       "      <th>2</th>\n",
       "      <td>3</td>\n",
       "      <td>Frutas</td>\n",
       "    </tr>\n",
       "    <tr>\n",
       "      <th>3</th>\n",
       "      <td>4</td>\n",
       "      <td>Verduras</td>\n",
       "    </tr>\n",
       "    <tr>\n",
       "      <th>4</th>\n",
       "      <td>5</td>\n",
       "      <td>Bebidas</td>\n",
       "    </tr>\n",
       "    <tr>\n",
       "      <th>5</th>\n",
       "      <td>6</td>\n",
       "      <td>Panadería</td>\n",
       "    </tr>\n",
       "    <tr>\n",
       "      <th>6</th>\n",
       "      <td>7</td>\n",
       "      <td>Higiene</td>\n",
       "    </tr>\n",
       "    <tr>\n",
       "      <th>7</th>\n",
       "      <td>8</td>\n",
       "      <td>Pescadería</td>\n",
       "    </tr>\n",
       "    <tr>\n",
       "      <th>8</th>\n",
       "      <td>9</td>\n",
       "      <td>Charcutería</td>\n",
       "    </tr>\n",
       "    <tr>\n",
       "      <th>9</th>\n",
       "      <td>10</td>\n",
       "      <td>Parafarmacia</td>\n",
       "    </tr>\n",
       "  </tbody>\n",
       "</table>\n",
       "</div>"
      ],
      "text/plain": [
       "   id_categoria nombre_categoria\n",
       "0             1          Lácteos\n",
       "1             2           Carnes\n",
       "2             3           Frutas\n",
       "3             4         Verduras\n",
       "4             5          Bebidas\n",
       "5             6        Panadería\n",
       "6             7          Higiene\n",
       "7             8       Pescadería\n",
       "8             9      Charcutería\n",
       "9            10     Parafarmacia"
      ]
     },
     "execution_count": 19,
     "metadata": {},
     "output_type": "execute_result"
    }
   ],
   "source": [
    "df_categorias = generar_categorias()\n",
    "df_categorias"
   ]
  },
  {
   "cell_type": "markdown",
   "metadata": {},
   "source": [
    "#### 2.2.4-DataFrame 'productos'."
   ]
  },
  {
   "cell_type": "code",
   "execution_count": 20,
   "metadata": {},
   "outputs": [
    {
     "data": {
      "text/html": [
       "<div>\n",
       "<style scoped>\n",
       "    .dataframe tbody tr th:only-of-type {\n",
       "        vertical-align: middle;\n",
       "    }\n",
       "\n",
       "    .dataframe tbody tr th {\n",
       "        vertical-align: top;\n",
       "    }\n",
       "\n",
       "    .dataframe thead th {\n",
       "        text-align: right;\n",
       "    }\n",
       "</style>\n",
       "<table border=\"1\" class=\"dataframe\">\n",
       "  <thead>\n",
       "    <tr style=\"text-align: right;\">\n",
       "      <th></th>\n",
       "      <th>id_producto</th>\n",
       "      <th>id_categoria</th>\n",
       "      <th>nombre_producto</th>\n",
       "      <th>precio</th>\n",
       "      <th>stock</th>\n",
       "    </tr>\n",
       "  </thead>\n",
       "  <tbody>\n",
       "    <tr>\n",
       "      <th>0</th>\n",
       "      <td>1</td>\n",
       "      <td>1</td>\n",
       "      <td>Producto_Lácteos_1</td>\n",
       "      <td>98.37</td>\n",
       "      <td>161</td>\n",
       "    </tr>\n",
       "    <tr>\n",
       "      <th>1</th>\n",
       "      <td>2</td>\n",
       "      <td>1</td>\n",
       "      <td>Producto_Lácteos_2</td>\n",
       "      <td>29.90</td>\n",
       "      <td>27</td>\n",
       "    </tr>\n",
       "    <tr>\n",
       "      <th>2</th>\n",
       "      <td>3</td>\n",
       "      <td>1</td>\n",
       "      <td>Producto_Lácteos_3</td>\n",
       "      <td>10.53</td>\n",
       "      <td>37</td>\n",
       "    </tr>\n",
       "    <tr>\n",
       "      <th>3</th>\n",
       "      <td>4</td>\n",
       "      <td>1</td>\n",
       "      <td>Producto_Lácteos_4</td>\n",
       "      <td>6.00</td>\n",
       "      <td>31</td>\n",
       "    </tr>\n",
       "    <tr>\n",
       "      <th>4</th>\n",
       "      <td>5</td>\n",
       "      <td>2</td>\n",
       "      <td>Producto_Carnes_1</td>\n",
       "      <td>30.96</td>\n",
       "      <td>78</td>\n",
       "    </tr>\n",
       "    <tr>\n",
       "      <th>5</th>\n",
       "      <td>6</td>\n",
       "      <td>2</td>\n",
       "      <td>Producto_Carnes_2</td>\n",
       "      <td>23.33</td>\n",
       "      <td>177</td>\n",
       "    </tr>\n",
       "    <tr>\n",
       "      <th>6</th>\n",
       "      <td>7</td>\n",
       "      <td>2</td>\n",
       "      <td>Producto_Carnes_3</td>\n",
       "      <td>35.52</td>\n",
       "      <td>193</td>\n",
       "    </tr>\n",
       "    <tr>\n",
       "      <th>7</th>\n",
       "      <td>8</td>\n",
       "      <td>2</td>\n",
       "      <td>Producto_Carnes_4</td>\n",
       "      <td>43.36</td>\n",
       "      <td>15</td>\n",
       "    </tr>\n",
       "    <tr>\n",
       "      <th>8</th>\n",
       "      <td>9</td>\n",
       "      <td>3</td>\n",
       "      <td>Producto_Frutas_1</td>\n",
       "      <td>2.95</td>\n",
       "      <td>100</td>\n",
       "    </tr>\n",
       "    <tr>\n",
       "      <th>9</th>\n",
       "      <td>10</td>\n",
       "      <td>3</td>\n",
       "      <td>Producto_Frutas_2</td>\n",
       "      <td>57.07</td>\n",
       "      <td>28</td>\n",
       "    </tr>\n",
       "    <tr>\n",
       "      <th>10</th>\n",
       "      <td>11</td>\n",
       "      <td>3</td>\n",
       "      <td>Producto_Frutas_3</td>\n",
       "      <td>99.37</td>\n",
       "      <td>160</td>\n",
       "    </tr>\n",
       "    <tr>\n",
       "      <th>11</th>\n",
       "      <td>12</td>\n",
       "      <td>3</td>\n",
       "      <td>Producto_Frutas_4</td>\n",
       "      <td>62.43</td>\n",
       "      <td>82</td>\n",
       "    </tr>\n",
       "    <tr>\n",
       "      <th>12</th>\n",
       "      <td>13</td>\n",
       "      <td>4</td>\n",
       "      <td>Producto_Verduras_1</td>\n",
       "      <td>79.71</td>\n",
       "      <td>50</td>\n",
       "    </tr>\n",
       "    <tr>\n",
       "      <th>13</th>\n",
       "      <td>14</td>\n",
       "      <td>4</td>\n",
       "      <td>Producto_Verduras_2</td>\n",
       "      <td>7.69</td>\n",
       "      <td>166</td>\n",
       "    </tr>\n",
       "    <tr>\n",
       "      <th>14</th>\n",
       "      <td>15</td>\n",
       "      <td>4</td>\n",
       "      <td>Producto_Verduras_3</td>\n",
       "      <td>62.87</td>\n",
       "      <td>161</td>\n",
       "    </tr>\n",
       "    <tr>\n",
       "      <th>15</th>\n",
       "      <td>16</td>\n",
       "      <td>4</td>\n",
       "      <td>Producto_Verduras_4</td>\n",
       "      <td>15.61</td>\n",
       "      <td>167</td>\n",
       "    </tr>\n",
       "    <tr>\n",
       "      <th>16</th>\n",
       "      <td>17</td>\n",
       "      <td>5</td>\n",
       "      <td>Producto_Bebidas_1</td>\n",
       "      <td>41.28</td>\n",
       "      <td>21</td>\n",
       "    </tr>\n",
       "    <tr>\n",
       "      <th>17</th>\n",
       "      <td>18</td>\n",
       "      <td>5</td>\n",
       "      <td>Producto_Bebidas_2</td>\n",
       "      <td>63.17</td>\n",
       "      <td>165</td>\n",
       "    </tr>\n",
       "    <tr>\n",
       "      <th>18</th>\n",
       "      <td>19</td>\n",
       "      <td>5</td>\n",
       "      <td>Producto_Bebidas_3</td>\n",
       "      <td>24.87</td>\n",
       "      <td>44</td>\n",
       "    </tr>\n",
       "    <tr>\n",
       "      <th>19</th>\n",
       "      <td>20</td>\n",
       "      <td>5</td>\n",
       "      <td>Producto_Bebidas_4</td>\n",
       "      <td>98.28</td>\n",
       "      <td>48</td>\n",
       "    </tr>\n",
       "    <tr>\n",
       "      <th>20</th>\n",
       "      <td>21</td>\n",
       "      <td>6</td>\n",
       "      <td>Producto_Panadería_1</td>\n",
       "      <td>26.78</td>\n",
       "      <td>74</td>\n",
       "    </tr>\n",
       "    <tr>\n",
       "      <th>21</th>\n",
       "      <td>22</td>\n",
       "      <td>6</td>\n",
       "      <td>Producto_Panadería_2</td>\n",
       "      <td>23.15</td>\n",
       "      <td>93</td>\n",
       "    </tr>\n",
       "    <tr>\n",
       "      <th>22</th>\n",
       "      <td>23</td>\n",
       "      <td>6</td>\n",
       "      <td>Producto_Panadería_3</td>\n",
       "      <td>23.63</td>\n",
       "      <td>88</td>\n",
       "    </tr>\n",
       "    <tr>\n",
       "      <th>23</th>\n",
       "      <td>24</td>\n",
       "      <td>6</td>\n",
       "      <td>Producto_Panadería_4</td>\n",
       "      <td>89.57</td>\n",
       "      <td>123</td>\n",
       "    </tr>\n",
       "    <tr>\n",
       "      <th>24</th>\n",
       "      <td>25</td>\n",
       "      <td>7</td>\n",
       "      <td>Producto_Higiene_1</td>\n",
       "      <td>41.99</td>\n",
       "      <td>40</td>\n",
       "    </tr>\n",
       "    <tr>\n",
       "      <th>25</th>\n",
       "      <td>26</td>\n",
       "      <td>7</td>\n",
       "      <td>Producto_Higiene_2</td>\n",
       "      <td>53.10</td>\n",
       "      <td>68</td>\n",
       "    </tr>\n",
       "    <tr>\n",
       "      <th>26</th>\n",
       "      <td>27</td>\n",
       "      <td>7</td>\n",
       "      <td>Producto_Higiene_3</td>\n",
       "      <td>55.06</td>\n",
       "      <td>53</td>\n",
       "    </tr>\n",
       "    <tr>\n",
       "      <th>27</th>\n",
       "      <td>28</td>\n",
       "      <td>7</td>\n",
       "      <td>Producto_Higiene_4</td>\n",
       "      <td>29.38</td>\n",
       "      <td>77</td>\n",
       "    </tr>\n",
       "    <tr>\n",
       "      <th>28</th>\n",
       "      <td>29</td>\n",
       "      <td>8</td>\n",
       "      <td>Producto_Pescadería_1</td>\n",
       "      <td>15.18</td>\n",
       "      <td>194</td>\n",
       "    </tr>\n",
       "    <tr>\n",
       "      <th>29</th>\n",
       "      <td>30</td>\n",
       "      <td>8</td>\n",
       "      <td>Producto_Pescadería_2</td>\n",
       "      <td>54.42</td>\n",
       "      <td>145</td>\n",
       "    </tr>\n",
       "    <tr>\n",
       "      <th>30</th>\n",
       "      <td>31</td>\n",
       "      <td>8</td>\n",
       "      <td>Producto_Pescadería_3</td>\n",
       "      <td>49.84</td>\n",
       "      <td>14</td>\n",
       "    </tr>\n",
       "    <tr>\n",
       "      <th>31</th>\n",
       "      <td>32</td>\n",
       "      <td>8</td>\n",
       "      <td>Producto_Pescadería_4</td>\n",
       "      <td>23.33</td>\n",
       "      <td>134</td>\n",
       "    </tr>\n",
       "    <tr>\n",
       "      <th>32</th>\n",
       "      <td>33</td>\n",
       "      <td>9</td>\n",
       "      <td>Producto_Charcutería_1</td>\n",
       "      <td>41.76</td>\n",
       "      <td>160</td>\n",
       "    </tr>\n",
       "    <tr>\n",
       "      <th>33</th>\n",
       "      <td>34</td>\n",
       "      <td>9</td>\n",
       "      <td>Producto_Charcutería_2</td>\n",
       "      <td>22.15</td>\n",
       "      <td>38</td>\n",
       "    </tr>\n",
       "    <tr>\n",
       "      <th>34</th>\n",
       "      <td>35</td>\n",
       "      <td>9</td>\n",
       "      <td>Producto_Charcutería_3</td>\n",
       "      <td>22.22</td>\n",
       "      <td>11</td>\n",
       "    </tr>\n",
       "    <tr>\n",
       "      <th>35</th>\n",
       "      <td>36</td>\n",
       "      <td>9</td>\n",
       "      <td>Producto_Charcutería_4</td>\n",
       "      <td>4.20</td>\n",
       "      <td>69</td>\n",
       "    </tr>\n",
       "    <tr>\n",
       "      <th>36</th>\n",
       "      <td>37</td>\n",
       "      <td>10</td>\n",
       "      <td>Producto_Parafarmacia_1</td>\n",
       "      <td>95.47</td>\n",
       "      <td>40</td>\n",
       "    </tr>\n",
       "    <tr>\n",
       "      <th>37</th>\n",
       "      <td>38</td>\n",
       "      <td>10</td>\n",
       "      <td>Producto_Parafarmacia_2</td>\n",
       "      <td>71.54</td>\n",
       "      <td>126</td>\n",
       "    </tr>\n",
       "    <tr>\n",
       "      <th>38</th>\n",
       "      <td>39</td>\n",
       "      <td>10</td>\n",
       "      <td>Producto_Parafarmacia_3</td>\n",
       "      <td>3.32</td>\n",
       "      <td>81</td>\n",
       "    </tr>\n",
       "    <tr>\n",
       "      <th>39</th>\n",
       "      <td>40</td>\n",
       "      <td>10</td>\n",
       "      <td>Producto_Parafarmacia_4</td>\n",
       "      <td>34.76</td>\n",
       "      <td>19</td>\n",
       "    </tr>\n",
       "  </tbody>\n",
       "</table>\n",
       "</div>"
      ],
      "text/plain": [
       "    id_producto  id_categoria          nombre_producto  precio  stock\n",
       "0             1             1       Producto_Lácteos_1   98.37    161\n",
       "1             2             1       Producto_Lácteos_2   29.90     27\n",
       "2             3             1       Producto_Lácteos_3   10.53     37\n",
       "3             4             1       Producto_Lácteos_4    6.00     31\n",
       "4             5             2        Producto_Carnes_1   30.96     78\n",
       "5             6             2        Producto_Carnes_2   23.33    177\n",
       "6             7             2        Producto_Carnes_3   35.52    193\n",
       "7             8             2        Producto_Carnes_4   43.36     15\n",
       "8             9             3        Producto_Frutas_1    2.95    100\n",
       "9            10             3        Producto_Frutas_2   57.07     28\n",
       "10           11             3        Producto_Frutas_3   99.37    160\n",
       "11           12             3        Producto_Frutas_4   62.43     82\n",
       "12           13             4      Producto_Verduras_1   79.71     50\n",
       "13           14             4      Producto_Verduras_2    7.69    166\n",
       "14           15             4      Producto_Verduras_3   62.87    161\n",
       "15           16             4      Producto_Verduras_4   15.61    167\n",
       "16           17             5       Producto_Bebidas_1   41.28     21\n",
       "17           18             5       Producto_Bebidas_2   63.17    165\n",
       "18           19             5       Producto_Bebidas_3   24.87     44\n",
       "19           20             5       Producto_Bebidas_4   98.28     48\n",
       "20           21             6     Producto_Panadería_1   26.78     74\n",
       "21           22             6     Producto_Panadería_2   23.15     93\n",
       "22           23             6     Producto_Panadería_3   23.63     88\n",
       "23           24             6     Producto_Panadería_4   89.57    123\n",
       "24           25             7       Producto_Higiene_1   41.99     40\n",
       "25           26             7       Producto_Higiene_2   53.10     68\n",
       "26           27             7       Producto_Higiene_3   55.06     53\n",
       "27           28             7       Producto_Higiene_4   29.38     77\n",
       "28           29             8    Producto_Pescadería_1   15.18    194\n",
       "29           30             8    Producto_Pescadería_2   54.42    145\n",
       "30           31             8    Producto_Pescadería_3   49.84     14\n",
       "31           32             8    Producto_Pescadería_4   23.33    134\n",
       "32           33             9   Producto_Charcutería_1   41.76    160\n",
       "33           34             9   Producto_Charcutería_2   22.15     38\n",
       "34           35             9   Producto_Charcutería_3   22.22     11\n",
       "35           36             9   Producto_Charcutería_4    4.20     69\n",
       "36           37            10  Producto_Parafarmacia_1   95.47     40\n",
       "37           38            10  Producto_Parafarmacia_2   71.54    126\n",
       "38           39            10  Producto_Parafarmacia_3    3.32     81\n",
       "39           40            10  Producto_Parafarmacia_4   34.76     19"
      ]
     },
     "execution_count": 20,
     "metadata": {},
     "output_type": "execute_result"
    }
   ],
   "source": [
    "df_productos = generar_productos(4, df_categorias)\n",
    "df_productos"
   ]
  },
  {
   "cell_type": "markdown",
   "metadata": {},
   "source": [
    "#### 2.2.4-DataFrame 'clientes'."
   ]
  },
  {
   "cell_type": "code",
   "execution_count": 21,
   "metadata": {},
   "outputs": [
    {
     "data": {
      "text/html": [
       "<div>\n",
       "<style scoped>\n",
       "    .dataframe tbody tr th:only-of-type {\n",
       "        vertical-align: middle;\n",
       "    }\n",
       "\n",
       "    .dataframe tbody tr th {\n",
       "        vertical-align: top;\n",
       "    }\n",
       "\n",
       "    .dataframe thead th {\n",
       "        text-align: right;\n",
       "    }\n",
       "</style>\n",
       "<table border=\"1\" class=\"dataframe\">\n",
       "  <thead>\n",
       "    <tr style=\"text-align: right;\">\n",
       "      <th></th>\n",
       "      <th>id_cliente</th>\n",
       "      <th>nombre_cliente</th>\n",
       "      <th>apellido_cliente</th>\n",
       "      <th>email</th>\n",
       "      <th>direccion</th>\n",
       "      <th>ciudad</th>\n",
       "      <th>cod_postal</th>\n",
       "    </tr>\n",
       "  </thead>\n",
       "  <tbody>\n",
       "    <tr>\n",
       "      <th>0</th>\n",
       "      <td>1</td>\n",
       "      <td>Roberto</td>\n",
       "      <td>Nieto</td>\n",
       "      <td>roberto.nieto1@test.com</td>\n",
       "      <td>Plaza del Sol, 22</td>\n",
       "      <td>Alicante</td>\n",
       "      <td>30001</td>\n",
       "    </tr>\n",
       "    <tr>\n",
       "      <th>1</th>\n",
       "      <td>2</td>\n",
       "      <td>Eva</td>\n",
       "      <td>Gil</td>\n",
       "      <td>eva.gil2@test.com</td>\n",
       "      <td>Calle Gran Vía, 9</td>\n",
       "      <td>Sevilla</td>\n",
       "      <td>41004</td>\n",
       "    </tr>\n",
       "    <tr>\n",
       "      <th>2</th>\n",
       "      <td>3</td>\n",
       "      <td>Andrea</td>\n",
       "      <td>Rojas</td>\n",
       "      <td>andrea.rojas3@test.com</td>\n",
       "      <td>Calle Industria, 42</td>\n",
       "      <td>Almería</td>\n",
       "      <td>40001</td>\n",
       "    </tr>\n",
       "    <tr>\n",
       "      <th>3</th>\n",
       "      <td>4</td>\n",
       "      <td>Óscar</td>\n",
       "      <td>Blanco</td>\n",
       "      <td>óscar.blanco4@test.com</td>\n",
       "      <td>Avenida de Burgos, 40</td>\n",
       "      <td>Bilbao</td>\n",
       "      <td>48002</td>\n",
       "    </tr>\n",
       "    <tr>\n",
       "      <th>4</th>\n",
       "      <td>5</td>\n",
       "      <td>Elena</td>\n",
       "      <td>Ortiz</td>\n",
       "      <td>elena.ortiz5@test.com</td>\n",
       "      <td>Calle de Alcalá, 98</td>\n",
       "      <td>Málaga</td>\n",
       "      <td>29007</td>\n",
       "    </tr>\n",
       "    <tr>\n",
       "      <th>...</th>\n",
       "      <td>...</td>\n",
       "      <td>...</td>\n",
       "      <td>...</td>\n",
       "      <td>...</td>\n",
       "      <td>...</td>\n",
       "      <td>...</td>\n",
       "      <td>...</td>\n",
       "    </tr>\n",
       "    <tr>\n",
       "      <th>1995</th>\n",
       "      <td>1996</td>\n",
       "      <td>Francisco</td>\n",
       "      <td>Carmona</td>\n",
       "      <td>francisco.carmona1996@test.com</td>\n",
       "      <td>Calle del Comercio, 51</td>\n",
       "      <td>Valladolid</td>\n",
       "      <td>47001</td>\n",
       "    </tr>\n",
       "    <tr>\n",
       "      <th>1996</th>\n",
       "      <td>1997</td>\n",
       "      <td>Juan</td>\n",
       "      <td>Alonso</td>\n",
       "      <td>juan.alonso1997@test.com</td>\n",
       "      <td>Avenida Europa, 61</td>\n",
       "      <td>Granada</td>\n",
       "      <td>18001</td>\n",
       "    </tr>\n",
       "    <tr>\n",
       "      <th>1997</th>\n",
       "      <td>1998</td>\n",
       "      <td>Noelia</td>\n",
       "      <td>Gutiérrez</td>\n",
       "      <td>noelia.gutiérrez1998@test.com</td>\n",
       "      <td>Calle del Centro, 51</td>\n",
       "      <td>Burgos</td>\n",
       "      <td>09001</td>\n",
       "    </tr>\n",
       "    <tr>\n",
       "      <th>1998</th>\n",
       "      <td>1999</td>\n",
       "      <td>Andrea</td>\n",
       "      <td>Gil</td>\n",
       "      <td>andrea.gil1999@test.com</td>\n",
       "      <td>Calle Gran Vía, 76</td>\n",
       "      <td>Sevilla</td>\n",
       "      <td>41004</td>\n",
       "    </tr>\n",
       "    <tr>\n",
       "      <th>1999</th>\n",
       "      <td>2000</td>\n",
       "      <td>Carmen</td>\n",
       "      <td>Delgado</td>\n",
       "      <td>carmen.delgado2000@test.com</td>\n",
       "      <td>Avenida del Cid, 1</td>\n",
       "      <td>Valencia</td>\n",
       "      <td>46001</td>\n",
       "    </tr>\n",
       "  </tbody>\n",
       "</table>\n",
       "<p>2000 rows × 7 columns</p>\n",
       "</div>"
      ],
      "text/plain": [
       "      id_cliente nombre_cliente apellido_cliente  \\\n",
       "0              1        Roberto            Nieto   \n",
       "1              2            Eva              Gil   \n",
       "2              3         Andrea            Rojas   \n",
       "3              4          Óscar           Blanco   \n",
       "4              5          Elena            Ortiz   \n",
       "...          ...            ...              ...   \n",
       "1995        1996      Francisco          Carmona   \n",
       "1996        1997           Juan           Alonso   \n",
       "1997        1998         Noelia        Gutiérrez   \n",
       "1998        1999         Andrea              Gil   \n",
       "1999        2000         Carmen          Delgado   \n",
       "\n",
       "                               email               direccion      ciudad  \\\n",
       "0            roberto.nieto1@test.com       Plaza del Sol, 22    Alicante   \n",
       "1                  eva.gil2@test.com       Calle Gran Vía, 9     Sevilla   \n",
       "2             andrea.rojas3@test.com     Calle Industria, 42     Almería   \n",
       "3             óscar.blanco4@test.com   Avenida de Burgos, 40      Bilbao   \n",
       "4              elena.ortiz5@test.com     Calle de Alcalá, 98      Málaga   \n",
       "...                              ...                     ...         ...   \n",
       "1995  francisco.carmona1996@test.com  Calle del Comercio, 51  Valladolid   \n",
       "1996        juan.alonso1997@test.com      Avenida Europa, 61     Granada   \n",
       "1997   noelia.gutiérrez1998@test.com    Calle del Centro, 51      Burgos   \n",
       "1998         andrea.gil1999@test.com      Calle Gran Vía, 76     Sevilla   \n",
       "1999     carmen.delgado2000@test.com      Avenida del Cid, 1    Valencia   \n",
       "\n",
       "     cod_postal  \n",
       "0         30001  \n",
       "1         41004  \n",
       "2         40001  \n",
       "3         48002  \n",
       "4         29007  \n",
       "...         ...  \n",
       "1995      47001  \n",
       "1996      18001  \n",
       "1997      09001  \n",
       "1998      41004  \n",
       "1999      46001  \n",
       "\n",
       "[2000 rows x 7 columns]"
      ]
     },
     "execution_count": 21,
     "metadata": {},
     "output_type": "execute_result"
    }
   ],
   "source": [
    "df_clientes = generar_clientes(2000)\n",
    "df_clientes"
   ]
  },
  {
   "cell_type": "markdown",
   "metadata": {},
   "source": [
    "#### 2.2.5-DataFrame 'ordenes'."
   ]
  },
  {
   "cell_type": "code",
   "execution_count": 22,
   "metadata": {},
   "outputs": [
    {
     "data": {
      "text/html": [
       "<div>\n",
       "<style scoped>\n",
       "    .dataframe tbody tr th:only-of-type {\n",
       "        vertical-align: middle;\n",
       "    }\n",
       "\n",
       "    .dataframe tbody tr th {\n",
       "        vertical-align: top;\n",
       "    }\n",
       "\n",
       "    .dataframe thead th {\n",
       "        text-align: right;\n",
       "    }\n",
       "</style>\n",
       "<table border=\"1\" class=\"dataframe\">\n",
       "  <thead>\n",
       "    <tr style=\"text-align: right;\">\n",
       "      <th></th>\n",
       "      <th>id_orden</th>\n",
       "      <th>id_cliente</th>\n",
       "      <th>id_empleado</th>\n",
       "      <th>fecha_orden</th>\n",
       "      <th>metodo_pago</th>\n",
       "    </tr>\n",
       "  </thead>\n",
       "  <tbody>\n",
       "    <tr>\n",
       "      <th>0</th>\n",
       "      <td>1</td>\n",
       "      <td>4</td>\n",
       "      <td>81</td>\n",
       "      <td>2024-03-15</td>\n",
       "      <td>Tarjeta</td>\n",
       "    </tr>\n",
       "    <tr>\n",
       "      <th>1</th>\n",
       "      <td>2</td>\n",
       "      <td>1309</td>\n",
       "      <td>134</td>\n",
       "      <td>2024-12-13</td>\n",
       "      <td>Efectivo</td>\n",
       "    </tr>\n",
       "    <tr>\n",
       "      <th>2</th>\n",
       "      <td>3</td>\n",
       "      <td>10</td>\n",
       "      <td>40</td>\n",
       "      <td>2024-07-04</td>\n",
       "      <td>Tarjeta</td>\n",
       "    </tr>\n",
       "    <tr>\n",
       "      <th>3</th>\n",
       "      <td>4</td>\n",
       "      <td>1655</td>\n",
       "      <td>11</td>\n",
       "      <td>2024-07-03</td>\n",
       "      <td>Tarjeta</td>\n",
       "    </tr>\n",
       "    <tr>\n",
       "      <th>4</th>\n",
       "      <td>5</td>\n",
       "      <td>666</td>\n",
       "      <td>80</td>\n",
       "      <td>2024-05-25</td>\n",
       "      <td>Tarjeta</td>\n",
       "    </tr>\n",
       "    <tr>\n",
       "      <th>...</th>\n",
       "      <td>...</td>\n",
       "      <td>...</td>\n",
       "      <td>...</td>\n",
       "      <td>...</td>\n",
       "      <td>...</td>\n",
       "    </tr>\n",
       "    <tr>\n",
       "      <th>9995</th>\n",
       "      <td>9996</td>\n",
       "      <td>27</td>\n",
       "      <td>122</td>\n",
       "      <td>2024-01-31</td>\n",
       "      <td>Tarjeta</td>\n",
       "    </tr>\n",
       "    <tr>\n",
       "      <th>9996</th>\n",
       "      <td>9997</td>\n",
       "      <td>895</td>\n",
       "      <td>23</td>\n",
       "      <td>2024-09-24</td>\n",
       "      <td>Tarjeta</td>\n",
       "    </tr>\n",
       "    <tr>\n",
       "      <th>9997</th>\n",
       "      <td>9998</td>\n",
       "      <td>1241</td>\n",
       "      <td>53</td>\n",
       "      <td>2024-11-14</td>\n",
       "      <td>Efectivo</td>\n",
       "    </tr>\n",
       "    <tr>\n",
       "      <th>9998</th>\n",
       "      <td>9999</td>\n",
       "      <td>1056</td>\n",
       "      <td>127</td>\n",
       "      <td>2024-12-20</td>\n",
       "      <td>Efectivo</td>\n",
       "    </tr>\n",
       "    <tr>\n",
       "      <th>9999</th>\n",
       "      <td>10000</td>\n",
       "      <td>495</td>\n",
       "      <td>12</td>\n",
       "      <td>2024-06-13</td>\n",
       "      <td>Tarjeta</td>\n",
       "    </tr>\n",
       "  </tbody>\n",
       "</table>\n",
       "<p>10000 rows × 5 columns</p>\n",
       "</div>"
      ],
      "text/plain": [
       "      id_orden  id_cliente  id_empleado fecha_orden metodo_pago\n",
       "0            1           4           81  2024-03-15     Tarjeta\n",
       "1            2        1309          134  2024-12-13    Efectivo\n",
       "2            3          10           40  2024-07-04     Tarjeta\n",
       "3            4        1655           11  2024-07-03     Tarjeta\n",
       "4            5         666           80  2024-05-25     Tarjeta\n",
       "...        ...         ...          ...         ...         ...\n",
       "9995      9996          27          122  2024-01-31     Tarjeta\n",
       "9996      9997         895           23  2024-09-24     Tarjeta\n",
       "9997      9998        1241           53  2024-11-14    Efectivo\n",
       "9998      9999        1056          127  2024-12-20    Efectivo\n",
       "9999     10000         495           12  2024-06-13     Tarjeta\n",
       "\n",
       "[10000 rows x 5 columns]"
      ]
     },
     "execution_count": 22,
     "metadata": {},
     "output_type": "execute_result"
    }
   ],
   "source": [
    "df_ordenes = generar_ordenes(10000,df_clientes['id_cliente'], df_empleados['id_empleado'])\n",
    "df_ordenes"
   ]
  },
  {
   "cell_type": "markdown",
   "metadata": {},
   "source": [
    "#### 2.2.6-DataFrame 'detalles_ordenes'."
   ]
  },
  {
   "cell_type": "code",
   "execution_count": 23,
   "metadata": {},
   "outputs": [
    {
     "data": {
      "text/html": [
       "<div>\n",
       "<style scoped>\n",
       "    .dataframe tbody tr th:only-of-type {\n",
       "        vertical-align: middle;\n",
       "    }\n",
       "\n",
       "    .dataframe tbody tr th {\n",
       "        vertical-align: top;\n",
       "    }\n",
       "\n",
       "    .dataframe thead th {\n",
       "        text-align: right;\n",
       "    }\n",
       "</style>\n",
       "<table border=\"1\" class=\"dataframe\">\n",
       "  <thead>\n",
       "    <tr style=\"text-align: right;\">\n",
       "      <th></th>\n",
       "      <th>id_detalle</th>\n",
       "      <th>id_orden</th>\n",
       "      <th>id_producto</th>\n",
       "      <th>cantidad</th>\n",
       "      <th>precio_unitario</th>\n",
       "      <th>descuento</th>\n",
       "    </tr>\n",
       "  </thead>\n",
       "  <tbody>\n",
       "    <tr>\n",
       "      <th>0</th>\n",
       "      <td>1</td>\n",
       "      <td>3025</td>\n",
       "      <td>38</td>\n",
       "      <td>2</td>\n",
       "      <td>71.54</td>\n",
       "      <td>0.30</td>\n",
       "    </tr>\n",
       "    <tr>\n",
       "      <th>1</th>\n",
       "      <td>2</td>\n",
       "      <td>8029</td>\n",
       "      <td>10</td>\n",
       "      <td>18</td>\n",
       "      <td>57.07</td>\n",
       "      <td>0.15</td>\n",
       "    </tr>\n",
       "    <tr>\n",
       "      <th>2</th>\n",
       "      <td>3</td>\n",
       "      <td>6841</td>\n",
       "      <td>36</td>\n",
       "      <td>14</td>\n",
       "      <td>4.20</td>\n",
       "      <td>0.35</td>\n",
       "    </tr>\n",
       "    <tr>\n",
       "      <th>3</th>\n",
       "      <td>4</td>\n",
       "      <td>7959</td>\n",
       "      <td>34</td>\n",
       "      <td>12</td>\n",
       "      <td>22.15</td>\n",
       "      <td>0.35</td>\n",
       "    </tr>\n",
       "    <tr>\n",
       "      <th>4</th>\n",
       "      <td>5</td>\n",
       "      <td>5099</td>\n",
       "      <td>34</td>\n",
       "      <td>10</td>\n",
       "      <td>22.15</td>\n",
       "      <td>0.35</td>\n",
       "    </tr>\n",
       "    <tr>\n",
       "      <th>...</th>\n",
       "      <td>...</td>\n",
       "      <td>...</td>\n",
       "      <td>...</td>\n",
       "      <td>...</td>\n",
       "      <td>...</td>\n",
       "      <td>...</td>\n",
       "    </tr>\n",
       "    <tr>\n",
       "      <th>29995</th>\n",
       "      <td>29996</td>\n",
       "      <td>7386</td>\n",
       "      <td>39</td>\n",
       "      <td>16</td>\n",
       "      <td>3.32</td>\n",
       "      <td>0.20</td>\n",
       "    </tr>\n",
       "    <tr>\n",
       "      <th>29996</th>\n",
       "      <td>29997</td>\n",
       "      <td>4522</td>\n",
       "      <td>21</td>\n",
       "      <td>13</td>\n",
       "      <td>26.78</td>\n",
       "      <td>0.25</td>\n",
       "    </tr>\n",
       "    <tr>\n",
       "      <th>29997</th>\n",
       "      <td>29998</td>\n",
       "      <td>6090</td>\n",
       "      <td>30</td>\n",
       "      <td>12</td>\n",
       "      <td>54.42</td>\n",
       "      <td>0.30</td>\n",
       "    </tr>\n",
       "    <tr>\n",
       "      <th>29998</th>\n",
       "      <td>29999</td>\n",
       "      <td>3351</td>\n",
       "      <td>3</td>\n",
       "      <td>17</td>\n",
       "      <td>10.53</td>\n",
       "      <td>0.10</td>\n",
       "    </tr>\n",
       "    <tr>\n",
       "      <th>29999</th>\n",
       "      <td>30000</td>\n",
       "      <td>2717</td>\n",
       "      <td>10</td>\n",
       "      <td>12</td>\n",
       "      <td>57.07</td>\n",
       "      <td>0.20</td>\n",
       "    </tr>\n",
       "  </tbody>\n",
       "</table>\n",
       "<p>30000 rows × 6 columns</p>\n",
       "</div>"
      ],
      "text/plain": [
       "       id_detalle  id_orden  id_producto  cantidad  precio_unitario  descuento\n",
       "0               1      3025           38         2            71.54       0.30\n",
       "1               2      8029           10        18            57.07       0.15\n",
       "2               3      6841           36        14             4.20       0.35\n",
       "3               4      7959           34        12            22.15       0.35\n",
       "4               5      5099           34        10            22.15       0.35\n",
       "...           ...       ...          ...       ...              ...        ...\n",
       "29995       29996      7386           39        16             3.32       0.20\n",
       "29996       29997      4522           21        13            26.78       0.25\n",
       "29997       29998      6090           30        12            54.42       0.30\n",
       "29998       29999      3351            3        17            10.53       0.10\n",
       "29999       30000      2717           10        12            57.07       0.20\n",
       "\n",
       "[30000 rows x 6 columns]"
      ]
     },
     "execution_count": 23,
     "metadata": {},
     "output_type": "execute_result"
    }
   ],
   "source": [
    "df_detalle_ordenes = generar_detalle_ordenes(30000,df_ordenes['id_orden'],df_productos)\n",
    "df_detalle_ordenes"
   ]
  },
  {
   "cell_type": "markdown",
   "metadata": {},
   "source": [
    "### 2.3-CARGA EN BASE DE DATOS."
   ]
  },
  {
   "cell_type": "code",
   "execution_count": 24,
   "metadata": {},
   "outputs": [],
   "source": [
    "# Variable con el nombre de la Base de Datos creada.\n",
    "base_datos = 'supermercado'"
   ]
  },
  {
   "cell_type": "markdown",
   "metadata": {},
   "source": [
    "#### 2.3.1-Carga de tabla 'tiendas'."
   ]
  },
  {
   "cell_type": "code",
   "execution_count": 25,
   "metadata": {},
   "outputs": [
    {
     "data": {
      "text/plain": [
       "8"
      ]
     },
     "execution_count": 25,
     "metadata": {},
     "output_type": "execute_result"
    }
   ],
   "source": [
    "insertar_dataframe(df_tiendas,base_datos,'tiendas')"
   ]
  },
  {
   "cell_type": "markdown",
   "metadata": {},
   "source": [
    "#### 2.3.2-Carga de tabla 'empleados'."
   ]
  },
  {
   "cell_type": "code",
   "execution_count": 26,
   "metadata": {},
   "outputs": [
    {
     "data": {
      "text/plain": [
       "160"
      ]
     },
     "execution_count": 26,
     "metadata": {},
     "output_type": "execute_result"
    }
   ],
   "source": [
    "insertar_dataframe(df_empleados,base_datos,'empleados')"
   ]
  },
  {
   "cell_type": "markdown",
   "metadata": {},
   "source": [
    "#### 2.3.3-Carga de tabla 'categorias'."
   ]
  },
  {
   "cell_type": "code",
   "execution_count": 27,
   "metadata": {},
   "outputs": [
    {
     "data": {
      "text/plain": [
       "10"
      ]
     },
     "execution_count": 27,
     "metadata": {},
     "output_type": "execute_result"
    }
   ],
   "source": [
    "insertar_dataframe(df_categorias,base_datos,'categorias')"
   ]
  },
  {
   "cell_type": "markdown",
   "metadata": {},
   "source": [
    "#### 2.3.4-Carga de tabla 'productos'."
   ]
  },
  {
   "cell_type": "code",
   "execution_count": 28,
   "metadata": {},
   "outputs": [
    {
     "data": {
      "text/plain": [
       "40"
      ]
     },
     "execution_count": 28,
     "metadata": {},
     "output_type": "execute_result"
    }
   ],
   "source": [
    "insertar_dataframe(df_productos,base_datos,'productos')"
   ]
  },
  {
   "cell_type": "markdown",
   "metadata": {},
   "source": [
    "#### 2.3.5-Carga de tabla 'clientes'."
   ]
  },
  {
   "cell_type": "code",
   "execution_count": 29,
   "metadata": {},
   "outputs": [
    {
     "data": {
      "text/plain": [
       "2000"
      ]
     },
     "execution_count": 29,
     "metadata": {},
     "output_type": "execute_result"
    }
   ],
   "source": [
    "insertar_dataframe(df_clientes,base_datos,'clientes')"
   ]
  },
  {
   "cell_type": "markdown",
   "metadata": {},
   "source": [
    "#### 2.3.6-Carga de tabla 'ordenes'."
   ]
  },
  {
   "cell_type": "code",
   "execution_count": 30,
   "metadata": {},
   "outputs": [
    {
     "data": {
      "text/plain": [
       "10000"
      ]
     },
     "execution_count": 30,
     "metadata": {},
     "output_type": "execute_result"
    }
   ],
   "source": [
    "insertar_dataframe(df_ordenes,base_datos,'ordenes')"
   ]
  },
  {
   "cell_type": "markdown",
   "metadata": {},
   "source": [
    "#### 2.3.7-Carga de tabla 'detalle_ordenes'."
   ]
  },
  {
   "cell_type": "code",
   "execution_count": 31,
   "metadata": {},
   "outputs": [
    {
     "data": {
      "text/plain": [
       "30000"
      ]
     },
     "execution_count": 31,
     "metadata": {},
     "output_type": "execute_result"
    }
   ],
   "source": [
    "insertar_dataframe(df_detalle_ordenes,base_datos,'detalle_ordenes')"
   ]
  },
  {
   "cell_type": "markdown",
   "metadata": {},
   "source": [
    "## 3-CONSULTAS SQL."
   ]
  },
  {
   "cell_type": "markdown",
   "metadata": {},
   "source": [
    "### 3.1-LISTADO DE ÓRDENES, CON DETALLES DE CLIENTE Y EMPLEADO."
   ]
  },
  {
   "cell_type": "markdown",
   "metadata": {},
   "source": [
    "* Mostrar el ID de la orden, la fecha, el nombre del cliente, el nombre del empleado que atendió la compra y el método de pago.\n",
    "* Utilizar un JOIN entre las tablas ordenes, clientes y empleados."
   ]
  },
  {
   "cell_type": "code",
   "execution_count": 32,
   "metadata": {},
   "outputs": [
    {
     "data": {
      "text/html": [
       "<div>\n",
       "<style scoped>\n",
       "    .dataframe tbody tr th:only-of-type {\n",
       "        vertical-align: middle;\n",
       "    }\n",
       "\n",
       "    .dataframe tbody tr th {\n",
       "        vertical-align: top;\n",
       "    }\n",
       "\n",
       "    .dataframe thead th {\n",
       "        text-align: right;\n",
       "    }\n",
       "</style>\n",
       "<table border=\"1\" class=\"dataframe\">\n",
       "  <thead>\n",
       "    <tr style=\"text-align: right;\">\n",
       "      <th></th>\n",
       "      <th>id_categoria</th>\n",
       "      <th>nombre_categoria</th>\n",
       "    </tr>\n",
       "  </thead>\n",
       "  <tbody>\n",
       "    <tr>\n",
       "      <th>0</th>\n",
       "      <td>1</td>\n",
       "      <td>Lácteos</td>\n",
       "    </tr>\n",
       "    <tr>\n",
       "      <th>1</th>\n",
       "      <td>2</td>\n",
       "      <td>Carnes</td>\n",
       "    </tr>\n",
       "    <tr>\n",
       "      <th>2</th>\n",
       "      <td>3</td>\n",
       "      <td>Frutas</td>\n",
       "    </tr>\n",
       "    <tr>\n",
       "      <th>3</th>\n",
       "      <td>4</td>\n",
       "      <td>Verduras</td>\n",
       "    </tr>\n",
       "    <tr>\n",
       "      <th>4</th>\n",
       "      <td>5</td>\n",
       "      <td>Bebidas</td>\n",
       "    </tr>\n",
       "    <tr>\n",
       "      <th>5</th>\n",
       "      <td>6</td>\n",
       "      <td>Panadería</td>\n",
       "    </tr>\n",
       "    <tr>\n",
       "      <th>6</th>\n",
       "      <td>7</td>\n",
       "      <td>Higiene</td>\n",
       "    </tr>\n",
       "    <tr>\n",
       "      <th>7</th>\n",
       "      <td>8</td>\n",
       "      <td>Pescadería</td>\n",
       "    </tr>\n",
       "    <tr>\n",
       "      <th>8</th>\n",
       "      <td>9</td>\n",
       "      <td>Charcutería</td>\n",
       "    </tr>\n",
       "    <tr>\n",
       "      <th>9</th>\n",
       "      <td>10</td>\n",
       "      <td>Parafarmacia</td>\n",
       "    </tr>\n",
       "  </tbody>\n",
       "</table>\n",
       "</div>"
      ],
      "text/plain": [
       "   id_categoria nombre_categoria\n",
       "0             1          Lácteos\n",
       "1             2           Carnes\n",
       "2             3           Frutas\n",
       "3             4         Verduras\n",
       "4             5          Bebidas\n",
       "5             6        Panadería\n",
       "6             7          Higiene\n",
       "7             8       Pescadería\n",
       "8             9      Charcutería\n",
       "9            10     Parafarmacia"
      ]
     },
     "execution_count": 32,
     "metadata": {},
     "output_type": "execute_result"
    }
   ],
   "source": [
    "query = 'SELECT * FROM categorias'\n",
    "\n",
    "df_consulta_1 = consultar_bd(query, usuario_db, password_db, host_db, nombre_db)\n",
    "\n",
    "df_consulta_1\n"
   ]
  },
  {
   "cell_type": "markdown",
   "metadata": {},
   "source": [
    "### 3.2-LISTADO DE PRODUCTOS CON STOCK BAJO."
   ]
  },
  {
   "cell_type": "markdown",
   "metadata": {},
   "source": [
    "* Filtrar aquellos productos cuyo stock sea menor a 10.\n",
    "* Mostrar el nombre del producto, categoría y stock."
   ]
  },
  {
   "cell_type": "markdown",
   "metadata": {},
   "source": [
    "### 3.3-LISTADO DE VENTAS TOTALES POR CATEGORÍA."
   ]
  },
  {
   "cell_type": "markdown",
   "metadata": {},
   "source": [
    "* Mostrar el nombre de la categoría y la suma total de las ventas (ej.: multiplicando cantidad * precio_unitario) para cada categoría.\n",
    "* Realizar el JOIN con detalle_ordenes.\n",
    "* Utilizar agrupación (GROUP BY)."
   ]
  },
  {
   "cell_type": "markdown",
   "metadata": {},
   "source": [
    "### 3.4-LISTADO DE LOS CLIENTES CON MAYORES GASTOS ACUMULADOS."
   ]
  },
  {
   "cell_type": "markdown",
   "metadata": {},
   "source": [
    "* Mostrar el nombre del cliente y el monto total que ha gastado (suma de todas sus órdenes).\n",
    "* Nos aseguramos de tener en cuenta posibles descuentos (descuento), si se ha definido. Por ejemplo, la fórmula podría ser (cantidad * precio_unitario) - descuento.\n",
    "* Ordenar el resultado de mayor a menor gasto acumulado."
   ]
  },
  {
   "cell_type": "markdown",
   "metadata": {},
   "source": [
    "### 3.5-LISTADO DE EMPLEADOS Y EL NÚMERO DE ÓRDENES GESTIONADAS."
   ]
  },
  {
   "cell_type": "markdown",
   "metadata": {},
   "source": [
    "* Mostrar el nombre del empleado, el puesto y la cantidad de órdenes que ha gestionado.\n",
    "* Utilizar GROUP BY y COUNT."
   ]
  },
  {
   "cell_type": "markdown",
   "metadata": {},
   "source": [
    "### 3.6-LISTADO DE ÓRDENES, FIILTRADAS POR FECHA Y TIENDA."
   ]
  },
  {
   "cell_type": "markdown",
   "metadata": {},
   "source": [
    "* Mostrar todas las órdenes que se realizaron en un rango de fechas determinado (ej.: del 1 de enero de 2025 al 31 de enero de 2025) y en una tienda específica.\n",
    "* Incluir datos de la tienda y del cliente."
   ]
  },
  {
   "cell_type": "markdown",
   "metadata": {},
   "source": [
    "### 3.7-RANKING DE LOS PRODUCTOS MÁS VENDIDOS EN CADA TIENDA."
   ]
  },
  {
   "cell_type": "markdown",
   "metadata": {},
   "source": [
    "* Para cada tienda, mostrar los 3 productos más vendidos (en términos de cantidad total).\n",
    "* Habrá que unir tiendas, empleados, ordenes y detalle_orden, además de productos.\n",
    "* Usar GROUP BY y ordena por la cantidad sumada (y opcionalmente, un LIMIT 3)."
   ]
  },
  {
   "cell_type": "markdown",
   "metadata": {},
   "source": [
    "### 3.8-OPCIONAL."
   ]
  },
  {
   "cell_type": "markdown",
   "metadata": {},
   "source": [
    "Añadir alguna consulta con subconsultas o algo que no se abarque en las anteriores consulta.\n"
   ]
  }
 ],
 "metadata": {
  "kernelspec": {
   "display_name": "Python 3",
   "language": "python",
   "name": "python3"
  },
  "language_info": {
   "codemirror_mode": {
    "name": "ipython",
    "version": 3
   },
   "file_extension": ".py",
   "mimetype": "text/x-python",
   "name": "python",
   "nbconvert_exporter": "python",
   "pygments_lexer": "ipython3",
   "version": "3.13.1"
  }
 },
 "nbformat": 4,
 "nbformat_minor": 2
}
