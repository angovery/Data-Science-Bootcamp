{
 "cells": [
  {
   "cell_type": "markdown",
   "metadata": {},
   "source": [
    "# EJERCICIO MÓDULO 4: BASE DE DATOS 'SUPERMERCADO'"
   ]
  },
  {
   "cell_type": "markdown",
   "metadata": {},
   "source": [
    "## 1-CREACIÓN DE LA BASE DE DATOS."
   ]
  },
  {
   "cell_type": "markdown",
   "metadata": {},
   "source": [
    "Se genera una Base de Datos relacional cuya temática es la operativa habitual de un supermercado. Para ello, se definirán las correspondientes tablas de datos, así como las relaciones entre dichas tablas."
   ]
  },
  {
   "cell_type": "markdown",
   "metadata": {},
   "source": [
    "### 1.1-DEFINICIÓN DE LAS TABLAS DE DATOS."
   ]
  },
  {
   "cell_type": "markdown",
   "metadata": {},
   "source": [
    "Se define cada una de las tablas que componen la Base de Datos, junto a sus atributos, los tipos de datos y las relaciones."
   ]
  },
  {
   "cell_type": "markdown",
   "metadata": {},
   "source": [
    "#### 1.1.1-TABLA tiendas."
   ]
  },
  {
   "cell_type": "markdown",
   "metadata": {},
   "source": [
    "|Columna          |Tipo                       |Valores permitidos|\n",
    "|-----------------|---------------------------|------------------|\n",
    "|**id_tienda**    |INT UNSIGNED AUTO_INCREMENT|                  |\n",
    "|**nombre_tienda**|VARCHAR(60)                |                  |\n",
    "|**direccion**    |VARCHAR(80)                |                  |\n",
    "|**ciudad**       |VARCHAR(40)                |                  |\n",
    "|**cod_postal**   |INT(5) UNSIGNED            |                  |\n",
    "|**PRIMARY KEY**  |(id_tienda)                |                  |"
   ]
  },
  {
   "cell_type": "markdown",
   "metadata": {},
   "source": [
    "#### 1.1.2-TABLA empleados."
   ]
  },
  {
   "cell_type": "markdown",
   "metadata": {},
   "source": [
    "|Columna            |Tipo                                     |Valores permitidos              |\n",
    "|-------------------|-----------------------------------------|--------------------------------|\n",
    "|**id_empleado**    |INT UNSIGNED AUTO_INCREMENT              |                                |\n",
    "|**id_tienda**      |INT UNSIGNED                             |                                |\n",
    "|**nombre_empleado**|VARCHAR(60)                              |                                |\n",
    "|**puesto**         |ENUM                                     |'Cajero', 'Gerente', 'Reponedor'|\n",
    "|**PRIMARY KEY**    |(id_empleado)                            |                                |\n",
    "|**FOREIGN KEY**    |(id_tienda) REFERENCES tienda (id_tienda)|                                |"
   ]
  },
  {
   "cell_type": "markdown",
   "metadata": {},
   "source": [
    "#### 1.1.3-TABLA categorias."
   ]
  },
  {
   "cell_type": "markdown",
   "metadata": {},
   "source": [
    "|Columna             |Tipo                       |Valores permitidos|\n",
    "|--------------------|---------------------------|------------------|\n",
    "|**id_categoria**    |INT UNSIGNED AUTO_INCREMENT|                  |\n",
    "|**nombre_categoria**|VARCHAR(60)                |                  |\n",
    "|**PRIMARY KEY**     |(id_categoria)             |                  |"
   ]
  },
  {
   "cell_type": "markdown",
   "metadata": {},
   "source": [
    "#### 1.1.4-TABLA productos."
   ]
  },
  {
   "cell_type": "markdown",
   "metadata": {},
   "source": [
    "|Columna            |Tipo                                               |Valores permitidos|\n",
    "|-------------------|---------------------------------------------------|------------------|\n",
    "|**id_producto**    |INT UNSIGNED AUTO_INCREMENT                        |                  |\n",
    "|**id_categoria**   |INT UNSIGNED                                       |                  |\n",
    "|**nombre_producto**|VARCHAR(60)                                        |                  |\n",
    "|**precio**         |FLOAT(10,2)                                        |                  |\n",
    "|**stock**          |MEDIUMINT                                          |                  |\n",
    "|**PRIMARY KEY**    |(id_producto)                                      |                  |\n",
    "|**FOREIGN KEY**    |(id_categoria) REFERENCES categorias (id_categoria)|                  |"
   ]
  },
  {
   "cell_type": "markdown",
   "metadata": {},
   "source": [
    "#### 1.1.5-TABLA clientes."
   ]
  },
  {
   "cell_type": "markdown",
   "metadata": {},
   "source": [
    "|Columna             |Tipo                                   |Valores permitidos|\n",
    "|--------------------|---------------------------------------|------------------|\n",
    "|**id_cliente**      |INT UNSIGNED PRIMARY KEY AUTO_INCREMENT|                  |\n",
    "|**nombre_cliente**  |VARCHAR(60)                            |                  |\n",
    "|**apellido_cliente**|VARCHAR(60)                            |                  |\n",
    "|**email**           |VARCHAR(60)                            |                  |\n",
    "|**cod_postal**      |INT(5) UNSIGNED                        |                  |\n",
    "|**PRIMARY KEY**     |(id_cliente)                           |                  |"
   ]
  },
  {
   "cell_type": "markdown",
   "metadata": {},
   "source": [
    "#### 1.1.6-TABLA ordenes."
   ]
  },
  {
   "cell_type": "markdown",
   "metadata": {},
   "source": [
    "|Columna        |Tipo                                            |Valores permitidos   |\n",
    "|---------------|------------------------------------------------|---------------------|\n",
    "|**id_orden**   |INT UNSIGNED AUTO_INCREMENT                     |                     |\n",
    "|**id_cliente** |INT UNSIGNED                                    |                     |\n",
    "|**id_empleado**|INT UNSIGNED                                    |                     |\n",
    "|**fecha_orden**|DATE                                            |                     |\n",
    "|**metodo_pago**|ENUM                                            |'Tarjeta', 'Metalico'|\n",
    "|**PRIMARY KEY**|(id_orden)                                      |                     |\n",
    "|**FOREIGN KEY**|(id_cliente) REFERENCES clientes (id_cliente)   |                     |\n",
    "|**FOREIGN KEY**|(id_empleado) REFERENCES empleados (id_empleado)|                     |"
   ]
  },
  {
   "cell_type": "markdown",
   "metadata": {},
   "source": [
    "#### 1.1.7-TABLA detalle_ordenes."
   ]
  },
  {
   "cell_type": "markdown",
   "metadata": {},
   "source": [
    "|Columna             |Tipo                                            |Valores permitidos|\n",
    "|--------------------|------------------------------------------------|------------------|\n",
    "|**id_detalle_orden**|INT UNSIGNED AUTO_INCREMENT                     |                  |\n",
    "|**id_orden**        |INT UNSIGNED                                    |                  |\n",
    "|**id_producto**     |INT UNSIGNED                                    |                  |\n",
    "|**cantidad**        |INT UNSIGNED                                    |                  |\n",
    "|**precio_unitario** |FLOAT(10,2)                                     |                  |\n",
    "|**descuento**       |FLOAT(3,2)                                      |                  |\n",
    "|**PRIMARY KEY**     |(id_detalle_orden)                              |                  |\n",
    "|**FOREIGN KEY**     |(id_orden) REFERENCES ordenes (id_orden)        |                  |\n",
    "|**FOREIGN KEY**     |(id_producto) REFERENCES productos (id_producto)|                  |"
   ]
  },
  {
   "cell_type": "markdown",
   "metadata": {},
   "source": [
    "### 1.2-CÓDIGO SQL DE LA BASE DE DATOS"
   ]
  },
  {
   "cell_type": "code",
   "execution_count": 1,
   "metadata": {},
   "outputs": [],
   "source": [
    "query = \"\"\"/*Se borra cualquier Base de Datos existente que tenga el mismo nombre*/\n",
    "\n",
    "DROP DATABASE IF EXISTS supermercado;\n",
    "\n",
    "/*Se crea la Base de Datos*/\n",
    "\n",
    "CREATE DATABASE IF NOT EXISTS supermercado;\n",
    "\n",
    "USE supermercado;\n",
    "\n",
    "/*Se crea la tabla tiendas*/\n",
    "\n",
    "CREATE TABLE tiendas (\n",
    "    id_tienda INT UNSIGNED AUTO_INCREMENT,\n",
    "    nombre_tienda VARCHAR(60),\n",
    "    direccion VARCHAR(80),\n",
    "    ciudad VARCHAR(40),\n",
    "    cod_postal INT(5) UNSIGNED,\n",
    "    PRIMARY KEY (id_tienda)\n",
    ");\n",
    "\n",
    "/*Se crea la tabla empleados*/\n",
    "\n",
    "CREATE TABLE empleados (\n",
    "    id_empleado INT UNSIGNED AUTO_INCREMENT,\n",
    "    id_tienda INT UNSIGNED,\n",
    "    nombre_empleado VARCHAR(60),\n",
    "    puesto ENUM ('Cajero', 'Gerente', 'Reponedor'),\n",
    "    PRIMARY KEY (id_empleado),\n",
    "    FOREIGN KEY (id_tienda) REFERENCES tiendas (id_tienda)\n",
    ");\n",
    "\n",
    "/*Se crea la tabla categorias*/\n",
    "\n",
    "CREATE TABLE categorias (\n",
    "    id_categoria INT UNSIGNED AUTO_INCREMENT,\n",
    "    nombre_categoria VARCHAR(60),\n",
    "    PRIMARY KEY (id_categoria)\n",
    ");\n",
    "\n",
    "/*Se crea la tabla productos*/\n",
    "\n",
    "CREATE TABLE productos (\n",
    "    id_producto INT UNSIGNED AUTO_INCREMENT,\n",
    "    id_categoria INT UNSIGNED,\n",
    "    nombre_producto VARCHAR(60),\n",
    "    precio FLOAT(10,2),\n",
    "    stock MEDIUMINT,\n",
    "    PRIMARY KEY (id_producto),\n",
    "    FOREIGN KEY (id_categoria) REFERENCES categorias (id_categoria)\n",
    ");\n",
    "\n",
    "/*Se crea la tabla clientes*/\n",
    "\n",
    "CREATE TABLE clientes (\n",
    "    id_cliente INT UNSIGNED AUTO_INCREMENT,\n",
    "    nombre_cliente VARCHAR(60),\n",
    "    apellid_cliente VARCHAR(60),\n",
    "    email VARCHAR(60),\n",
    "    cod_postal INT(5) UNSIGNED,\n",
    "    PRIMARY KEY (id_cliente)\n",
    ");\n",
    "\n",
    "/*Se crea la tabla ordenes*/\n",
    "\n",
    "CREATE TABLE ordenes (\n",
    "    id_orden INT UNSIGNED AUTO_INCREMENT,\n",
    "    id_cliente INT UNSIGNED,\n",
    "    id_empleado INT UNSIGNED,\n",
    "    fecha_orden DATE,\n",
    "    metodo_pago ENUM ('Tarjeta', 'Metalico'),\n",
    "    PRIMARY KEY (id_orden),\n",
    "    FOREIGN KEY (id_cliente) REFERENCES clientes (id_cliente),\n",
    "    FOREIGN KEY (id_empleado) REFERENCES empleados (id_empleado)\n",
    ");\n",
    "\n",
    "/*Se crea la tabla detalle_ordenes*/\n",
    "\n",
    "CREATE TABLE detalle_ordenes (\n",
    "    id_detalle INT UNSIGNED AUTO_INCREMENT,\n",
    "    id_orden INT UNSIGNED,\n",
    "    id_producto INT UNSIGNED,\n",
    "    cantidad INT UNSIGNED,\n",
    "    precio_unitario FLOAT(10,2),\n",
    "    descuento FLOAT(3,2),\n",
    "    PRIMARY KEY (id_detalle),\n",
    "    FOREIGN KEY (id_orden) REFERENCES ordenes (id_orden),\n",
    "    FOREIGN KEY (id_producto) REFERENCES productos (id_producto)\n",
    ");\n",
    "\"\"\""
   ]
  },
  {
   "cell_type": "markdown",
   "metadata": {},
   "source": [
    "### 1.3-CÓDIGO PYTHON PARA GENERAR LA BASE DE DATOS."
   ]
  },
  {
   "cell_type": "markdown",
   "metadata": {},
   "source": [
    "#### 1.3.1-INICIALIZACIÓN DE LIBRERÍAS."
   ]
  },
  {
   "cell_type": "code",
   "execution_count": 2,
   "metadata": {},
   "outputs": [],
   "source": [
    "import pandas as pd\n",
    "import mysql\n",
    "import mysql.connector as con\n",
    "from mysql.connector import Error # Se importa el módulo de errores de conexión a Base de Datos.\n"
   ]
  },
  {
   "cell_type": "markdown",
   "metadata": {},
   "source": [
    "#### 1.3.2-CONEXIÓN Y CREACIÓN DE LA BASE DE DATOS."
   ]
  },
  {
   "cell_type": "code",
   "execution_count": 3,
   "metadata": {},
   "outputs": [
    {
     "name": "stdout",
     "output_type": "stream",
     "text": [
      "Conexión correcta a MySQL.\n",
      "Base de datos y tablas creadas correctamente.\n",
      "Conexión cerrada.\n"
     ]
    }
   ],
   "source": [
    "try:\n",
    "    conexion = con.connect( # Se crea la conexión.\n",
    "    host= 'localhost',\n",
    "    port = '3306',\n",
    "    user = 'root',\n",
    "    password = 'admin'\n",
    "    )\n",
    "    \n",
    "    if conexion.is_connected(): # Se comprueba si se ha establecido conexión correctamente con la Base de Datos.\n",
    "        print(\"Conexión correcta a MySQL.\")\n",
    "        cursor = conexion.cursor()\n",
    "        for sentencia in query.split(';'): # Se crea una lista, cuyos elementos son las sentencias SQL contenidas en la variable 'query', se recorren sus elementos.\n",
    "            if sentencia.strip(): # Elemento no vacío.\n",
    "                cursor.execute(sentencia) # Se ejecuta la sentencia.\n",
    "        print(\"Base de datos y tablas creadas correctamente.\")\n",
    "        \n",
    "except Error as e: # Se ha producido un error de conexión con la Base de Datos.\n",
    "    print(f\"Error al conectar con MySQL: {e}.\")\n",
    "    \n",
    "finally:\n",
    "    if conexion.is_connected(): # Se cierran cursor y conexión.\n",
    "        cursor.close()\n",
    "        conexion.close()\n",
    "        print(\"Conexión cerrada.\")\n",
    "\n"
   ]
  },
  {
   "cell_type": "markdown",
   "metadata": {},
   "source": [
    "## 2-GENERACIÓN DE DATOS DEMO."
   ]
  },
  {
   "cell_type": "markdown",
   "metadata": {},
   "source": [
    "## 3-CONSULTAS SQL."
   ]
  },
  {
   "cell_type": "markdown",
   "metadata": {},
   "source": [
    "### 3.1-LISTADO DE ÓRDENES, CON DETALLES DE CLIENTE Y EMPLEADO."
   ]
  },
  {
   "cell_type": "markdown",
   "metadata": {},
   "source": [
    "* Mostrar el ID de la orden, la fecha, el nombre del cliente, el nombre del empleado que atendió la compra y el método de pago.\n",
    "* Utilizar un JOIN entre las tablas ordenes, clientes y empleados."
   ]
  },
  {
   "cell_type": "markdown",
   "metadata": {},
   "source": [
    "### 3.2-LISTADO DE PRODUCTOS CON STOCK BAJO."
   ]
  },
  {
   "cell_type": "markdown",
   "metadata": {},
   "source": [
    "* Filtrar aquellos productos cuyo stock sea menor a 10.\n",
    "* Mostrar el nombre del producto, categoría y stock."
   ]
  },
  {
   "cell_type": "markdown",
   "metadata": {},
   "source": [
    "### 3.3-LISTADO DE VENTAS TOTALESTOTALES POR CATEGORÍA."
   ]
  },
  {
   "cell_type": "markdown",
   "metadata": {},
   "source": [
    "* Mostrar el nombre de la categoría y la suma total de las ventas (ej.: multiplicando cantidad * precio_unitario) para cada categoría.\n",
    "* Realizar el JOIN con detalle_ordenes.\n",
    "* Utilizar agrupación (GROUP BY)."
   ]
  },
  {
   "cell_type": "markdown",
   "metadata": {},
   "source": [
    "### 3.4-LISTADO DE LOS CLIENTES CON MAYORES GASTOS ACUMULADOS."
   ]
  },
  {
   "cell_type": "markdown",
   "metadata": {},
   "source": [
    "* Mostrar el nombre del cliente y el monto total que ha gastado (suma de todas sus órdenes).\n",
    "* Nos aseguramos de tener en cuenta posibles descuentos (descuento), si se ha definido. Por ejemplo, la fórmula podría ser (cantidad * precio_unitario) - descuento.\n",
    "* Ordenar el resultado de mayor a menor gasto acumulado."
   ]
  },
  {
   "cell_type": "markdown",
   "metadata": {},
   "source": [
    "### 3.5-LISTADO DE EMPLEADOS Y EL NÚMERO DE ÓRDENES GESTIONADAS."
   ]
  },
  {
   "cell_type": "markdown",
   "metadata": {},
   "source": [
    "* Mostrar el nombre del empleado, el puesto y la cantidad de órdenes que ha gestionado.\n",
    "* Utilizar GROUP BY y COUNT."
   ]
  },
  {
   "cell_type": "markdown",
   "metadata": {},
   "source": [
    "### 3.6-LISTADO DE ÓRDENES, FIILTRADAS POR FECHA Y TIENDA."
   ]
  },
  {
   "cell_type": "markdown",
   "metadata": {},
   "source": [
    "* Mostrar todas las órdenes que se realizaron en un rango de fechas determinado (ej.: del 1 de enero de 2025 al 31 de enero de 2025) y en una tienda específica.\n",
    "* Incluir datos de la tienda y del cliente."
   ]
  },
  {
   "cell_type": "markdown",
   "metadata": {},
   "source": [
    "### 3.7-RANKING DE LOS PRODUCTOS MÁS VENDIDOS EN CADA TIENDA."
   ]
  },
  {
   "cell_type": "markdown",
   "metadata": {},
   "source": [
    "* Para cada tienda, mostrar los 3 productos más vendidos (en términos de cantidad total).\n",
    "* Habrá que unir tiendas, empleados, ordenes y detalle_orden, además de productos.\n",
    "* Usar GROUP BY y ordena por la cantidad sumada (y opcionalmente, un LIMIT 3)."
   ]
  },
  {
   "cell_type": "markdown",
   "metadata": {},
   "source": [
    "### 3.8-OPCIONAL."
   ]
  },
  {
   "cell_type": "markdown",
   "metadata": {},
   "source": [
    "Añadir alguna consulta con subconsultas o algo que no se abarque en las anteriores consulta.\n"
   ]
  }
 ],
 "metadata": {
  "kernelspec": {
   "display_name": "Python 3",
   "language": "python",
   "name": "python3"
  },
  "language_info": {
   "codemirror_mode": {
    "name": "ipython",
    "version": 3
   },
   "file_extension": ".py",
   "mimetype": "text/x-python",
   "name": "python",
   "nbconvert_exporter": "python",
   "pygments_lexer": "ipython3",
   "version": "3.13.1"
  }
 },
 "nbformat": 4,
 "nbformat_minor": 2
}
