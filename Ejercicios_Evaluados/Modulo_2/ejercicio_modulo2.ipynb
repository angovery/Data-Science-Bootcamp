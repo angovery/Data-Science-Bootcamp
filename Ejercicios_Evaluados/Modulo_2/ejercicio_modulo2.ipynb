{
 "cells": [
  {
   "cell_type": "markdown",
   "metadata": {},
   "source": [
    "# ANÁLISIS EXPLORATORIO (EDA) DE LAS VIVIENDAS EN VENTA EN MADRID"
   ]
  },
  {
   "cell_type": "markdown",
   "metadata": {},
   "source": [
    "## CARGA DE DATOS Y LIBRERÍAS DE PYTHON"
   ]
  },
  {
   "cell_type": "markdown",
   "metadata": {},
   "source": [
    "### CARGA DE LIBRERÍAS DE PYTHON"
   ]
  },
  {
   "cell_type": "code",
   "execution_count": 1,
   "metadata": {},
   "outputs": [],
   "source": [
    "import numpy as np\n",
    "import matplotlib.pyplot as plt\n",
    "from scipy import stats\n",
    "import seaborn as sns\n",
    "import random\n",
    "# import counter\n",
    "\n",
    "# Archivo fuente de datos\n",
    "file = './Data/idealista_madrid.csv'"
   ]
  },
  {
   "cell_type": "markdown",
   "metadata": {},
   "source": [
    "### CARGA DE DATOS"
   ]
  },
  {
   "cell_type": "code",
   "execution_count": 2,
   "metadata": {},
   "outputs": [],
   "source": [
    "# Array, de Numpy, con los datos de la columna \"price\" del archivo fuente csv.\n",
    "precios = np.genfromtxt(file, usecols=(0), delimiter=\",\", skip_header=1, dtype=np.int64, encoding=\"UTF-8\")\n",
    "\n",
    "# Array, de Numpy, con los datos de la columna \"baths\" del archivo fuente csv.\n",
    "num_banos = np.genfromtxt(file, usecols=(1), delimiter=\",\", skip_header=1, dtype=np.int16, encoding=\"UTF-8\")\n",
    "\n",
    "# Array, de Numpy, con los datos de la columna \"rooms\" del archivo fuente csv.\n",
    "num_habitaciones = np.genfromtxt(file, usecols=(2), delimiter=\",\", skip_header=1, dtype=np.int16, encoding=\"UTF-8\")\n",
    "\n",
    "# Array, de Numpy, con los datos de la columna \"sqft\" del archivo fuente csv.\n",
    "superficie = np.genfromtxt(file, usecols=(3), delimiter=\",\", skip_header=1, dtype=np.int16, encoding=\"UTF-8\")\n",
    "\n",
    "# Array, de Numpy, con los datos de la columna \"address\" del archivo fuente csv.\n",
    "barrios = np.genfromtxt(file, usecols=(4), delimiter=\",\", skip_header=1, dtype=str, encoding=\"UTF-8\")"
   ]
  },
  {
   "cell_type": "markdown",
   "metadata": {},
   "source": [
    "## MEDIDAS DE TENDENCIA CENTRAL. CÁLCULO DE MEDIA, MEDIANA y MODA."
   ]
  },
  {
   "cell_type": "markdown",
   "metadata": {},
   "source": [
    "### MEDIAS"
   ]
  },
  {
   "cell_type": "code",
   "execution_count": null,
   "metadata": {},
   "outputs": [],
   "source": [
    "media_precios = np.mean(precios)\n",
    "media_banos = np.mean(num_banos)\n",
    "media_habitaciones = np.mean(num_habitaciones)\n",
    "media_superficie = np.mean(superficie)\n",
    "\n",
    "# Se calcula también la media de las frecuencias de los barrios que más viviendas tienen en venta\n",
    "# Se define un nuevo array con los barrios únicos del array 'barrios' y se obtiene otro array con las frecuencias de aparación de cada barrio.\n",
    "barrios_unicos, frecuencias_barrios = np.unique(barrios, return_counts=True)\n",
    "\n",
    "# Se calcula la media de las frecuencias de aparición de cada barrio único. Reflexión: ¿Tendría algún sentido calcular esta media?\n",
    "media_fre_barrios_unicos = np.mean(frecuencias_barrios)\n",
    "\n",
    "print(f\"La media de precios de los viviendas en venta es: {media_precios:.2f}\")\n",
    "print(f\"La media del número de baños de los viviendas en venta es: {media_banos:.2f}\")\n",
    "print(f\"La media del número de habitaciones de los viviendas en venta es: {media_habitaciones:.2f}\")\n",
    "print(f\"La media de la superficie de los viviendas en venta es: {media_superficie:.2f}\")\n",
    "print(f\"La media de la frecuencia de los barrios con viviendas en venta es: {media_fre_barrios_unicos:.2f}\")\n",
    "\n",
    "# Obeservación: Se imprime el barrio con más viviendas en venta\n",
    "print(f\"El barrio con más viviendas en venta es: {str(barrios_unicos[np.argmax(frecuencias_barrios)])}\") # Esto es la moda también.\n",
    "\n"
   ]
  },
  {
   "cell_type": "markdown",
   "metadata": {},
   "source": [
    "### MEDIANAS"
   ]
  },
  {
   "cell_type": "code",
   "execution_count": null,
   "metadata": {},
   "outputs": [],
   "source": [
    "mediana_precios = np.median(precios)\n",
    "mediana_banos = np.median(num_banos)\n",
    "mediana_habitaciones = np.median(num_habitaciones)\n",
    "mediana_superficie = np.median(superficie)\n",
    "mediana_barrios = np.median(frecuencias_barrios)\n",
    "\n",
    "print(f\"La mediana de precios de los viviendas en venta es: {mediana_precios:.2f}\")\n",
    "print(f\"La mediana del número de baños de los viviendas en venta es: {mediana_banos:.2f}\")\n",
    "print(f\"La mediana del número de habitaciones de los viviendas en venta es: {mediana_habitaciones:.2f}\")\n",
    "print(f\"La mediana de la superficie de los viviendas en venta es: {mediana_superficie:.2f}\")\n",
    "print(f\"La mediana de la frecuencia de los barrios con viviendas en venta es: {mediana_barrios:.2f}\")\n"
   ]
  },
  {
   "cell_type": "markdown",
   "metadata": {},
   "source": [
    "### MODAS"
   ]
  },
  {
   "cell_type": "code",
   "execution_count": null,
   "metadata": {},
   "outputs": [],
   "source": [
    "moda_precios = stats.mode(precios)\n",
    "moda_banos = stats.mode(num_banos)\n",
    "moda_habitaciones = stats.mode(num_habitaciones)\n",
    "moda_superficie = stats.mode(superficie)\n",
    "moda_barrios = stats.mode(frecuencias_barrios) # Otra forma de calcular la moda. Aunque anteriormente ya se ha calculado de otra manera.\n",
    "\n",
    "print(f\"La moda de precios de los viviendas en venta es: {moda_precios[0]:.2f} y se repite {moda_precios[1]} veces\")\n",
    "print(f\"La moda del número de baños de los viviendas en venta es: {moda_banos[0]:.2f} y se repite {moda_banos[1]} veces\")\n",
    "print(f\"La moda del número de habitaciones de los viviendas en venta es: {moda_habitaciones[0]:.2f} y se repite {moda_habitaciones[1]} veces\")\n",
    "print(f\"La moda de la superficie de los viviendas en venta es: {moda_superficie[0]:.2f} y se repite {moda_superficie[1]} veces\")\n",
    "print(f\"La moda de la frecuencia de los barrios con viviendas en venta es: {str(barrios_unicos[np.argmax(frecuencias_barrios)])} y se repite {moda_barrios[1]} veces\")"
   ]
  },
  {
   "cell_type": "markdown",
   "metadata": {},
   "source": [
    "## MÉDIDAS DESCRIPTIVAS: VALORES MÁXIMOS Y MÍNIMOS"
   ]
  },
  {
   "cell_type": "markdown",
   "metadata": {},
   "source": [
    "### MÁXIMOS"
   ]
  },
  {
   "cell_type": "code",
   "execution_count": null,
   "metadata": {},
   "outputs": [],
   "source": [
    "max_precios = np.max(precios)\n",
    "max_banos = np.max(num_banos)\n",
    "max_habitaciones = np.max(num_habitaciones)\n",
    "max_superficie = np.max(superficie)\n",
    "max_barrios = np.max(frecuencias_barrios)\n",
    "\n",
    "print(f\"El valor máximo de precios de los viviendas en venta es: {max_precios:.2f}\")\n",
    "print(f\"El valor máximo del número de baños de los viviendas en venta es: {max_banos:.2f}\")\n",
    "print(f\"El valor máximo del número de habitaciones de los viviendas en venta es: {max_habitaciones:.2f}\")\n",
    "print(f\"El valor máximo de la superficie de los viviendas en venta es: {max_superficie:.2f}\")\n",
    "print(f\"El valor máximo de la frecuencia de los barrios con viviendas en venta es: {max_barrios:.2f}\")"
   ]
  },
  {
   "cell_type": "markdown",
   "metadata": {},
   "source": [
    "### MÍNIMOS"
   ]
  },
  {
   "cell_type": "code",
   "execution_count": null,
   "metadata": {},
   "outputs": [],
   "source": [
    "min_precios = np.min(precios)\n",
    "min_banos = np.min(num_banos)\n",
    "min_habitaciones = np.min(num_habitaciones)\n",
    "min_superficie = np.min(superficie)\n",
    "min_barrios = np.min(frecuencias_barrios)\n",
    "\n",
    "print(f\"El valor mínimo de precios de los viviendas en venta es: {min_precios:.2f}\")\n",
    "print(f\"El valor mínimo del número de baños de los viviendas en venta es: {min_banos:.2f}\")\n",
    "print(f\"El valor mínimo del número de habitaciones de los viviendas en venta es: {min_habitaciones:.2f}\")\n",
    "print(f\"El valor mínimo de la superficie de los viviendas en venta es: {min_superficie:.2f}\")\n",
    "print(f\"El valor mínimo de la frecuencia de los barrios con viviendas en venta es: {min_barrios:.2f}\")"
   ]
  },
  {
   "cell_type": "markdown",
   "metadata": {},
   "source": [
    "## HISTOGRAMAS Y CURVAS DE DENSIDAD."
   ]
  },
  {
   "cell_type": "markdown",
   "metadata": {},
   "source": [
    "### PRECIOS."
   ]
  },
  {
   "cell_type": "code",
   "execution_count": null,
   "metadata": {},
   "outputs": [],
   "source": [
    "# Histograma utilizando la librería MatplotLib\n",
    "plt.figure(figsize=(8, 5))\n",
    "plt.hist(precios, bins=50, edgecolor='k', alpha=0.5)\n",
    "plt.title(\"Precios de viviendas en Madrid\")\n",
    "plt.xlabel(\"Precio (en milones de €)\")\n",
    "plt.ylabel(\"Frecuencia\")\n",
    "plt.axvline(media_precios, color='red', linestyle='dashed', linewidth=2, label=f'Media(€): {media_precios:.2f}')\n",
    "plt.axvline(mediana_precios, color='purple', linestyle=\"dotted\", linewidth=3, label=f'Mediana(€): {mediana_precios:.2f}')\n",
    "plt.legend()\n",
    "plt.grid()\n",
    "plt.show()"
   ]
  },
  {
   "cell_type": "code",
   "execution_count": null,
   "metadata": {},
   "outputs": [],
   "source": [
    "# Histograma y Curva de Densidad utilizando la librería Seaborn\n",
    "plt.figure(figsize=(8, 5))\n",
    "sns.histplot(precios, bins=50, kde=True, color=\"green\", edgecolor=\"black\")\n",
    "plt.title(\"Precios de viviendas en Madrid\")\n",
    "plt.xlabel(\"Precio (en milones de €)\")\n",
    "plt.ylabel(\"Frecuencia\")\n",
    "plt.axvline(media_precios, color='red', linestyle='dashed', linewidth=2, label=f'Media(€): {media_precios:.2f}')\n",
    "plt.axvline(mediana_precios, color='purple', linestyle=\"dotted\", linewidth=3, label=f'Mediana(€): {mediana_precios:.2f}')\n",
    "plt.legend()\n",
    "plt.grid()\n",
    "plt.show()\n"
   ]
  },
  {
   "cell_type": "markdown",
   "metadata": {},
   "source": [
    "### Nº DE BAÑOS."
   ]
  },
  {
   "cell_type": "code",
   "execution_count": null,
   "metadata": {},
   "outputs": [],
   "source": [
    "# Histograma y Curva de Densidad utilizando la librería Seaborn\n",
    "plt.figure(figsize=(8, 5))\n",
    "sns.histplot(num_banos, bins=10, kde=True, color=\"green\", edgecolor=\"black\")\n",
    "plt.title(\"Número de baños de viviendas en venta en Madrid\")\n",
    "plt.xlabel(\"Nº Baños\")\n",
    "plt.ylabel(\"Nº Viviendas\")\n",
    "plt.axvline(media_banos, color='red', linestyle='dashed', linewidth=2, label=f'Media(€): {media_banos:.2f}')\n",
    "plt.axvline(mediana_banos, color='purple', linestyle=\"dotted\", linewidth=3, label=f'Mediana(€): {mediana_banos:.2f}')\n",
    "plt.legend()\n",
    "plt.grid()\n",
    "plt.show()"
   ]
  },
  {
   "cell_type": "markdown",
   "metadata": {},
   "source": [
    "### Nº DE HABITACIONES."
   ]
  },
  {
   "cell_type": "code",
   "execution_count": null,
   "metadata": {},
   "outputs": [],
   "source": [
    "# Histograma y Curva de Densidad utilizando la librería Seaborn\n",
    "plt.figure(figsize=(8, 5))\n",
    "sns.histplot(num_habitaciones, bins=10, kde=True, color=\"green\", edgecolor=\"black\")\n",
    "plt.title(\"Número de habitaciones de viviendas en venta en Madrid\")\n",
    "plt.xlabel(\"Nº Habitaciones\")\n",
    "plt.ylabel(\"Nº Viviendas\")\n",
    "plt.axvline(media_habitaciones, color='red', linestyle='dashed', linewidth=2, label=f'Media(habitaciones): {media_habitaciones:.2f}')\n",
    "plt.axvline(mediana_habitaciones, color='purple', linestyle=\"dotted\", linewidth=3, label=f'Mediana(habitaciones): {mediana_habitaciones:.2f}')\n",
    "plt.legend()\n",
    "plt.grid()\n",
    "plt.show()"
   ]
  },
  {
   "cell_type": "markdown",
   "metadata": {},
   "source": [
    "### SUPERFICIES."
   ]
  },
  {
   "cell_type": "code",
   "execution_count": null,
   "metadata": {},
   "outputs": [],
   "source": [
    "# Histograma y Curva de Densidad utilizando la librería Seaborn\n",
    "plt.figure(figsize=(8, 5))\n",
    "sns.histplot(superficie, bins=30, kde=True, color=\"green\", edgecolor=\"black\")\n",
    "plt.title(\"Superficie de las viviendas en venta en Madrid\")\n",
    "plt.xlabel(\"Superficie (m2)\")\n",
    "plt.ylabel(\"Nº Viviendas\")\n",
    "plt.axvline(media_superficie, color='red', linestyle='dashed', linewidth=2, label=f'Media(m2): {media_superficie:.2f}')\n",
    "plt.axvline(mediana_superficie, color='purple', linestyle=\"dotted\", linewidth=3, label=f'Mediana(m2): {mediana_superficie:.2f}')\n",
    "plt.legend()\n",
    "plt.grid()\n",
    "plt.show()"
   ]
  },
  {
   "cell_type": "markdown",
   "metadata": {},
   "source": [
    "### BARRIOS."
   ]
  },
  {
   "cell_type": "code",
   "execution_count": null,
   "metadata": {},
   "outputs": [],
   "source": [
    "# Barrios, al tratarse de variables cualitativas, se emplean gráficos de barras utilizando la librería MatplotLib\n",
    "plt.figure(figsize=(8, 25))\n",
    "plt.barh(barrios_unicos, frecuencias_barrios, color='skyblue', edgecolor='k', alpha=0.5)\n",
    "plt.title(\"Barrios con viviendas en en venta en Madrid\")\n",
    "plt.xlabel(\"Nº Viviendas\")\n",
    "plt.ylabel(\"Barrios\")\n",
    "plt.axvline(media_fre_barrios_unicos, color='red', linestyle='dashed', linewidth=2, label=f'Media(Nº Viviendas): {media_fre_barrios_unicos:.2f}')\n",
    "plt.axvline(mediana_barrios, color='purple', linestyle=\"dotted\", linewidth=3, label=f'Mediana(Nº Viviendas): {mediana_barrios:.2f}')\n",
    "plt.legend()\n",
    "plt.grid()\n",
    "plt.show()"
   ]
  }
 ],
 "metadata": {
  "kernelspec": {
   "display_name": "Python 3",
   "language": "python",
   "name": "python3"
  },
  "language_info": {
   "codemirror_mode": {
    "name": "ipython",
    "version": 3
   },
   "file_extension": ".py",
   "mimetype": "text/x-python",
   "name": "python",
   "nbconvert_exporter": "python",
   "pygments_lexer": "ipython3",
   "version": "3.13.1"
  }
 },
 "nbformat": 4,
 "nbformat_minor": 2
}
