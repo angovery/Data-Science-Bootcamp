{
 "cells": [
  {
   "cell_type": "markdown",
   "metadata": {},
   "source": [
    "# EXPLORATORY DATA ANALYSIS (EDA) DE LAS VIVIENDAS EN VENTA EN MADRID"
   ]
  },
  {
   "cell_type": "markdown",
   "metadata": {},
   "source": [
    "## CARGA DE DATOS Y LIBRERÍAS DE PYTHON"
   ]
  },
  {
   "cell_type": "markdown",
   "metadata": {},
   "source": [
    "### CARGA DE LIBRERÍAS DE PYTHON"
   ]
  },
  {
   "cell_type": "code",
   "execution_count": 60,
   "metadata": {},
   "outputs": [],
   "source": [
    "import numpy as np\n",
    "import matplotlib.pyplot as plt\n",
    "from scipy import stats\n",
    "import seaborn as sns\n",
    "import random\n",
    "# import counter\n",
    "\n",
    "# Archivo fuente de datos\n",
    "file = './Data/idealista_madrid.csv'"
   ]
  },
  {
   "cell_type": "markdown",
   "metadata": {},
   "source": [
    "### CARGA DE DATOS"
   ]
  },
  {
   "cell_type": "code",
   "execution_count": 61,
   "metadata": {},
   "outputs": [],
   "source": [
    "# Array, de Numpy, con los datos de la columna \"price\" del archivo fuente csv.\n",
    "precios = np.genfromtxt(file, usecols=(0), delimiter=\",\", skip_header=1, dtype=np.int64, encoding=\"UTF-8\")\n",
    "\n",
    "# Array, de Numpy, con los datos de la columna \"baths\" del archivo fuente csv.\n",
    "num_banos = np.genfromtxt(file, usecols=(1), delimiter=\",\", skip_header=1, dtype=np.int16, encoding=\"UTF-8\")\n",
    "\n",
    "# Array, de Numpy, con los datos de la columna \"rooms\" del archivo fuente csv.\n",
    "num_habitaciones = np.genfromtxt(file, usecols=(2), delimiter=\",\", skip_header=1, dtype=np.int16, encoding=\"UTF-8\")\n",
    "\n",
    "# Array, de Numpy, con los datos de la columna \"sqft\" del archivo fuente csv.\n",
    "superficie = np.genfromtxt(file, usecols=(3), delimiter=\",\", skip_header=1, dtype=np.int16, encoding=\"UTF-8\")\n",
    "\n",
    "# Array, de Numpy, con los datos de la columna \"address\" del archivo fuente csv.\n",
    "barrios = np.genfromtxt(file, usecols=(4), delimiter=\",\", skip_header=1, dtype=str, encoding=\"UTF-8\")"
   ]
  },
  {
   "cell_type": "markdown",
   "metadata": {},
   "source": [
    "## ESTADÍSTICA DESCRIPTIVA"
   ]
  },
  {
   "cell_type": "markdown",
   "metadata": {},
   "source": [
    "### MEDIDAS DE TENDENCIA CENTRAL: MEDIA, MEDIANA y MODA."
   ]
  },
  {
   "cell_type": "markdown",
   "metadata": {},
   "source": [
    "#### MEDIAS"
   ]
  },
  {
   "cell_type": "code",
   "execution_count": null,
   "metadata": {},
   "outputs": [],
   "source": [
    "media_precios = np.mean(precios)\n",
    "media_banos = np.mean(num_banos)\n",
    "media_habitaciones = np.mean(num_habitaciones)\n",
    "media_superficie = np.mean(superficie)\n",
    "\n",
    "# Se calcula también la media de las frecuencias de los barrios que más viviendas tienen en venta\n",
    "# Se define un nuevo array con los barrios únicos del array 'barrios' y se obtiene otro array con las frecuencias de aparación de cada barrio.\n",
    "barrios_unicos, frecuencias_barrios_unicos = np.unique(barrios, return_counts=True)\n",
    "\n",
    "# Se calcula la media de las frecuencias de aparición de cada barrio único. Reflexión: ¿Tendría algún sentido calcular esta media?\n",
    "media_fre_barrios_unicos = np.mean(frecuencias_barrios_unicos)\n",
    "\n",
    "print(f\"La media de precios de las viviendas en venta es: {media_precios:.2f}€\")\n",
    "print(f\"La media del número de baños de las viviendas en venta es: {media_banos:.2f}\")\n",
    "print(f\"La media del número de habitaciones de las viviendas en venta es: {media_habitaciones:.2f}\")\n",
    "print(f\"La media de la superficie de las viviendas en venta es: {media_superficie:.2f} m2\")\n",
    "print(f\"La media de la frecuencia de los barrios con viviendas en venta es: {media_fre_barrios_unicos:.2f}\")\n",
    "\n",
    "# Obeservación: Se imprime el barrio con más viviendas en venta\n",
    "print(f\"El barrio con más viviendas en venta es: {str(barrios_unicos[np.argmax(frecuencias_barrios_unicos)])}\") # Esto es la moda también.\n",
    "\n"
   ]
  },
  {
   "cell_type": "markdown",
   "metadata": {},
   "source": [
    "#### MEDIANAS"
   ]
  },
  {
   "cell_type": "code",
   "execution_count": null,
   "metadata": {},
   "outputs": [],
   "source": [
    "mediana_precios = np.median(precios)\n",
    "mediana_banos = np.median(num_banos)\n",
    "mediana_habitaciones = np.median(num_habitaciones)\n",
    "mediana_superficie = np.median(superficie)\n",
    "mediana_barrios = np.median(frecuencias_barrios_unicos)\n",
    "\n",
    "print(f\"La mediana de precios de las viviendas en venta es: {mediana_precios:.2f}€\")\n",
    "print(f\"La mediana del número de baños de las viviendas en venta es: {mediana_banos:.2f}\")\n",
    "print(f\"La mediana del número de habitaciones de las viviendas en venta es: {mediana_habitaciones:.2f}\")\n",
    "print(f\"La mediana de la superficie de las viviendas en venta es: {mediana_superficie:.2f} m2\")\n",
    "print(f\"La mediana de la frecuencia de las barrios con viviendas en venta es: {mediana_barrios:.2f}\")\n"
   ]
  },
  {
   "cell_type": "markdown",
   "metadata": {},
   "source": [
    "#### MODAS"
   ]
  },
  {
   "cell_type": "code",
   "execution_count": null,
   "metadata": {},
   "outputs": [],
   "source": [
    "moda_precios = stats.mode(precios)\n",
    "moda_banos = stats.mode(num_banos)\n",
    "moda_habitaciones = stats.mode(num_habitaciones)\n",
    "moda_superficie = stats.mode(superficie)\n",
    "moda_barrios = stats.mode(frecuencias_barrios_unicos) # Otra forma de calcular la moda. Aunque anteriormente ya se ha calculado de otra manera.\n",
    "\n",
    "print(f\"La moda de precios de las viviendas en venta es: {moda_precios[0]:.2f}€ y se repite {moda_precios[1]} veces\")\n",
    "print(f\"La moda del número de baños de las viviendas en venta es: {moda_banos[0]:.2f} y se repite {moda_banos[1]} veces\")\n",
    "print(f\"La moda del número de habitaciones de las viviendas en venta es: {moda_habitaciones[0]:.2f} y se repite {moda_habitaciones[1]} veces\")\n",
    "print(f\"La moda de la superficie de las viviendas en venta es: {moda_superficie[0]:.2f} m2 y se repite {moda_superficie[1]} veces\")\n",
    "print(f\"La moda de la frecuencia de los barrios con viviendas en venta es: {str(barrios_unicos[np.argmax(frecuencias_barrios_unicos)])} y se repite {moda_barrios[1]} veces\")"
   ]
  },
  {
   "cell_type": "markdown",
   "metadata": {},
   "source": [
    "### MÉDIDAS DESCRIPTIVAS: MÁXIMOS Y MÍNIMOS"
   ]
  },
  {
   "cell_type": "markdown",
   "metadata": {},
   "source": [
    "#### MÁXIMOS"
   ]
  },
  {
   "cell_type": "code",
   "execution_count": null,
   "metadata": {},
   "outputs": [],
   "source": [
    "max_precios = np.max(precios)\n",
    "max_banos = np.max(num_banos)\n",
    "max_habitaciones = np.max(num_habitaciones)\n",
    "max_superficie = np.max(superficie)\n",
    "max_barrios = np.max(frecuencias_barrios_unicos)\n",
    "\n",
    "print(f\"El valor máximo de precios de las viviendas en venta es: {max_precios:.2f}€\")\n",
    "print(f\"El valor máximo del número de baños de las viviendas en venta es: {max_banos:.2f}\")\n",
    "print(f\"El valor máximo del número de habitaciones de las viviendas en venta es: {max_habitaciones:.2f}\")\n",
    "print(f\"El valor máximo de la superficie de las viviendas en venta es: {max_superficie:.2f} m2\")\n",
    "print(f\"El valor máximo de la frecuencia de los barrios con viviendas en venta es: {max_barrios:.2f}\")"
   ]
  },
  {
   "cell_type": "markdown",
   "metadata": {},
   "source": [
    "#### MÍNIMOS"
   ]
  },
  {
   "cell_type": "code",
   "execution_count": null,
   "metadata": {},
   "outputs": [],
   "source": [
    "min_precios = np.min(precios)\n",
    "min_banos = np.min(num_banos)\n",
    "min_habitaciones = np.min(num_habitaciones)\n",
    "min_superficie = np.min(superficie)\n",
    "min_barrios = np.min(frecuencias_barrios_unicos)\n",
    "print(f\"El valor mínimo de precios de las viviendas en venta es: {min_precios:.2f}€\")\n",
    "print(f\"El valor mínimo del número de baños de las viviendas en venta es: {min_banos:.2f}\")\n",
    "print(f\"El valor mínimo del número de habitaciones de las viviendas en venta es: {min_habitaciones:.2f}\")\n",
    "print(f\"El valor mínimo de la superficie de las viviendas en venta es: {min_superficie:.2f} m2\")\n",
    "print(f\"El valor mínimo de la frecuencia de los barrios con viviendas en venta es: {min_barrios:.2f}\")"
   ]
  },
  {
   "cell_type": "markdown",
   "metadata": {},
   "source": [
    "### HISTOGRAMAS Y CURVAS DE DENSIDAD."
   ]
  },
  {
   "cell_type": "markdown",
   "metadata": {},
   "source": [
    "#### PRECIOS."
   ]
  },
  {
   "cell_type": "code",
   "execution_count": null,
   "metadata": {},
   "outputs": [],
   "source": [
    "# Histograma utilizando la librería MatplotLib\n",
    "plt.figure(figsize=(8, 5))\n",
    "plt.hist(precios, bins=50, edgecolor='k', alpha=0.5)\n",
    "plt.title(\"Precios de viviendas en Madrid\")\n",
    "plt.xlabel(\"Precio (en millones de €)\")\n",
    "plt.ylabel(\"Frecuencia\")\n",
    "plt.axvline(media_precios, color='red', linestyle='dashed', linewidth=2, label=f'Media(€): {media_precios:.2f}')\n",
    "plt.axvline(mediana_precios, color='purple', linestyle=\"dotted\", linewidth=3, label=f'Mediana(€): {mediana_precios:.2f}')\n",
    "plt.legend()\n",
    "plt.grid()\n",
    "plt.show()"
   ]
  },
  {
   "cell_type": "code",
   "execution_count": null,
   "metadata": {},
   "outputs": [],
   "source": [
    "# Histograma y Curva de Densidad utilizando la librería Seaborn\n",
    "plt.figure(figsize=(8, 5))\n",
    "sns.histplot(precios, bins=50, kde=True, color=\"green\", edgecolor=\"black\")\n",
    "plt.title(\"Precios de viviendas en Madrid\")\n",
    "plt.xlabel(\"Precio (en millones de €)\")\n",
    "plt.ylabel(\"Frecuencia\")\n",
    "plt.axvline(media_precios, color='red', linestyle='dashed', linewidth=2, label=f'Media(€): {media_precios:.2f}')\n",
    "plt.axvline(mediana_precios, color='purple', linestyle=\"dotted\", linewidth=3, label=f'Mediana(€): {mediana_precios:.2f}')\n",
    "plt.legend()\n",
    "plt.grid()\n",
    "plt.show()\n"
   ]
  },
  {
   "cell_type": "markdown",
   "metadata": {},
   "source": [
    "#### Nº DE BAÑOS."
   ]
  },
  {
   "cell_type": "code",
   "execution_count": null,
   "metadata": {},
   "outputs": [],
   "source": [
    "# Histograma y Curva de Densidad utilizando la librería Seaborn\n",
    "plt.figure(figsize=(8, 5))\n",
    "sns.histplot(num_banos, bins=10, kde=True, color=\"green\", edgecolor=\"black\")\n",
    "plt.title(\"Número de baños de viviendas en venta en Madrid\")\n",
    "plt.xlabel(\"Nº Baños\")\n",
    "plt.ylabel(\"Nº Viviendas\")\n",
    "plt.axvline(media_banos, color='red', linestyle='dashed', linewidth=2, label=f'Media(baños): {media_banos:.2f}')\n",
    "plt.axvline(mediana_banos, color='purple', linestyle=\"dotted\", linewidth=3, label=f'Mediana(baños): {mediana_banos:.2f}')\n",
    "plt.legend()\n",
    "plt.grid()\n",
    "plt.show()"
   ]
  },
  {
   "cell_type": "markdown",
   "metadata": {},
   "source": [
    "#### Nº DE HABITACIONES."
   ]
  },
  {
   "cell_type": "code",
   "execution_count": null,
   "metadata": {},
   "outputs": [],
   "source": [
    "# Histograma y Curva de Densidad utilizando la librería Seaborn\n",
    "plt.figure(figsize=(8, 5))\n",
    "sns.histplot(num_habitaciones, bins=10, kde=True, color=\"green\", edgecolor=\"black\")\n",
    "plt.title(\"Número de habitaciones de viviendas en venta en Madrid\")\n",
    "plt.xlabel(\"Nº Habitaciones\")\n",
    "plt.ylabel(\"Nº Viviendas\")\n",
    "plt.axvline(media_habitaciones, color='red', linestyle='dashed', linewidth=2, label=f'Media(habitaciones): {media_habitaciones:.2f}')\n",
    "plt.axvline(mediana_habitaciones, color='purple', linestyle=\"dotted\", linewidth=3, label=f'Mediana(habitaciones): {mediana_habitaciones:.2f}')\n",
    "plt.legend()\n",
    "plt.grid()\n",
    "plt.show()"
   ]
  },
  {
   "cell_type": "markdown",
   "metadata": {},
   "source": [
    "#### SUPERFICIES."
   ]
  },
  {
   "cell_type": "code",
   "execution_count": null,
   "metadata": {},
   "outputs": [],
   "source": [
    "# Histograma y Curva de Densidad utilizando la librería Seaborn\n",
    "plt.figure(figsize=(8, 5))\n",
    "sns.histplot(superficie, bins=30, kde=True, color=\"green\", edgecolor=\"black\")\n",
    "plt.title(\"Superficie de las viviendas en venta en Madrid\")\n",
    "plt.xlabel(\"Superficie (m2)\")\n",
    "plt.ylabel(\"Nº Viviendas\")\n",
    "plt.axvline(media_superficie, color='red', linestyle='dashed', linewidth=2, label=f'Media(m2): {media_superficie:.2f}')\n",
    "plt.axvline(mediana_superficie, color='purple', linestyle=\"dotted\", linewidth=3, label=f'Mediana(m2): {mediana_superficie:.2f}')\n",
    "plt.legend()\n",
    "plt.grid()\n",
    "plt.show()"
   ]
  },
  {
   "cell_type": "markdown",
   "metadata": {},
   "source": [
    "#### BARRIOS."
   ]
  },
  {
   "cell_type": "code",
   "execution_count": null,
   "metadata": {},
   "outputs": [],
   "source": [
    "# Barrios, al tratarse de variables cualitativas, se emplean gráficos de barras utilizando la librería MatplotLib\n",
    "plt.figure(figsize=(8, 25))\n",
    "plt.barh(barrios_unicos, frecuencias_barrios_unicos, color='skyblue', edgecolor='k', alpha=0.5)\n",
    "plt.title(\"Viviendas en en venta por cada Barrio de Madrid\")\n",
    "plt.xlabel(\"Nº Viviendas\")\n",
    "plt.ylabel(\"Barrios\")\n",
    "plt.axvline(media_fre_barrios_unicos, color='red', linestyle='dashed', linewidth=2, label=f'Media(Nº Viviendas): {media_fre_barrios_unicos:.2f}')\n",
    "plt.axvline(mediana_barrios, color='purple', linestyle=\"dotted\", linewidth=3, label=f'Mediana(Nº Viviendas): {mediana_barrios:.2f}')\n",
    "plt.legend()\n",
    "plt.grid()\n",
    "plt.show()"
   ]
  },
  {
   "cell_type": "markdown",
   "metadata": {},
   "source": [
    "### MEDIDAS DE POSICIÓN NO CENTRAL: CUARTILES"
   ]
  },
  {
   "cell_type": "markdown",
   "metadata": {},
   "source": [
    "#### CUARTILES"
   ]
  },
  {
   "cell_type": "markdown",
   "metadata": {},
   "source": [
    "##### PRECIOS"
   ]
  },
  {
   "cell_type": "code",
   "execution_count": null,
   "metadata": {},
   "outputs": [],
   "source": [
    "# Aunque los cuartiles se van a calcular de forma unitaria, también se pueden obtener los cuartiles de una vez, como elementos de un array. Por ejemplo:\n",
    "# cuartiles = np.quantile(a = precios, q = [0.25, 0.50, 0.75], interpolation = \"lower\")\n",
    "# La línea de código de más arriba obtiene una array cuyos elementos son los valores de los cuartiles 25%, 50% y 75%)\n",
    "\n",
    "# En este estudio, se van a calcular los cuartiles por separado.\n",
    "q1_precios = np.quantile(a = precios, q = 0.25, interpolation = \"lower\")\n",
    "q2_precios = mediana_precios\n",
    "q3_precios = np.quantile(a = precios, q = 0.75, interpolation = \"lower\")\n",
    "\n",
    "print(f\"El valor del cuartil 25% de los precios de las viviendas en venta es: {q1_precios:.2f}€\")\n",
    "print(f\"El valor del cuartil 50% de los precios de las viviendas en venta es: {q2_precios:.2f}€\")\n",
    "print(f\"El valor del cuartil 75% de los precios de las viviendas en venta es: {q3_precios:.2f}€\")\n",
    "\n",
    "plt.figure(figsize=(8,5))\n",
    "plt.boxplot(precios, showmeans=True, label=\"Media\")\n",
    "plt.title(\"Precios de viviendas en Madrid\")\n",
    "plt.ylabel(\"Precio (en millones de €)\")\n",
    "plt.legend()\n",
    "plt.show()\n"
   ]
  },
  {
   "cell_type": "markdown",
   "metadata": {},
   "source": [
    "##### Nº DE BAÑOS"
   ]
  },
  {
   "cell_type": "code",
   "execution_count": null,
   "metadata": {},
   "outputs": [],
   "source": [
    "q1_banos = np.quantile(a = num_banos, q = 0.25, interpolation = \"lower\")\n",
    "q2_banos = mediana_banos\n",
    "q3_banos = np.quantile(a = num_banos, q = 0.75, interpolation = \"lower\")\n",
    "\n",
    "print(f\"El valor del cuartil 25% del número de baños de las viviendas en venta es: {q1_banos:.2f}\")\n",
    "print(f\"El valor del cuartil 50% del número de baños de las viviendas en venta es: {q2_banos:.2f}\")\n",
    "print(f\"El valor del cuartil 75% del número de baños de las viviendas en venta es: {q3_banos:.2f}\")\n",
    "\n",
    "plt.figure(figsize=(8,5))\n",
    "plt.boxplot(num_banos, showmeans=True, label=\"Media\")\n",
    "plt.title(\"Número de baños de viviendas en venta en Madrid\")\n",
    "plt.ylabel(\"Número de baños\")\n",
    "plt.legend()\n",
    "plt.show()"
   ]
  },
  {
   "cell_type": "markdown",
   "metadata": {},
   "source": [
    "##### Nº DE HABITACIONES"
   ]
  },
  {
   "cell_type": "code",
   "execution_count": null,
   "metadata": {},
   "outputs": [],
   "source": [
    "q1_habitaciones = np.quantile(a = num_habitaciones, q = 0.25, interpolation = \"lower\")\n",
    "q2_habitaciones = mediana_habitaciones\n",
    "q3_habitaciones = np.quantile(a = num_habitaciones, q = 0.75, interpolation = \"lower\")\n",
    "\n",
    "print(f\"El valor del cuartil 25% del número de habitaciones de las viviendas en venta es: {q1_habitaciones:.2f}\")\n",
    "print(f\"El valor del cuartil 50% del número de habitaciones de las viviendas en venta es: {q2_habitaciones:.2f}\")\n",
    "print(f\"El valor del cuartil 75% del número de habitaciones de las viviendas en venta es: {q3_habitaciones:.2f}\")\n",
    "\n",
    "plt.figure(figsize=(8,5))\n",
    "plt.boxplot(num_habitaciones, showmeans=True, label=\"Media\")\n",
    "plt.title(\"Número de habitaciones de viviendas en venta en Madrid\")\n",
    "plt.ylabel(\"Número de habitaciones\")\n",
    "plt.legend()\n",
    "plt.show()"
   ]
  },
  {
   "cell_type": "markdown",
   "metadata": {},
   "source": [
    "##### SUPERFICIE"
   ]
  },
  {
   "cell_type": "code",
   "execution_count": null,
   "metadata": {},
   "outputs": [],
   "source": [
    "q1_superficie = np.quantile(a = superficie, q = 0.25, interpolation = \"lower\")\n",
    "q2_superficie = mediana_superficie\n",
    "q3_superficie = np.quantile(a = superficie, q = 0.75, interpolation = \"lower\")\n",
    "\n",
    "print(f\"El valor del cuartil 25% de la superficie de las viviendas en venta es: {q1_superficie:.2f} m2\")\n",
    "print(f\"El valor del cuartil 50% de la superficie de las viviendas en venta es: {q2_superficie:.2f} m2\")\n",
    "print(f\"El valor del cuartil 75% de la superficie de las viviendas en venta es: {q3_superficie:.2f} m2\")\n",
    "\n",
    "plt.figure(figsize=(8,5))\n",
    "plt.boxplot(superficie, showmeans=True, label=\"Media\")\n",
    "plt.title(\"Superficie de las viviendas en venta en Madrid\")\n",
    "plt.ylabel(\"Superficie\")\n",
    "plt.legend()\n",
    "plt.show()"
   ]
  },
  {
   "cell_type": "markdown",
   "metadata": {},
   "source": [
    "##### BARRIOS"
   ]
  },
  {
   "cell_type": "code",
   "execution_count": null,
   "metadata": {},
   "outputs": [],
   "source": [
    "q1_barrios = np.quantile(a = frecuencias_barrios_unicos, q = 0.25, interpolation = \"lower\")\n",
    "q2_barrios = mediana_barrios\n",
    "q3_barrios = np.quantile(a = frecuencias_barrios_unicos, q = 0.75, interpolation = \"lower\")\n",
    "\n",
    "print(f\"El valor del cuartil 25% de los barrios con viviendas en venta es: {q1_barrios:.2f}\")\n",
    "print(f\"El valor del cuartil 50% de los barrios con viviendas en venta es: {q2_barrios:.2f}\")\n",
    "print(f\"El valor del cuartil 75% de los barrios con viviendas en venta es: {q3_barrios:.2f}\")\n",
    "\n",
    "plt.figure(figsize=(8,5))\n",
    "plt.boxplot(frecuencias_barrios_unicos, showmeans=True, label=\"Media\")\n",
    "plt.title(\"Viviendas en en venta por cada Barrio de Madrid\")\n",
    "plt.ylabel(\"Nº Viviendas\")\n",
    "plt.legend()\n",
    "plt.show()"
   ]
  },
  {
   "cell_type": "markdown",
   "metadata": {},
   "source": [
    "### MEDIDAS DE DISPERSIÓN: RANGO, RANGO INTERCUARTIL (IQR), VARIANZA Y DESVIACIÓN ESTÁNDAR"
   ]
  },
  {
   "cell_type": "markdown",
   "metadata": {},
   "source": [
    "#### RANGO"
   ]
  },
  {
   "cell_type": "code",
   "execution_count": null,
   "metadata": {},
   "outputs": [],
   "source": [
    "rango_precios = max_precios - min_precios\n",
    "rango_banos = max_banos - min_banos\n",
    "rango_habitaciones = max_habitaciones - min_habitaciones\n",
    "rango_superficie = max_superficie - min_superficie\n",
    "rango_barrios = max_barrios - min_barrios\n",
    "\n",
    "print(f\"El valor rango de los precios de las viviendas en venta es: {rango_precios:.2f}€\")\n",
    "print(f\"El valor rango del número de baños de las viviendas en venta es: {rango_banos:.2f}\")\n",
    "print(f\"El valor rango del número de habitaciones de las viviendas en venta es: {rango_habitaciones:.2f}\")\n",
    "print(f\"El valor rango de la superficies de las viviendas en venta es: {rango_superficie:.2f} m2\")\n",
    "print(f\"El valor rango de las viviendas en venta por barrios es: {rango_barrios:.2f}\")"
   ]
  },
  {
   "cell_type": "markdown",
   "metadata": {},
   "source": [
    "#### RANGO INTERCUARTÍLICO (IQR)"
   ]
  },
  {
   "cell_type": "code",
   "execution_count": null,
   "metadata": {},
   "outputs": [],
   "source": [
    "iqr_precios = q3_precios - q1_precios\n",
    "iqr_banos = q3_banos - q1_banos\n",
    "iqr_habitaciones = q3_habitaciones - q1_habitaciones\n",
    "iqr_superficie = q3_superficie - q1_superficie\n",
    "iqr_barrios = q3_barrios - q1_barrios\n",
    "\n",
    "print(f\"El valor IQR de los precios de las viviendas en venta es: {iqr_precios:.2f}€\")\n",
    "print(f\"El valor IQR del número de baños de las viviendas en venta es: {iqr_banos:.2f}\")\n",
    "print(f\"El valor IQR del número de habitaciones de las viviendas en venta es: {iqr_habitaciones:.2f}\")\n",
    "print(f\"El valor IQR de la superficies de las viviendas en venta es: {iqr_superficie:.2f} m2\")\n",
    "print(f\"El valor IQR de las viviendas en venta por barrios es: {iqr_barrios:.2f}\")"
   ]
  },
  {
   "cell_type": "markdown",
   "metadata": {},
   "source": [
    "#### VARIANZA"
   ]
  },
  {
   "cell_type": "code",
   "execution_count": null,
   "metadata": {},
   "outputs": [],
   "source": [
    "var_precios = np.var(precios)\n",
    "var_banos = np.var(num_banos)\n",
    "var_habitaciones = np.var(num_habitaciones)\n",
    "var_superficie = np.var(superficie)\n",
    "var_barrios = np.var(frecuencias_barrios_unicos)\n",
    "\n",
    "print(f\"La varianza de los precios de las viviendas en venta es: {var_precios:.2f}€\")\n",
    "print(f\"La varianza del número de baños de las viviendas en venta es: {var_banos:.2f}\")\n",
    "print(f\"La varianza del número de habitaciones de las viviendas en venta es: {var_habitaciones:.2f}\")\n",
    "print(f\"La varianza de la superficies de las viviendas en venta es: {var_superficie:.2f} m2\")\n",
    "print(f\"La varianza de las viviendas en venta por barrios es: {var_barrios:.2f}\")"
   ]
  },
  {
   "cell_type": "markdown",
   "metadata": {},
   "source": [
    "#### DESVIACIÓN ESTÁNDAR"
   ]
  },
  {
   "cell_type": "code",
   "execution_count": null,
   "metadata": {},
   "outputs": [],
   "source": [
    "desv_precios = np.std(precios)\n",
    "desv_banos = np.std(num_banos)\n",
    "desv_habitaciones = np.std(num_habitaciones)\n",
    "desv_superficie = np.std(superficie)\n",
    "desv_barrios = np.std(frecuencias_barrios_unicos)\n",
    "\n",
    "print(f\"La desviación estándar de los precios de las viviendas en venta es: {desv_precios:.2f}€\")\n",
    "print(f\"La desviación estándar del número de baños de las viviendas en venta es: {desv_banos:.2f}\")\n",
    "print(f\"La desviación estándar del número de habitaciones de las viviendas en venta es: {desv_habitaciones:.2f}\")\n",
    "print(f\"La desviación estándar de la superficies de las viviendas en venta es: {desv_superficie:.2f} m2\")\n",
    "print(f\"La desviación estándar de las viviendas en venta por barrios es: {desv_barrios:.2f}\")"
   ]
  },
  {
   "cell_type": "markdown",
   "metadata": {},
   "source": [
    "#### FILTRADO DE DATOS"
   ]
  },
  {
   "cell_type": "markdown",
   "metadata": {},
   "source": [
    "##### PRECIO MÁXIMO DEL 20% DE LAS VIVIENDAS MÁS BARATAS"
   ]
  },
  {
   "cell_type": "code",
   "execution_count": null,
   "metadata": {},
   "outputs": [],
   "source": [
    "# Filtrado de resultados empleando los percentiles.\n",
    "precio_percentil_20 = np.percentile(precios, 20)\n",
    "print(f\"El 20% de las viviendas más baratas en venta en Madrid, cuestan menos de: {precio_percentil_20:.2f}€\")\n",
    "viviendas_mas_baratas = precios[precios <= precio_percentil_20]\n",
    "media_viviendas_mas_baratas = np.mean(viviendas_mas_baratas)\n",
    "print(f\"El precio medio del 20% de las viviendas más baratas en venta en Madrid es: {media_viviendas_mas_baratas:.2f}€\")"
   ]
  },
  {
   "cell_type": "markdown",
   "metadata": {},
   "source": [
    "##### PRECIO MÍNIMO DEL 20% DE LAS VIVIENDAS MÁS CARAS"
   ]
  },
  {
   "cell_type": "code",
   "execution_count": null,
   "metadata": {},
   "outputs": [],
   "source": [
    "# Filtrado de resultados empleando los percentiles.\n",
    "precio_percentil_80 = np.percentile(precios, 80)\n",
    "print(f\"El 20% de las viviendas más caras en venta en Madrid, cuestan más de: {precio_percentil_80:.2f}€\")\n",
    "viviendas_mas_caras = precios[precios >= precio_percentil_80]\n",
    "media_viviendas_mas_caras = np.mean(viviendas_mas_caras)\n",
    "print(f\"El precio medio del 20% de las viviendas más caras en venta en Madrid es: {media_viviendas_mas_caras:.2f}€\")"
   ]
  },
  {
   "cell_type": "markdown",
   "metadata": {},
   "source": [
    "##### LOS BARRIOS DONDE SE ENCUENTRAN EL 20% DE LAS VIVIENDAS EN VENTA MÁS BARATAS DE MADRID"
   ]
  },
  {
   "cell_type": "code",
   "execution_count": null,
   "metadata": {},
   "outputs": [],
   "source": [
    "# Se ordena el array de precios, de menor a mayor. Devuelve un array cuyos elementos son índices del array \"precios\".\n",
    "index_precios_asc = np.argsort(precios)\n",
    "\n",
    "# Se calcula la cantidad de filas que representa el 20% del total de filas de la muestra\n",
    "filas_percentil_20 = int(len(precios) * 0.2)\n",
    "\n",
    "# Utilizando el nº de filas que representa el 20% de la muestra y el array de índices obtenido más arriba, se obtiene un subconjunto de los barrios correspondientes asociados al 20% de las viviendas más baratas.\n",
    "barrios_baratos_percentil_20 = barrios[index_precios_asc[:filas_percentil_20]]\n",
    "\n",
    "# Como en el array barrios_baratos_percentil_20 puede contener elementos (barrios) repetidos, se obtienen los barrios únicos y su frecuencia correspondiente.\n",
    "barrios_baratos_unicos_percentil_20, frecuencias_barrios_baratos_unicos_percentil_20 = np.unique(barrios_baratos_percentil_20, return_counts=True)\n",
    "\n",
    "# Se recorren ambos arrays y se presentan los resultados.\n",
    "print(\"Estos son los barrios en donde se encuentran el 20% de las viviendas más baratas de Madrid:\")\n",
    "for barrios_mas_baratos_percentil_20, viviendas_barrios_mas_baratos_percentil_20 in zip(barrios_baratos_unicos_percentil_20, frecuencias_barrios_baratos_unicos_percentil_20):\n",
    "    print(f\"{barrios_mas_baratos_percentil_20}: {viviendas_barrios_mas_baratos_percentil_20} vivienda/s en venta.\")\n",
    "\n",
    "# Se indica la moda de los barrios más baratos y el nombre del barrio de moda.\n",
    "index_barrios_unicos_percentil_20, moda_barrios_unicos_percentil_20 = stats.mode(frecuencias_barrios_baratos_unicos_percentil_20)\n",
    "print(f\"La moda de los barrios con el 20% de las viviendas en venta más baratas en Madrid es: {moda_barrios_unicos_percentil_20}\")\n",
    "print(f\"El barrio de moda entre el 20% de las viviendas más baratas en venta de Madrid es: {barrios_baratos_percentil_20[index_barrios_unicos_percentil_20]}\")\n",
    "\n",
    "\n"
   ]
  },
  {
   "cell_type": "markdown",
   "metadata": {},
   "source": [
    "##### LOS BARRIOS DONDE SE ENCUENTRAN EL 20% DE LAS VIVIENDAS MÁS EN VENTA CARAS DE MADRID"
   ]
  },
  {
   "cell_type": "code",
   "execution_count": null,
   "metadata": {},
   "outputs": [],
   "source": [
    "# Se ordena el array de precios, de mayor a menor. Devuelve un array cuyos elementos son índices del array \"precios\".\n",
    "index_precios_desc = np.argsort(precios)[::-1]\n",
    "\n",
    "# Se calcula la cantidad de filas que representa el 20% del total de filas de la muestra. Ahora, la lista está ordenada de mayor a menor precio\n",
    "filas_percentil_80 = int(len(precios) * 0.2)\n",
    "\n",
    "# Utilizando el nº de filas que representa el 20% de la muestra y el array de índices obtenido más arriba, se obtiene un subconjunto de los barrios correspondientes asociados al 20% de las viviendas más baratas.\n",
    "barrios_caros_percentil_80 = barrios[index_precios_desc[:filas_percentil_80]]\n",
    "\n",
    "# Como en el array barrios_caros_percentil_20 puede contener elementos (barrios) repetidos, se obtienen los barrios únicos y su frecuencia correspondiente.\n",
    "barrios_caros_unicos_percentil_80, frecuencias_barrios_caros_unicos_percentil_80 = np.unique(barrios_caros_percentil_80, return_counts=True)\n",
    "\n",
    "# Se recorren ambos arrays y se presentan los resultados.\n",
    "print(\"Estos son los barrios en donde se encuentran el 20% de las viviendas más caras de Madrid:\")\n",
    "for barrios_mas_caros_percentil_80, viviendas_barrios_mas_caros_percentil_80 in zip(barrios_caros_unicos_percentil_80, frecuencias_barrios_caros_unicos_percentil_80):\n",
    "    print(f\"{barrios_mas_caros_percentil_80}: {viviendas_barrios_mas_caros_percentil_80} vivienda/s en venta.\")\n",
    "\n",
    "# Se indica la moda de los barrios más caros y el nombre del barrio de moda.\n",
    "index_barrios_unicos_percentil_80, moda_barrios_unicos_percentil_80 = stats.mode(frecuencias_barrios_caros_unicos_percentil_80)\n",
    "print(f\"La moda de los barrios con el 20% de las viviendas en venta más caras en Madrid es: {moda_barrios_unicos_percentil_80}\")\n",
    "print(f\"El barrio de moda entre el 20% de las viviendas más caras en venta de Madrid es: {barrios_caros_unicos_percentil_80[index_barrios_unicos_percentil_80]}\")\n"
   ]
  },
  {
   "cell_type": "markdown",
   "metadata": {},
   "source": [
    "## ESTADÍSTICA INFERENCIAL"
   ]
  },
  {
   "cell_type": "markdown",
   "metadata": {},
   "source": [
    "### FILTRADO DE OUTLIERS"
   ]
  },
  {
   "cell_type": "markdown",
   "metadata": {},
   "source": [
    "#### FILTRADO DE OUTLIERS: PUNTUACIÓN Z (Z-SCORE)"
   ]
  },
  {
   "cell_type": "code",
   "execution_count": 86,
   "metadata": {},
   "outputs": [],
   "source": [
    "# Creamos una Función, en Python, que implementa el método de Puntuación Z (Z-Score). Dado un array de NumPy y un valor z determinado (por defecto, z = 3) la función nos devuelve una tupla, cuyos elementos son: un array de NumPy SIN valores atípicos (sin outliers) y otro array sólo CON los valores atípicos.\n",
    "def filtrar_outliers_z_score(array, z = 3):\n",
    "    # Se calcula la media y la desviación estándar\n",
    "    Q1 = np.percentile(array, 25)\n",
    "    media = np.mean(array)\n",
    "    std = np.std(array)\n",
    "        \n",
    "     # Se calculan los límites laterales (𝜇 ± z*𝜎)\n",
    "    limite_inferior = media - z * std\n",
    "    limite_superior = media + z * std\n",
    "    \n",
    "     # Filtramos los elementos del array, los que esten fuera de los limites laterales.\n",
    "    outliers = [elem for elem in array if elem < limite_inferior or elem > limite_superior]\n",
    "    \n",
    "    # Filtramos los elementos del array, los que no pertenezcan a outliers.\n",
    "    datos_sin_outliers = [elem for elem in array if elem not in outliers]\n",
    "    \n",
    "    # Retornamos ambos arrays, uno con los datos sin outliers, otro con los outliers.\n",
    "    return np.array(datos_sin_outliers), np.array(outliers)"
   ]
  },
  {
   "cell_type": "markdown",
   "metadata": {},
   "source": [
    "##### FILTRADO Z-SCORE: PRECIOS"
   ]
  },
  {
   "cell_type": "code",
   "execution_count": null,
   "metadata": {},
   "outputs": [],
   "source": [
    "z = 3\n",
    "precios_sin_outliers_z_score, _ = filtrar_outliers_z_score(precios, z)\n",
    "\n",
    "# Se van a representar 2 histogramas: 1º Datos originales con los límites superior e inferior; 2º Datos sin outliers\n",
    "plt.figure(figsize=(12, 5))\n",
    "plt.subplot(1, 2, 1) # 1er Histograma\n",
    "plt.hist(precios, bins=50, edgecolor='k', alpha=0.5)\n",
    "plt.title(\"Precios de viviendas en Madrid\")\n",
    "plt.xlabel(\"Precio (en millones de €)\")\n",
    "plt.ylabel(\"Nº Viviendas\")\n",
    "plt.axvline((media_precios - z * desv_precios), color='red', linestyle='dashed', linewidth=2, label=f'Límite inferior(€): {(media_precios - z * desv_precios):.2f}')\n",
    "plt.axvline((media_precios + z * desv_precios), color='blue', linestyle=\"dotted\", linewidth=3, label=f'Límite superior(€): {(media_precios + z * desv_precios):.2f}')\n",
    "plt.legend()\n",
    "plt.grid()\n",
    "\n",
    "plt.subplot(1,2,2) # 2º Histograma\n",
    "plt.hist(precios_sin_outliers_z_score, bins=50, edgecolor='k', alpha=0.5)\n",
    "plt.title(\"Precios de viviendas en Madrid (sin outliers)\")\n",
    "plt.xlabel(\"Precio (en millones de €)\")\n",
    "plt.ylabel(\"Nº Viviendas\")\n",
    "plt.grid()\n",
    "plt.show()"
   ]
  },
  {
   "cell_type": "markdown",
   "metadata": {},
   "source": [
    "##### FILTRADO Z-SCORE: Nº DE BAÑOS."
   ]
  },
  {
   "cell_type": "code",
   "execution_count": null,
   "metadata": {},
   "outputs": [],
   "source": [
    "z = 3\n",
    "banos_sin_outliers_z_score, _ = filtrar_outliers_z_score(num_banos, z)\n",
    "\n",
    "# Se van a representar 2 histogramas: 1º Datos originales con los límites superior e inferior; 2º Datos sin outliers\n",
    "plt.figure(figsize=(12, 5))\n",
    "plt.subplot(1, 2, 1) # 1er Histograma\n",
    "sns.histplot(num_banos, bins=7, kde=True, color=\"green\", edgecolor=\"black\")\n",
    "plt.title(\"Número de baños de viviendas en venta en Madrid\")\n",
    "plt.xlabel(\"Nº Baños\")\n",
    "plt.ylabel(\"Nº Viviendas\")\n",
    "plt.axvline((media_banos - z * desv_banos), color='red', linestyle='dashed', linewidth=2, label=f'Límite inferior(baños): {(media_banos - z * desv_banos):.2f}')\n",
    "plt.axvline((media_banos + z * desv_banos), color='blue', linestyle=\"dotted\", linewidth=3, label=f'Límite superior(baños): {(media_banos + z * desv_banos):.2f}')\n",
    "plt.legend()\n",
    "plt.grid()\n",
    "\n",
    "plt.subplot(1,2,2) # 2º Histograma\n",
    "plt.hist(banos_sin_outliers_z_score, bins=7, edgecolor='k', alpha=0.5)\n",
    "plt.title(\"Número de baños de viviendas en venta en Madrid (sin outliers)\")\n",
    "plt.xlabel(\"Nº Baños\")\n",
    "plt.ylabel(\"Nº Viviendas\")\n",
    "plt.grid()\n",
    "plt.show()"
   ]
  },
  {
   "cell_type": "markdown",
   "metadata": {},
   "source": [
    "##### FILTRADO Z-SCORE: Nº DE HABITACIONES"
   ]
  },
  {
   "cell_type": "code",
   "execution_count": null,
   "metadata": {},
   "outputs": [],
   "source": [
    "z = 3\n",
    "habitaciones_sin_outliers_z_score, _ = filtrar_outliers_z_score(num_habitaciones, z)\n",
    "\n",
    "# Se van a representar 2 histogramas: 1º Datos originales con los límites superior e inferior; 2º Datos sin outliers\n",
    "plt.figure(figsize=(12, 5))\n",
    "plt.subplot(1, 2, 1) # 1er Histograma\n",
    "sns.histplot(num_habitaciones, bins=7, kde=True, color=\"green\", edgecolor=\"black\")\n",
    "plt.title(\"Nº Habitaciones de viviendas en venta en Madrid\")\n",
    "plt.xlabel(\"Nº Habitaciones\")\n",
    "plt.ylabel(\"Nº Viviendas\")\n",
    "plt.axvline((media_habitaciones - z * desv_habitaciones), color='red', linestyle='dashed', linewidth=2, label=f'Límite inferior(hab.): {(media_habitaciones - z * desv_habitaciones):.2f}')\n",
    "plt.axvline((media_habitaciones + z * desv_habitaciones), color='blue', linestyle=\"dotted\", linewidth=3, label=f'Límite superior(hab.): {(media_habitaciones + z * desv_habitaciones):.2f}')\n",
    "plt.legend()\n",
    "plt.grid()\n",
    "\n",
    "plt.subplot(1,2,2) # 2º Histograma\n",
    "plt.hist(habitaciones_sin_outliers_z_score, bins=7, edgecolor='k', alpha=0.5)\n",
    "plt.title(\"Nº Habitaciones de viviendas en venta en Madrid (sin outliers)\")\n",
    "plt.xlabel(\"Nº Habitaciones\")\n",
    "plt.ylabel(\"Nº Viviendas\")\n",
    "plt.grid()\n",
    "plt.show()"
   ]
  },
  {
   "cell_type": "markdown",
   "metadata": {},
   "source": [
    "##### FILTRADO Z-SCORE: SUPERFICIE"
   ]
  },
  {
   "cell_type": "code",
   "execution_count": null,
   "metadata": {},
   "outputs": [],
   "source": [
    "z = 3\n",
    "superficie_sin_outliers_z_score, _ = filtrar_outliers_z_score(superficie, z)\n",
    "\n",
    "# Se van a representar 2 histogramas: 1º Datos originales con los límites superior e inferior; 2º Datos sin outliers\n",
    "plt.figure(figsize=(12, 5))\n",
    "plt.subplot(1, 2, 1) # 1er Histograma\n",
    "sns.histplot(superficie, bins=30, kde=True, color=\"green\", edgecolor=\"black\")\n",
    "plt.title(\"Superficie de las viviendas en venta en Madrid\")\n",
    "plt.xlabel(\"Superficie (m2)\")\n",
    "plt.ylabel(\"Nº Viviendas\")\n",
    "plt.axvline((media_superficie - z * desv_superficie), color='red', linestyle='dashed', linewidth=2, label=f'Límite inferior(m2): {(media_superficie - z * desv_superficie):.2f}')\n",
    "plt.axvline((media_superficie + z * desv_superficie), color='blue', linestyle=\"dotted\", linewidth=3, label=f'Límite superior(m2): {(media_superficie + z * desv_superficie):.2f}')\n",
    "plt.legend()\n",
    "plt.grid()\n",
    "\n",
    "plt.subplot(1,2,2) # 2º Histograma\n",
    "plt.hist(superficie_sin_outliers_z_score, bins=30, edgecolor='k', alpha=0.5)\n",
    "plt.title(\"Superficie de las viviendas en venta en Madrid (sin outliers)\")\n",
    "plt.xlabel(\"Superficie (m2)\")\n",
    "plt.ylabel(\"Nº Viviendas\")\n",
    "plt.grid()\n",
    "plt.show()"
   ]
  },
  {
   "cell_type": "markdown",
   "metadata": {},
   "source": [
    "##### -----REVISAR-----FILTRADO Z-SCORE: BARRIOS"
   ]
  },
  {
   "cell_type": "code",
   "execution_count": null,
   "metadata": {},
   "outputs": [],
   "source": [
    "z = 3\n",
    "barrios_sin_outliers_z_score, _ = filtrar_outliers_z_score(frecuencias_barrios_unicos, z)\n",
    "\n",
    "# Se van a representar 2 histogramas: 1º Datos originales con los límites superior e inferior; 2º Datos sin outliers\n",
    "plt.figure(figsize=(12, 25))\n",
    "plt.subplot(1, 2, 1) # 1er Histograma\n",
    "plt.barh(barrios_unicos, frecuencias_barrios_unicos, color='skyblue', edgecolor='k', alpha=0.5)\n",
    "plt.title(\"Viviendas en en venta por cada Barrio de Madrid\")\n",
    "plt.xlabel(\"Nº Viviendas\")\n",
    "plt.ylabel(\"Barrios\")\n",
    "plt.axvline((media_fre_barrios_unicos - z * desv_barrios), color='red', linestyle='dashed', linewidth=2, label=f'Límite inferior(Nº Viviendas): {(media_fre_barrios_unicos - z * desv_barrios):.2f}')\n",
    "plt.axvline((media_fre_barrios_unicos + z * desv_barrios), color='purple', linestyle=\"dotted\", linewidth=3, label=f'Límite superior(Nº Viviendas): {(media_fre_barrios_unicos + z * desv_barrios):.2f}')\n",
    "plt.legend()\n",
    "plt.grid()\n",
    "\n",
    "plt.subplot(1,2,2) # 2º Histograma\n",
    "plt.hist(superficie_sin_outliers_z_score, bins=30, edgecolor='k', alpha=0.5)\n",
    "plt.title(\"Superficie de las viviendas en venta en Madrid (sin outliers)\")\n",
    "plt.xlabel(\"Superficie (x100m2)\")\n",
    "plt.ylabel(\"Nº Viviendas\")\n",
    "plt.grid()\n",
    "plt.show()"
   ]
  },
  {
   "cell_type": "markdown",
   "metadata": {},
   "source": [
    "#### FILTRADO DE OUTLIERS: LA VALLA DE TUKEY (TUKEY'S FENCE RULE)"
   ]
  },
  {
   "cell_type": "code",
   "execution_count": 92,
   "metadata": {},
   "outputs": [],
   "source": [
    "# Creamos una Función, en Python, que implementa el método de La Valla de Tukey. Dado un array de NumPy y un valor k determinado (por defecto, k = 1.5) la función nos devuelve un array de NumPy sin valores atípicos (outliers)\n",
    "def filtrar_outliers_tukey(array, k=1.5):\n",
    "    # Se calcula Q1\n",
    "    Q1 = np.percentile(array, 25)\n",
    "    # Se calcula Q2\n",
    "    Q3 = np.percentile(array, 75)\n",
    "    \n",
    "    # Se calcula IQR\n",
    "    IQR = Q3 - Q1\n",
    "    \n",
    "    # Se calculan los límites superior e inferior: Por defecto, k = 1.5 veces el IQR\n",
    "    limite_inferior = Q1 - IQR * k\n",
    "    print(f\"Límite inferior: {limite_inferior}\")\n",
    "    limite_superior = Q3 + IQR * k\n",
    "    print(f\"Límite superior: {limite_superior}\")\n",
    "    \n",
    "    # Se filtra el array original eliminando los valores 1,5 veces el IQR para los límites superior e inferior.\n",
    "    # Nos quedamos solo con lo que está entre el límitew inferior y el límite superior.\n",
    "    array_sin_outliers = array[(array >= limite_inferior) & (array <= limite_superior)]\n",
    "    return array_sin_outliers\n",
    "    "
   ]
  },
  {
   "cell_type": "markdown",
   "metadata": {},
   "source": [
    "##### FILTRADO TUKEY: PRECIOS."
   ]
  },
  {
   "cell_type": "code",
   "execution_count": null,
   "metadata": {},
   "outputs": [],
   "source": [
    "k = 1.5\n",
    "precios_sin_outliers_tukey = filtrar_outliers_tukey(precios, k)\n",
    "\n",
    "# Se van a representar 2 histogramas: 1º Datos originales con los límites superior e inferior; 2º Datos sin outliers\n",
    "plt.figure(figsize=(12, 5))\n",
    "plt.subplot(1, 2, 1) # 1er Histograma\n",
    "plt.hist(precios, bins=30, edgecolor='k', alpha=0.5)\n",
    "plt.title(\"Precios de viviendas en Madrid\")\n",
    "plt.xlabel(\"Precio (en millones de €)\")\n",
    "plt.ylabel(\"Nº Viviendas\")\n",
    "plt.axvline((q1_precios - k * rango_precios), color='red', linestyle='dashed', linewidth=2, label=f'Límite inferior(€): {(q1_precios - k * rango_precios):.2f}')\n",
    "plt.axvline((q3_precios + k * rango_precios), color='blue', linestyle=\"dotted\", linewidth=3, label=f'Límite superior(€): {(q3_precios + k * rango_precios):.2f}')\n",
    "plt.legend()\n",
    "plt.grid()\n",
    "\n",
    "plt.subplot(1,2,2) # 2º Histograma\n",
    "plt.hist(precios_sin_outliers_tukey, bins=30, edgecolor='k', alpha=0.5)\n",
    "plt.title(\"Precios de viviendas en Madrid (sin outliers)\")\n",
    "plt.xlabel(\"Precio (en millones de €)\")\n",
    "plt.ylabel(\"Nº Viviendas\")\n",
    "plt.grid()\n",
    "plt.show()"
   ]
  },
  {
   "cell_type": "markdown",
   "metadata": {},
   "source": [
    "##### FILTRADO TUKEY: Nº DE BAÑOS."
   ]
  },
  {
   "cell_type": "code",
   "execution_count": null,
   "metadata": {},
   "outputs": [],
   "source": [
    "k = 1.5\n",
    "banos_sin_outliers_tukey = filtrar_outliers_tukey(num_banos, k)\n",
    "\n",
    "# Se van a representar 2 histogramas: 1º Datos originales con los límites superior e inferior; 2º Datos sin outliers\n",
    "plt.figure(figsize=(12, 5))\n",
    "plt.subplot(1, 2, 1) # 1er Histograma\n",
    "sns.histplot(num_banos, bins=7, kde=True, color=\"green\", edgecolor=\"black\")\n",
    "plt.title(\"Nº Baños de viviendas en venta en Madrid\")\n",
    "plt.xlabel(\"Nº Baños\")\n",
    "plt.ylabel(\"Nº Viviendas\")\n",
    "plt.axvline((q1_banos - k * rango_banos), color='red', linestyle='dashed', linewidth=2, label=f'Límite inferior(baños): {(q1_banos - k * rango_banos):.2f}')\n",
    "plt.axvline((q3_banos + k * rango_banos), color='blue', linestyle=\"dotted\", linewidth=3, label=f'Límite superior(baños): {(q3_banos + k * rango_banos):.2f}')\n",
    "plt.legend()\n",
    "plt.grid()\n",
    "\n",
    "plt.subplot(1,2,2) # 2º Histograma\n",
    "plt.hist(banos_sin_outliers_tukey, bins=7, edgecolor='k', alpha=0.5)\n",
    "plt.title(\"Nº Baños de viviendas en venta en Madrid (sin outliers)\")\n",
    "plt.xlabel(\"Nº Baños\")\n",
    "plt.ylabel(\"Nº Viviendas\")\n",
    "plt.grid()\n",
    "plt.show()"
   ]
  },
  {
   "cell_type": "markdown",
   "metadata": {},
   "source": [
    "##### FILTRADO TUKEY: Nº DE HABITACIONES."
   ]
  },
  {
   "cell_type": "code",
   "execution_count": null,
   "metadata": {},
   "outputs": [],
   "source": [
    "k = 1.5\n",
    "habitaciones_sin_outliers_tukey = filtrar_outliers_tukey(num_habitaciones, k)\n",
    "\n",
    "# Se van a representar 2 histogramas: 1º Datos originales con los límites superior e inferior; 2º Datos sin outliers\n",
    "plt.figure(figsize=(12, 5))\n",
    "plt.subplot(1, 2, 1) # 1er Histograma\n",
    "sns.histplot(num_habitaciones, bins=7, kde=True, color=\"green\", edgecolor=\"black\")\n",
    "plt.title(\"Nº Habitaciones de viviendas en venta en Madrid\")\n",
    "plt.xlabel(\"Nº Habitaciones\")\n",
    "plt.ylabel(\"Nº Viviendas\")\n",
    "plt.axvline((q1_habitaciones - k * rango_habitaciones), color='red', linestyle='dashed', linewidth=2, label=f'Límite inferior(hab.): {(q1_habitaciones - k * rango_habitaciones):.2f}')\n",
    "plt.axvline((q3_habitaciones + k * rango_habitaciones), color='blue', linestyle=\"dotted\", linewidth=3, label=f'Límite superior(hab.): {(q3_habitaciones + k * rango_habitaciones):.2f}')\n",
    "plt.legend()\n",
    "plt.grid()\n",
    "\n",
    "plt.subplot(1,2,2) # 2º Histograma\n",
    "plt.hist(habitaciones_sin_outliers_tukey, bins=7, edgecolor='k', alpha=0.5)\n",
    "plt.title(\"Nº Habitaciones de viviendas en venta en Madrid (sin outliers)\")\n",
    "plt.xlabel(\"Nº Habitaciones\")\n",
    "plt.ylabel(\"Nº Viviendas\")\n",
    "plt.grid()\n",
    "plt.show()"
   ]
  },
  {
   "cell_type": "markdown",
   "metadata": {},
   "source": [
    "##### FILTRADO TUKEY: SUPERFICIE."
   ]
  },
  {
   "cell_type": "code",
   "execution_count": null,
   "metadata": {},
   "outputs": [],
   "source": [
    "k = 1.5\n",
    "superficie_sin_outliers_tukey = filtrar_outliers_tukey(superficie, k)\n",
    "\n",
    "# Se van a representar 2 histogramas: 1º Datos originales con los límites superior e inferior; 2º Datos sin outliers\n",
    "plt.figure(figsize=(12, 5))\n",
    "plt.subplot(1, 2, 1) # 1er Histograma\n",
    "sns.histplot(superficie, bins=10, kde=True, color=\"green\", edgecolor=\"black\")\n",
    "plt.title(\"Superficie de las viviendas en venta en Madrid\")\n",
    "plt.xlabel(\"Superficie (m2)\")\n",
    "plt.ylabel(\"Nº Viviendas\")\n",
    "plt.axvline((q1_superficie - k * rango_superficie), color='red', linestyle='dashed', linewidth=2, label=f'Límite inf.(m2): {(q1_superficie - k * rango_superficie):.2f}')\n",
    "plt.axvline((q3_superficie + k * rango_superficie), color='blue', linestyle=\"dotted\", linewidth=3, label=f'Límite sup.(m2): {(q3_superficie + k * rango_superficie):.2f}')\n",
    "plt.legend()\n",
    "plt.grid()\n",
    "\n",
    "plt.subplot(1,2,2) # 2º Histograma\n",
    "plt.hist(superficie_sin_outliers_tukey, bins=10, edgecolor='k', alpha=0.5)\n",
    "plt.title(\"Superficie de las viviendas en venta en Madrid (sin outliers)\")\n",
    "plt.xlabel(\"Superficie (m2)\")\n",
    "plt.ylabel(\"Nº Viviendas\")\n",
    "plt.grid()\n",
    "plt.show()"
   ]
  },
  {
   "cell_type": "markdown",
   "metadata": {},
   "source": [
    "##### -----REVISAR-----FILTRADO TUKEY: BARRIOS."
   ]
  },
  {
   "cell_type": "code",
   "execution_count": null,
   "metadata": {},
   "outputs": [],
   "source": [
    "k = 1.5\n",
    "barrios_sin_outliers_tukey = filtrar_outliers_tukey(frecuencias_barrios_unicos, k)\n",
    "\n",
    "# Se van a representar 2 histogramas: 1º Datos originales con los límites superior e inferior; 2º Datos sin outliers\n",
    "plt.figure(figsize=(12, 25))\n",
    "plt.subplot(1, 2, 1) # 1er Histograma\n",
    "plt.barh(barrios_unicos, frecuencias_barrios_unicos, color='skyblue', edgecolor='k', alpha=0.5)\n",
    "plt.title(\"Viviendas en en venta por cada Barrio de Madrid\")\n",
    "plt.xlabel(\"Nº Viviendas\")\n",
    "plt.ylabel(\"Barrios\")\n",
    "plt.axvline((q1_barrios - k * rango_barrios), color='red', linestyle='dashed', linewidth=2, label=f'Límite inferior(Nº Viviendas): {(q1_barrios - k * rango_barrios):.2f}')\n",
    "plt.axvline((q3_barrios + k * rango_barrios), color='purple', linestyle=\"dotted\", linewidth=3, label=f'Límite superior(Nº Viviendas): {(q3_barrios + k * rango_barrios):.2f}')\n",
    "plt.legend()\n",
    "plt.grid()\n",
    "\n",
    "plt.subplot(1,2,2) # 2º Histograma\n",
    "plt.hist(barrios_sin_outliers_tukey, bins=30, edgecolor='k', alpha=0.5)\n",
    "plt.title(\"Superficie de las viviendas en venta en Madrid (sin outliers)\")\n",
    "plt.xlabel(\"Superficie (x100m2)\")\n",
    "plt.ylabel(\"Nº Viviendas\")\n",
    "plt.grid()\n",
    "plt.show()"
   ]
  },
  {
   "cell_type": "markdown",
   "metadata": {},
   "source": [
    "### ASIMETRÍAS"
   ]
  },
  {
   "cell_type": "markdown",
   "metadata": {},
   "source": [
    "#### ASIMETRÍAS: PRECIOS."
   ]
  },
  {
   "cell_type": "code",
   "execution_count": null,
   "metadata": {},
   "outputs": [],
   "source": [
    "asimetria_precios = stats.skew(precios)    \n",
    "print(f\"El coeficiente de asimetría de los Precios es: {asimetria_precios}\")\n",
    "\n",
    "# Se dibuja la gráfica\n",
    "sns.kdeplot(precios, label=\"Precios\")\n",
    "plt.legend()\n",
    "plt.show();"
   ]
  },
  {
   "cell_type": "markdown",
   "metadata": {},
   "source": [
    "#### ASIMETRÍAS: Nº BAÑOS."
   ]
  },
  {
   "cell_type": "code",
   "execution_count": null,
   "metadata": {},
   "outputs": [],
   "source": [
    "asimetria_num_banos = stats.skew(num_banos)    \n",
    "print(f\"El coeficiente de asimetría del Nº Baños es: {asimetria_num_banos}\")\n",
    "\n",
    "# Se dibuja la gráfica\n",
    "sns.kdeplot(num_banos, label=\"Nº Baños\")\n",
    "plt.legend()\n",
    "plt.show();"
   ]
  },
  {
   "cell_type": "markdown",
   "metadata": {},
   "source": [
    "#### ASIMETRÍAS: Nº HABITACIONES."
   ]
  },
  {
   "cell_type": "code",
   "execution_count": null,
   "metadata": {},
   "outputs": [],
   "source": [
    "asimetria_num_habitaciones = stats.skew(num_habitaciones)    \n",
    "print(f\"El coeficiente de asimetría del Nº Habitaciones es: {asimetria_num_habitaciones}\")\n",
    "\n",
    "# Se dibuja la gráfica\n",
    "sns.kdeplot(num_habitaciones, label=\"Nº Habitaciones\")\n",
    "plt.legend()\n",
    "plt.show();"
   ]
  },
  {
   "cell_type": "markdown",
   "metadata": {},
   "source": [
    "#### ASIMETRÍAS: Nº SUPERFICIES."
   ]
  },
  {
   "cell_type": "code",
   "execution_count": null,
   "metadata": {},
   "outputs": [],
   "source": [
    "asimetria_superficie = stats.skew(superficie)    \n",
    "print(f\"El coeficiente de asimetría de la Superficie es: {asimetria_superficie}\")\n",
    "\n",
    "# Se dibuja la gráfica\n",
    "sns.kdeplot(superficie, label=\"Superficie\")\n",
    "plt.legend()\n",
    "plt.show();"
   ]
  },
  {
   "cell_type": "markdown",
   "metadata": {},
   "source": [
    "### CURTOSIS."
   ]
  },
  {
   "cell_type": "markdown",
   "metadata": {},
   "source": [
    "#### CURTOSIS: PRECIOS."
   ]
  },
  {
   "cell_type": "code",
   "execution_count": null,
   "metadata": {},
   "outputs": [],
   "source": [
    "curtosis_precios = stats.kurtosis(precios)    \n",
    "print(f\"La curtosis de los Precios es: {curtosis_precios}\")\n",
    "\n",
    "# Se dibuja la gráfica\n",
    "sns.kdeplot(precios, label=\"Precios\")\n",
    "plt.legend()\n",
    "plt.show();"
   ]
  },
  {
   "cell_type": "markdown",
   "metadata": {},
   "source": [
    "#### CURTOSIS: Nº BAÑOS."
   ]
  },
  {
   "cell_type": "code",
   "execution_count": null,
   "metadata": {},
   "outputs": [],
   "source": [
    "curtosis_num_banos = stats.kurtosis(num_banos)    \n",
    "print(f\"El coeficiente de asimetría del Nº Baños es: {curtosis_num_banos}\")\n",
    "\n",
    "# Se dibuja la gráfica\n",
    "sns.kdeplot(num_banos, label=\"Nº Baños\")\n",
    "plt.legend()\n",
    "plt.show();"
   ]
  },
  {
   "cell_type": "markdown",
   "metadata": {},
   "source": [
    "#### CURTOSIS: Nº HABITACIONES."
   ]
  },
  {
   "cell_type": "code",
   "execution_count": null,
   "metadata": {},
   "outputs": [],
   "source": [
    "curtosis_num_habitaciones = stats.kurtosis(num_habitaciones)    \n",
    "print(f\"El coeficiente de asimetría del Nº Habitaciones es: {curtosis_num_habitaciones}\")\n",
    "\n",
    "# Se dibuja la gráfica\n",
    "sns.kdeplot(num_habitaciones, label=\"Nº Habitaciones\")\n",
    "plt.legend()\n",
    "plt.show();"
   ]
  },
  {
   "cell_type": "markdown",
   "metadata": {},
   "source": [
    "#### CURTOSIS: SUPERFICIE."
   ]
  },
  {
   "cell_type": "code",
   "execution_count": null,
   "metadata": {},
   "outputs": [],
   "source": [
    "curtosis_superficie = stats.kurtosis(superficie)    \n",
    "print(f\"El coeficiente de asimetría de la Superficie es: {curtosis_superficie}\")\n",
    "\n",
    "# Se dibuja la gráfica\n",
    "sns.kdeplot(superficie, label=\"Superficie\")\n",
    "plt.legend()\n",
    "plt.show();"
   ]
  },
  {
   "cell_type": "markdown",
   "metadata": {},
   "source": [
    "### TRANSFORMACIÓN DE DISTRIBUCIONES DE DATOS."
   ]
  },
  {
   "cell_type": "markdown",
   "metadata": {},
   "source": [
    "<p>Dado que, por los apartados anteriores, se ha visto que las variables estudiadas tienen una acusada asimetría, en primer lugar se procede a realizar una transformación de las variables para corregir esta asimetría.\n",
    "<p>Posteriormente, se realizará una estandarización para poner los datos en una escala comparable.\n",
    "<p>De esta manera, no se requiere prescindir de datos (ouliers) de las variables, compactando y mitigando su impacto en el estudio.\n",
    "<p>A continuación, se van a realizar las transformaciones de las variables mediante las funciones Raíz y Logaritmo. Para la estandarización, nos basaremos en la transformación logarítmica."
   ]
  },
  {
   "cell_type": "markdown",
   "metadata": {},
   "source": [
    "#### TRANSFORMACIÓN: PRECIOS."
   ]
  },
  {
   "cell_type": "code",
   "execution_count": null,
   "metadata": {},
   "outputs": [],
   "source": [
    "# Transformación mediante Función Raíz.\n",
    "precios_sqrt = np.sqrt(precios)\n",
    "# Calculamos las métricas.\n",
    "media_precios_sqrt = np.mean(precios_sqrt)\n",
    "mediana_precios_sqrt = np.median(precios_sqrt)\n",
    "desv_precios_sqrt = np.std(precios_sqrt)\n",
    "print(f\"La media de la variable Precios, tansformada con la Función Raíz es: {media_precios_sqrt}\")\n",
    "print(f\"La mediana de la variable Precios, tansformada con la Función Raíz es: {mediana_precios_sqrt}\")\n",
    "print(f\"La desviación estándar de la variable Precios, tansformada con la Función Raíz es: {desv_precios_sqrt}\\n\")\n",
    "\n",
    "#Transformación mediante Función Logaritmo.\n",
    "precios_log = np.log(precios)\n",
    "# Calculamos las métricas.\n",
    "media_precios_log = np.mean(precios_log)\n",
    "mediana_precios_log = np.median(precios_log)\n",
    "desv_precios_log = np.std(precios_log)\n",
    "print(f\"La media de la variable Precios, tansformada con la Función Logaritmo es: {media_precios_log}\")\n",
    "print(f\"La mediana de la variable Precios, tansformada con la Función Logaritmo es: {mediana_precios_log}\")\n",
    "print(f\"La desviación estándar de la variable Precios, tansformada con la Función Logaritmo es: {desv_precios_log}\")\n",
    "\n",
    "# Se comparan las gráficas de las transformaciones anteriores con la original.\n",
    "sns.kdeplot(precios, label=\"Distribución original\")\n",
    "sns.kdeplot(precios_sqrt, label=\"Distribución transformada Raíz\")\n",
    "sns.kdeplot(precios_log, label=\"Distribución transformada Logaritmo\")\n",
    "plt.legend()\n",
    "plt.show();"
   ]
  },
  {
   "cell_type": "markdown",
   "metadata": {},
   "source": [
    "#### TRANSFORMACIÓN: Nº BAÑOS."
   ]
  },
  {
   "cell_type": "code",
   "execution_count": null,
   "metadata": {},
   "outputs": [],
   "source": [
    "# Transformación mediante Función Raíz.\n",
    "num_banos_sqrt = np.sqrt(num_banos)\n",
    "# Calculamos las métricas.\n",
    "media_num_banos_sqrt = np.mean(num_banos_sqrt)\n",
    "mediana_num_banos_sqrt = np.median(num_banos_sqrt)\n",
    "desv_num_banos_sqrt = np.std(num_banos_sqrt)\n",
    "print(f\"La media de la variable Nº Baños, tansformada con la Función Raíz es: {media_num_banos_sqrt}\")\n",
    "print(f\"La mediana de la variable Nº Baños, tansformada con la Función Raíz es: {mediana_num_banos_sqrt}\")\n",
    "print(f\"La desviación estándar de la variable Nº Baños, tansformada con la Función Raíz es: {desv_num_banos_sqrt}\\n\")\n",
    "\n",
    "#Transformación mediante Función Logaritmo.\n",
    "num_banos_log = np.log(num_banos)\n",
    "# Calculamos las métricas.\n",
    "media_num_banos_log = np.mean(num_banos_log)\n",
    "mediana_num_banos_log = np.median(num_banos_log)\n",
    "desv_num_banos_log = np.std(num_banos_log)\n",
    "print(f\"La media de la variable Nº Baños, tansformada con la Función Raíz es: {media_num_banos_log}\")\n",
    "print(f\"La mediana de la variable Nº Baños, tansformada con la Función Raíz es: {mediana_num_banos_log}\")\n",
    "print(f\"La desviación estándar de la variable Nº Baños, tansformada con la Función Raíz es: {desv_num_banos_log}\")\n",
    "\n",
    "# Se comparan las gráficas de las transformaciones anteriores con la original.\n",
    "sns.kdeplot(num_banos, label=\"Distribución original\")\n",
    "sns.kdeplot(num_banos_sqrt, label=\"Distribución transformada Raíz\")\n",
    "sns.kdeplot(num_banos_log, label=\"Distribución transformada Logaritmo\")\n",
    "plt.legend()\n",
    "plt.show();"
   ]
  },
  {
   "cell_type": "markdown",
   "metadata": {},
   "source": [
    "#### TRANSFORMACIÓN: Nº HABITACIONES."
   ]
  },
  {
   "cell_type": "code",
   "execution_count": null,
   "metadata": {},
   "outputs": [],
   "source": [
    "# Transformación mediante Función Raíz.\n",
    "num_habitaciones_sqrt = np.sqrt(num_habitaciones)\n",
    "# Calculamos las métricas.\n",
    "media_num_habitaciones_sqrt = np.mean(num_habitaciones_sqrt)\n",
    "mediana_num_habitaciones_sqrt = np.median(num_habitaciones_sqrt)\n",
    "desv_num_habitaciones_sqrt = np.std(num_habitaciones_sqrt)\n",
    "print(f\"La media de la variable Nº Habitaciones, tansformada con la Función Raíz es: {media_num_habitaciones_sqrt}\")\n",
    "print(f\"La mediana de la variable Nº Habitaciones, tansformada con la Función Raíz es: {mediana_num_habitaciones_sqrt}\")\n",
    "print(f\"La desviación estándar de la variable Nº Habitaciones, tansformada con la Función Raíz es: {desv_num_habitaciones_sqrt}\\n\")\n",
    "\n",
    "#Transformación mediante Función Logaritmo.\n",
    "num_habitaciones_log = np.log(num_habitaciones)\n",
    "# Calculamos las métricas.\n",
    "media_num_habitaciones_log = np.mean(num_habitaciones_log)\n",
    "mediana_num_habitaciones_log = np.median(num_habitaciones_log)\n",
    "desv_num_habitaciones_log = np.std(num_habitaciones_log)\n",
    "print(f\"La media de la variable Nº Habitaciones, tansformada con la Función Raíz es: {media_num_habitaciones_log}\")\n",
    "print(f\"La mediana de la variable Nº Habitaciones, tansformada con la Función Raíz es: {mediana_num_habitaciones_log}\")\n",
    "print(f\"La desviación estándar de la variable Nº Habitaciones, tansformada con la Función Raíz es: {desv_num_habitaciones_log}\")\n",
    "\n",
    "# Se comparan las gráficas de las transformaciones anteriores con la original.\n",
    "sns.kdeplot(num_habitaciones, label=\"Distribución original\")\n",
    "sns.kdeplot(num_habitaciones_sqrt, label=\"Distribución transformada Raíz\")\n",
    "sns.kdeplot(num_habitaciones_log, label=\"Distribución transformada Logaritmo\")\n",
    "plt.legend()\n",
    "plt.show();"
   ]
  },
  {
   "cell_type": "markdown",
   "metadata": {},
   "source": [
    "#### TRANSFORMACIÓN: SUPERFICIE."
   ]
  },
  {
   "cell_type": "code",
   "execution_count": null,
   "metadata": {},
   "outputs": [],
   "source": [
    "# Transformación mediante Función Raíz.\n",
    "superficie_sqrt = np.sqrt(superficie)\n",
    "# Calculamos las métricas.\n",
    "media_superficie_sqrt = np.mean(superficie_sqrt)\n",
    "mediana_superficie_sqrt = np.median(superficie_sqrt)\n",
    "desv_superficie_sqrt = np.std(superficie_sqrt)\n",
    "print(f\"La media de la variable Precios, tansformada con la Función Raíz es: {media_superficie_sqrt}\")\n",
    "print(f\"La mediana de la variable Precios, tansformada con la Función Raíz es: {mediana_superficie_sqrt}\")\n",
    "print(f\"La desviación estándar de la variable Precios, tansformada con la Función Raíz es: {desv_superficie_sqrt}\\n\")\n",
    "\n",
    "#Transformación mediante Función Logaritmo.\n",
    "superficie_log = np.log(superficie)\n",
    "# Calculamos las métricas.\n",
    "media_superficie_log = np.mean(superficie_log)\n",
    "mediana_superficie_log = np.median(superficie_log)\n",
    "desv_superficie_log = np.std(superficie_log)\n",
    "print(f\"La media de la variable Precios, tansformada con la Función Raíz es: {media_superficie_log}\")\n",
    "print(f\"La mediana de la variable Precios, tansformada con la Función Raíz es: {mediana_superficie_log}\")\n",
    "print(f\"La desviación estándar de la variable Precios, tansformada con la Función Raíz es: {desv_superficie_log}\")\n",
    "\n",
    "# Se comparan las gráficas de las transformaciones anteriores con la original.\n",
    "sns.kdeplot(superficie, label=\"Distribución original\")\n",
    "sns.kdeplot(superficie_sqrt, label=\"Distribución transformada Raíz\")\n",
    "sns.kdeplot(superficie_log, label=\"Distribución transformada Logaritmo\")\n",
    "plt.legend()\n",
    "plt.show();"
   ]
  },
  {
   "cell_type": "markdown",
   "metadata": {},
   "source": [
    "### ESTANDARIZACIÓN."
   ]
  },
  {
   "cell_type": "markdown",
   "metadata": {},
   "source": [
    "#### ESTANDARIZACIÓN: PRECIOS."
   ]
  },
  {
   "cell_type": "code",
   "execution_count": 155,
   "metadata": {},
   "outputs": [
    {
     "name": "stdout",
     "output_type": "stream",
     "text": [
      "La media estandarizada de precios es: -3.9409883977950913e-16\n",
      "La mediana estandarizada de precios es: 0.007774496666020024\n",
      "La desviación estándar estandarizada de precios es: 1.0\n"
     ]
    }
   ],
   "source": [
    "# Se estandarizan los precios\n",
    "precios_standard = (precios_log - media_precios_log) / desv_precios_log\n",
    "\n",
    "# Se calculan las nuevas métricas a partir de los datos estandarizados.\n",
    "media_precios_standard = np.mean(precios_standard)\n",
    "mediana_precios_standard = np.median(precios_standard)\n",
    "desv_precios_standard = np.std(precios_standard)\n",
    "\n",
    "print(f\"La media estandarizada de precios es: {media_precios_standard}\")\n",
    "print(f\"La mediana estandarizada de precios es: {mediana_precios_standard}\")\n",
    "print(f\"La desviación estándar estandarizada de precios es: {desv_precios_standard}\")\n"
   ]
  },
  {
   "cell_type": "markdown",
   "metadata": {},
   "source": [
    "#### ESTANDARIZACIÓN: Nº BAÑOS."
   ]
  },
  {
   "cell_type": "code",
   "execution_count": null,
   "metadata": {},
   "outputs": [],
   "source": [
    "# Se estandariza el número de baños\n",
    "num_banos_standard = (num_banos_log - media_num_banos_log) / desv_num_banos_log\n",
    "\n",
    "# Se calculan las nuevas métricas a partir de los datos estandarizados.\n",
    "media_banos_standard = np.mean(num_banos_standard)\n",
    "mediana_banos_standard = np.median(num_banos_standard)\n",
    "desv_banos_standard = np.std(num_banos_standard)\n",
    "\n",
    "print(f\"La media estandarizada del número de baños es: {media_banos_standard}\")\n",
    "print(f\"La mediana estandarizada del número de baños es: {mediana_banos_standard}\")\n",
    "print(f\"La desviación estándar del número de baños es: {desv_banos_standard}\")"
   ]
  },
  {
   "cell_type": "markdown",
   "metadata": {},
   "source": [
    "#### ESTANDARIZACIÓN: Nº HABITACIONES."
   ]
  },
  {
   "cell_type": "code",
   "execution_count": null,
   "metadata": {},
   "outputs": [],
   "source": [
    "# Se estandariza el número de habitaciones\n",
    "num_habitaciones_standard = (num_habitaciones_log - media_num_habitaciones_log) / desv_num_habitaciones_log\n",
    "\n",
    "# Se calculan las nuevas métricas a partir de los datos estandarizados.\n",
    "media_habitaciones_standard = np.mean(num_habitaciones_standard)\n",
    "mediana_habitaciones_standard = np.median(num_habitaciones_standard)\n",
    "desv_habitaciones_standard = np.std(num_habitaciones_standard)\n",
    "\n",
    "print(f\"La media estandarizada del número de habitaciones es: {media_habitaciones_standard}\")\n",
    "print(f\"La mediana estandarizada del número de habitaciones es: {mediana_habitaciones_standard}\")\n",
    "print(f\"La desviación estándar del número de habitaciones es: {desv_habitaciones_standard}\")"
   ]
  },
  {
   "cell_type": "markdown",
   "metadata": {},
   "source": [
    "#### ESTANDARIZACIÓN: SUPERFICIE."
   ]
  },
  {
   "cell_type": "code",
   "execution_count": null,
   "metadata": {},
   "outputs": [],
   "source": [
    "# Se estandarizan las superficies\n",
    "superficie_standard = (superficie_log - media_superficie_log) / desv_superficie_log\n",
    "\n",
    "# Se calculan las nuevas métricas a partir de los datos estandarizados.\n",
    "media_superficie_standard = np.mean(superficie_standard)\n",
    "mediana_superficie_standard = np.median(superficie_standard)\n",
    "desv_superficie_standard = np.std(superficie_standard)\n",
    "\n",
    "print(f\"La media estandarizada de la superficie es: {media_superficie_standard}\")\n",
    "print(f\"La mediana estandarizada de la superficie es: {mediana_superficie_standard}\")\n",
    "print(f\"La desviación estándar estandarizada de la superficie es: {desv_superficie_standard}\")"
   ]
  },
  {
   "cell_type": "markdown",
   "metadata": {},
   "source": [
    "#### HISTOGRAMAS ESTANDARIADOS."
   ]
  },
  {
   "cell_type": "markdown",
   "metadata": {},
   "source": [
    "##### HISTOGRAMAS ESTANDARIZADOS: PRECIO vs. Nº BAÑOS"
   ]
  },
  {
   "cell_type": "code",
   "execution_count": 156,
   "metadata": {},
   "outputs": [
    {
     "data": {
      "image/png": "[encoded data removed]",
      "text/plain": [
       "<Figure size 1500x500 with 2 Axes>"
      ]
     },
     "metadata": {},
     "output_type": "display_data"
    }
   ],
   "source": [
    "plt.figure(figsize=(15,5))\n",
    "plt.subplot(1, 2, 1) # Se dibujan las distribuciones originales\n",
    "plt.hist(precios, bins=30, alpha=0.7, label=\"Precios originales\")\n",
    "plt.hist(num_banos, bins=30, alpha=0.7, label=\"Nº Baños originales\")\n",
    "plt.title(\"Distribuciones originales\")\n",
    "plt.xlabel(\"Unidades originales\")\n",
    "plt.ylabel(\"Frecuencia\")\n",
    "plt.legend()\n",
    "\n",
    "plt.subplot(1,2,2) # Se dibujan las distribuciones estandarizadas\n",
    "plt.hist(precios_standard, bins=30, alpha=0.7, label=\"Precios estandarizados\")\n",
    "plt.hist(num_banos_standard, bins=30, alpha=0.7, label=\"Nº Baños estandarizados\")\n",
    "plt.title(\"Distribuciones estandarizadas\")\n",
    "plt.xlabel(\"Unidades estandarizadas\")\n",
    "plt.ylabel(\"Frecuencia\")\n",
    "plt.legend()\n",
    "plt.show()"
   ]
  },
  {
   "cell_type": "markdown",
   "metadata": {},
   "source": [
    "##### HISTOGRAMAS ESTANDARIZADOS: PRECIO vs. Nº HABITACIONES"
   ]
  },
  {
   "cell_type": "code",
   "execution_count": 157,
   "metadata": {},
   "outputs": [
    {
     "data": {
      "image/png": "[encoded data removed]",
      "text/plain": [
       "<Figure size 1500x500 with 2 Axes>"
      ]
     },
     "metadata": {},
     "output_type": "display_data"
    }
   ],
   "source": [
    "plt.figure(figsize=(15,5))\n",
    "plt.subplot(1, 2, 1) # Se dibujan las distribuciones originales\n",
    "plt.hist(precios, bins=30, alpha=0.7, label=\"Precios originales\")\n",
    "plt.hist(num_habitaciones, bins=30, alpha=0.7, label=\"Nº Habitaciones originales\")\n",
    "plt.title(\"Distribuciones originales\")\n",
    "plt.xlabel(\"Unidades originales\")\n",
    "plt.ylabel(\"Frecuencia\")\n",
    "plt.legend()\n",
    "\n",
    "plt.subplot(1,2,2) # Se dibujan las distribuciones estandarizadas\n",
    "plt.hist(precios_standard, bins=30, alpha=0.7, label=\"Precios estandarizados\")\n",
    "plt.hist(num_habitaciones_standard, bins=30, alpha=0.7, label=\"Nº Habitaciones estandarizados\")\n",
    "plt.title(\"Distribuciones estandarizadas\")\n",
    "plt.xlabel(\"Unidades estandarizadas\")\n",
    "plt.ylabel(\"Frecuencia\")\n",
    "plt.legend()\n",
    "plt.show()"
   ]
  },
  {
   "cell_type": "markdown",
   "metadata": {},
   "source": [
    "##### HISTOGRAMAS ESTANDARIZADOS: PRECIO vs. SUPERFICIE"
   ]
  },
  {
   "cell_type": "code",
   "execution_count": 158,
   "metadata": {},
   "outputs": [
    {
     "data": {
      "image/png": "[encoded data removed]",
      "text/plain": [
       "<Figure size 1500x500 with 2 Axes>"
      ]
     },
     "metadata": {},
     "output_type": "display_data"
    }
   ],
   "source": [
    "plt.figure(figsize=(15,5))\n",
    "plt.subplot(1, 2, 1) # Se dibujan las distribuciones originales\n",
    "plt.hist(precios, bins=30, alpha=0.7, label=\"Precios originales\")\n",
    "plt.hist(superficie, bins=30, alpha=0.7, label=\"Superficies originales\")\n",
    "plt.title(\"Distribuciones originales\")\n",
    "plt.xlabel(\"Unidades originales\")\n",
    "plt.ylabel(\"Frecuencia\")\n",
    "plt.legend()\n",
    "\n",
    "plt.subplot(1,2,2) # Se dibujan las distribuciones estandarizadas\n",
    "plt.hist(precios_standard, bins=30, alpha=0.7, label=\"Precios estandarizados\")\n",
    "plt.hist(superficie_standard, bins=30, alpha=0.7, label=\"Superficies estandarizados\")\n",
    "plt.title(\"Distribuciones estandarizadas\")\n",
    "plt.xlabel(\"Unidades estandarizadas\")\n",
    "plt.ylabel(\"Frecuencia\")\n",
    "plt.legend()\n",
    "plt.show()"
   ]
  },
  {
   "cell_type": "markdown",
   "metadata": {},
   "source": [
    "### CORRELACIÓN"
   ]
  },
  {
   "cell_type": "markdown",
   "metadata": {},
   "source": [
    "Para el estudio de la correlación, se utiliza el Coeficiente de Correlación Lineal de Pearson.\n",
    "La fórmula aplicable es:\n",
    "$$\n",
    "\\Large Cov(X, Y) = \\frac{\\sum_{i=1}^{n}(x_{i} - \\bar{x})(y_{i} - \\bar{y})}{n}\\\\\n",
    "\\Large \\rho = \\frac{Cov(X, Y)}{\\sigma_{x}\\sigma_{y}}\n",
    "$$\n",
    "\n",
    "Y el criterio que se utiliza para evaluar la correlación es:\n",
    "- 0: asociación nula.\n",
    "- 土 0.1: asociación pequeña.\n",
    "- 土 0.3: asociación mediana.\n",
    "- 土 0.5: asociación moderada.\n",
    "- 土 0.7: asociación alta.\n",
    "- 土 0.9: asociación muy alta.\n",
    "\n"
   ]
  },
  {
   "cell_type": "markdown",
   "metadata": {},
   "source": [
    "#### CORRELACIÓN PRECIOS vs. RESTO VARIABLES"
   ]
  },
  {
   "cell_type": "code",
   "execution_count": 159,
   "metadata": {},
   "outputs": [
    {
     "name": "stdout",
     "output_type": "stream",
     "text": [
      "Correlación Precios vs. Nº Baños: 0.7365932274791297\n",
      "Correlación Precios vs. Nº Habitaciones: 0.6289566222638577\n",
      "Correlación Precios vs. Nº Superficie: 0.6528410816885698\n"
     ]
    }
   ],
   "source": [
    "print(f\"Correlación Precios vs. Nº Baños: {stats.pearsonr(precios_standard, num_banos_standard)[0]}\")\n",
    "print(f\"Correlación Precios vs. Nº Habitaciones: {stats.pearsonr(precios_standard, num_habitaciones_standard)[0]}\")\n",
    "print(f\"Correlación Precios vs. Nº Superficie: {stats.pearsonr(precios_standard, superficie_standard)[0]}\")"
   ]
  },
  {
   "cell_type": "markdown",
   "metadata": {},
   "source": [
    "#### CORRELACIÓN Nº BAÑOS vs. RESTO VARIABLES"
   ]
  },
  {
   "cell_type": "code",
   "execution_count": 160,
   "metadata": {},
   "outputs": [
    {
     "name": "stdout",
     "output_type": "stream",
     "text": [
      "Correlación Nº Baños vs. Precios: 0.7365932274791297\n",
      "Correlación Nº Baños vs. Nº Habitaciones: 0.7707648059143679\n",
      "Correlación Nº Baños vs. Nº Superficie: 0.8187329188988718\n"
     ]
    }
   ],
   "source": [
    "print(f\"Correlación Nº Baños vs. Precios: {stats.pearsonr(num_banos_standard, precios_standard)[0]}\")\n",
    "print(f\"Correlación Nº Baños vs. Nº Habitaciones: {stats.pearsonr(num_banos_standard, num_habitaciones_standard)[0]}\")\n",
    "print(f\"Correlación Nº Baños vs. Nº Superficie: {stats.pearsonr(num_banos_standard, superficie_standard)[0]}\")"
   ]
  },
  {
   "cell_type": "markdown",
   "metadata": {},
   "source": [
    "#### CORRELACIÓN Nº HABITACIONES vs. RESTO VARIABLES"
   ]
  },
  {
   "cell_type": "code",
   "execution_count": 161,
   "metadata": {},
   "outputs": [
    {
     "name": "stdout",
     "output_type": "stream",
     "text": [
      "Correlación Nº Habitaciones vs. Precios: 0.6289566222638576\n",
      "Correlación Nº Habitaciones vs. Nº Baños: 0.7707648059143679\n",
      "Correlación Nº Habitaciones vs. Nº Superficie: 0.7126547821377669\n"
     ]
    }
   ],
   "source": [
    "print(f\"Correlación Nº Habitaciones vs. Precios: {stats.pearsonr(num_habitaciones_standard, precios_standard)[0]}\")\n",
    "print(f\"Correlación Nº Habitaciones vs. Nº Baños: {stats.pearsonr(num_habitaciones_standard, num_banos_standard)[0]}\")\n",
    "print(f\"Correlación Nº Habitaciones vs. Nº Superficie: {stats.pearsonr(num_habitaciones_standard, superficie_standard)[0]}\")"
   ]
  },
  {
   "cell_type": "markdown",
   "metadata": {},
   "source": [
    "#### CORRELACIÓN SUPERFICIE vs. RESTO VARIABLES"
   ]
  },
  {
   "cell_type": "code",
   "execution_count": 162,
   "metadata": {},
   "outputs": [
    {
     "name": "stdout",
     "output_type": "stream",
     "text": [
      "Correlación Superficie vs. Precios: 0.6528410816885698\n",
      "Correlación Superficie vs. Nº Baños: 0.8187329188988718\n",
      "Correlación Superficie vs. Nº Habitaciones: 0.7126547821377669\n"
     ]
    }
   ],
   "source": [
    "print(f\"Correlación Superficie vs. Precios: {stats.pearsonr(superficie_standard, precios_standard)[0]}\")\n",
    "print(f\"Correlación Superficie vs. Nº Baños: {stats.pearsonr(superficie_standard, num_banos_standard)[0]}\")\n",
    "print(f\"Correlación Superficie vs. Nº Habitaciones: {stats.pearsonr(superficie_standard, num_habitaciones_standard)[0]}\")\n"
   ]
  },
  {
   "cell_type": "markdown",
   "metadata": {},
   "source": [
    "#### CORRELACIÓN ENTRE VARIABLES"
   ]
  },
  {
   "cell_type": "code",
   "execution_count": 163,
   "metadata": {},
   "outputs": [
    {
     "data": {
      "image/png": "[encoded data removed]",
      "text/plain": [
       "<Figure size 640x480 with 2 Axes>"
      ]
     },
     "metadata": {},
     "output_type": "display_data"
    }
   ],
   "source": [
    "# Se crea la matriz de las correlaciones entre variables\n",
    "columnas = [precios_standard, num_banos_standard, num_habitaciones_standard, superficie_standard]\n",
    "\n",
    "matriz_lista = list()\n",
    "\n",
    "for columna_1 in columnas:\n",
    "    fila = list()\n",
    "    for columna_2 in columnas:\n",
    "        fila.append(stats.pearsonr(columna_1, columna_2)[0])\n",
    "    matriz_lista.append(fila)\n",
    "\n",
    "matriz = np.array(matriz_lista)\n",
    "\n",
    "# Se representa la matriz de las correlaciones entre variables\n",
    "nombres_columnas = [\"Precio\", \"Nº Baños\", \"Nº Habitaciones\", \"Superficie\"]\n",
    "sns.heatmap(matriz, annot=True, cmap='viridis', xticklabels=nombres_columnas, yticklabels=nombres_columnas)\n",
    "plt.show();\n"
   ]
  }
 ],
 "metadata": {
  "kernelspec": {
   "display_name": "Python 3",
   "language": "python",
   "name": "python3"
  },
  "language_info": {
   "codemirror_mode": {
    "name": "ipython",
    "version": 3
   },
   "file_extension": ".py",
   "mimetype": "text/x-python",
   "name": "python",
   "nbconvert_exporter": "python",
   "pygments_lexer": "ipython3",
   "version": "3.13.1"
  }
 },
 "nbformat": 4,
 "nbformat_minor": 2
}
