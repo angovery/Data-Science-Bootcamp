{
 "cells": [
  {
   "cell_type": "markdown",
   "metadata": {},
   "source": [
    "# EXPLORATORY DATA ANALYSIS (EDA) DE LAS VIVIENDAS EN VENTA EN MADRID"
   ]
  },
  {
   "cell_type": "markdown",
   "metadata": {},
   "source": [
    "## CARGA DE DATOS Y LIBRERÍAS DE PYTHON"
   ]
  },
  {
   "cell_type": "markdown",
   "metadata": {},
   "source": [
    "### CARGA DE LIBRERÍAS DE PYTHON"
   ]
  },
  {
   "cell_type": "code",
   "execution_count": 1,
   "metadata": {},
   "outputs": [],
   "source": [
    "import numpy as np\n",
    "import matplotlib.pyplot as plt\n",
    "from scipy import stats\n",
    "import seaborn as sns\n",
    "import random\n",
    "# import counter\n",
    "\n",
    "# Archivo fuente de datos\n",
    "file = './Data/idealista_madrid.csv'"
   ]
  },
  {
   "cell_type": "markdown",
   "metadata": {},
   "source": [
    "### CARGA DE DATOS"
   ]
  },
  {
   "cell_type": "code",
   "execution_count": null,
   "metadata": {},
   "outputs": [],
   "source": [
    "# Array, de Numpy, con los datos de la columna \"price\" del archivo fuente csv.\n",
    "precios = np.genfromtxt(file, usecols=(0), delimiter=\",\", skip_header=1, dtype=np.int64, encoding=\"UTF-8\")\n",
    "\n",
    "# Array, de Numpy, con los datos de la columna \"baths\" del archivo fuente csv.\n",
    "num_banos = np.genfromtxt(file, usecols=(1), delimiter=\",\", skip_header=1, dtype=np.int16, encoding=\"UTF-8\")\n",
    "\n",
    "# Array, de Numpy, con los datos de la columna \"rooms\" del archivo fuente csv.\n",
    "num_habitaciones = np.genfromtxt(file, usecols=(2), delimiter=\",\", skip_header=1, dtype=np.int16, encoding=\"UTF-8\")\n",
    "\n",
    "# Array, de Numpy, con los datos de la columna \"sqft\" del archivo fuente csv.\n",
    "superficie = np.genfromtxt(file, usecols=(3), delimiter=\",\", skip_header=1, dtype=np.int16, encoding=\"UTF-8\")\n",
    "\n",
    "# Array, de Numpy, con los datos de la columna \"address\" del archivo fuente csv.\n",
    "barrios = np.genfromtxt(file, usecols=(4), delimiter=\",\", skip_header=1, dtype=str, encoding=\"UTF-8\")"
   ]
  },
  {
   "cell_type": "markdown",
   "metadata": {},
   "source": [
    "## ESTADÍSTICA DESCRIPTIVA"
   ]
  },
  {
   "cell_type": "markdown",
   "metadata": {},
   "source": [
    "### MEDIDAS DE TENDENCIA CENTRAL: MEDIA, MEDIANA y MODA."
   ]
  },
  {
   "cell_type": "markdown",
   "metadata": {},
   "source": [
    "#### MEDIAS"
   ]
  },
  {
   "cell_type": "code",
   "execution_count": 31,
   "metadata": {},
   "outputs": [
    {
     "name": "stdout",
     "output_type": "stream",
     "text": [
      "La media de precios de las viviendas en venta es: 1290575.26€\n",
      "La media del número de baños de las viviendas en venta es: 2.90\n",
      "La media del número de habitaciones de las viviendas en venta es: 3.47\n",
      "La media de la superficie de las viviendas en venta es: 217.24 m2\n",
      "La media de la frecuencia de los barrios con viviendas en venta es: 8.71\n",
      "El barrio con más viviendas en venta es: Barrio de Salamanca\n"
     ]
    }
   ],
   "source": [
    "media_precios = np.mean(precios)\n",
    "media_banos = np.mean(num_banos)\n",
    "media_habitaciones = np.mean(num_habitaciones)\n",
    "media_superficie = np.mean(superficie)\n",
    "\n",
    "# Se calcula también la media de las frecuencias de los barrios que más viviendas tienen en venta\n",
    "# Se define un nuevo array con los barrios únicos del array 'barrios' y se obtiene otro array con las frecuencias de aparación de cada barrio.\n",
    "barrios_unicos, frecuencias_barrios = np.unique(barrios, return_counts=True)\n",
    "\n",
    "# Se calcula la media de las frecuencias de aparición de cada barrio único. Reflexión: ¿Tendría algún sentido calcular esta media?\n",
    "media_fre_barrios_unicos = np.mean(frecuencias_barrios)\n",
    "\n",
    "print(f\"La media de precios de las viviendas en venta es: {media_precios:.2f}€\")\n",
    "print(f\"La media del número de baños de las viviendas en venta es: {media_banos:.2f}\")\n",
    "print(f\"La media del número de habitaciones de las viviendas en venta es: {media_habitaciones:.2f}\")\n",
    "print(f\"La media de la superficie de las viviendas en venta es: {media_superficie:.2f} m2\")\n",
    "print(f\"La media de la frecuencia de los barrios con viviendas en venta es: {media_fre_barrios_unicos:.2f}\")\n",
    "\n",
    "# Obeservación: Se imprime el barrio con más viviendas en venta\n",
    "print(f\"El barrio con más viviendas en venta es: {str(barrios_unicos[np.argmax(frecuencias_barrios)])}\") # Esto es la moda también.\n",
    "\n"
   ]
  },
  {
   "cell_type": "markdown",
   "metadata": {},
   "source": [
    "#### MEDIANAS"
   ]
  },
  {
   "cell_type": "code",
   "execution_count": null,
   "metadata": {},
   "outputs": [],
   "source": [
    "mediana_precios = np.median(precios)\n",
    "mediana_banos = np.median(num_banos)\n",
    "mediana_habitaciones = np.median(num_habitaciones)\n",
    "mediana_superficie = np.median(superficie)\n",
    "mediana_barrios = np.median(frecuencias_barrios)\n",
    "\n",
    "print(f\"La mediana de precios de las viviendas en venta es: {mediana_precios:.2f}€\")\n",
    "print(f\"La mediana del número de baños de las viviendas en venta es: {mediana_banos:.2f}\")\n",
    "print(f\"La mediana del número de habitaciones de las viviendas en venta es: {mediana_habitaciones:.2f}\")\n",
    "print(f\"La mediana de la superficie de las viviendas en venta es: {mediana_superficie:.2f} m2\")\n",
    "print(f\"La mediana de la frecuencia de las barrios con viviendas en venta es: {mediana_barrios:.2f}\")\n"
   ]
  },
  {
   "cell_type": "markdown",
   "metadata": {},
   "source": [
    "#### MODAS"
   ]
  },
  {
   "cell_type": "code",
   "execution_count": 32,
   "metadata": {},
   "outputs": [
    {
     "name": "stdout",
     "output_type": "stream",
     "text": [
      "La moda de precios de las viviendas en venta es: 850000.00€ y se repite 15 veces\n",
      "La moda del número de baños de las viviendas en venta es: 2.00 y se repite 301 veces\n",
      "La moda del número de habitaciones de las viviendas en venta es: 3.00 y se repite 254 veces\n",
      "La moda de la superficie de las viviendas en venta es: 133.00 m2 y se repite 12 veces\n",
      "La moda de la frecuencia de los barrios con viviendas en venta es: Barrio de Salamanca y se repite 26 veces\n"
     ]
    }
   ],
   "source": [
    "moda_precios = stats.mode(precios)\n",
    "moda_banos = stats.mode(num_banos)\n",
    "moda_habitaciones = stats.mode(num_habitaciones)\n",
    "moda_superficie = stats.mode(superficie)\n",
    "moda_barrios = stats.mode(frecuencias_barrios) # Otra forma de calcular la moda. Aunque anteriormente ya se ha calculado de otra manera.\n",
    "\n",
    "print(f\"La moda de precios de las viviendas en venta es: {moda_precios[0]:.2f}€ y se repite {moda_precios[1]} veces\")\n",
    "print(f\"La moda del número de baños de las viviendas en venta es: {moda_banos[0]:.2f} y se repite {moda_banos[1]} veces\")\n",
    "print(f\"La moda del número de habitaciones de las viviendas en venta es: {moda_habitaciones[0]:.2f} y se repite {moda_habitaciones[1]} veces\")\n",
    "print(f\"La moda de la superficie de las viviendas en venta es: {moda_superficie[0]:.2f} m2 y se repite {moda_superficie[1]} veces\")\n",
    "print(f\"La moda de la frecuencia de los barrios con viviendas en venta es: {str(barrios_unicos[np.argmax(frecuencias_barrios)])} y se repite {moda_barrios[1]} veces\")"
   ]
  },
  {
   "cell_type": "markdown",
   "metadata": {},
   "source": [
    "### MÉDIDAS DESCRIPTIVAS: MÁXIMOS Y MÍNIMOS"
   ]
  },
  {
   "cell_type": "markdown",
   "metadata": {},
   "source": [
    "#### MÁXIMOS"
   ]
  },
  {
   "cell_type": "code",
   "execution_count": null,
   "metadata": {},
   "outputs": [],
   "source": [
    "max_precios = np.max(precios)\n",
    "max_banos = np.max(num_banos)\n",
    "max_habitaciones = np.max(num_habitaciones)\n",
    "max_superficie = np.max(superficie)\n",
    "max_barrios = np.max(frecuencias_barrios)\n",
    "\n",
    "print(f\"El valor máximo de precios de las viviendas en venta es: {max_precios:.2f}€\")\n",
    "print(f\"El valor máximo del número de baños de las viviendas en venta es: {max_banos:.2f}\")\n",
    "print(f\"El valor máximo del número de habitaciones de las viviendas en venta es: {max_habitaciones:.2f}\")\n",
    "print(f\"El valor máximo de la superficie de las viviendas en venta es: {max_superficie:.2f} m2\")\n",
    "print(f\"El valor máximo de la frecuencia de los barrios con viviendas en venta es: {max_barrios:.2f}\")"
   ]
  },
  {
   "cell_type": "markdown",
   "metadata": {},
   "source": [
    "#### MÍNIMOS"
   ]
  },
  {
   "cell_type": "code",
   "execution_count": null,
   "metadata": {},
   "outputs": [],
   "source": [
    "min_precios = np.min(precios)\n",
    "min_banos = np.min(num_banos)\n",
    "min_habitaciones = np.min(num_habitaciones)\n",
    "min_superficie = np.min(superficie)\n",
    "min_barrios = np.min(frecuencias_barrios)\n",
    "\n",
    "print(f\"El valor mínimo de precios de las viviendas en venta es: {min_precios:.2f}€\")\n",
    "print(f\"El valor mínimo del número de baños de las viviendas en venta es: {min_banos:.2f}\")\n",
    "print(f\"El valor mínimo del número de habitaciones de las viviendas en venta es: {min_habitaciones:.2f}\")\n",
    "print(f\"El valor mínimo de la superficie de las viviendas en venta es: {min_superficie:.2f} m2\")\n",
    "print(f\"El valor mínimo de la frecuencia de los barrios con viviendas en venta es: {min_barrios:.2f}\")"
   ]
  },
  {
   "cell_type": "markdown",
   "metadata": {},
   "source": [
    "### HISTOGRAMAS Y CURVAS DE DENSIDAD."
   ]
  },
  {
   "cell_type": "markdown",
   "metadata": {},
   "source": [
    "#### PRECIOS."
   ]
  },
  {
   "cell_type": "code",
   "execution_count": null,
   "metadata": {},
   "outputs": [],
   "source": [
    "# Histograma utilizando la librería MatplotLib\n",
    "plt.figure(figsize=(8, 5))\n",
    "plt.hist(precios, bins=50, edgecolor='k', alpha=0.5)\n",
    "plt.title(\"Precios de viviendas en Madrid\")\n",
    "plt.xlabel(\"Precio (en milones de €)\")\n",
    "plt.ylabel(\"Frecuencia\")\n",
    "plt.axvline(media_precios, color='red', linestyle='dashed', linewidth=2, label=f'Media(€): {media_precios:.2f}')\n",
    "plt.axvline(mediana_precios, color='purple', linestyle=\"dotted\", linewidth=3, label=f'Mediana(€): {mediana_precios:.2f}')\n",
    "plt.legend()\n",
    "plt.grid()\n",
    "plt.show()"
   ]
  },
  {
   "cell_type": "code",
   "execution_count": null,
   "metadata": {},
   "outputs": [],
   "source": [
    "# Histograma y Curva de Densidad utilizando la librería Seaborn\n",
    "plt.figure(figsize=(8, 5))\n",
    "sns.histplot(precios, bins=50, kde=True, color=\"green\", edgecolor=\"black\")\n",
    "plt.title(\"Precios de viviendas en Madrid\")\n",
    "plt.xlabel(\"Precio (en milones de €)\")\n",
    "plt.ylabel(\"Frecuencia\")\n",
    "plt.axvline(media_precios, color='red', linestyle='dashed', linewidth=2, label=f'Media(€): {media_precios:.2f}')\n",
    "plt.axvline(mediana_precios, color='purple', linestyle=\"dotted\", linewidth=3, label=f'Mediana(€): {mediana_precios:.2f}')\n",
    "plt.legend()\n",
    "plt.grid()\n",
    "plt.show()\n"
   ]
  },
  {
   "cell_type": "markdown",
   "metadata": {},
   "source": [
    "#### Nº DE BAÑOS."
   ]
  },
  {
   "cell_type": "code",
   "execution_count": null,
   "metadata": {},
   "outputs": [],
   "source": [
    "# Histograma y Curva de Densidad utilizando la librería Seaborn\n",
    "plt.figure(figsize=(8, 5))\n",
    "sns.histplot(num_banos, bins=10, kde=True, color=\"green\", edgecolor=\"black\")\n",
    "plt.title(\"Número de baños de viviendas en venta en Madrid\")\n",
    "plt.xlabel(\"Nº Baños\")\n",
    "plt.ylabel(\"Nº Viviendas\")\n",
    "plt.axvline(media_banos, color='red', linestyle='dashed', linewidth=2, label=f'Media(€): {media_banos:.2f}')\n",
    "plt.axvline(mediana_banos, color='purple', linestyle=\"dotted\", linewidth=3, label=f'Mediana(€): {mediana_banos:.2f}')\n",
    "plt.legend()\n",
    "plt.grid()\n",
    "plt.show()"
   ]
  },
  {
   "cell_type": "markdown",
   "metadata": {},
   "source": [
    "#### Nº DE HABITACIONES."
   ]
  },
  {
   "cell_type": "code",
   "execution_count": null,
   "metadata": {},
   "outputs": [],
   "source": [
    "# Histograma y Curva de Densidad utilizando la librería Seaborn\n",
    "plt.figure(figsize=(8, 5))\n",
    "sns.histplot(num_habitaciones, bins=10, kde=True, color=\"green\", edgecolor=\"black\")\n",
    "plt.title(\"Número de habitaciones de viviendas en venta en Madrid\")\n",
    "plt.xlabel(\"Nº Habitaciones\")\n",
    "plt.ylabel(\"Nº Viviendas\")\n",
    "plt.axvline(media_habitaciones, color='red', linestyle='dashed', linewidth=2, label=f'Media(habitaciones): {media_habitaciones:.2f}')\n",
    "plt.axvline(mediana_habitaciones, color='purple', linestyle=\"dotted\", linewidth=3, label=f'Mediana(habitaciones): {mediana_habitaciones:.2f}')\n",
    "plt.legend()\n",
    "plt.grid()\n",
    "plt.show()"
   ]
  },
  {
   "cell_type": "markdown",
   "metadata": {},
   "source": [
    "#### SUPERFICIES."
   ]
  },
  {
   "cell_type": "code",
   "execution_count": null,
   "metadata": {},
   "outputs": [],
   "source": [
    "# Histograma y Curva de Densidad utilizando la librería Seaborn\n",
    "plt.figure(figsize=(8, 5))\n",
    "sns.histplot(superficie, bins=30, kde=True, color=\"green\", edgecolor=\"black\")\n",
    "plt.title(\"Superficie de las viviendas en venta en Madrid\")\n",
    "plt.xlabel(\"Superficie (m2)\")\n",
    "plt.ylabel(\"Nº Viviendas\")\n",
    "plt.axvline(media_superficie, color='red', linestyle='dashed', linewidth=2, label=f'Media(m2): {media_superficie:.2f}')\n",
    "plt.axvline(mediana_superficie, color='purple', linestyle=\"dotted\", linewidth=3, label=f'Mediana(m2): {mediana_superficie:.2f}')\n",
    "plt.legend()\n",
    "plt.grid()\n",
    "plt.show()"
   ]
  },
  {
   "cell_type": "markdown",
   "metadata": {},
   "source": [
    "#### BARRIOS."
   ]
  },
  {
   "cell_type": "code",
   "execution_count": null,
   "metadata": {},
   "outputs": [],
   "source": [
    "# Barrios, al tratarse de variables cualitativas, se emplean gráficos de barras utilizando la librería MatplotLib\n",
    "plt.figure(figsize=(8, 25))\n",
    "plt.barh(barrios_unicos, frecuencias_barrios, color='skyblue', edgecolor='k', alpha=0.5)\n",
    "plt.title(\"Viviendas en en venta por cada Barrio de Madrid\")\n",
    "plt.xlabel(\"Nº Viviendas\")\n",
    "plt.ylabel(\"Barrios\")\n",
    "plt.axvline(media_fre_barrios_unicos, color='red', linestyle='dashed', linewidth=2, label=f'Media(Nº Viviendas): {media_fre_barrios_unicos:.2f}')\n",
    "plt.axvline(mediana_barrios, color='purple', linestyle=\"dotted\", linewidth=3, label=f'Mediana(Nº Viviendas): {mediana_barrios:.2f}')\n",
    "plt.legend()\n",
    "plt.grid()\n",
    "plt.show()"
   ]
  },
  {
   "cell_type": "markdown",
   "metadata": {},
   "source": [
    "### MEDIDAS DE POSICIÓN NO CENTRAL: CUARTILES"
   ]
  },
  {
   "cell_type": "markdown",
   "metadata": {},
   "source": [
    "#### CUARTILES"
   ]
  },
  {
   "cell_type": "markdown",
   "metadata": {},
   "source": [
    "##### PRECIOS"
   ]
  },
  {
   "cell_type": "code",
   "execution_count": null,
   "metadata": {},
   "outputs": [],
   "source": [
    "# Aunque los cuartiles se van a calcular de forma unitaria, también se pueden obtener los cuartiles de una vez, como elementos de un array. Por ejemplo:\n",
    "# cuartiles = np.quantile(a = precios, q = [0.25, 0.50, 0.75], interpolation = \"lower\")\n",
    "# La línea de código de más arriba obtiene una array cuyos elementos son los valores de los cuartiles 25%, 50% y 75%)\n",
    "\n",
    "# En este estudio, se van a calcular los cuartiles por separado.\n",
    "q1_precios = np.quantile(a = precios, q = 0.25, interpolation = \"lower\")\n",
    "q2_precios = mediana_precios\n",
    "q3_precios = np.quantile(a = precios, q = 0.75, interpolation = \"lower\")\n",
    "\n",
    "print(f\"El valor del cuartil 25% de los precios de las viviendas en venta es: {q1_precios:.2f}€\")\n",
    "print(f\"El valor del cuartil 50% de los precios de las viviendas en venta es: {q2_precios:.2f}€\")\n",
    "print(f\"El valor del cuartil 75% de los precios de las viviendas en venta es: {q3_precios:.2f}€\")\n"
   ]
  },
  {
   "cell_type": "markdown",
   "metadata": {},
   "source": [
    "##### Nº DE BAÑOS"
   ]
  },
  {
   "cell_type": "code",
   "execution_count": 15,
   "metadata": {},
   "outputs": [],
   "source": [
    "q1_banos = np.quantile(a = num_banos, q = 0.25, interpolation = \"lower\")\n",
    "q2_banos = mediana_banos\n",
    "q3_banos = np.quantile(a = num_banos, q = 0.75, interpolation = \"lower\")\n",
    "\n",
    "print(f\"El valor del cuartil 25% del número de baños de las viviendas en venta es: {q1_banos:.2f}\")\n",
    "print(f\"El valor del cuartil 50% del número de baños de las viviendas en venta es: {q2_banos:.2f}\")\n",
    "print(f\"El valor del cuartil 75% del número de baños de las viviendas en venta es: {q3_banos:.2f}\")"
   ]
  },
  {
   "cell_type": "markdown",
   "metadata": {},
   "source": [
    "##### Nº DE HABITACIONES"
   ]
  },
  {
   "cell_type": "code",
   "execution_count": 16,
   "metadata": {},
   "outputs": [],
   "source": [
    "q1_habitaciones = np.quantile(a = num_habitaciones, q = 0.25, interpolation = \"lower\")\n",
    "q2_habitaciones = mediana_habitaciones\n",
    "q3_habitaciones = np.quantile(a = num_habitaciones, q = 0.75, interpolation = \"lower\")\n",
    "\n",
    "print(f\"El valor del cuartil 25% del número de habitaciones de las viviendas en venta es: {q1_habitaciones:.2f}\")\n",
    "print(f\"El valor del cuartil 50% del número de habitaciones de las viviendas en venta es: {q2_habitaciones:.2f}\")\n",
    "print(f\"El valor del cuartil 75% del número de habitaciones de las viviendas en venta es: {q3_habitaciones:.2f}\")"
   ]
  },
  {
   "cell_type": "markdown",
   "metadata": {},
   "source": [
    "##### SUPERFICIE"
   ]
  },
  {
   "cell_type": "code",
   "execution_count": 17,
   "metadata": {},
   "outputs": [],
   "source": [
    "q1_superficie = np.quantile(a = superficie, q = 0.25, interpolation = \"lower\")\n",
    "q2_superficie = mediana_superficie\n",
    "q3_superficie = np.quantile(a = superficie, q = 0.75, interpolation = \"lower\")\n",
    "\n",
    "print(f\"El valor del cuartil 25% de la superficie de las viviendas en venta es: {q1_superficie:.2f} m2\")\n",
    "print(f\"El valor del cuartil 50% de la superficie de las viviendas en venta es: {q2_superficie:.2f} m2\")\n",
    "print(f\"El valor del cuartil 75% de la superficie de las viviendas en venta es: {q3_superficie:.2f} m2\")"
   ]
  },
  {
   "cell_type": "markdown",
   "metadata": {},
   "source": [
    "##### BARRIOS"
   ]
  },
  {
   "cell_type": "code",
   "execution_count": 18,
   "metadata": {},
   "outputs": [],
   "source": [
    "q1_barrios = np.quantile(a = frecuencias_barrios, q = 0.25, interpolation = \"lower\")\n",
    "q2_barrios = mediana_barrios\n",
    "q3_barrios = np.quantile(a = frecuencias_barrios, q = 0.75, interpolation = \"lower\")\n",
    "\n",
    "print(f\"El valor del cuartil 25% de los barrios con viviendas en venta es: {q1_barrios:.2f}\")\n",
    "print(f\"El valor del cuartil 50% de los barrios con viviendas en venta es: {q2_barrios:.2f}\")\n",
    "print(f\"El valor del cuartil 75% de los barrios con viviendas en venta es: {q3_barrios:.2f}\")"
   ]
  },
  {
   "cell_type": "markdown",
   "metadata": {},
   "source": [
    "### MEDIDAS DE DISPERSIÓN: RANGO, RANGO INTERCUARTIL (IQR), VARIANZA Y DESVIACIÓN ESTÁNDAR"
   ]
  },
  {
   "cell_type": "markdown",
   "metadata": {},
   "source": [
    "#### RANGO"
   ]
  },
  {
   "cell_type": "code",
   "execution_count": 19,
   "metadata": {},
   "outputs": [],
   "source": [
    "rango_precios = max_precios - min_precios\n",
    "rango_banos = max_banos - min_banos\n",
    "rango_habitaciones = max_habitaciones - min_habitaciones\n",
    "rango_superficie = max_superficie - min_superficie\n",
    "rango_barrios = max_barrios - min_barrios\n",
    "\n",
    "print(f\"El valor rango de los precios de las viviendas en venta es: {rango_precios:.2f}€\")\n",
    "print(f\"El valor rango del número de baños de las viviendas en venta es: {rango_banos:.2f}\")\n",
    "print(f\"El valor rango del número de habitaciones de las viviendas en venta es: {rango_habitaciones:.2f}\")\n",
    "print(f\"El valor rango de la superficies de las viviendas en venta es: {rango_superficie:.2f} m2\")\n",
    "print(f\"El valor rango de las viviendas en venta por barrios es: {rango_barrios:.2f}\")"
   ]
  },
  {
   "cell_type": "markdown",
   "metadata": {},
   "source": [
    "#### RANGO INTERCUARTÍLICO (IQR)"
   ]
  },
  {
   "cell_type": "code",
   "execution_count": 20,
   "metadata": {},
   "outputs": [],
   "source": [
    "iqr_precios = q3_precios - q1_precios\n",
    "iqr_banos = q3_banos - q1_banos\n",
    "iqr_habitaciones = q3_habitaciones - q1_habitaciones\n",
    "iqr_superficie = q3_superficie - q1_superficie\n",
    "iqr_barrios = q3_barrios - q1_barrios\n",
    "\n",
    "print(f\"El valor IQR de los precios de las viviendas en venta es: {iqr_precios:.2f}€\")\n",
    "print(f\"El valor IQR del número de baños de las viviendas en venta es: {iqr_banos:.2f}\")\n",
    "print(f\"El valor IQR del número de habitaciones de las viviendas en venta es: {iqr_habitaciones:.2f}\")\n",
    "print(f\"El valor IQR de la superficies de las viviendas en venta es: {iqr_superficie:.2f} m2\")\n",
    "print(f\"El valor IQR de las viviendas en venta por barrios es: {iqr_barrios:.2f}\")"
   ]
  },
  {
   "cell_type": "markdown",
   "metadata": {},
   "source": [
    "#### VARIANZA"
   ]
  },
  {
   "cell_type": "code",
   "execution_count": 21,
   "metadata": {},
   "outputs": [],
   "source": [
    "var_precios = np.var(precios)\n",
    "var_banos = np.var(num_banos)\n",
    "var_habitaciones = np.var(num_habitaciones)\n",
    "var_superficie = np.var(superficie)\n",
    "var_barrios = np.var(frecuencias_barrios)\n",
    "\n",
    "print(f\"La varianza de los precios de las viviendas en venta es: {var_precios:.2f}€\")\n",
    "print(f\"La varianza del número de baños de las viviendas en venta es: {var_banos:.2f}\")\n",
    "print(f\"La varianza del número de habitaciones de las viviendas en venta es: {var_habitaciones:.2f}\")\n",
    "print(f\"La varianza de la superficies de las viviendas en venta es: {var_superficie:.2f} m2\")\n",
    "print(f\"La varianza de las viviendas en venta por barrios es: {var_barrios:.2f}\")"
   ]
  },
  {
   "cell_type": "markdown",
   "metadata": {},
   "source": [
    "#### DESVIACIÓN ESTÁNDAR"
   ]
  },
  {
   "cell_type": "code",
   "execution_count": 22,
   "metadata": {},
   "outputs": [],
   "source": [
    "desv_precios = np.std(precios)\n",
    "desv_banos = np.std(num_banos)\n",
    "desv_habitaciones = np.std(num_habitaciones)\n",
    "desv_superficie = np.std(superficie)\n",
    "desv_barrios = np.std(frecuencias_barrios)\n",
    "\n",
    "print(f\"La desviación estándar de los precios de las viviendas en venta es: {desv_precios:.2f}€\")\n",
    "print(f\"La desviación estándar del número de baños de las viviendas en venta es: {desv_banos:.2f}\")\n",
    "print(f\"La desviación estándar del número de habitaciones de las viviendas en venta es: {desv_habitaciones:.2f}\")\n",
    "print(f\"La desviación estándar de la superficies de las viviendas en venta es: {desv_superficie:.2f} m2\")\n",
    "print(f\"La desviación estándar de las viviendas en venta por barrios es: {desv_barrios:.2f}\")"
   ]
  },
  {
   "cell_type": "markdown",
   "metadata": {},
   "source": [
    "#### FILTRADO DE DATOS"
   ]
  },
  {
   "cell_type": "markdown",
   "metadata": {},
   "source": [
    "##### PRECIO MÁXIMO DEL 20% DE LAS VIVIENDAS MÁS BARATAS"
   ]
  },
  {
   "cell_type": "code",
   "execution_count": 36,
   "metadata": {},
   "outputs": [
    {
     "name": "stdout",
     "output_type": "stream",
     "text": [
      "El 20% de las viviendas más baratas en venta en Madrid, cuestan menos de: 529900.00€\n",
      "El precio medio del 20% de las viviendas más baratas en venta en Madrid es: 350706.89€\n"
     ]
    }
   ],
   "source": [
    "# Filtrado de resultados empleando los percentiles.\n",
    "precio_percentil_20 = np.percentile(precios, 20)\n",
    "print(f\"El 20% de las viviendas más baratas en venta en Madrid, cuestan menos de: {precio_percentil_20:.2f}€\")\n",
    "viviendas_mas_baratas = precios[precios <= precio_percentil_20]\n",
    "media_viviendas_mas_baratas = np.mean(viviendas_mas_baratas)\n",
    "print(f\"El precio medio del 20% de las viviendas más baratas en venta en Madrid es: {media_viviendas_mas_baratas:.2f}€\")"
   ]
  },
  {
   "cell_type": "markdown",
   "metadata": {},
   "source": [
    "##### PRECIO MÍNIMO DEL 20% DE LAS VIVIENDAS MÁS CARAS"
   ]
  },
  {
   "cell_type": "code",
   "execution_count": null,
   "metadata": {},
   "outputs": [],
   "source": [
    "# Filtrado de resultados empleando los percentiles.\n",
    "precio_percentil_80 = np.percentile(precios, 80)\n",
    "print(f\"El 20% de las viviendas más caras en venta en Madrid, cuestan más de: {precio_percentil_80:.2f}€\")\n",
    "viviendas_mas_caras = precios[precios >= precio_percentil_80]\n",
    "media_viviendas_mas_caras = np.mean(viviendas_mas_caras)\n",
    "print(f\"El precio medio del 20% de las viviendas más caras en venta en Madrid es: {media_viviendas_mas_caras:.2f}€\")"
   ]
  },
  {
   "cell_type": "markdown",
   "metadata": {},
   "source": [
    "##### LOS BARRIOS DONDE SE ENCUENTRAN EL 20% DE LAS VIVIENDAS EN VENTA MÁS BARATAS DE MADRID"
   ]
  },
  {
   "cell_type": "code",
   "execution_count": null,
   "metadata": {},
   "outputs": [],
   "source": [
    "# Se ordena el array de precios, de menor a mayor. Devuelve un array cuyos elementos son índices del array \"precios\".\n",
    "index_precios_asc = np.argsort(precios)\n",
    "\n",
    "# Se calcula la cantidad de filas que representa el 20% del total de filas de la muestra\n",
    "filas_percentil_20 = int(len(precios) * 0.2)\n",
    "\n",
    "# Utilizando el nº de filas que representa el 20% de la muestra y el array de índices obtenido más arriba, se obtiene un subconjunto de los barrios correspondientes asociados al 20% de las viviendas más baratas.\n",
    "barrios_baratos_percentil_20 = barrios[index_precios_asc[:filas_percentil_20]]\n",
    "\n",
    "# Como en el array barrios_baratos_percentil_20 puede contener elementos (barrios) repetidos, se obtienen los barrios únicos y su frecuencia correspondiente.\n",
    "barrios_baratos_unicos_percentil_20, frecuencias_barrios_baratos_unicos_percentil_20 = np.unique(barrios_baratos_percentil_20, return_counts=True)\n",
    "\n",
    "# Se recorren ambos arrays y se presentan los resultados.\n",
    "print(\"Estos son los barrios en donde se encuentran el 20% de las viviendas más baratas de Madrid:\")\n",
    "for barrios_mas_baratos_percentil_20, viviendas_barrios_mas_baratos_percentil_20 in zip(barrios_baratos_unicos_percentil_20, frecuencias_barrios_baratos_unicos_percentil_20):\n",
    "    print(f\"{barrios_mas_baratos_percentil_20}: {viviendas_barrios_mas_baratos_percentil_20} vivienda/s en venta.\")\n"
   ]
  },
  {
   "cell_type": "markdown",
   "metadata": {},
   "source": [
    "##### LOS BARRIOS DONDE SE ENCUENTRAN EL 20% DE LAS VIVIENDAS MÁS EN VENTA CARAS DE MADRID"
   ]
  },
  {
   "cell_type": "code",
   "execution_count": null,
   "metadata": {},
   "outputs": [],
   "source": [
    "# Se ordena el array de precios, de mayor a menor. Devuelve un array cuyos elementos son índices del array \"precios\".\n",
    "index_precios_asc = np.argsort(precios)[::-1]\n",
    "\n",
    "# Se calcula la cantidad de filas que representa el 20% del total de filas de la muestra. Ahora, la lista está ordenada de mayor a menor precio\n",
    "filas_percentil_80 = int(len(precios) * 0.2)\n",
    "\n",
    "# Utilizando el nº de filas que representa el 20% de la muestra y el array de índices obtenido más arriba, se obtiene un subconjunto de los barrios correspondientes asociados al 20% de las viviendas más baratas.\n",
    "barrios_caros_percentil_80 = barrios[index_precios_asc[:filas_percentil_80]]\n",
    "\n",
    "# Como en el array barrios_baratos_percentil_20 puede contener elementos (barrios) repetidos, se obtienen los barrios únicos y su frecuencia correspondiente.\n",
    "barrios_caros_unicos_percentil_80, frecuencias_barrios_caros_unicos_percentil_80 = np.unique(barrios_caros_percentil_80, return_counts=True)\n",
    "\n",
    "# Se recorren ambos arrays y se presentan los resultados.\n",
    "print(\"Estos son los barrios en donde se encuentran el 20% de las viviendas más caras de Madrid:\")\n",
    "for barrios_mas_caros_percentil_80, viviendas_barrios_mas_caros_percentil_80 in zip(barrios_caros_unicos_percentil_80, frecuencias_barrios_caros_unicos_percentil_80):\n",
    "    print(f\"{barrios_mas_caros_percentil_80}: {viviendas_barrios_mas_caros_percentil_80} vivienda/s en venta.\")\n"
   ]
  }
 ],
 "metadata": {
  "kernelspec": {
   "display_name": "Python 3",
   "language": "python",
   "name": "python3"
  },
  "language_info": {
   "codemirror_mode": {
    "name": "ipython",
    "version": 3
   },
   "file_extension": ".py",
   "mimetype": "text/x-python",
   "name": "python",
   "nbconvert_exporter": "python",
   "pygments_lexer": "ipython3",
   "version": "3.13.1"
  }
 },
 "nbformat": 4,
 "nbformat_minor": 2
}
