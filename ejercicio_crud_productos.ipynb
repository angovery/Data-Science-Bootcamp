{
 "cells": [
  {
   "cell_type": "markdown",
   "metadata": {},
   "source": [
    "# CRUD de objetos Product"
   ]
  },
  {
   "cell_type": "code",
   "execution_count": 18,
   "metadata": {},
   "outputs": [],
   "source": [
    "class Product:\n",
    "    # Atributos de clase, con valores comunes para todos los productos\n",
    "    title = \"Producto por defecto\"\n",
    "    iva = 0.21\n",
    "    \n",
    "    # Método constructor:\n",
    "    def __init__(self, title, price): # atributos de instancia\n",
    "        self.title = title\n",
    "        self.price = price\n",
    "    \n",
    "    # Método para poder imprimir los atributos de un objeto\n",
    "    def __str__(self):\n",
    "        return f\"Product: title: {self.title}, price: {self.price}\"\n",
    "    \n",
    "    # Método para calcular el IVA\n",
    "    def calcular_iva(self):\n",
    "        \"\"\"Calcula el IVA, en base al precio del producto, y lo devuelve\n",
    "\n",
    "        Returns:\n",
    "            float: Impuesto del Valor Añadido calculado\n",
    "        \"\"\"\n",
    "        return round(self.price * self.iva, 2) # Con la función round(), se fijan 2 decimales al resultado\n",
    "\n",
    "\n",
    "    \n",
    "    "
   ]
  },
  {
   "cell_type": "markdown",
   "metadata": {},
   "source": [
    "### Crear una lista de 3 productos con datos ficticios\n",
    "### Crear un menú para interactuar con la lista de productos"
   ]
  },
  {
   "cell_type": "code",
   "execution_count": null,
   "metadata": {},
   "outputs": [],
   "source": [
    "\n",
    "product1 = Product(\"Smartphone\", 640)\n",
    "product2 = Product(\"Lámpara\", 100)\n",
    "product3 = Product(\"Ordenador\", 350)\n",
    "\n",
    "products = [product1, product2, product3]\n",
    "\n",
    "# Esto es equivalente a lo anterior\n",
    "\"\"\"products = [\n",
    "    Product(\"Smartphone\", 640)\n",
    "    Product(\"Lámpara\", 640)\n",
    "    Product(\"Ordenador\", 640)\n",
    "]\n",
    "\"\"\"\n",
    "menu = \"\"\"Te damos la bienvenida a la app de productos. Estas son las opciones:\n",
    "          1 - Ver productos\n",
    "          2 - Ver producto por título\n",
    "          3 - Crear nuevo producto\n",
    "          4 - Actualizar producto existente\n",
    "          5 - Borrar un producto por su id\n",
    "          6 - Borrar todos los productos\n",
    "          7 - Salir\n",
    "          \"\"\""
   ]
  },
  {
   "cell_type": "code",
   "execution_count": null,
   "metadata": {},
   "outputs": [],
   "source": [
    "while True:\n",
    "    option = int(input(menu))\n",
    "    match option:\n",
    "        case 1:\n",
    "                print(products)\n",
    "        case 2:\n",
    "            title = input(\"Introduce el título del producto\")\n",
    "            #bucle For para iterar los productos y compruebe el título. Si coincide, se imprime todo el producto\n",
    "            for product in products:\n",
    "                if title.lower() == product.title.lower():\n",
    "                    print(product)\n",
    "                    break # Salimos del bucle porque ya hemos encontrado el producto buscado.\n",
    "        case 3:\n",
    "            print(\"Has elegido la opción 3\")\n",
    "            title = input(\"Introduce el título del nuevo producto\")\n",
    "            price = float(input(\"Introduce el precio del nuevo producto\"))\n",
    "            quantity = int(input(\"Introduce la cantidad del nuevo producto\"))\n",
    "            product_new = Product(title,price) # Se crea el nuevo producto\n",
    "            product_new.quantity = quantity # Se añade un nuevo atributo a la clase.\n",
    "            products.append(product_new) # Se añade el nuevo producto en la lista de products.\n",
    "            \n",
    "        case 4:\n",
    "            title = input(\"Introduce el título del producto a actualizar\")\n",
    "            nuevo_titulo = input(\"Introduce el nuevo título\")\n",
    "            nuevo_precio = float(input(\"Introduce el nuevo precio\"))\n",
    "            actualizado = False\n",
    "            \n",
    "            for product in products:\n",
    "                if title.lower() == product.title.lower():\n",
    "                    product.title = nuevo_titulo\n",
    "                    product.price = nuevo_precio\n",
    "                    actualizado = True\n",
    "                    break\n",
    "                \n",
    "            if actualizado: # Se muestra un mensaje si se ha actualizado el producto\n",
    "                print(\"El producto actualizado corectamente.\")\n",
    "            else:\n",
    "                print(\"El producto no se ha podido actualizar. Inténtelo de nuevo.\")\n",
    "                \n",
    "        case 5:\n",
    "            print(\"Has elegido la opción 5\")\n",
    "        case 6:\n",
    "            print(\"Has elegido la opción 6\")\n",
    "        case 7:\n",
    "            print(\"Hasta pronto\")\n",
    "            break\n",
    "\n",
    "\n"
   ]
  }
 ],
 "metadata": {
  "kernelspec": {
   "display_name": "Python 3",
   "language": "python",
   "name": "python3"
  },
  "language_info": {
   "codemirror_mode": {
    "name": "ipython",
    "version": 3
   },
   "file_extension": ".py",
   "mimetype": "text/x-python",
   "name": "python",
   "nbconvert_exporter": "python",
   "pygments_lexer": "ipython3",
   "version": "3.13.1"
  }
 },
 "nbformat": 4,
 "nbformat_minor": 2
}
